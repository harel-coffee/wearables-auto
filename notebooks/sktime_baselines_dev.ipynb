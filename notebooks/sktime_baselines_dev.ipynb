{
 "cells": [
  {
   "cell_type": "code",
   "execution_count": 82,
   "metadata": {},
   "outputs": [],
   "source": [
    "%matplotlib inline\n",
    "\n",
    "import sys\n",
    "sys.path.append('/home/ngr/gdrive/wearables/scripts')\n",
    "import data as weardata\n",
    "\n",
    "import os\n",
    "import numpy as np\n",
    "import pandas as pd\n",
    "import matplotlib.pyplot as plt\n",
    "import time\n",
    "\n",
    "# sktime, API REF: https://www.sktime.org/en/latest/api_reference.html\n",
    "from sktime.classification.compose import ComposableTimeSeriesForestClassifier\n",
    "from sktime.utils.data_processing import from_2d_array_to_nested\n",
    "from sktime.regression.compose import ComposableTimeSeriesForestRegressor\n",
    "from sktime.regression.interval_based import TimeSeriesForestRegressor\n",
    "from sktime.classification.dictionary_based import ContractableBOSS\n",
    "from sktime.classification.distance_based import KNeighborsTimeSeriesClassifier\n",
    "\n",
    "# eval\n",
    "from sklearn.metrics import mean_absolute_error\n",
    "\n",
    "# model selection\n",
    "from sklearn.model_selection import KFold"
   ]
  },
  {
   "cell_type": "code",
   "execution_count": 2,
   "metadata": {},
   "outputs": [],
   "source": [
    "data = weardata.get_train_test()\n",
    "X_train, y_train, X_test, y_test = data['X_train'], data['y_train'], data['X_test'], data['y_test']\n",
    "\n",
    "print('X_train: ', X_train.shape)\n",
    "print('y_train: ', y_train.shape)\n",
    "print('X_test: ', X_test.shape)\n",
    "print('y_test: ', y_test.shape)"
   ]
  },
  {
   "cell_type": "code",
   "execution_count": 36,
   "metadata": {},
   "outputs": [],
   "source": [
    "# convert into sktime format, i.e., convert to dataframe, with time-series held in a column (one col per uni-variate time-series data)\n",
    "X_train_df = from_2d_array_to_nested(X_train)\n",
    "X_test_df = from_2d_array_to_nested(X_test)\n",
    "X_train_df.head()"
   ]
  },
  {
   "cell_type": "markdown",
   "metadata": {},
   "source": [
    "## exploration\n",
    "\n",
    "Look into how many samples in training set we have for each GA (in weeks)"
   ]
  },
  {
   "cell_type": "code",
   "execution_count": 71,
   "metadata": {},
   "outputs": [],
   "source": [
    "savefigs = True"
   ]
  },
  {
   "cell_type": "code",
   "execution_count": 80,
   "metadata": {},
   "outputs": [
    {
     "data": {
      "text/plain": [
       "'/mnt/c/Users/ngr4/gdrive/wearables/notebooks/../results/bla'"
      ]
     },
     "execution_count": 80,
     "metadata": {},
     "output_type": "execute_result"
    }
   ],
   "source": [
    "os.path.join(os.getcwd(), '../results/')"
   ]
  },
  {
   "cell_type": "code",
   "execution_count": 81,
   "metadata": {},
   "outputs": [
    {
     "name": "stdout",
     "output_type": "stream",
     "text": [
      "[ 3.  4.  5.  6.  7.  8.  9. 10. 11. 12. 13. 14. 15. 16. 17. 18. 19. 20.\n",
      " 21. 22. 23. 24. 25. 26. 27. 28. 29. 30. 31. 32. 33. 34. 35. 36. 37. 38.] [  2  11  26  52  91 156  97  82  83 103  61  59  57  63  34  42  40  47\n",
      "  30  43  85 159  71  27  32  40  21  29  36  86 102 167  60  43   9   1]\n"
     ]
    },
    {
     "data": {
      "image/png": "[encoded data removed]",
      "text/plain": [
       "<Figure size 288x216 with 1 Axes>"
      ]
     },
     "metadata": {
      "needs_background": "light"
     },
     "output_type": "display_data"
    }
   ],
   "source": [
    "labels, counts = np.unique(y_train, return_counts=True)\n",
    "print(labels, counts)\n",
    "\n",
    "# viz\n",
    "fig, ax = plt.subplots(1, 1, figsize=(4, 3))\n",
    "ax.scatter(labels, counts, s=20)\n",
    "\n",
    "ax.set_xlabel('Label')\n",
    "ax.set_ylabel('Counts')\n",
    "ax.set_title('X_train')\n",
    "\n",
    "if savefigs:\n",
    "    fig.savefig(os.path.join(os.getcwd(), '../results/scatter_countsVlabels.png'), bbox_inches='tight', dpi=600)"
   ]
  },
  {
   "cell_type": "code",
   "execution_count": 69,
   "metadata": {},
   "outputs": [],
   "source": [
    "def actigraphy_sktime(X_train_df, y_train, X_test_df, y_test, sk_modelclass, \n",
    "                      exp = 'TimeSeriesForest_GAregression', kfolds=5, \n",
    "                      verbose=True):\n",
    "    '''Run sktime models on GA data\n",
    "    \n",
    "    TODO (ngr):\n",
    "      1. add out_file storage in addition (or instead of) printing results\n",
    "    '''\n",
    "    if verbose:\n",
    "        tic = time.time()\n",
    "        print('Starting {} experiment...'.format(exp))\n",
    "    models = {} # (tuple): (model, eval_criterion) where eval_criterion = MAE here\n",
    "\n",
    "    kf = KFold(n_splits=kfolds, shuffle=True)\n",
    "    for i, (train_idx, val_idx) in enumerate(kf.split(idx)):\n",
    "        if verbose:\n",
    "            sub_tic = time.time()\n",
    "        X_train_df_cv, y_train_cv = X_train_df.iloc[train_idx, :], y_train[train_idx]\n",
    "        X_val_df, y_val = X_train_df.iloc[val_idx, :], y_train[val_idx]\n",
    "\n",
    "        # init model\n",
    "        model = sk_modelclass # ComposableTimeSeriesForestRegressor()\n",
    "\n",
    "        # fit, eval, store\n",
    "        model.fit(X_train_df_cv, y_train_cv)\n",
    "        mae = mean_absolute_error(y_val, model.predict(X_val_df))\n",
    "        models['CV{}'.format(i)] = (model, mae)\n",
    "        del model\n",
    "        \n",
    "        if verbose:\n",
    "            print('  k={}-fold finished in {:.1f}-s\\ttotal_time_elapsed: {:.1f}-min'.format(i, time.time()-sub_tic, (time.time()-tic)/60))\n",
    "\n",
    "    # store in file\n",
    "    print('\\n... finished in {:.1f}-min'.format((time.time()-tic)/60))\n",
    "    print('\\n----')\n",
    "    print('{} results:'.format(exp))\n",
    "    print('  <MAE>_{}folds: {:.4f}\\tSD_{}folds: {:.1f}'.format(kfolds, np.mean([v[1] for k,v in models.items()]), kfolds, np.std([v[1] for k,v in models.items()])))\n",
    "    print('  MAE_test: {:.4f}'.format(mean_absolute_error(y_test, models['CV{}'.format(np.argmax([v[1] for k,v in models.items()]))][0].predict(X_test_df))))\n",
    "    print('----')\n",
    "    \n",
    "    return models"
   ]
  },
  {
   "cell_type": "code",
   "execution_count": null,
   "metadata": {},
   "outputs": [
    {
     "name": "stdout",
     "output_type": "stream",
     "text": [
      "Starting ContractableBOSS_GAclass experiment...\n",
      "  k=0-fold finished in 87.4-s\ttotal_time_elapsed: 1.5-min\n"
     ]
    }
   ],
   "source": [
    "cboss = actigraphy_sktime(X_train_df, y_train, X_test_df, y_test, \n",
    "                           ContractableBOSS(time_limit=1., n_jobs=-1), \n",
    "                           exp='ContractableBOSS_GAclass')"
   ]
  },
  {
   "cell_type": "code",
   "execution_count": null,
   "metadata": {},
   "outputs": [],
   "source": [
    "knndtw = actigraphy_sktime(X_train_df, y_train, X_test_df, y_test, \n",
    "                           KNeighborsTimeSeriesClassifier(n_neighbors=3, weights='distance'), \n",
    "                           exp='kNNDTW_GAclass')"
   ]
  },
  {
   "cell_type": "code",
   "execution_count": null,
   "metadata": {},
   "outputs": [],
   "source": []
  }
 ],
 "metadata": {
  "kernelspec": {
   "display_name": "Python 3",
   "language": "python",
   "name": "python3"
  },
  "language_info": {
   "codemirror_mode": {
    "name": "ipython",
    "version": 3
   },
   "file_extension": ".py",
   "mimetype": "text/x-python",
   "name": "python",
   "nbconvert_exporter": "python",
   "pygments_lexer": "ipython3",
   "version": "3.8.5"
  }
 },
 "nbformat": 4,
 "nbformat_minor": 4
}
