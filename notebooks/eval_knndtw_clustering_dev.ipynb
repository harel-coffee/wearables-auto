{
 "cells": [
  {
   "cell_type": "code",
   "execution_count": 1,
   "id": "547dada3-e1de-4e23-8a49-311ec9119aad",
   "metadata": {},
   "outputs": [],
   "source": [
    "%matplotlib inline\n",
    "%timeit\n",
    "\n",
    "import pandas as pd\n",
    "import numpy as np\n",
    "import matplotlib.pyplot as plt\n",
    "import seaborn as sns\n",
    "import glob\n",
    "import os\n",
    "import time\n",
    "import pickle\n",
    "import datetime\n",
    "import re\n",
    "import pyActigraphy\n",
    "\n",
    "import sys\n",
    "sys.path.append('/home/ngrav/project/')\n",
    "from wearables.scripts import utils as wearutils\n",
    "from wearables.scripts import data_v42 as weardata\n",
    "from wearables.scripts import train_v42 as weartrain\n",
    "from wearables.scripts import eval_v42 as weareval\n",
    "from wearables.scripts import model as wearmodels\n",
    "\n",
    "import torch\n",
    "import torch.nn as nn\n",
    "import torch.nn.functional as F\n",
    "\n",
    "plt.rc('font', size = 9)\n",
    "plt.rc('font', family='sans serif')\n",
    "plt.rcParams['pdf.fonttype'] = 42\n",
    "plt.rcParams['ps.fonttype'] = 42\n",
    "plt.rcParams['legend.frameon']=False\n",
    "plt.rcParams['axes.grid']=False\n",
    "# plt.rcParams['legend.markerscale']=0.5\n",
    "plt.rcParams['savefig.dpi'] = 600\n",
    "sns.set_style(\"ticks\")"
   ]
  },
  {
   "cell_type": "code",
   "execution_count": 2,
   "id": "96d2921d-2c6e-49ec-979c-8d418847c06b",
   "metadata": {},
   "outputs": [],
   "source": [
    "# fix potential issue with net\n",
    "net = wearmodels.CNN(2, 10080, 1, [(1, 32), (1, 64), (1, 128), (3, 256)])"
   ]
  },
  {
   "cell_type": "code",
   "execution_count": 3,
   "id": "7dac57d1-2df5-4805-8ffe-2eb2a9590fee",
   "metadata": {},
   "outputs": [
    {
     "name": "stdout",
     "output_type": "stream",
     "text": [
      "trying batch 0\n",
      "... data shape: torch.Size([64, 2, 10080])\n"
     ]
    },
    {
     "name": "stderr",
     "output_type": "stream",
     "text": [
      "/home/ngrav/miniconda3/envs/wearables/lib/python3.8/site-packages/torch/nn/functional.py:652: UserWarning: Named tensors and all their associated APIs are an experimental feature and subject to change. Please do not use them for anything important until they are released as stable. (Triggered internally at  /opt/conda/conda-bld/pytorch_1623448278899/work/c10/core/TensorImpl.h:1156.)\n",
      "  return torch.max_pool1d(input, kernel_size, stride, padding, dilation, ceil_mode)\n"
     ]
    },
    {
     "name": "stdout",
     "output_type": "stream",
     "text": [
      "... 1-s\n",
      "trying batch 1\n",
      "... data shape: torch.Size([64, 2, 10080])\n",
      "... 0-s\n",
      "trying batch 2\n",
      "... data shape: torch.Size([64, 2, 10080])\n",
      "... 0-s\n",
      "trying batch 3\n",
      "... data shape: torch.Size([64, 2, 10080])\n",
      "... 0-s\n",
      "trying batch 4\n",
      "... data shape: torch.Size([64, 2, 10080])\n",
      "... 0-s\n",
      "trying batch 5\n",
      "... data shape: torch.Size([64, 2, 10080])\n",
      "... 0-s\n",
      "trying batch 6\n",
      "... data shape: torch.Size([64, 2, 10080])\n",
      "... 0-s\n",
      "trying batch 7\n",
      "... data shape: torch.Size([64, 2, 10080])\n",
      "... 0-s\n",
      "trying batch 8\n",
      "... data shape: torch.Size([64, 2, 10080])\n",
      "... 0-s\n",
      "trying batch 9\n",
      "... data shape: torch.Size([64, 2, 10080])\n",
      "... 0-s\n",
      "trying batch 10\n",
      "... data shape: torch.Size([64, 2, 10080])\n",
      "... 0-s\n",
      "trying batch 11\n",
      "... data shape: torch.Size([30, 2, 10080])\n",
      "... 0-s\n",
      "Done? with the inf part\n"
     ]
    }
   ],
   "source": [
    "# load data\n",
    "\n",
    "model_fp = '/home/ngrav/project/wearables/model_zoo'\n",
    "\n",
    "bst_trainer = os.path.join(model_fp, 'trainer_cnnv43l1l2_GA5.pkl')\n",
    "bst_modelpkl = os.path.join(model_fp, '6143-cnnv43l1l2_GA5.pkl')\n",
    "\n",
    "# best CNN\n",
    "with open(bst_trainer, 'rb') as f:\n",
    "    trainer = pickle.load(f)\n",
    "    f.close()\n",
    "\n",
    "# fix issue with net\n",
    "trainer.model = net\n",
    "\n",
    "# call eval to get output, modify for return_hidden = True option\n",
    "evaluation = weareval.eval_trained(trainer,\n",
    "                                   modelpkl=bst_modelpkl,\n",
    "                                   two_outputs=True)"
   ]
  },
  {
   "cell_type": "markdown",
   "id": "e441a416-dca1-4cbc-82b9-196d2fd9ff05",
   "metadata": {},
   "source": [
    "# fastdtw graph"
   ]
  },
  {
   "cell_type": "code",
   "execution_count": 32,
   "id": "f512f16d-b2b8-4541-9e25-552cea619853",
   "metadata": {},
   "outputs": [],
   "source": [
    "from scipy.spatial.distance import pdist, squareform\n",
    "import fastdtw\n",
    "import umap\n",
    "# from scipy.sparse import csr_matrix\n"
   ]
  },
  {
   "cell_type": "code",
   "execution_count": 48,
   "id": "38c3844c-ed53-4134-9fcc-89ee0b6185bb",
   "metadata": {},
   "outputs": [
    {
     "name": "stderr",
     "output_type": "stream",
     "text": [
      "[W pthreadpool-cpp.cc:90] Warning: Leaking Caffe2 thread-pool after fork. (function pthreadpool)\n"
     ]
    }
   ],
   "source": [
    "batch = next(iter(trainer.data.test_dl))\n",
    "x = batch['x']\n",
    "y = batch['y']\n",
    "idx = batch['id']\n",
    "x_input = x[:, 0, :] # activity only"
   ]
  },
  {
   "cell_type": "code",
   "execution_count": 49,
   "id": "89195f51-ea36-47e6-affc-424777390dfd",
   "metadata": {},
   "outputs": [],
   "source": [
    "def pairwise_DTW(X):\n",
    "    def pdtw(mat):\n",
    "        return pdist(mat, lambda u, v: fastdtw.fastdtw(u, v)[0])\n",
    "    return squareform(pdtw(X))"
   ]
  },
  {
   "cell_type": "code",
   "execution_count": 50,
   "id": "9ff7faad-ee50-44c2-aeff-d0be906438e8",
   "metadata": {},
   "outputs": [
    {
     "name": "stdout",
     "output_type": "stream",
     "text": [
      "9s\n"
     ]
    }
   ],
   "source": [
    "tic = time.time()\n",
    "D = pairwise_DTW(x_input)\n",
    "print('{:.0f}s'.format(time.time() - tic))"
   ]
  },
  {
   "cell_type": "code",
   "execution_count": 51,
   "id": "883c32c0-9ab7-4621-bad6-da06736f6357",
   "metadata": {},
   "outputs": [
    {
     "name": "stderr",
     "output_type": "stream",
     "text": [
      "/home/ngrav/miniconda3/envs/wearables/lib/python3.8/site-packages/umap/umap_.py:1735: UserWarning: using precomputed metric; transform will be unavailable for new data and inverse_transform will be unavailable for all data\n",
      "  warn(\n"
     ]
    }
   ],
   "source": [
    "tic = time.time()\n",
    "data_umap = umap.UMAP(metric='precomputed').fit_transform(D)\n",
    "print('{:.0f}s'.format(time.time() - tic))"
   ]
  },
  {
   "cell_type": "code",
   "execution_count": 52,
   "id": "2212529f-82c7-476d-ac68-267a13fd4ae2",
   "metadata": {},
   "outputs": [
    {
     "data": {
      "text/plain": [
       "tensor([24., 23., 24., 33., 13.,  7.,  8., 18., 23., 12., 22., 10., 30., 12.,\n",
       "        17., 19., 11., 10., 14., 24., 35., 12.,  8., 18.,  5., 35., 11., 24.,\n",
       "         8., 15.,  7., 12., 34., 25., 20., 10.,  4.,  5.,  9., 15., 15.,  7.,\n",
       "        10., 21., 24., 32., 17., 11., 33.,  5., 26., 16.,  6.,  8., 33., 32.,\n",
       "        22.,  6., 24., 34., 33., 18., 24., 19.])"
      ]
     },
     "execution_count": 52,
     "metadata": {},
     "output_type": "execute_result"
    }
   ],
   "source": [
    "y"
   ]
  },
  {
   "cell_type": "code",
   "execution_count": 53,
   "id": "c16a0989-ea1b-4987-8278-4841074535ca",
   "metadata": {},
   "outputs": [
    {
     "data": {
      "text/plain": [
       "<matplotlib.colorbar.Colorbar at 0x7fce534ee220>"
      ]
     },
     "execution_count": 53,
     "metadata": {},
     "output_type": "execute_result"
    },
    {
     "data": {
      "image/png": "[encoded data removed]",
      "text/plain": [
       "<Figure size 360x288 with 2 Axes>"
      ]
     },
     "metadata": {},
     "output_type": "display_data"
    }
   ],
   "source": [
    "fig, ax = plt.subplots(1, 1, figsize=(5, 4))\n",
    "im = ax.scatter(data_umap[:, 0], data_umap[:, 1], c=y)\n",
    "fig.colorbar(im)"
   ]
  },
  {
   "cell_type": "markdown",
   "id": "69766de1-9bb1-43e1-8475-7428f76dc560",
   "metadata": {},
   "source": [
    "## dev pairwise DTW\n",
    "\n",
    "**Observations**\n",
    "- even with `n_jobs=32`, the sklearn implementation is slower than the scipy pdist"
   ]
  },
  {
   "cell_type": "code",
   "execution_count": 10,
   "id": "d9200a01-c20b-4934-a5fa-cf421bd6a4a8",
   "metadata": {},
   "outputs": [],
   "source": [
    "def pdtw(mat):\n",
    "    return pdist(mat, lambda u, v: fastdtw.fastdtw(u, v)[0])"
   ]
  },
  {
   "cell_type": "code",
   "execution_count": 8,
   "id": "7b21728d-9b12-4ee9-aefa-504d95fcb5e4",
   "metadata": {},
   "outputs": [
    {
     "data": {
      "text/plain": [
       "torch.Size([64, 2, 10080])"
      ]
     },
     "execution_count": 8,
     "metadata": {},
     "output_type": "execute_result"
    }
   ],
   "source": [
    "x.shape"
   ]
  },
  {
   "cell_type": "code",
   "execution_count": 11,
   "id": "eee06d31-b332-4638-8301-6072b1e8e09f",
   "metadata": {},
   "outputs": [
    {
     "data": {
      "text/plain": [
       "torch.Size([64, 10080])"
      ]
     },
     "execution_count": 12,
     "metadata": {},
     "output_type": "execute_result"
    }
   ],
   "source": [
    "# take only activity\n",
    "x = x[:, 0, :]\n",
    "x.shape"
   ]
  },
  {
   "cell_type": "code",
   "execution_count": 14,
   "id": "e39576de-19d2-41ba-90f9-354dfb45c18d",
   "metadata": {},
   "outputs": [
    {
     "name": "stdout",
     "output_type": "stream",
     "text": [
      "9s\n"
     ]
    }
   ],
   "source": [
    "tic = time.time()\n",
    "d_mb = pdtw(x)\n",
    "print('{:.0f}s'.format(time.time() - tic))"
   ]
  },
  {
   "cell_type": "code",
   "execution_count": 16,
   "id": "48225129-2d01-4106-8d28-1f70ebf3c767",
   "metadata": {},
   "outputs": [],
   "source": [
    "# compare with paralellized scikit learn pairwise_distances \n",
    "from sklearn.metrics.pairwise import pairwise_distances"
   ]
  },
  {
   "cell_type": "code",
   "execution_count": 24,
   "id": "3041871c-5175-4a0f-8f72-a11591c8e990",
   "metadata": {},
   "outputs": [
    {
     "name": "stdout",
     "output_type": "stream",
     "text": [
      "22s\n"
     ]
    }
   ],
   "source": [
    "tic = time.time()\n",
    "d_mb_sklearn = pairwise_distances(x, metric=lambda u, v: fastdtw.fastdtw(u, v)[0], n_jobs=32)\n",
    "print('{:.0f}s'.format(time.time() - tic))"
   ]
  },
  {
   "cell_type": "code",
   "execution_count": 22,
   "id": "923a0cd5-daed-4aa3-bc56-2fe2468567bc",
   "metadata": {},
   "outputs": [
    {
     "name": "stdout",
     "output_type": "stream",
     "text": [
      "(2016,)\n",
      "(64, 64)\n"
     ]
    }
   ],
   "source": [
    "print(d_mb.shape)\n",
    "print(d_mb_sklearn.shape)"
   ]
  },
  {
   "cell_type": "markdown",
   "id": "c687b1de-da1f-4735-84c1-3ac4af408c5c",
   "metadata": {},
   "source": [
    "\n",
    "\n",
    "## tshoot slow eval\n",
    "\n",
    "attempts:\n",
    "- tried to change num_workers of the dataloader to 1, in case there was some problem with the leaking. This did not solve the problem of the thing getting stuck after batch 1 loading\n",
    "- tried changing pin_memory=False for the dataloader. This got through one additional batch loading but stopped on the third (test needs to go through ~11 batches)\n",
    "- combination of both solved issue. After trying ablation again, getting rid of `dataloader.num_workers = 1` causes a pause. Then changing `dataloader.pin_memory = False` but keeping `dataloader.num_woerkers = 1` makes the eval fast again. SO, the issue was indeed the num_workers"
   ]
  },
  {
   "cell_type": "code",
   "execution_count": null,
   "id": "c64ee293-01ef-4047-92b4-904818e222e9",
   "metadata": {},
   "outputs": [],
   "source": []
  }
 ],
 "metadata": {
  "kernelspec": {
   "display_name": "Python 3 (ipykernel)",
   "language": "python",
   "name": "python3"
  },
  "language_info": {
   "codemirror_mode": {
    "name": "ipython",
    "version": 3
   },
   "file_extension": ".py",
   "mimetype": "text/x-python",
   "name": "python",
   "nbconvert_exporter": "python",
   "pygments_lexer": "ipython3",
   "version": "3.8.10"
  }
 },
 "nbformat": 4,
 "nbformat_minor": 5
}
