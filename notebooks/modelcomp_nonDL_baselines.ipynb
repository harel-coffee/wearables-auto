{
 "cells": [
  {
   "cell_type": "markdown",
   "id": "fbe83e06-f680-43f0-8552-eeb79cedbc14",
   "metadata": {},
   "source": [
    "\n",
    "\n",
    "# load data"
   ]
  },
  {
   "cell_type": "code",
   "execution_count": 1,
   "id": "0bafd10b-613d-4a90-917f-c8258c6a8f09",
   "metadata": {},
   "outputs": [],
   "source": [
    "import time\n",
    "import numpy as np\n",
    "import pandas as pd\n",
    "\n",
    "import sys\n",
    "sys.path.append('/home/ngrav/project/')\n",
    "from wearables.scripts import data as weardata\n",
    "from wearables.scripts import eval_ as weareval\n",
    "\n",
    "from sklearn.ensemble import RandomForestRegressor, RandomForestClassifier\n",
    "from sklearn.neighbors import KNeighborsRegressor, KNeighborsClassifier\n",
    "import fastdtw\n",
    "import lightgbm as lgb\n",
    "from sktime.datatypes._panel._convert import from_2d_array_to_nested\n",
    "from sktime.regression.compose._ensemble import ComposableTimeSeriesForestRegressor\n",
    "from sktime.classification.compose import ComposableTimeSeriesForestClassifier\n",
    "from sktime.classification.distance_based import KNeighborsTimeSeriesClassifier\n"
   ]
  },
  {
   "cell_type": "code",
   "execution_count": 41,
   "id": "750ef33b-27af-47af-9266-cfd12c83b3ac",
   "metadata": {},
   "outputs": [],
   "source": [
    "# data = weardata.dataloader(target_name='GA')"
   ]
  },
  {
   "cell_type": "markdown",
   "id": "86dc84e9-0742-4e40-acd4-a6dd62f70979",
   "metadata": {},
   "source": [
    "# models dev"
   ]
  },
  {
   "cell_type": "code",
   "execution_count": 2,
   "id": "b4acb6b1-dd5b-41ba-ad8d-8e08acaa4430",
   "metadata": {},
   "outputs": [],
   "source": [
    "class kNNTS():\n",
    "    '''\n",
    "    Arguments:\n",
    "      data (weardata class): dataloader class from data.py\n",
    "    '''\n",
    "    def __init__(self, n_trials=10, target_name='GA'):\n",
    "        self.n_trials = n_trials\n",
    "        self.target_name = target_name\n",
    "    \n",
    "        \n",
    "    def load_data(self):\n",
    "        return weardata.dataloader(target_name=self.target_name)\n",
    "        \n",
    "    def fit(self, data):\n",
    "        if data.kfold > 1:\n",
    "            cv_eval = {}\n",
    "            for k, cv_fold in enumerate(data.Xy_train.keys()):\n",
    "                print('    cv_fold: ', cv_fold)\n",
    "                [(X_train, y_train), (X_val, y_val)] = data.Xy_train[cv_fold]\n",
    "                X_train, X_val = from_2d_array_to_nested(X_train), from_2d_array_to_nested(X_val)\n",
    "                knn = KNeighborsTimeSeriesClassifier(n_neighbors=5, distance=\"dtw\", n_jobs=-1)\n",
    "                knn.fit(X_train, y_train)\n",
    "                eval_metrics = weareval.eval_output(knn.predict(X_val), y_val, tasktype=data.tasktype)\n",
    "                cv_eval[cv_fold] = {'model': knn, \n",
    "                                    # 'data': [(X_train, y_train), (X_val, y_val)], # store just IDs?\n",
    "                                    'metric': eval_metrics['mae'] if data.tasktype=='regression' else eval_metrics['balanced_acc_adj'],\n",
    "                                    'metrics': eval_metrics}\n",
    "            # retain only best model\n",
    "            tmp = {cv_fold:cv_eval[cv_fold]['metric'] for cv_fold in cv_eval.keys()}\n",
    "            bst_fold = min(tmp, key=tmp.get) if data.tasktype=='regression' else max(tmp, key=tmp.get)\n",
    "            self.knn = cv_eval[bst_fold]['model']\n",
    "            return {'model': self.knn, 'metrics': cv_eval[bst_fold]['metrics']}\n",
    "        else:\n",
    "            X_train, y_train = data.Xy_train\n",
    "            X_val, y_val = data.Xy_val\n",
    "            X_train, X_val = from_2d_array_to_nested(X_train), from_2d_array_to_nested(X_val)\n",
    "            self.knn = knn = KNeighborsTimeSeriesClassifier(n_neighbors=5, distance=\"dtw\", n_jobs=-1)\n",
    "            self.knn.fit(X_train, y_train)\n",
    "            eval_metrics = weareval.eval_output(self.knn.predict(X_val), y_val, tasktype=data.tasktype)\n",
    "            return {'model': self.knn, 'metrics': eval_metrics}\n",
    "    \n",
    "    def eval_test(self, data):\n",
    "        X_test, y_test = data.Xy_test\n",
    "        X_test = from_2d_array_to_nested(X_test)\n",
    "        eval_metrics = weareval.eval_output(self.knn.predict(X_test), y_test, tasktype=data.tasktype)\n",
    "        return eval_metrics\n",
    "    \n",
    "    def del_model(self):\n",
    "        del self.knn\n",
    "    \n",
    "    def run_trials(self, verbose=True):\n",
    "        if verbose:\n",
    "            t_start = time.time()\n",
    "            print('Starting kNTimeSeries trials; predict {}'.format(self.target_name))\n",
    "        results = {}\n",
    "        for n in range(self.n_trials):\n",
    "            if verbose:\n",
    "                tic = time.time()\n",
    "            data = self.load_data()\n",
    "            self.fit(data)\n",
    "            results[n] = self.eval_test(data)\n",
    "            self.del_model()\n",
    "            if verbose:\n",
    "                print('  finished trial {} in {:.2f}-s\\t{:.1f}-min elapsed'.format(n, time.time()-tic, (time.time()-t_start)/60))\n",
    "        return results"
   ]
  },
  {
   "cell_type": "code",
   "execution_count": null,
   "id": "d3af6ab4-6da6-4bb8-a145-8c4263e87fac",
   "metadata": {},
   "outputs": [
    {
     "name": "stdout",
     "output_type": "stream",
     "text": [
      "Starting kNTimeSeries trials; predict GA\n",
      "    cv_fold:  0\n"
     ]
    },
    {
     "name": "stderr",
     "output_type": "stream",
     "text": [
      "/home/ngrav/miniconda3/envs/wearables/lib/python3.8/site-packages/sklearn/metrics/pairwise.py:1403: UserWarning: Cython DTW is deprecated from V0.10\n",
      "  out[i, j] = metric(X[i], Y[j], **kwds)\n",
      "IOStream.flush timed out\n",
      "IOStream.flush timed out\n"
     ]
    }
   ],
   "source": [
    "results = kNNTS(n_trials=2).run_trials()\n",
    "results "
   ]
  },
  {
   "cell_type": "code",
   "execution_count": 8,
   "id": "9439ee1b-fe04-4da5-bac1-7020246445c6",
   "metadata": {},
   "outputs": [],
   "source": [
    "results = pd.DataFrame(results).T\n",
    "results['model'] = 'RandomForest'"
   ]
  },
  {
   "cell_type": "code",
   "execution_count": 9,
   "id": "868e845c-0dde-465e-a1d4-db2c059e25bd",
   "metadata": {},
   "outputs": [
    {
     "data": {
      "text/html": [
       "<div>\n",
       "<style scoped>\n",
       "    .dataframe tbody tr th:only-of-type {\n",
       "        vertical-align: middle;\n",
       "    }\n",
       "\n",
       "    .dataframe tbody tr th {\n",
       "        vertical-align: top;\n",
       "    }\n",
       "\n",
       "    .dataframe thead th {\n",
       "        text-align: right;\n",
       "    }\n",
       "</style>\n",
       "<table border=\"1\" class=\"dataframe\">\n",
       "  <thead>\n",
       "    <tr style=\"text-align: right;\">\n",
       "      <th></th>\n",
       "      <th>mae</th>\n",
       "      <th>mape</th>\n",
       "      <th>rho</th>\n",
       "      <th>P_rho</th>\n",
       "      <th>model</th>\n",
       "    </tr>\n",
       "  </thead>\n",
       "  <tbody>\n",
       "    <tr>\n",
       "      <th>0</th>\n",
       "      <td>8.306864</td>\n",
       "      <td>0.579775</td>\n",
       "      <td>0.254155</td>\n",
       "      <td>1.120509e-08</td>\n",
       "      <td>RandomForest</td>\n",
       "    </tr>\n",
       "    <tr>\n",
       "      <th>1</th>\n",
       "      <td>8.332274</td>\n",
       "      <td>0.607974</td>\n",
       "      <td>0.221692</td>\n",
       "      <td>9.317345e-07</td>\n",
       "      <td>RandomForest</td>\n",
       "    </tr>\n",
       "  </tbody>\n",
       "</table>\n",
       "</div>"
      ],
      "text/plain": [
       "        mae      mape       rho         P_rho         model\n",
       "0  8.306864  0.579775  0.254155  1.120509e-08  RandomForest\n",
       "1  8.332274  0.607974  0.221692  9.317345e-07  RandomForest"
      ]
     },
     "execution_count": 9,
     "metadata": {},
     "output_type": "execute_result"
    }
   ],
   "source": [
    "results"
   ]
  },
  {
   "cell_type": "code",
   "execution_count": null,
   "id": "c61d8547-5a13-49ca-b22f-f47dbd24f9d3",
   "metadata": {},
   "outputs": [],
   "source": []
  }
 ],
 "metadata": {
  "kernelspec": {
   "display_name": "Python 3 (ipykernel)",
   "language": "python",
   "name": "python3"
  },
  "language_info": {
   "codemirror_mode": {
    "name": "ipython",
    "version": 3
   },
   "file_extension": ".py",
   "mimetype": "text/x-python",
   "name": "python",
   "nbconvert_exporter": "python",
   "pygments_lexer": "ipython3",
   "version": "3.8.10"
  }
 },
 "nbformat": 4,
 "nbformat_minor": 5
}
