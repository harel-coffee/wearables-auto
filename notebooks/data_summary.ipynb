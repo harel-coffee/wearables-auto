{
 "cells": [
  {
   "cell_type": "code",
   "execution_count": 2,
   "id": "0cefa499-6e06-4def-8483-6afaebf99a34",
   "metadata": {},
   "outputs": [],
   "source": [
    "%matplotlib inline\n",
    "\n",
    "import pandas as pd\n",
    "import numpy as np\n",
    "import matplotlib.pyplot as plt\n",
    "import seaborn as sns\n",
    "import glob\n",
    "import os\n",
    "import time\n",
    "import pickle\n",
    "import datetime\n",
    "import re\n",
    "import pyActigraphy\n",
    "\n",
    "import sys\n",
    "sys.path.append('/home/ngrav/project/')\n",
    "from wearables.scripts import utils as wearutils\n",
    "from wearables.scripts import data_v42 as weardata\n",
    "\n",
    "import torch\n",
    "\n",
    "plt.rc('font', size = 9)\n",
    "plt.rc('font', family='sans serif')\n",
    "plt.rcParams['pdf.fonttype']=42\n",
    "plt.rcParams['ps.fonttype']=42\n",
    "plt.rcParams['legend.frameon']=False\n",
    "plt.rcParams['axes.grid']=False\n",
    "plt.rcParams['legend.markerscale']=0.5\n",
    "plt.rcParams['savefig.dpi']=600\n",
    "sns.set_style(\"ticks\")"
   ]
  },
  {
   "cell_type": "code",
   "execution_count": 3,
   "id": "cec39be4-4148-4eae-8ca8-2e94856a208e",
   "metadata": {},
   "outputs": [],
   "source": [
    "raw_fp='/home/ngrav/project/wearables/data/raw/MOD1000WomanActivityData20210707T213505Z-001/MOD 1000 Woman Activity Data/'\n",
    "raw_md_fp='/home/ngrav/project/wearables/data/raw/MOD_Data_2021.csv'\n",
    "raw_md = pd.read_csv(raw_md_fp, low_memory=False)"
   ]
  },
  {
   "cell_type": "code",
   "execution_count": 15,
   "id": "1216b11e-f6bb-4c09-9dec-52638bf68ad0",
   "metadata": {},
   "outputs": [
    {
     "data": {
      "text/plain": [
       "<module 'wearables.scripts.data_v42' from '/home/ngrav/project/wearables/scripts/data_v42.py'>"
      ]
     },
     "execution_count": 15,
     "metadata": {},
     "output_type": "execute_result"
    }
   ],
   "source": [
    "import importlib\n",
    "importlib.reload(weardata)"
   ]
  },
  {
   "cell_type": "code",
   "execution_count": 16,
   "id": "cc43f689-75a1-489d-bbcd-18d9ae511fd1",
   "metadata": {},
   "outputs": [
    {
     "name": "stdout",
     "output_type": "stream",
     "text": [
      "Could not find light measurement.\n",
      "Could not find light measurement.\n",
      "Could not find light measurement.\n",
      "Could not find light measurement.\n",
      "Could not find light measurement.\n",
      "Could not find light measurement.\n",
      "Could not find light measurement.\n",
      "Could not find light measurement.\n",
      "Could not find light measurement.\n",
      "Could not find light measurement.\n",
      "Could not find light measurement.\n",
      "Could not find light measurement.\n",
      "Could not find light measurement.\n",
      "Could not find light measurement.\n",
      "Could not find light measurement.\n",
      "Could not find light measurement.\n",
      "Could not find light measurement.\n",
      "Could not find light measurement.\n",
      "Could not find light measurement.\n",
      "Could not find light measurement.\n",
      "Could not find light measurement.\n",
      "Could not find light measurement.\n",
      "Could not find light measurement.\n",
      "Could not find light measurement.\n",
      "Could not find light measurement.\n",
      "Could not find light measurement.\n",
      "Could not find light measurement.\n",
      "Could not find light measurement.\n",
      "Could not find light measurement.\n",
      "Could not find light measurement.\n",
      "Could not find light measurement.\n",
      "Could not find light measurement.\n",
      "Could not find light measurement.\n",
      "Could not find light measurement.\n",
      "Could not find light measurement.\n",
      "Could not find light measurement.\n",
      "Could not find light measurement.\n",
      "Could not find light measurement.\n",
      "Could not find light measurement.\n",
      "Could not find light measurement.\n",
      "Could not find light measurement.\n",
      "Could not find light measurement.\n",
      "Could not find light measurement.\n",
      "Could not find light measurement.\n",
      "Could not find light measurement.\n",
      "Could not find light measurement.\n",
      "Could not find light measurement.\n",
      "Could not find light measurement.\n",
      "Could not find light measurement.\n",
      "Could not find light measurement.\n",
      "Could not find light measurement.\n",
      "Could not find light measurement.\n",
      "Could not find light measurement.\n",
      "Could not find light measurement.\n",
      "Could not find light measurement.\n",
      "Could not find light measurement.\n",
      "Could not find light measurement.\n",
      "Could not find light measurement.\n",
      "Could not find light measurement.\n",
      "Could not find light measurement.\n",
      "Could not find light measurement.\n",
      "Could not find light measurement.\n",
      "Could not find light measurement.\n",
      "Could not find light measurement.\n",
      "Could not find light measurement.\n",
      "Could not find light measurement.\n",
      "Could not find light measurement.\n",
      "Could not find light measurement.\n",
      "Could not find light measurement.\n",
      "Could not find light measurement.\n",
      "Could not find light measurement.\n",
      "Could not find light measurement.\n",
      "Could not find light measurement.\n",
      "Could not find light measurement.\n",
      "Could not find light measurement.\n",
      "Could not find light measurement.\n",
      "Could not find light measurement.\n",
      "Could not find light measurement.\n",
      "Could not find light measurement.\n",
      "Could not find light measurement.\n",
      "Could not find light measurement.\n",
      "Could not find light measurement.\n",
      "Could not find light measurement.\n",
      "Could not find light measurement.\n",
      "Could not find light measurement.\n",
      "Could not find light measurement.\n",
      "Could not find light measurement.\n",
      "Could not find light measurement.\n",
      "Could not find light measurement.\n",
      "Could not find light measurement.\n",
      "Could not find light measurement.\n",
      "Could not find light measurement.\n",
      "Could not find light measurement.\n",
      "Could not find light measurement.\n",
      "Could not find light measurement.\n",
      "Could not find light measurement.\n",
      "Could not find light measurement.\n",
      "Could not find light measurement.\n",
      "Could not find light measurement.\n",
      "Could not find light measurement.\n",
      "Could not find light measurement.\n",
      "Could not find light measurement.\n",
      "Could not find light measurement.\n",
      "Could not find light measurement.\n",
      "Could not find light measurement.\n",
      "Could not find light measurement.\n",
      "Corrupt file for ID: 1168_24\n",
      "Could not find light measurement.\n",
      "Could not find light measurement.\n",
      "Could not find light measurement.\n",
      "Could not find light measurement.\n",
      "Could not find light measurement.\n",
      "Could not find light measurement.\n",
      "Could not find light measurement.\n",
      "Could not find light measurement.\n",
      "Could not find light measurement.\n",
      "Could not find light measurement.\n",
      "\n",
      "Raw actigraphy data loaded in 11.8-min\n"
     ]
    }
   ],
   "source": [
    "rawdata = weardata.raw2df()"
   ]
  },
  {
   "cell_type": "code",
   "execution_count": null,
   "id": "1b653eba-56de-4a36-b1b2-3855ee75cdf3",
   "metadata": {},
   "outputs": [],
   "source": [
    "len(np.unique([i.split('_')[0] for i in rawdata.exclude[k]] if isinstance(rawdata.exclude[k], list) else rawdata.exclude[k].split('_')[0]))))"
   ]
  },
  {
   "cell_type": "code",
   "execution_count": 43,
   "id": "97060640-a14b-4da8-84a8-a247276d8647",
   "metadata": {},
   "outputs": [
    {
     "name": "stdout",
     "output_type": "stream",
     "text": [
      "Exclusion criteria (n_measurements, n_pts)\n",
      "  no_lux: (116, 110)\n",
      "  chk_t: (7, 1)\n",
      "  lt_1d: (7, 1)\n",
      "  lt_max_t: (0, 0)\n",
      "  corrupt_mtn: (7, 1)\n"
     ]
    }
   ],
   "source": [
    "print('Exclusion criteria (n_measurements, n_pts)')\n",
    "for k in rawdata.exclude.keys():\n",
    "    print('  {}: ({}, {})'.format(k, \n",
    "                               len(rawdata.exclude[k]), \n",
    "                               len(np.unique([i.split('_')[0] for i in rawdata.exclude[k]] if isinstance(rawdata.exclude[k], list) else rawdata.exclude[k].split('_')[0]))))\n"
   ]
  },
  {
   "cell_type": "code",
   "execution_count": 29,
   "id": "b990cb17-842d-41e3-83bd-e161399c30b8",
   "metadata": {},
   "outputs": [
    {
     "data": {
      "text/plain": [
       "'1605_11'"
      ]
     },
     "execution_count": 29,
     "metadata": {},
     "output_type": "execute_result"
    }
   ],
   "source": [
    "rawdata.exclude['chk_t']"
   ]
  },
  {
   "cell_type": "code",
   "execution_count": 28,
   "id": "3215bf7d-481d-4611-9b23-11e758431e09",
   "metadata": {},
   "outputs": [
    {
     "data": {
      "text/plain": [
       "'1325_32'"
      ]
     },
     "execution_count": 28,
     "metadata": {},
     "output_type": "execute_result"
    }
   ],
   "source": [
    "rawdata.exclude['lt_1d']"
   ]
  },
  {
   "cell_type": "code",
   "execution_count": 27,
   "id": "b9a020b6-bad3-4894-b11a-c65dfac14d38",
   "metadata": {},
   "outputs": [
    {
     "data": {
      "text/plain": [
       "'1168_24'"
      ]
     },
     "execution_count": 27,
     "metadata": {},
     "output_type": "execute_result"
    }
   ],
   "source": [
    "rawdata.exclude['corrupt_mtn']"
   ]
  },
  {
   "cell_type": "code",
   "execution_count": 46,
   "id": "32529036-923d-45da-aaa4-633f0125569a",
   "metadata": {},
   "outputs": [],
   "source": [
    "rawdata.exclude['lt_max_t'].append('123')"
   ]
  },
  {
   "cell_type": "code",
   "execution_count": 47,
   "id": "7dddab5e-51d6-4c64-ab69-a28e96e361e4",
   "metadata": {},
   "outputs": [
    {
     "data": {
      "text/plain": [
       "['123']"
      ]
     },
     "execution_count": 47,
     "metadata": {},
     "output_type": "execute_result"
    }
   ],
   "source": [
    "rawdata.exclude['lt_max_t']"
   ]
  },
  {
   "cell_type": "markdown",
   "id": "01b34969-67b9-4455-a547-aa854291b492",
   "metadata": {},
   "source": [
    "# dev"
   ]
  },
  {
   "cell_type": "code",
   "execution_count": 20,
   "id": "9fa6bc4a-920e-4167-ab1b-c110caddf4d2",
   "metadata": {},
   "outputs": [
    {
     "name": "stdout",
     "output_type": "stream",
     "text": [
      "2633_22\n",
      "2633\n"
     ]
    }
   ],
   "source": [
    "# select a random file\n",
    "ID = np.random.choice(list(rawdata.IDs.keys()))\n",
    "file = rawdata.IDs[ID]\n",
    "print(ID)\n",
    "\n",
    "raw = pyActigraphy.io.read_raw_mtn(file)\n",
    "print(raw.name)"
   ]
  },
  {
   "cell_type": "markdown",
   "id": "cda7895b-ead2-4b2f-9cdc-17a3c1d6ed4a",
   "metadata": {},
   "source": [
    "# grab metadata and labels\n"
   ]
  },
  {
   "cell_type": "code",
   "execution_count": 31,
   "id": "cd9388c9-569b-4c47-bea6-6d446381c107",
   "metadata": {},
   "outputs": [],
   "source": [
    "raw_fp='/home/ngrav/project/wearables/data/raw/MOD1000WomanActivityData20210707T213505Z-001/MOD 1000 Woman Activity Data/'\n",
    "raw_md_fp='/home/ngrav/project/wearables/data/raw/MOD_Data_2021.csv'\n",
    "raw_md = pd.read_csv(raw_md_fp, low_memory=False)"
   ]
  },
  {
   "cell_type": "code",
   "execution_count": 48,
   "id": "4a321204-08c7-4558-8400-279ac2e77704",
   "metadata": {},
   "outputs": [],
   "source": [
    "# import variable from file\n",
    "from wearables.data.processed.md_pp_specification import *"
   ]
  },
  {
   "cell_type": "code",
   "execution_count": 34,
   "id": "64bd781d-9398-4cb9-8223-f6424d3ffcd5",
   "metadata": {},
   "outputs": [
    {
     "data": {
      "text/plain": [
       "[]"
      ]
     },
     "execution_count": 34,
     "metadata": {},
     "output_type": "execute_result"
    }
   ],
   "source": [
    "# chk that all PIDs have info in the metadata (produce themd_pp_specificationmpty list)\n",
    "IDs = list(rawdata.IDs.keys())\n",
    "[i for i in IDs if int(i.split('_')[0]) not in raw_md['record_id'].tolist()]"
   ]
  },
  {
   "cell_type": "code",
   "execution_count": 63,
   "id": "7f4b6ad2-6288-44e9-8b14-6862e2257c7e",
   "metadata": {},
   "outputs": [
    {
     "data": {
      "text/plain": [
       "(1260, 3081)"
      ]
     },
     "execution_count": 63,
     "metadata": {},
     "output_type": "execute_result"
    }
   ],
   "source": [
    "raw_md.loc[raw_md['record_id'].isin([int(i.split('_')[0]) for i in IDs] ), :].shape"
   ]
  },
  {
   "cell_type": "code",
   "execution_count": null,
   "id": "e60aa858-39e3-4fd5-9a5c-46fafe54bd42",
   "metadata": {},
   "outputs": [],
   "source": []
  },
  {
   "cell_type": "code",
   "execution_count": 69,
   "id": "20941c69-2381-4d23-a668-293f9e4b23ff",
   "metadata": {},
   "outputs": [],
   "source": [
    "with open('/home/ngrav/scratch/IDs.pkl', 'wb') as f:\n",
    "    pickle.dump(list(rawdata.IDs.keys()), f, protocol=pickle.HIGHEST_PROTOCOL)\n",
    "    f.close()"
   ]
  },
  {
   "cell_type": "code",
   "execution_count": 57,
   "id": "9cec553a-5126-41f8-a948-9c885d534335",
   "metadata": {},
   "outputs": [],
   "source": [
    "def delete_problematic_measurements(exclude_list=['no_lux', 'corrupt_mtn', 'lt_1d', 'chk_t']):\n",
    "    for problem in exclude_list:\n",
    "        if isinstance(rawdata.exclude[problem], list):\n",
    "            for k in list(rawdata.exclude[problem]):\n",
    "                print(k)\n",
    "                del rawdata.IDs[k]\n",
    "                del rawdata.data[k]\n",
    "        else:\n",
    "            print(rawdata.exclude[problem])\n",
    "            del rawdata.data[rawdata.exclude[problem]]\n",
    "            del rawdata.IDs[rawdata.exclude[problem]]"
   ]
  },
  {
   "cell_type": "code",
   "execution_count": 59,
   "id": "bebf3c18-f148-469b-8f4b-2986cabbffaf",
   "metadata": {},
   "outputs": [
    {
     "name": "stdout",
     "output_type": "stream",
     "text": [
      "2003_29\n"
     ]
    },
    {
     "ename": "KeyError",
     "evalue": "'2003_29'",
     "output_type": "error",
     "traceback": [
      "\u001b[0;31m---------------------------------------------------------------------------\u001b[0m",
      "\u001b[0;31mKeyError\u001b[0m                                  Traceback (most recent call last)",
      "\u001b[0;32m/tmp/ipykernel_27929/2718073654.py\u001b[0m in \u001b[0;36m<module>\u001b[0;34m\u001b[0m\n\u001b[1;32m      1\u001b[0m \u001b[0;31m# filter out the IDs\u001b[0m\u001b[0;34m\u001b[0m\u001b[0;34m\u001b[0m\u001b[0;34m\u001b[0m\u001b[0m\n\u001b[0;32m----> 2\u001b[0;31m \u001b[0mdelete_problematic_measurements\u001b[0m\u001b[0;34m(\u001b[0m\u001b[0;34m)\u001b[0m\u001b[0;34m\u001b[0m\u001b[0;34m\u001b[0m\u001b[0m\n\u001b[0m",
      "\u001b[0;32m/tmp/ipykernel_27929/572939908.py\u001b[0m in \u001b[0;36mdelete_problematic_measurements\u001b[0;34m(exclude_list)\u001b[0m\n\u001b[1;32m      4\u001b[0m             \u001b[0;32mfor\u001b[0m \u001b[0mk\u001b[0m \u001b[0;32min\u001b[0m \u001b[0mlist\u001b[0m\u001b[0;34m(\u001b[0m\u001b[0mrawdata\u001b[0m\u001b[0;34m.\u001b[0m\u001b[0mexclude\u001b[0m\u001b[0;34m[\u001b[0m\u001b[0mproblem\u001b[0m\u001b[0;34m]\u001b[0m\u001b[0;34m)\u001b[0m\u001b[0;34m:\u001b[0m\u001b[0;34m\u001b[0m\u001b[0;34m\u001b[0m\u001b[0m\n\u001b[1;32m      5\u001b[0m                 \u001b[0mprint\u001b[0m\u001b[0;34m(\u001b[0m\u001b[0mk\u001b[0m\u001b[0;34m)\u001b[0m\u001b[0;34m\u001b[0m\u001b[0;34m\u001b[0m\u001b[0m\n\u001b[0;32m----> 6\u001b[0;31m                 \u001b[0;32mdel\u001b[0m \u001b[0mrawdata\u001b[0m\u001b[0;34m.\u001b[0m\u001b[0mIDs\u001b[0m\u001b[0;34m[\u001b[0m\u001b[0mk\u001b[0m\u001b[0;34m]\u001b[0m\u001b[0;34m\u001b[0m\u001b[0;34m\u001b[0m\u001b[0m\n\u001b[0m\u001b[1;32m      7\u001b[0m                 \u001b[0;32mdel\u001b[0m \u001b[0mrawdata\u001b[0m\u001b[0;34m.\u001b[0m\u001b[0mdata\u001b[0m\u001b[0;34m[\u001b[0m\u001b[0mk\u001b[0m\u001b[0;34m]\u001b[0m\u001b[0;34m\u001b[0m\u001b[0;34m\u001b[0m\u001b[0m\n\u001b[1;32m      8\u001b[0m         \u001b[0;32melse\u001b[0m\u001b[0;34m:\u001b[0m\u001b[0;34m\u001b[0m\u001b[0;34m\u001b[0m\u001b[0m\n",
      "\u001b[0;31mKeyError\u001b[0m: '2003_29'"
     ]
    }
   ],
   "source": [
    "# filter out the IDs\n",
    "delete_problematic_measurements()"
   ]
  },
  {
   "cell_type": "code",
   "execution_count": null,
   "id": "20000278-19d3-40b7-808f-cb6f60bf508c",
   "metadata": {},
   "outputs": [],
   "source": []
  },
  {
   "cell_type": "code",
   "execution_count": null,
   "id": "f0cdb05a-c731-49ff-8f86-b97075fabb55",
   "metadata": {},
   "outputs": [],
   "source": []
  },
  {
   "cell_type": "markdown",
   "id": "8a480c76-e650-4b10-8f35-6ce72bd68fb1",
   "metadata": {},
   "source": [
    "# train test splits\n"
   ]
  },
  {
   "cell_type": "markdown",
   "id": "b8f4891c-2682-45b9-bdfd-f95d2ab7aa45",
   "metadata": {},
   "source": [
    "# visuzlize from train based on md"
   ]
  },
  {
   "cell_type": "code",
   "execution_count": null,
   "id": "ea59bf48-24c4-4a82-81af-ef0f8cd943c2",
   "metadata": {},
   "outputs": [],
   "source": []
  }
 ],
 "metadata": {
  "kernelspec": {
   "display_name": "Python 3 (ipykernel)",
   "language": "python",
   "name": "python3"
  },
  "language_info": {
   "codemirror_mode": {
    "name": "ipython",
    "version": 3
   },
   "file_extension": ".py",
   "mimetype": "text/x-python",
   "name": "python",
   "nbconvert_exporter": "python",
   "pygments_lexer": "ipython3",
   "version": "3.8.10"
  }
 },
 "nbformat": 4,
 "nbformat_minor": 5
}
