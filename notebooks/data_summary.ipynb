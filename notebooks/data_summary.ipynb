{
 "cells": [
  {
   "cell_type": "code",
   "execution_count": 1,
   "id": "0cefa499-6e06-4def-8483-6afaebf99a34",
   "metadata": {},
   "outputs": [],
   "source": [
    "%matplotlib inline\n",
    "\n",
    "import pandas as pd\n",
    "import numpy as np\n",
    "import matplotlib.pyplot as plt\n",
    "import seaborn as sns\n",
    "import glob\n",
    "import os\n",
    "import time\n",
    "import pickle\n",
    "import datetime\n",
    "import re\n",
    "import pyActigraphy\n",
    "\n",
    "import sys\n",
    "sys.path.append('/home/ngrav/project/')\n",
    "from wearables.scripts import utils as wearutils\n",
    "from wearables.scripts import data_v42 as weardata\n",
    "\n",
    "import torch\n",
    "\n",
    "plt.rc('font', size = 9)\n",
    "plt.rc('font', family='sans serif')\n",
    "plt.rcParams['pdf.fonttype']=42\n",
    "plt.rcParams['ps.fonttype']=42\n",
    "plt.rcParams['legend.frameon']=False\n",
    "plt.rcParams['axes.grid']=False\n",
    "plt.rcParams['legend.markerscale']=0.5\n",
    "plt.rcParams['savefig.dpi']=600\n",
    "sns.set_style(\"ticks\")"
   ]
  },
  {
   "cell_type": "code",
   "execution_count": 2,
   "id": "cec39be4-4148-4eae-8ca8-2e94856a208e",
   "metadata": {},
   "outputs": [],
   "source": [
    "raw_fp='/home/ngrav/project/wearables/data/raw/MOD1000WomanActivityData20210707T213505Z-001/MOD 1000 Woman Activity Data/'\n",
    "raw_md_fp='/home/ngrav/project/wearables/data/raw/MOD_Data_2021.csv'\n",
    "raw_md = pd.read_csv(raw_md_fp, low_memory=False)"
   ]
  },
  {
   "cell_type": "code",
   "execution_count": 18,
   "id": "1216b11e-f6bb-4c09-9dec-52638bf68ad0",
   "metadata": {},
   "outputs": [
    {
     "data": {
      "text/plain": [
       "<module 'wearables.scripts.data_v42' from '/home/ngrav/project/wearables/scripts/data_v42.py'>"
      ]
     },
     "execution_count": 18,
     "metadata": {},
     "output_type": "execute_result"
    }
   ],
   "source": [
    "import importlib\n",
    "importlib.reload(weardata)"
   ]
  },
  {
   "cell_type": "code",
   "execution_count": 19,
   "id": "cc43f689-75a1-489d-bbcd-18d9ae511fd1",
   "metadata": {},
   "outputs": [
    {
     "name": "stdout",
     "output_type": "stream",
     "text": [
      "\n",
      "Raw actigraphy data loaded in 0.0-min\n"
     ]
    }
   ],
   "source": [
    "rawdata = weardata.raw2df()"
   ]
  },
  {
   "cell_type": "code",
   "execution_count": 20,
   "id": "9fa6bc4a-920e-4167-ab1b-c110caddf4d2",
   "metadata": {},
   "outputs": [
    {
     "name": "stdout",
     "output_type": "stream",
     "text": [
      "2633_22\n",
      "2633\n"
     ]
    }
   ],
   "source": [
    "# select a random file\n",
    "ID = np.random.choice(list(rawdata.IDs.keys()))\n",
    "file = rawdata.IDs[ID]\n",
    "print(ID)\n",
    "\n",
    "raw = pyActigraphy.io.read_raw_mtn(file)\n",
    "print(raw.name)"
   ]
  },
  {
   "cell_type": "code",
   "execution_count": 22,
   "id": "cfaae304-04e2-4952-8dcd-297814e2beb3",
   "metadata": {},
   "outputs": [],
   "source": [
    "t = raw.data.index.to_series()"
   ]
  },
  {
   "cell_type": "code",
   "execution_count": 32,
   "id": "4896cf5d-3473-4ab8-893b-8f344931626b",
   "metadata": {},
   "outputs": [
    {
     "data": {
      "text/plain": [
       "37053"
      ]
     },
     "execution_count": 32,
     "metadata": {},
     "output_type": "execute_result"
    }
   ],
   "source": [
    "26973+10080"
   ]
  },
  {
   "cell_type": "code",
   "execution_count": 34,
   "id": "e4172c7a-28fa-4821-8e52-081f9105652a",
   "metadata": {},
   "outputs": [],
   "source": [
    "sleep = raw.Oakley(threshold=80)\n",
    "activity = raw.data"
   ]
  },
  {
   "cell_type": "code",
   "execution_count": 33,
   "id": "eddb158b-4a82-4795-9447-4956ba9729e6",
   "metadata": {},
   "outputs": [
    {
     "data": {
      "text/plain": [
       "2019-12-18 14:26:00   2019-12-18 14:26:00\n",
       "2019-12-18 14:27:00   2019-12-18 14:27:00\n",
       "2019-12-18 14:28:00   2019-12-18 14:28:00\n",
       "2019-12-18 14:29:00   2019-12-18 14:29:00\n",
       "2019-12-18 14:30:00   2019-12-18 14:30:00\n",
       "                              ...        \n",
       "2020-01-27 14:22:00                   NaT\n",
       "2020-01-27 14:23:00                   NaT\n",
       "2020-01-27 14:24:00                   NaT\n",
       "2020-01-27 14:25:00                   NaT\n",
       "2020-01-27 14:26:00                   NaT\n",
       "Length: 57601, dtype: datetime64[ns]"
      ]
     },
     "execution_count": 33,
     "metadata": {},
     "output_type": "execute_result"
    }
   ],
   "source": [
    "t.reindex(pd.date_range(t[0], t[0] + datetime.timedelta(days=40), periods=40*24*60+1))"
   ]
  },
  {
   "cell_type": "code",
   "execution_count": 28,
   "id": "3eccac43-9da6-47d5-9976-92148c02e0b4",
   "metadata": {},
   "outputs": [
    {
     "data": {
      "text/plain": [
       "DatetimeIndex([          '2020-01-06 07:58:00',\n",
       "               '2020-01-06 07:59:00.005952971',\n",
       "               '2020-01-06 08:00:00.011905943',\n",
       "               '2020-01-06 08:01:00.017858914',\n",
       "               '2020-01-06 08:02:00.023811886',\n",
       "               '2020-01-06 08:03:00.029764857',\n",
       "               '2020-01-06 08:04:00.035717829',\n",
       "               '2020-01-06 08:05:00.041670800',\n",
       "               '2020-01-06 08:06:00.047623772',\n",
       "               '2020-01-06 08:07:00.053576743',\n",
       "               ...\n",
       "               '2020-01-13 07:48:59.946423256',\n",
       "               '2020-01-13 07:49:59.952376227',\n",
       "               '2020-01-13 07:50:59.958329199',\n",
       "               '2020-01-13 07:51:59.964282170',\n",
       "               '2020-01-13 07:52:59.970235142',\n",
       "               '2020-01-13 07:53:59.976188113',\n",
       "               '2020-01-13 07:54:59.982141085',\n",
       "               '2020-01-13 07:55:59.988094057',\n",
       "               '2020-01-13 07:56:59.994047028',\n",
       "                         '2020-01-13 07:58:00'],\n",
       "              dtype='datetime64[ns]', length=10080, freq=None)"
      ]
     },
     "execution_count": 29,
     "metadata": {},
     "output_type": "execute_result"
    }
   ],
   "source": [
    "t.reindex(t.index.append(pd.date_range(t[-1], t[-1] + datetime.timedelta(days=7), periods=7*24*60+1)[1:])"
   ]
  },
  {
   "cell_type": "code",
   "execution_count": 25,
   "id": "b030f09a-1dbc-4b87-9d7f-718ce5759290",
   "metadata": {},
   "outputs": [
    {
     "data": {
      "text/plain": [
       "2019-12-18 14:26:00   2019-12-18 14:26:00\n",
       "2019-12-18 14:27:00   2019-12-18 14:27:00\n",
       "2019-12-18 14:28:00   2019-12-18 14:28:00\n",
       "2019-12-18 14:29:00   2019-12-18 14:29:00\n",
       "2019-12-18 14:30:00   2019-12-18 14:30:00\n",
       "                              ...        \n",
       "2020-01-06 07:54:00   2020-01-06 07:54:00\n",
       "2020-01-06 07:55:00   2020-01-06 07:55:00\n",
       "2020-01-06 07:56:00   2020-01-06 07:56:00\n",
       "2020-01-06 07:57:00   2020-01-06 07:57:00\n",
       "2020-01-06 07:58:00   2020-01-06 07:58:00\n",
       "Freq: T, Length: 26973, dtype: datetime64[ns]"
      ]
     },
     "execution_count": 25,
     "metadata": {},
     "output_type": "execute_result"
    }
   ],
   "source": [
    "t"
   ]
  },
  {
   "cell_type": "markdown",
   "id": "cda7895b-ead2-4b2f-9cdc-17a3c1d6ed4a",
   "metadata": {},
   "source": [
    "# grab metadata and labels\n"
   ]
  },
  {
   "cell_type": "markdown",
   "id": "8a480c76-e650-4b10-8f35-6ce72bd68fb1",
   "metadata": {},
   "source": [
    "# train test splits\n"
   ]
  },
  {
   "cell_type": "markdown",
   "id": "b8f4891c-2682-45b9-bdfd-f95d2ab7aa45",
   "metadata": {},
   "source": [
    "# visuzlize from train based on md"
   ]
  },
  {
   "cell_type": "code",
   "execution_count": null,
   "id": "ea59bf48-24c4-4a82-81af-ef0f8cd943c2",
   "metadata": {},
   "outputs": [],
   "source": []
  }
 ],
 "metadata": {
  "kernelspec": {
   "display_name": "Python 3 (ipykernel)",
   "language": "python",
   "name": "python3"
  },
  "language_info": {
   "codemirror_mode": {
    "name": "ipython",
    "version": 3
   },
   "file_extension": ".py",
   "mimetype": "text/x-python",
   "name": "python",
   "nbconvert_exporter": "python",
   "pygments_lexer": "ipython3",
   "version": "3.8.10"
  }
 },
 "nbformat": 4,
 "nbformat_minor": 5
}
