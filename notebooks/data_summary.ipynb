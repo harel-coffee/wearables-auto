{
 "cells": [
  {
   "cell_type": "code",
   "execution_count": 3,
   "id": "0cefa499-6e06-4def-8483-6afaebf99a34",
   "metadata": {},
   "outputs": [],
   "source": [
    "%matplotlib inline\n",
    "\n",
    "import pandas as pd\n",
    "import numpy as np\n",
    "import matplotlib.pyplot as plt\n",
    "import seaborn as sns\n",
    "import glob\n",
    "import os\n",
    "import time\n",
    "import pickle\n",
    "import datetime\n",
    "import re\n",
    "import pyActigraphy\n",
    "\n",
    "import sys\n",
    "sys.path.append('/home/ngrav/project/')\n",
    "from wearables.scripts import utils as wearutils\n",
    "from wearables.scripts import data_v42 as weardata\n",
    "\n",
    "import torch\n",
    "\n",
    "plt.rc('font', size = 9)\n",
    "plt.rc('font', family='sans serif')\n",
    "plt.rcParams['pdf.fonttype']=42\n",
    "plt.rcParams['ps.fonttype']=42\n",
    "plt.rcParams['legend.frameon']=False\n",
    "plt.rcParams['axes.grid']=False\n",
    "plt.rcParams['legend.markerscale']=0.5\n",
    "plt.rcParams['savefig.dpi']=600\n",
    "sns.set_style(\"ticks\")"
   ]
  },
  {
   "cell_type": "code",
   "execution_count": 47,
   "id": "cec39be4-4148-4eae-8ca8-2e94856a208e",
   "metadata": {},
   "outputs": [],
   "source": [
    "raw_fp='/home/ngrav/project/wearables/data/raw/MOD1000WomanActivityData20210707T213505Z-001/MOD 1000 Woman Activity Data/'\n",
    "raw_md_fp='/home/ngrav/project/wearables/data/raw/MOD_Data_2021.csv'\n",
    "raw_md = pd.read_csv(raw_md_fp, low_memory=False)"
   ]
  },
  {
   "cell_type": "code",
   "execution_count": 116,
   "id": "1216b11e-f6bb-4c09-9dec-52638bf68ad0",
   "metadata": {},
   "outputs": [
    {
     "data": {
      "text/plain": [
       "<module 'wearables.scripts.data_v42' from '/home/ngrav/project/wearables/scripts/data_v42.py'>"
      ]
     },
     "execution_count": 116,
     "metadata": {},
     "output_type": "execute_result"
    }
   ],
   "source": [
    "import importlib\n",
    "importlib.reload(weardata)"
   ]
  },
  {
   "cell_type": "code",
   "execution_count": 2,
   "id": "cc43f689-75a1-489d-bbcd-18d9ae511fd1",
   "metadata": {},
   "outputs": [],
   "source": [
    "rawdata = weardata.raw2df()"
   ]
  },
  {
   "cell_type": "code",
   "execution_count": 14,
   "id": "9fa6bc4a-920e-4167-ab1b-c110caddf4d2",
   "metadata": {},
   "outputs": [
    {
     "name": "stdout",
     "output_type": "stream",
     "text": [
      "2447_10\n",
      "2447\n"
     ]
    }
   ],
   "source": [
    "# select a random file\n",
    "ID = np.random.choice(list(rawdata.IDs.keys()))\n",
    "file = rawdata.IDs[ID]\n",
    "print(ID)\n",
    "\n",
    "raw = pyActigraphy.io.read_raw_mtn(file)\n",
    "print(raw.name)"
   ]
  },
  {
   "cell_type": "code",
   "execution_count": 13,
   "id": "a79c838b-8087-4d53-85cd-1b12efd6e66d",
   "metadata": {},
   "outputs": [
    {
     "data": {
      "text/plain": [
       "True"
      ]
     },
     "execution_count": 13,
     "metadata": {},
     "output_type": "execute_result"
    }
   ],
   "source": [
    "f"
   ]
  },
  {
   "cell_type": "markdown",
   "id": "cda7895b-ead2-4b2f-9cdc-17a3c1d6ed4a",
   "metadata": {},
   "source": [
    "# grab metadata and labels\n"
   ]
  },
  {
   "cell_type": "markdown",
   "id": "8a480c76-e650-4b10-8f35-6ce72bd68fb1",
   "metadata": {},
   "source": [
    "# train test splits\n"
   ]
  },
  {
   "cell_type": "markdown",
   "id": "b8f4891c-2682-45b9-bdfd-f95d2ab7aa45",
   "metadata": {},
   "source": [
    "# visuzlize from train based on md"
   ]
  },
  {
   "cell_type": "code",
   "execution_count": null,
   "id": "ea59bf48-24c4-4a82-81af-ef0f8cd943c2",
   "metadata": {},
   "outputs": [],
   "source": []
  }
 ],
 "metadata": {
  "kernelspec": {
   "display_name": "Python 3 (ipykernel)",
   "language": "python",
   "name": "python3"
  },
  "language_info": {
   "codemirror_mode": {
    "name": "ipython",
    "version": 3
   },
   "file_extension": ".py",
   "mimetype": "text/x-python",
   "name": "python",
   "nbconvert_exporter": "python",
   "pygments_lexer": "ipython3",
   "version": "3.8.10"
  }
 },
 "nbformat": 4,
 "nbformat_minor": 5
}
