{
 "cells": [
  {
   "cell_type": "code",
   "execution_count": 51,
   "id": "12618158-6c1a-4a92-846c-9a2c771918d7",
   "metadata": {},
   "outputs": [],
   "source": [
    "%matplotlib inline\n",
    "\n",
    "import time\n",
    "import numpy as np\n",
    "import pandas as pd\n",
    "import pickle\n",
    "import seaborn as sns\n",
    "import matplotlib.pyplot as plt\n",
    "\n",
    "import sys\n",
    "sys.path.append('/home/ngrav/project/')\n",
    "from wearables.scripts import data as weardata\n",
    "from wearables.scripts import eval_ as weareval\n",
    "from wearables.scripts import train_v71 as weartrain"
   ]
  },
  {
   "cell_type": "code",
   "execution_count": 2,
   "id": "6e8c634f-a131-4a26-b9e7-a3942d38903a",
   "metadata": {},
   "outputs": [],
   "source": [
    "with open('/home/ngrav/data/wearables/processed/MOD1000_modeldata.pkl', 'rb') as f:\n",
    "    data = pickle.load(f)\n",
    "    f.close()"
   ]
  },
  {
   "cell_type": "code",
   "execution_count": 5,
   "id": "66017d53-00e5-4cd8-9589-462b2d555133",
   "metadata": {},
   "outputs": [
    {
     "data": {
      "text/plain": [
       "2018-05-25 00:00:00   2018-05-25 00:00:00\n",
       "2018-05-25 00:01:00   2018-05-25 00:01:00\n",
       "2018-05-25 00:02:00   2018-05-25 00:02:00\n",
       "2018-05-25 00:03:00   2018-05-25 00:03:00\n",
       "2018-05-25 00:04:00   2018-05-25 00:04:00\n",
       "                              ...        \n",
       "2018-05-31 23:56:00   2018-05-31 23:56:00\n",
       "2018-05-31 23:57:00   2018-05-31 23:57:00\n",
       "2018-05-31 23:58:00   2018-05-31 23:58:00\n",
       "2018-05-31 23:59:00   2018-05-31 23:59:00\n",
       "2018-06-01 00:00:00   2018-06-01 00:00:00\n",
       "Length: 10081, dtype: datetime64[ns]"
      ]
     },
     "execution_count": 5,
     "metadata": {},
     "output_type": "execute_result"
    }
   ],
   "source": [
    "data['data']['2180_35']['t']"
   ]
  },
  {
   "cell_type": "code",
   "execution_count": 6,
   "id": "61175401-5b9a-43fc-b6ef-7d1ad7f906af",
   "metadata": {},
   "outputs": [
    {
     "name": "stderr",
     "output_type": "stream",
     "text": [
      "/home/ngrav/miniconda3/envs/wearables/lib/python3.8/site-packages/IPython/core/interactiveshell.py:3457: DtypeWarning: Columns (16,22,36,77,97,117,137,195,215,235,255,275,315,335,426,440,462,463,465,466,485,506,536,577,581,625,626,627,668,671,673,674,697,700,701,703,704,705,708,709,712,713,730,798,799,804,807,808,812,817,818,822,880,881,885,886,890,891,908,1064,1067,1076,1084,1094,1095,1096,1097,1101,1102,1106,1132,1135,1136,1170,1250,1263,1577,1585,1586,1680,1739,1740,1741,1742,1743,1746,1747,1748,1749,1750,1870,1878,1879,1976,2166,2175,2188,2189,2203,2216,2217,2249,2250,2251,2252,2253,2256,2260,2261,2282,2283,2293,2294,2296,2297,2298,2299,2300,2303,2307,2308,2329,2340,2343,2344,2345,2346,2347,2350,2354,2355,2356,2376,2387,2390,2391,2392,2393,2394,2397,2401,2402,2423,2434,2437,2438,2439,2440,2441,2444,2448,2449,2450,2470,2471,2481,2484,2485,2486,2487,2488,2491,2495,2496,2517,2528,2531,2532,2533,2534,2535,2538,2542,2543,2544,2564,2575,2578,2579,2580,2581,2582,2585,2589,2590,2611,2622,2625,2626,2627,2628,2629,2632,2636,2637,2658,2669,2672,2673,2674,2675,2676,2679,2683,2684,2685,2705,2716,2719,2720,2721,2722,2723,2726,2730,2731,2752,2763,2766,2767,2768,2769,2770,2773,2777,2778,2799,2810,2813,2814,2815,2816,2817,2820,2824,2825,2846,2857,2860,2861,2862,2863,2864,2867,2871,2872,2893,2904,2913,2914,2915,2917,2918,2919,2921,2922,2923,2925,2926,2927,2931,2938,2939,3053) have mixed types.Specify dtype option on import or set low_memory=False.\n",
      "  exec(code_obj, self.user_global_ns, self.user_ns)\n"
     ]
    }
   ],
   "source": [
    "md = pd.read_csv('/home/ngrav/data/wearables/raw/MOD_Data_2021.csv')"
   ]
  },
  {
   "cell_type": "code",
   "execution_count": 9,
   "id": "e2e0b882-e6a9-4404-b475-f6012911a97f",
   "metadata": {},
   "outputs": [
    {
     "data": {
      "text/html": [
       "<div>\n",
       "<style scoped>\n",
       "    .dataframe tbody tr th:only-of-type {\n",
       "        vertical-align: middle;\n",
       "    }\n",
       "\n",
       "    .dataframe tbody tr th {\n",
       "        vertical-align: top;\n",
       "    }\n",
       "\n",
       "    .dataframe thead th {\n",
       "        text-align: right;\n",
       "    }\n",
       "</style>\n",
       "<table border=\"1\" class=\"dataframe\">\n",
       "  <thead>\n",
       "    <tr style=\"text-align: right;\">\n",
       "      <th></th>\n",
       "      <th>record_id</th>\n",
       "      <th>redcap_event_name</th>\n",
       "      <th>redcap_survey_identifier</th>\n",
       "      <th>customid</th>\n",
       "      <th>refused_future_research___1</th>\n",
       "      <th>refused_future_research___2</th>\n",
       "      <th>refused_future_research___3</th>\n",
       "      <th>reader</th>\n",
       "      <th>reader_text</th>\n",
       "      <th>age_enroll</th>\n",
       "      <th>...</th>\n",
       "      <th>edinb3_3trim</th>\n",
       "      <th>edinb4_3trim</th>\n",
       "      <th>edinb5_3trim</th>\n",
       "      <th>edinb6_3trim</th>\n",
       "      <th>edinb7_3trim</th>\n",
       "      <th>edinb8_3trim</th>\n",
       "      <th>edinb9_3trim</th>\n",
       "      <th>edinb10_3trim</th>\n",
       "      <th>edinburgh_check_trim3___1</th>\n",
       "      <th>third_edinburgh_depression_scale_complete</th>\n",
       "    </tr>\n",
       "  </thead>\n",
       "  <tbody>\n",
       "    <tr>\n",
       "      <th>0</th>\n",
       "      <td>4</td>\n",
       "      <td>general_arm_1</td>\n",
       "      <td>NaN</td>\n",
       "      <td>4</td>\n",
       "      <td>0</td>\n",
       "      <td>0</td>\n",
       "      <td>0</td>\n",
       "      <td>7.0</td>\n",
       "      <td>Kristi</td>\n",
       "      <td>23</td>\n",
       "      <td>...</td>\n",
       "      <td>NaN</td>\n",
       "      <td>NaN</td>\n",
       "      <td>NaN</td>\n",
       "      <td>NaN</td>\n",
       "      <td>NaN</td>\n",
       "      <td>NaN</td>\n",
       "      <td>NaN</td>\n",
       "      <td>NaN</td>\n",
       "      <td>0</td>\n",
       "      <td>0</td>\n",
       "    </tr>\n",
       "    <tr>\n",
       "      <th>1</th>\n",
       "      <td>6</td>\n",
       "      <td>general_arm_1</td>\n",
       "      <td>NaN</td>\n",
       "      <td>6</td>\n",
       "      <td>0</td>\n",
       "      <td>0</td>\n",
       "      <td>0</td>\n",
       "      <td>4.0</td>\n",
       "      <td>NaN</td>\n",
       "      <td>23</td>\n",
       "      <td>...</td>\n",
       "      <td>NaN</td>\n",
       "      <td>NaN</td>\n",
       "      <td>NaN</td>\n",
       "      <td>NaN</td>\n",
       "      <td>NaN</td>\n",
       "      <td>NaN</td>\n",
       "      <td>NaN</td>\n",
       "      <td>NaN</td>\n",
       "      <td>0</td>\n",
       "      <td>0</td>\n",
       "    </tr>\n",
       "    <tr>\n",
       "      <th>2</th>\n",
       "      <td>9</td>\n",
       "      <td>general_arm_1</td>\n",
       "      <td>NaN</td>\n",
       "      <td>9</td>\n",
       "      <td>0</td>\n",
       "      <td>0</td>\n",
       "      <td>0</td>\n",
       "      <td>4.0</td>\n",
       "      <td>NaN</td>\n",
       "      <td>24</td>\n",
       "      <td>...</td>\n",
       "      <td>NaN</td>\n",
       "      <td>NaN</td>\n",
       "      <td>NaN</td>\n",
       "      <td>NaN</td>\n",
       "      <td>NaN</td>\n",
       "      <td>NaN</td>\n",
       "      <td>NaN</td>\n",
       "      <td>NaN</td>\n",
       "      <td>0</td>\n",
       "      <td>0</td>\n",
       "    </tr>\n",
       "    <tr>\n",
       "      <th>3</th>\n",
       "      <td>10</td>\n",
       "      <td>general_arm_1</td>\n",
       "      <td>NaN</td>\n",
       "      <td>10</td>\n",
       "      <td>0</td>\n",
       "      <td>0</td>\n",
       "      <td>0</td>\n",
       "      <td>4.0</td>\n",
       "      <td>NaN</td>\n",
       "      <td>29</td>\n",
       "      <td>...</td>\n",
       "      <td>NaN</td>\n",
       "      <td>NaN</td>\n",
       "      <td>NaN</td>\n",
       "      <td>NaN</td>\n",
       "      <td>NaN</td>\n",
       "      <td>NaN</td>\n",
       "      <td>NaN</td>\n",
       "      <td>NaN</td>\n",
       "      <td>0</td>\n",
       "      <td>0</td>\n",
       "    </tr>\n",
       "    <tr>\n",
       "      <th>4</th>\n",
       "      <td>21</td>\n",
       "      <td>general_arm_1</td>\n",
       "      <td>NaN</td>\n",
       "      <td>21</td>\n",
       "      <td>0</td>\n",
       "      <td>0</td>\n",
       "      <td>0</td>\n",
       "      <td>4.0</td>\n",
       "      <td>NaN</td>\n",
       "      <td>21</td>\n",
       "      <td>...</td>\n",
       "      <td>NaN</td>\n",
       "      <td>NaN</td>\n",
       "      <td>NaN</td>\n",
       "      <td>NaN</td>\n",
       "      <td>NaN</td>\n",
       "      <td>NaN</td>\n",
       "      <td>NaN</td>\n",
       "      <td>NaN</td>\n",
       "      <td>0</td>\n",
       "      <td>0</td>\n",
       "    </tr>\n",
       "  </tbody>\n",
       "</table>\n",
       "<p>5 rows × 3081 columns</p>\n",
       "</div>"
      ],
      "text/plain": [
       "   record_id redcap_event_name  redcap_survey_identifier  customid  \\\n",
       "0          4     general_arm_1                       NaN         4   \n",
       "1          6     general_arm_1                       NaN         6   \n",
       "2          9     general_arm_1                       NaN         9   \n",
       "3         10     general_arm_1                       NaN        10   \n",
       "4         21     general_arm_1                       NaN        21   \n",
       "\n",
       "   refused_future_research___1  refused_future_research___2  \\\n",
       "0                            0                            0   \n",
       "1                            0                            0   \n",
       "2                            0                            0   \n",
       "3                            0                            0   \n",
       "4                            0                            0   \n",
       "\n",
       "   refused_future_research___3  reader reader_text  age_enroll  ...  \\\n",
       "0                            0     7.0      Kristi          23  ...   \n",
       "1                            0     4.0         NaN          23  ...   \n",
       "2                            0     4.0         NaN          24  ...   \n",
       "3                            0     4.0         NaN          29  ...   \n",
       "4                            0     4.0         NaN          21  ...   \n",
       "\n",
       "  edinb3_3trim  edinb4_3trim  edinb5_3trim  edinb6_3trim  edinb7_3trim  \\\n",
       "0          NaN           NaN           NaN           NaN           NaN   \n",
       "1          NaN           NaN           NaN           NaN           NaN   \n",
       "2          NaN           NaN           NaN           NaN           NaN   \n",
       "3          NaN           NaN           NaN           NaN           NaN   \n",
       "4          NaN           NaN           NaN           NaN           NaN   \n",
       "\n",
       "   edinb8_3trim edinb9_3trim  edinb10_3trim  edinburgh_check_trim3___1  \\\n",
       "0           NaN          NaN            NaN                          0   \n",
       "1           NaN          NaN            NaN                          0   \n",
       "2           NaN          NaN            NaN                          0   \n",
       "3           NaN          NaN            NaN                          0   \n",
       "4           NaN          NaN            NaN                          0   \n",
       "\n",
       "   third_edinburgh_depression_scale_complete  \n",
       "0                                          0  \n",
       "1                                          0  \n",
       "2                                          0  \n",
       "3                                          0  \n",
       "4                                          0  \n",
       "\n",
       "[5 rows x 3081 columns]"
      ]
     },
     "execution_count": 9,
     "metadata": {},
     "output_type": "execute_result"
    }
   ],
   "source": [
    "md.head()"
   ]
  },
  {
   "cell_type": "code",
   "execution_count": 26,
   "id": "81687d71-096b-40fa-bd9b-dcd4f07dba83",
   "metadata": {},
   "outputs": [
    {
     "data": {
      "text/plain": [
       "1071   2018-06-27\n",
       "Name: edc, dtype: datetime64[ns]"
      ]
     },
     "execution_count": 26,
     "metadata": {},
     "output_type": "execute_result"
    }
   ],
   "source": [
    "pd.to_datetime(md.loc[md['record_id']==2180, 'edc'])"
   ]
  },
  {
   "cell_type": "code",
   "execution_count": 27,
   "id": "186a233e-dc22-497b-8259-dd89a0fe6e6f",
   "metadata": {},
   "outputs": [
    {
     "data": {
      "text/plain": [
       "Timedelta('33 days 00:00:00')"
      ]
     },
     "execution_count": 27,
     "metadata": {},
     "output_type": "execute_result"
    }
   ],
   "source": [
    "(pd.to_datetime(md.loc[md['record_id']==2180, 'edc']).item() - data['data']['2180_35']['t'].iloc[0])"
   ]
  },
  {
   "cell_type": "code",
   "execution_count": 24,
   "id": "cc841912-096c-449a-ab6a-e3b90c68cb0e",
   "metadata": {},
   "outputs": [
    {
     "data": {
      "text/plain": [
       "4.714285714285714"
      ]
     },
     "execution_count": 24,
     "metadata": {},
     "output_type": "execute_result"
    }
   ],
   "source": [
    "(pd.to_datetime(md.loc[md['record_id']==2180, 'edc']).item() - data['data']['2180_35']['t'].iloc[0]).days / 7"
   ]
  },
  {
   "cell_type": "code",
   "execution_count": 18,
   "id": "8314b40d-2b17-4565-b2f6-800a40ccfe2e",
   "metadata": {},
   "outputs": [
    {
     "data": {
      "text/plain": [
       "Timestamp('2018-05-25 00:00:00')"
      ]
     },
     "execution_count": 18,
     "metadata": {},
     "output_type": "execute_result"
    }
   ],
   "source": [
    "data['data']['2180_35']['t'].iloc[0]"
   ]
  },
  {
   "cell_type": "code",
   "execution_count": 25,
   "id": "a96698f8-ae90-4046-b40e-1bb2c222f065",
   "metadata": {},
   "outputs": [
    {
     "data": {
      "text/plain": [
       "2018-05-25 00:00:00   2018-05-25 00:00:00\n",
       "2018-05-25 00:01:00   2018-05-25 00:01:00\n",
       "2018-05-25 00:02:00   2018-05-25 00:02:00\n",
       "2018-05-25 00:03:00   2018-05-25 00:03:00\n",
       "2018-05-25 00:04:00   2018-05-25 00:04:00\n",
       "                              ...        \n",
       "2018-05-31 23:56:00   2018-05-31 23:56:00\n",
       "2018-05-31 23:57:00   2018-05-31 23:57:00\n",
       "2018-05-31 23:58:00   2018-05-31 23:58:00\n",
       "2018-05-31 23:59:00   2018-05-31 23:59:00\n",
       "2018-06-01 00:00:00   2018-06-01 00:00:00\n",
       "Length: 10081, dtype: datetime64[ns]"
      ]
     },
     "execution_count": 25,
     "metadata": {},
     "output_type": "execute_result"
    }
   ],
   "source": [
    "data['data']['2180_35']['t']"
   ]
  },
  {
   "cell_type": "code",
   "execution_count": 55,
   "id": "51364449-35dc-4f43-974d-ae7be16bd5fa",
   "metadata": {},
   "outputs": [],
   "source": [
    "# check for all\n",
    "label = {'uid': [], \n",
    "         'pid': [],\n",
    "         'GA_filename': [],\n",
    "         'GA_edc_sub_t0': []}\n",
    "for uid in data['data'].keys():\n",
    "    parts = uid.split('_')\n",
    "    pid = int(parts[0])\n",
    "    GA = int(parts[-1])\n",
    "    t0 = data['data'][uid]['t'].iloc[0]\n",
    "    edc = pd.to_datetime(md.loc[md['record_id']==pid, 'edc']).item()\n",
    "    diff = (edc - t0).days\n",
    "    label['uid'].append(uid)\n",
    "    label['pid'].append(pid)\n",
    "    label['GA_filename'].append(GA)\n",
    "    label['GA_edc_sub_t0'].append(diff / 7) # wks\n",
    "    "
   ]
  },
  {
   "cell_type": "code",
   "execution_count": 56,
   "id": "9d94a16d-d757-4c24-afce-7b579e08f527",
   "metadata": {},
   "outputs": [
    {
     "name": "stderr",
     "output_type": "stream",
     "text": [
      "/home/ngrav/miniconda3/envs/wearables/lib/python3.8/site-packages/seaborn/_decorators.py:36: FutureWarning: Pass the following variables as keyword args: x, y. From version 0.12, the only valid positional argument will be `data`, and passing other arguments without an explicit keyword will result in an error or misinterpretation.\n",
      "  warnings.warn(\n"
     ]
    },
    {
     "data": {
      "text/plain": [
       "Text(0.5, 0, 'GA_filename')"
      ]
     },
     "execution_count": 56,
     "metadata": {},
     "output_type": "execute_result"
    },
    {
     "data": {
      "image/png": "[encoded data removed]",
      "text/plain": [
       "<Figure size 288x216 with 1 Axes>"
      ]
     },
     "metadata": {
      "needs_background": "light"
     },
     "output_type": "display_data"
    }
   ],
   "source": [
    "fig, ax = plt.subplots(1, 1, figsize=(4, 3))\n",
    "sns.scatterplot(label['GA_filename'], label['GA_edc_sub_t0'], ax=ax)\n",
    "ax.set_ylabel('EDC - t0 (wks)')\n",
    "ax.set_xlabel('GA_filename')"
   ]
  },
  {
   "cell_type": "code",
   "execution_count": null,
   "id": "bcbc7d7a-43b3-4d56-be80-6039e14dd1c6",
   "metadata": {},
   "outputs": [],
   "source": []
  }
 ],
 "metadata": {
  "kernelspec": {
   "display_name": "Python 3 (ipykernel)",
   "language": "python",
   "name": "python3"
  },
  "language_info": {
   "codemirror_mode": {
    "name": "ipython",
    "version": 3
   },
   "file_extension": ".py",
   "mimetype": "text/x-python",
   "name": "python",
   "nbconvert_exporter": "python",
   "pygments_lexer": "ipython3",
   "version": "3.8.12"
  }
 },
 "nbformat": 4,
 "nbformat_minor": 5
}
