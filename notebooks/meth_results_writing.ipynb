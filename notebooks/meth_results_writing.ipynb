{
 "cells": [
  {
   "cell_type": "code",
   "execution_count": 1,
   "id": "9c7e1ad4-a2f9-4cd5-bd90-b48fb8a3a97c",
   "metadata": {},
   "outputs": [],
   "source": [
    "%matplotlib inline\n",
    "%timeit\n",
    "\n",
    "import pandas as pd\n",
    "import numpy as np\n",
    "import matplotlib.pyplot as plt\n",
    "import seaborn as sns\n",
    "import glob\n",
    "import os\n",
    "import time\n",
    "import pickle\n",
    "import datetime\n",
    "import re\n",
    "import pyActigraphy\n",
    "\n",
    "import sys\n",
    "sys.path.append('/home/ngrav/project/')\n",
    "from wearables.scripts import utils as wearutils\n",
    "from wearables.scripts import data as weardata\n",
    "from wearables.scripts import train as weartrain\n",
    "from wearables.scripts import eval_ as weareval\n",
    "from wearables.scripts import model as wearmodels\n",
    "from wearables.scripts import DTW as weardtw\n",
    "\n",
    "import torch\n",
    "import torch.nn as nn\n",
    "import torch.nn.functional as F\n",
    "\n",
    "plt.rc('font', size = 9)\n",
    "plt.rc('font', family='sans serif')\n",
    "plt.rcParams['pdf.fonttype'] = 42\n",
    "plt.rcParams['ps.fonttype'] = 42\n",
    "plt.rcParams['legend.frameon']=False\n",
    "plt.rcParams['axes.grid']=False\n",
    "plt.rcParams['legend.markerscale']=1\n",
    "plt.rcParams['savefig.dpi'] = 600\n",
    "sns.set_style(\"ticks\")"
   ]
  },
  {
   "cell_type": "code",
   "execution_count": 2,
   "id": "5251848a-fce5-4453-ae9d-b02348477214",
   "metadata": {},
   "outputs": [],
   "source": [
    "pfp = '/home/ngrav/project/wearables/results/'\n",
    "savefigs = True"
   ]
  },
  {
   "cell_type": "code",
   "execution_count": 3,
   "id": "c4b63272-d18d-4dec-9b7a-7cb8ce6e5268",
   "metadata": {},
   "outputs": [],
   "source": [
    "# load md info\n",
    "from wearables.scripts.md_specification import mdpred_voi\n",
    "from wearables.scripts.aesthetics import md_node_annotation\n",
    "\n",
    "# filepaths to bst or pre-processed md with calculated metrics \n",
    "pp_md_fp = os.path.join(pfp, 'md_v522_220124.csv')\n",
    "\n",
    "# load up to date md\n",
    "md = pd.read_csv(pp_md_fp, index_col=0)\n",
    "\n",
    "threshold = 10\n",
    "md['Error group'] = 'lt{}wks'.format(threshold)\n",
    "md.loc[(md['error'] >= threshold), 'Error group'] = 'Higher-than-actual'\n",
    "md.loc[(md['error'] <= -threshold), 'Error group'] = 'Lower-than-actual'\n"
   ]
  },
  {
   "cell_type": "code",
   "execution_count": 7,
   "id": "620ff926-822d-4348-bc0a-d50a7d728022",
   "metadata": {},
   "outputs": [],
   "source": [
    "mfp = '/home/ngrav/project/wearables/model_zoo'\n",
    "\n",
    "# filepaths to bst or pre-processed md with calculated metrics \n",
    "bst_trainer = os.path.join(mfp, 'trainer_itv52_InceptionTime_GA5.pkl')\n",
    "bst_modelpkl = os.path.join(mfp, '213-itv52_InceptionTime_GA5.pkl')\n",
    "bst_modelembeds = os.path.join(pfp, 'embeds_v522_220124.csv')\n",
    "\n",
    "# load up to date md\n",
    "def loadpkl(fp):\n",
    "    with open(fp, 'rb') as f:\n",
    "        return pickle.load(f)\n",
    "trainer = loadpkl(bst_trainer)"
   ]
  },
  {
   "cell_type": "code",
   "execution_count": 12,
   "id": "a013e719-d026-4ebc-ae28-86462f15839c",
   "metadata": {},
   "outputs": [],
   "source": [
    "from scipy.stats import spearmanr"
   ]
  },
  {
   "cell_type": "code",
   "execution_count": 14,
   "id": "11529a21-60a8-42de-9249-d449f4e04c22",
   "metadata": {},
   "outputs": [
    {
     "data": {
      "text/plain": [
       "SpearmanrResult(correlation=0.4050528286649845, pvalue=6.751823548751834e-98)"
      ]
     },
     "execution_count": 14,
     "metadata": {},
     "output_type": "execute_result"
    }
   ],
   "source": [
    "spearmanr(md['KPAS'], md['PQSI'])"
   ]
  },
  {
   "cell_type": "code",
   "execution_count": 17,
   "id": "fbf09061-2707-4678-b786-d0558fe1aabd",
   "metadata": {},
   "outputs": [
    {
     "data": {
      "text/plain": [
       "SpearmanrResult(correlation=0.41048232526788914, pvalue=2.0456896208726e-89)"
      ]
     },
     "execution_count": 17,
     "metadata": {},
     "output_type": "execute_result"
    }
   ],
   "source": [
    "spearmanr(md.loc[md['ptb_37wks']==0, 'KPAS'], md.loc[md['ptb_37wks']==0., 'PQSI'])"
   ]
  },
  {
   "cell_type": "code",
   "execution_count": 15,
   "id": "cb3af3f6-44a0-425b-a274-ef6d2cf25203",
   "metadata": {},
   "outputs": [
    {
     "data": {
      "text/plain": [
       "SpearmanrResult(correlation=0.36198925595399467, pvalue=3.713947545994421e-10)"
      ]
     },
     "execution_count": 15,
     "metadata": {},
     "output_type": "execute_result"
    }
   ],
   "source": [
    "spearmanr(md.loc[md['ptb_37wks']==1, 'KPAS'], md.loc[md['ptb_37wks']==1, 'PQSI'])"
   ]
  },
  {
   "cell_type": "code",
   "execution_count": 20,
   "id": "adaa8216-0a06-4f76-8bf0-ba5c7de79be9",
   "metadata": {},
   "outputs": [
    {
     "name": "stderr",
     "output_type": "stream",
     "text": [
      "/home/ngrav/miniconda3/envs/wearables/lib/python3.8/site-packages/IPython/core/interactiveshell.py:3457: DtypeWarning: Columns (16,22,36,77,97,117,137,195,215,235,255,275,315,335,426,440,462,463,465,466,485,506,536,577,581,625,626,627,668,671,673,674,697,700,701,703,704,705,708,709,712,713,730,798,799,804,807,808,812,817,818,822,880,881,885,886,890,891,908,1064,1067,1076,1084,1094,1095,1096,1097,1101,1102,1106,1132,1135,1136,1170,1250,1263,1577,1585,1586,1680,1739,1740,1741,1742,1743,1746,1747,1748,1749,1750,1870,1878,1879,1976,2166,2175,2188,2189,2203,2216,2217,2249,2250,2251,2252,2253,2256,2260,2261,2282,2283,2293,2294,2296,2297,2298,2299,2300,2303,2307,2308,2329,2340,2343,2344,2345,2346,2347,2350,2354,2355,2356,2376,2387,2390,2391,2392,2393,2394,2397,2401,2402,2423,2434,2437,2438,2439,2440,2441,2444,2448,2449,2450,2470,2471,2481,2484,2485,2486,2487,2488,2491,2495,2496,2517,2528,2531,2532,2533,2534,2535,2538,2542,2543,2544,2564,2575,2578,2579,2580,2581,2582,2585,2589,2590,2611,2622,2625,2626,2627,2628,2629,2632,2636,2637,2658,2669,2672,2673,2674,2675,2676,2679,2683,2684,2685,2705,2716,2719,2720,2721,2722,2723,2726,2730,2731,2752,2763,2766,2767,2768,2769,2770,2773,2777,2778,2799,2810,2813,2814,2815,2816,2817,2820,2824,2825,2846,2857,2860,2861,2862,2863,2864,2867,2871,2872,2893,2904,2913,2914,2915,2917,2918,2919,2921,2922,2923,2925,2926,2927,2931,2938,2939,3053) have mixed types.Specify dtype option on import or set low_memory=False.\n",
      "  exec(code_obj, self.user_global_ns, self.user_ns)\n"
     ]
    }
   ],
   "source": [
    "raw_md = pd.read_csv(os.path.join('/home/ngrav/data/wearables/raw/', 'MOD_Data_2021.csv'))"
   ]
  },
  {
   "cell_type": "code",
   "execution_count": 27,
   "id": "f4abfe32-06f3-4651-bfa1-68932cb8590a",
   "metadata": {},
   "outputs": [],
   "source": [
    "dt = (pd.to_datetime(raw_md['address3_date']) - pd.to_datetime(raw_md['address1_date']))\n",
    "dt.dropna(inplace=True)"
   ]
  },
  {
   "cell_type": "code",
   "execution_count": 36,
   "id": "88621ae8-b1b7-4f72-9ef1-689268acf5bd",
   "metadata": {},
   "outputs": [
    {
     "data": {
      "text/plain": [
       "Timedelta('151 days 01:12:00')"
      ]
     },
     "execution_count": 36,
     "metadata": {},
     "output_type": "execute_result"
    }
   ],
   "source": [
    "dt.mean()"
   ]
  },
  {
   "cell_type": "code",
   "execution_count": 35,
   "id": "a219aa66-690a-4fe0-b543-8b48b8ad7b3c",
   "metadata": {},
   "outputs": [
    {
     "data": {
      "text/plain": [
       "5.033333333333333"
      ]
     },
     "execution_count": 35,
     "metadata": {},
     "output_type": "execute_result"
    }
   ],
   "source": [
    "151/30"
   ]
  },
  {
   "cell_type": "code",
   "execution_count": 21,
   "id": "f2e1cfeb-9a95-43be-b867-86a7e1389414",
   "metadata": {},
   "outputs": [
    {
     "data": {
      "text/html": [
       "<div>\n",
       "<style scoped>\n",
       "    .dataframe tbody tr th:only-of-type {\n",
       "        vertical-align: middle;\n",
       "    }\n",
       "\n",
       "    .dataframe tbody tr th {\n",
       "        vertical-align: top;\n",
       "    }\n",
       "\n",
       "    .dataframe thead th {\n",
       "        text-align: right;\n",
       "    }\n",
       "</style>\n",
       "<table border=\"1\" class=\"dataframe\">\n",
       "  <thead>\n",
       "    <tr style=\"text-align: right;\">\n",
       "      <th></th>\n",
       "      <th>record_id</th>\n",
       "      <th>redcap_event_name</th>\n",
       "      <th>redcap_survey_identifier</th>\n",
       "      <th>customid</th>\n",
       "      <th>refused_future_research___1</th>\n",
       "      <th>refused_future_research___2</th>\n",
       "      <th>refused_future_research___3</th>\n",
       "      <th>reader</th>\n",
       "      <th>reader_text</th>\n",
       "      <th>age_enroll</th>\n",
       "      <th>...</th>\n",
       "      <th>edinb3_3trim</th>\n",
       "      <th>edinb4_3trim</th>\n",
       "      <th>edinb5_3trim</th>\n",
       "      <th>edinb6_3trim</th>\n",
       "      <th>edinb7_3trim</th>\n",
       "      <th>edinb8_3trim</th>\n",
       "      <th>edinb9_3trim</th>\n",
       "      <th>edinb10_3trim</th>\n",
       "      <th>edinburgh_check_trim3___1</th>\n",
       "      <th>third_edinburgh_depression_scale_complete</th>\n",
       "    </tr>\n",
       "  </thead>\n",
       "  <tbody>\n",
       "    <tr>\n",
       "      <th>0</th>\n",
       "      <td>4</td>\n",
       "      <td>general_arm_1</td>\n",
       "      <td>NaN</td>\n",
       "      <td>4</td>\n",
       "      <td>0</td>\n",
       "      <td>0</td>\n",
       "      <td>0</td>\n",
       "      <td>7.0</td>\n",
       "      <td>Kristi</td>\n",
       "      <td>23</td>\n",
       "      <td>...</td>\n",
       "      <td>NaN</td>\n",
       "      <td>NaN</td>\n",
       "      <td>NaN</td>\n",
       "      <td>NaN</td>\n",
       "      <td>NaN</td>\n",
       "      <td>NaN</td>\n",
       "      <td>NaN</td>\n",
       "      <td>NaN</td>\n",
       "      <td>0</td>\n",
       "      <td>0</td>\n",
       "    </tr>\n",
       "    <tr>\n",
       "      <th>1</th>\n",
       "      <td>6</td>\n",
       "      <td>general_arm_1</td>\n",
       "      <td>NaN</td>\n",
       "      <td>6</td>\n",
       "      <td>0</td>\n",
       "      <td>0</td>\n",
       "      <td>0</td>\n",
       "      <td>4.0</td>\n",
       "      <td>NaN</td>\n",
       "      <td>23</td>\n",
       "      <td>...</td>\n",
       "      <td>NaN</td>\n",
       "      <td>NaN</td>\n",
       "      <td>NaN</td>\n",
       "      <td>NaN</td>\n",
       "      <td>NaN</td>\n",
       "      <td>NaN</td>\n",
       "      <td>NaN</td>\n",
       "      <td>NaN</td>\n",
       "      <td>0</td>\n",
       "      <td>0</td>\n",
       "    </tr>\n",
       "    <tr>\n",
       "      <th>2</th>\n",
       "      <td>9</td>\n",
       "      <td>general_arm_1</td>\n",
       "      <td>NaN</td>\n",
       "      <td>9</td>\n",
       "      <td>0</td>\n",
       "      <td>0</td>\n",
       "      <td>0</td>\n",
       "      <td>4.0</td>\n",
       "      <td>NaN</td>\n",
       "      <td>24</td>\n",
       "      <td>...</td>\n",
       "      <td>NaN</td>\n",
       "      <td>NaN</td>\n",
       "      <td>NaN</td>\n",
       "      <td>NaN</td>\n",
       "      <td>NaN</td>\n",
       "      <td>NaN</td>\n",
       "      <td>NaN</td>\n",
       "      <td>NaN</td>\n",
       "      <td>0</td>\n",
       "      <td>0</td>\n",
       "    </tr>\n",
       "    <tr>\n",
       "      <th>3</th>\n",
       "      <td>10</td>\n",
       "      <td>general_arm_1</td>\n",
       "      <td>NaN</td>\n",
       "      <td>10</td>\n",
       "      <td>0</td>\n",
       "      <td>0</td>\n",
       "      <td>0</td>\n",
       "      <td>4.0</td>\n",
       "      <td>NaN</td>\n",
       "      <td>29</td>\n",
       "      <td>...</td>\n",
       "      <td>NaN</td>\n",
       "      <td>NaN</td>\n",
       "      <td>NaN</td>\n",
       "      <td>NaN</td>\n",
       "      <td>NaN</td>\n",
       "      <td>NaN</td>\n",
       "      <td>NaN</td>\n",
       "      <td>NaN</td>\n",
       "      <td>0</td>\n",
       "      <td>0</td>\n",
       "    </tr>\n",
       "    <tr>\n",
       "      <th>4</th>\n",
       "      <td>21</td>\n",
       "      <td>general_arm_1</td>\n",
       "      <td>NaN</td>\n",
       "      <td>21</td>\n",
       "      <td>0</td>\n",
       "      <td>0</td>\n",
       "      <td>0</td>\n",
       "      <td>4.0</td>\n",
       "      <td>NaN</td>\n",
       "      <td>21</td>\n",
       "      <td>...</td>\n",
       "      <td>NaN</td>\n",
       "      <td>NaN</td>\n",
       "      <td>NaN</td>\n",
       "      <td>NaN</td>\n",
       "      <td>NaN</td>\n",
       "      <td>NaN</td>\n",
       "      <td>NaN</td>\n",
       "      <td>NaN</td>\n",
       "      <td>0</td>\n",
       "      <td>0</td>\n",
       "    </tr>\n",
       "  </tbody>\n",
       "</table>\n",
       "<p>5 rows × 3081 columns</p>\n",
       "</div>"
      ],
      "text/plain": [
       "   record_id redcap_event_name  redcap_survey_identifier  customid  \\\n",
       "0          4     general_arm_1                       NaN         4   \n",
       "1          6     general_arm_1                       NaN         6   \n",
       "2          9     general_arm_1                       NaN         9   \n",
       "3         10     general_arm_1                       NaN        10   \n",
       "4         21     general_arm_1                       NaN        21   \n",
       "\n",
       "   refused_future_research___1  refused_future_research___2  \\\n",
       "0                            0                            0   \n",
       "1                            0                            0   \n",
       "2                            0                            0   \n",
       "3                            0                            0   \n",
       "4                            0                            0   \n",
       "\n",
       "   refused_future_research___3  reader reader_text  age_enroll  ...  \\\n",
       "0                            0     7.0      Kristi          23  ...   \n",
       "1                            0     4.0         NaN          23  ...   \n",
       "2                            0     4.0         NaN          24  ...   \n",
       "3                            0     4.0         NaN          29  ...   \n",
       "4                            0     4.0         NaN          21  ...   \n",
       "\n",
       "  edinb3_3trim  edinb4_3trim  edinb5_3trim  edinb6_3trim  edinb7_3trim  \\\n",
       "0          NaN           NaN           NaN           NaN           NaN   \n",
       "1          NaN           NaN           NaN           NaN           NaN   \n",
       "2          NaN           NaN           NaN           NaN           NaN   \n",
       "3          NaN           NaN           NaN           NaN           NaN   \n",
       "4          NaN           NaN           NaN           NaN           NaN   \n",
       "\n",
       "   edinb8_3trim edinb9_3trim  edinb10_3trim  edinburgh_check_trim3___1  \\\n",
       "0           NaN          NaN            NaN                          0   \n",
       "1           NaN          NaN            NaN                          0   \n",
       "2           NaN          NaN            NaN                          0   \n",
       "3           NaN          NaN            NaN                          0   \n",
       "4           NaN          NaN            NaN                          0   \n",
       "\n",
       "   third_edinburgh_depression_scale_complete  \n",
       "0                                          0  \n",
       "1                                          0  \n",
       "2                                          0  \n",
       "3                                          0  \n",
       "4                                          0  \n",
       "\n",
       "[5 rows x 3081 columns]"
      ]
     },
     "execution_count": 21,
     "metadata": {},
     "output_type": "execute_result"
    }
   ],
   "source": [
    "raw_md.head()"
   ]
  },
  {
   "cell_type": "code",
   "execution_count": 37,
   "id": "02e2c25e-afd5-4ecf-a5f0-0ac65514e284",
   "metadata": {},
   "outputs": [
    {
     "data": {
      "text/plain": [
       "SpearmanrResult(correlation=0.14690903752543452, pvalue=0.013531049839569587)"
      ]
     },
     "execution_count": 37,
     "metadata": {},
     "output_type": "execute_result"
    }
   ],
   "source": [
    "spearmanr(md.loc[md['ptb_37wks']==1, 'IS'], md.loc[md['ptb_37wks']==1, 'GA'])"
   ]
  },
  {
   "cell_type": "code",
   "execution_count": 38,
   "id": "563082de-6059-4ef0-ae86-33df6c3ef8a6",
   "metadata": {},
   "outputs": [
    {
     "data": {
      "text/plain": [
       "SpearmanrResult(correlation=0.1951381140233743, pvalue=3.6980036316022404e-20)"
      ]
     },
     "execution_count": 38,
     "metadata": {},
     "output_type": "execute_result"
    }
   ],
   "source": [
    "spearmanr(md.loc[md['ptb_37wks']==0, 'IS'], md.loc[md['ptb_37wks']==0, 'GA'])"
   ]
  },
  {
   "cell_type": "code",
   "execution_count": 6,
   "id": "03ccf1cd-d9b2-4eb1-b4d3-d36b9901cb1c",
   "metadata": {},
   "outputs": [
    {
     "data": {
      "text/plain": [
       "2.0    0.498985\n",
       "1.0    0.288266\n",
       "3.0    0.177020\n",
       "0.0    0.019894\n",
       "4.0    0.015834\n",
       "Name: gestage_by, dtype: float64"
      ]
     },
     "execution_count": 6,
     "metadata": {},
     "output_type": "execute_result"
    }
   ],
   "source": [
    "md['gestage_by'].value_counts(dropna=False, normalize=True)"
   ]
  },
  {
   "cell_type": "code",
   "execution_count": 10,
   "id": "1fe926e0-1cde-4b82-b007-66d390cc4ae1",
   "metadata": {},
   "outputs": [
    {
     "data": {
      "text/plain": [
       "{'marital': {'0': 0.0, '1': 1.0},\n",
       " 'gestage_by': {'-99.0': 0.0, '1.0': 1.0, '2.0': 2.0, '3.0': 3.0, '4.0': 4.0},\n",
       " 'insur': {'-99.0': 0.0,\n",
       "  '1.0': 1.0,\n",
       "  '2.0': 2.0,\n",
       "  '3.0': 3.0,\n",
       "  '4.0': 4.0,\n",
       "  '5.0': 5.0},\n",
       " 'ethnicity': {'0': 0.0, '1': 1.0},\n",
       " 'race': {'0': 0.0, '1': 1.0},\n",
       " 'prior_ptb_all': {'0': 0.0, '1': 1.0},\n",
       " 'fullterm_births': {'0': 0.0, '1': 1.0},\n",
       " 'surghx_none': {'0.0': 0.0, '1.0': 1.0},\n",
       " 'alcohol': {'0.0': 0.0, '1.0': 1.0, '2.0': 2.0},\n",
       " 'smoke': {'0.0': 0.0, '1.0': 1.0, '2.0': 2.0},\n",
       " 'drugs': {'0.0': 0.0, '1.0': 1.0, '2.0': 2.0},\n",
       " 'hypertension': {'0.0': 0.0, '1.0': 1.0, '2.0': 2.0},\n",
       " 'pregestational_diabetes': {'0.0': 0.0, '1.0': 1.0, '2.0': 2.0},\n",
       " 'asthma_yes___1': {'0': 0.0, '1': 1.0},\n",
       " 'asthma_yes___2': {'0': 0.0, '1': 1.0},\n",
       " 'asthma_yes___3': {'0': 0.0, '1': 1.0},\n",
       " 'asthma_yes___4': {'0': 0.0, '1': 1.0},\n",
       " 'asthma_yes___5': {'0': 0.0, '1': 1.0},\n",
       " 'asthma_yes___7': {'0': 0.0, '1': 1.0},\n",
       " 'asthma_yes___8': {'0': 0.0, '1': 1.0},\n",
       " 'asthma_yes___10': {'0': 0.0, '1': 1.0},\n",
       " 'asthma_yes___13': {'0': 0.0, '1': 1.0},\n",
       " 'asthma_yes___18': {'0': 0.0, '1': 1.0},\n",
       " 'asthma_yes___19': {'0': 0.0, '1': 1.0},\n",
       " 'asthma_yes___20': {'0': 0.0, '1': 1.0},\n",
       " 'other_disease': {'0.0': 0.0, '1.0': 1.0, '2.0': 2.0},\n",
       " 'gestational_diabetes': {'0': 0.0, '1': 1.0},\n",
       " 'ghtn': {'0': 0.0, '1': 1.0},\n",
       " 'preeclampsia': {'0': 0.0, '1': 1.0},\n",
       " 'rh': {'0': 0.0, '1': 1.0},\n",
       " 'corticosteroids': {'0': 0.0, '1': 1.0},\n",
       " 'abuse': {'0': 0.0, '1': 1.0},\n",
       " 'assist_repro': {'0': 0.0, '1': 1.0},\n",
       " 'gyn_infection': {'0': 0.0, '1': 1.0},\n",
       " 'ptb_37wks': {'0': 0.0, '1': 1.0},\n",
       " 'anes_type': {'1.0': 0.0,\n",
       "  '2.0': 1.0,\n",
       "  '3.0': 2.0,\n",
       "  '4.0': 3.0,\n",
       "  '5.0': 4.0,\n",
       "  '6.0': 5.0,\n",
       "  '7.0': 6.0},\n",
       " 'epidural': {'0.0': 0.0, '1.0': 1.0},\n",
       " 'deliv_mode': {'1.0': 0.0, '2.0': 1.0, '3.0': 2.0, '4.0': 3.0},\n",
       " 'death_baby': {'0.0': 0.0, '1.0': 1.0},\n",
       " 'neonatal_complication': {'0.0': 0.0, '1.0': 1.0},\n",
       " 'ervisit': {'0.0': 0.0, '1.0': 1.0},\n",
       " 'ppvisit_dx': {'0': 0.0, '1': 1.0},\n",
       " 'education': {'-99.0': 0.0, '1.0': 1.0, '2.0': 2.0, '3.0': 3.0, '4.0': 4.0},\n",
       " 'paidjob1': {'0.0': 0.0, '1.0': 1.0},\n",
       " 'work_hrs1': {'-99.0': 0.0, '1.0': 1.0, '2.0': 2.0, '3.0': 3.0, '4.0': 4.0},\n",
       " 'income_annual1': {'0': 0.0, '1': 1.0},\n",
       " 'income_support1': {'0': 0.0, '1': 1.0},\n",
       " 'regular_period1': {'-88.0': 0.0, '0.0': 1.0, '1.0': 2.0},\n",
       " 'period_window1': {'-88.0': 0.0,\n",
       "  '1.0': 1.0,\n",
       "  '2.0': 2.0,\n",
       "  '3.0': 3.0,\n",
       "  '4.0': 4.0},\n",
       " 'menstrual_days1': {'-88.0': 0.0,\n",
       "  '1.0': 1.0,\n",
       "  '2.0': 2.0,\n",
       "  '3.0': 3.0,\n",
       "  '4.0': 4.0,\n",
       "  '5.0': 5.0},\n",
       " 'bc_past1': {'0.0': 0.0, '1.0': 1.0},\n",
       " 'months_noprego1': {'0': 0.0, '1': 1.0},\n",
       " 'premature_birth1': {'-88.0': 0.0, '0.0': 1.0, '1.0': 2.0},\n",
       " 'stress1_1': {'-99.0': 0.0,\n",
       "  '0.0': 1.0,\n",
       "  '1.0': 2.0,\n",
       "  '2.0': 3.0,\n",
       "  '3.0': 4.0,\n",
       "  '4.0': 5.0},\n",
       " 'stress2_1': {'-99.0': 0.0,\n",
       "  '0.0': 1.0,\n",
       "  '1.0': 2.0,\n",
       "  '2.0': 3.0,\n",
       "  '3.0': 4.0,\n",
       "  '4.0': 5.0},\n",
       " 'stress3_1': {'-99.0': 0.0,\n",
       "  '0.0': 1.0,\n",
       "  '1.0': 2.0,\n",
       "  '2.0': 3.0,\n",
       "  '3.0': 4.0,\n",
       "  '4.0': 5.0},\n",
       " 'stress4_1': {'-99.0': 0.0,\n",
       "  '0.0': 1.0,\n",
       "  '1.0': 2.0,\n",
       "  '2.0': 3.0,\n",
       "  '3.0': 4.0,\n",
       "  '4.0': 5.0},\n",
       " 'stress5_1': {'-99.0': 0.0,\n",
       "  '0.0': 1.0,\n",
       "  '1.0': 2.0,\n",
       "  '2.0': 3.0,\n",
       "  '3.0': 4.0,\n",
       "  '4.0': 5.0},\n",
       " 'stress6_1': {'-99.0': 0.0,\n",
       "  '0.0': 1.0,\n",
       "  '1.0': 2.0,\n",
       "  '2.0': 3.0,\n",
       "  '3.0': 4.0,\n",
       "  '4.0': 5.0},\n",
       " 'stress7_1': {'-99.0': 0.0,\n",
       "  '0.0': 1.0,\n",
       "  '1.0': 2.0,\n",
       "  '2.0': 3.0,\n",
       "  '3.0': 4.0,\n",
       "  '4.0': 5.0},\n",
       " 'stress8_1': {'-99.0': 0.0,\n",
       "  '0.0': 1.0,\n",
       "  '1.0': 2.0,\n",
       "  '2.0': 3.0,\n",
       "  '3.0': 4.0,\n",
       "  '4.0': 5.0},\n",
       " 'stress9_1': {'-99.0': 0.0,\n",
       "  '0.0': 1.0,\n",
       "  '1.0': 2.0,\n",
       "  '2.0': 3.0,\n",
       "  '3.0': 4.0,\n",
       "  '4.0': 5.0},\n",
       " 'stress10_1': {'-99.0': 0.0,\n",
       "  '0.0': 1.0,\n",
       "  '1.0': 2.0,\n",
       "  '2.0': 3.0,\n",
       "  '3.0': 4.0,\n",
       "  '4.0': 5.0},\n",
       " 'workreg_1trim': {'-99.0': 0.0, '0.0': 1.0, '1.0': 2.0},\n",
       " 'choosesleep_1trim': {'-99.0': 0.0, '1.0': 1.0, '2.0': 2.0},\n",
       " 'slpwake_1trim': {'-99.0': 0.0,\n",
       "  '1.0': 1.0,\n",
       "  '2.0': 2.0,\n",
       "  '3.0': 3.0,\n",
       "  '4.0': 4.0},\n",
       " 'slp30_1trim': {'-99.0': 0.0, '1.0': 1.0, '2.0': 2.0, '3.0': 3.0, '4.0': 4.0},\n",
       " 'sleep_qual1': {'-99.0': 0.0, '1.0': 1.0, '2.0': 2.0, '3.0': 3.0, '4.0': 4.0},\n",
       " 'slpenergy1': {'-99.0': 0.0, '1.0': 1.0, '2.0': 2.0, '3.0': 3.0, '4.0': 4.0},\n",
       " 'sitting1': {'-99.0': 0.0,\n",
       "  '0.0': 1.0,\n",
       "  '1.0': 2.0,\n",
       "  '2.0': 3.0,\n",
       "  '3.0': 4.0,\n",
       "  '4.0': 5.0},\n",
       " 'tv1': {'-99.0': 0.0,\n",
       "  '0.0': 1.0,\n",
       "  '1.0': 2.0,\n",
       "  '2.0': 3.0,\n",
       "  '3.0': 4.0,\n",
       "  '4.0': 5.0},\n",
       " 'inactive1': {'-99.0': 0.0,\n",
       "  '0.0': 1.0,\n",
       "  '1.0': 2.0,\n",
       "  '2.0': 3.0,\n",
       "  '3.0': 4.0,\n",
       "  '4.0': 5.0},\n",
       " 'passenger1': {'-99.0': 0.0,\n",
       "  '0.0': 1.0,\n",
       "  '1.0': 2.0,\n",
       "  '2.0': 3.0,\n",
       "  '3.0': 4.0,\n",
       "  '4.0': 5.0},\n",
       " 'reset1': {'-99.0': 0.0,\n",
       "  '0.0': 1.0,\n",
       "  '1.0': 2.0,\n",
       "  '2.0': 3.0,\n",
       "  '3.0': 4.0,\n",
       "  '4.0': 5.0},\n",
       " 'talking1': {'-99.0': 0.0,\n",
       "  '0.0': 1.0,\n",
       "  '1.0': 2.0,\n",
       "  '2.0': 3.0,\n",
       "  '3.0': 4.0,\n",
       "  '4.0': 5.0},\n",
       " 'afterlunch1': {'-99.0': 0.0,\n",
       "  '0.0': 1.0,\n",
       "  '1.0': 2.0,\n",
       "  '2.0': 3.0,\n",
       "  '3.0': 4.0,\n",
       "  '4.0': 5.0},\n",
       " 'cartraffic1': {'-99.0': 0.0,\n",
       "  '0.0': 1.0,\n",
       "  '1.0': 2.0,\n",
       "  '2.0': 3.0,\n",
       "  '3.0': 4.0,\n",
       "  '4.0': 5.0},\n",
       " 'edinb1_1trim': {'-99.0': 0.0,\n",
       "  '1.0': 1.0,\n",
       "  '2.0': 2.0,\n",
       "  '3.0': 3.0,\n",
       "  '4.0': 4.0},\n",
       " 'edinb2_1trim': {'-99.0': 0.0,\n",
       "  '1.0': 1.0,\n",
       "  '2.0': 2.0,\n",
       "  '3.0': 3.0,\n",
       "  '4.0': 4.0},\n",
       " 'edinb3_1trim': {'-99.0': 0.0,\n",
       "  '1.0': 1.0,\n",
       "  '2.0': 2.0,\n",
       "  '3.0': 3.0,\n",
       "  '4.0': 4.0},\n",
       " 'edinb4_1trim': {'-99.0': 0.0,\n",
       "  '1.0': 1.0,\n",
       "  '2.0': 2.0,\n",
       "  '3.0': 3.0,\n",
       "  '4.0': 4.0},\n",
       " 'edinb5_1trim': {'-99.0': 0.0,\n",
       "  '1.0': 1.0,\n",
       "  '2.0': 2.0,\n",
       "  '3.0': 3.0,\n",
       "  '4.0': 4.0},\n",
       " 'edinb6_1trim': {'-99.0': 0.0,\n",
       "  '1.0': 1.0,\n",
       "  '2.0': 2.0,\n",
       "  '3.0': 3.0,\n",
       "  '4.0': 4.0},\n",
       " 'edinb7_1trim': {'-99.0': 0.0,\n",
       "  '1.0': 1.0,\n",
       "  '2.0': 2.0,\n",
       "  '3.0': 3.0,\n",
       "  '4.0': 4.0},\n",
       " 'edinb8_1trim': {'-99.0': 0.0,\n",
       "  '1.0': 1.0,\n",
       "  '2.0': 2.0,\n",
       "  '3.0': 3.0,\n",
       "  '4.0': 4.0},\n",
       " 'edinb9_1trim': {'-99.0': 0.0,\n",
       "  '1.0': 1.0,\n",
       "  '2.0': 2.0,\n",
       "  '3.0': 3.0,\n",
       "  '4.0': 4.0},\n",
       " 'edinb10_1trim': {'-99.0': 0.0,\n",
       "  '1.0': 1.0,\n",
       "  '2.0': 2.0,\n",
       "  '3.0': 3.0,\n",
       "  '4.0': 4.0}}"
      ]
     },
     "execution_count": 10,
     "metadata": {},
     "output_type": "execute_result"
    }
   ],
   "source": [
    "trainer.data.data['cat_class_enc']"
   ]
  },
  {
   "cell_type": "code",
   "execution_count": null,
   "id": "1b2be50a-1e6b-4755-aa8b-1620c4ec06c8",
   "metadata": {},
   "outputs": [],
   "source": []
  }
 ],
 "metadata": {
  "kernelspec": {
   "display_name": "Python 3 (ipykernel)",
   "language": "python",
   "name": "python3"
  },
  "language_info": {
   "codemirror_mode": {
    "name": "ipython",
    "version": 3
   },
   "file_extension": ".py",
   "mimetype": "text/x-python",
   "name": "python",
   "nbconvert_exporter": "python",
   "pygments_lexer": "ipython3",
   "version": "3.8.12"
  }
 },
 "nbformat": 4,
 "nbformat_minor": 5
}
