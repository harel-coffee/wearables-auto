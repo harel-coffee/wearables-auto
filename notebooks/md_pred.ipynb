{
 "cells": [
  {
   "cell_type": "code",
   "execution_count": 80,
   "metadata": {},
   "outputs": [],
   "source": [
    "%matplotlib inline\n",
    "\n",
    "import pandas as pd\n",
    "import pickle\n",
    "import time\n",
    "import importlib\n",
    "import numpy as np\n",
    "import importlib\n",
    "\n",
    "\n",
    "import sys\n",
    "sys.path.append('/home/ngr/gdrive/wearables/scripts')\n",
    "import data as weardata\n",
    "import utils as wearutils\n",
    "\n",
    "import matplotlib.pyplot as plt\n",
    "import seaborn as sns\n",
    "\n",
    "# settings\n",
    "plt.rc('font', size = 9)\n",
    "plt.rc('font', family='sans serif')\n",
    "plt.rcParams['pdf.fonttype']=42\n",
    "plt.rcParams['ps.fonttype']=42\n",
    "plt.rcParams['text.usetex']=False\n",
    "plt.rcParams['legend.frameon']=False\n",
    "plt.rcParams['axes.grid']=False\n",
    "plt.rcParams['legend.markerscale']=0.5\n",
    "plt.rcParams['savefig.dpi']=600\n",
    "sns.set_style(\"ticks\")"
   ]
  },
  {
   "cell_type": "code",
   "execution_count": 2,
   "metadata": {},
   "outputs": [
    {
     "name": "stdout",
     "output_type": "stream",
     "text": [
      "Data and md loaded in 68-s\n"
     ]
    }
   ],
   "source": [
    "timer = wearutils.timer()\n",
    "timer.start()\n",
    "data, md = weardata.load_data_md()\n",
    "print('Data and md loaded in {:.0f}-s'.format(timer.stop()))"
   ]
  },
  {
   "cell_type": "code",
   "execution_count": 26,
   "metadata": {},
   "outputs": [],
   "source": [
    "voi = {\n",
    "        # tip: search for sections in code book by \"intstrument\"\n",
    "\n",
    "            # dmographics\n",
    "            'age_enroll': (['22nan', 'mean_impute'], 'continuous'),\n",
    "            'marital': ('nan27', 'categorical'),\n",
    "            'gestage_by': ('nan2-99', 'categorical'),\n",
    "            'insur': ('nan2-99', 'categorical'),\n",
    "            'ethnicity': ('nan23', 'categorical'),\n",
    "            'race': ('nan27', 'categorical'),\n",
    "            'bmi_1vis': ('mean_impute', 'continuous'),\n",
    "            'prior_ptb_all': ('nan25', 'categorical'),\n",
    "            'fullterm_births': ('nan25', 'categorical'),\n",
    "            'surghx_none': ('nan20', 'categorical'),\n",
    "            'alcohol': ('nan22', 'categorical'),\n",
    "            'smoke': ('nan22', 'categorical'),\n",
    "            'drugs': ('nan22', 'categorical'),\n",
    "            'hypertension': ('nan22', 'categorical'),\n",
    "            'pregestational_diabetes': ('nan22', 'categorical'),\n",
    "\n",
    "            # chronic conditions (?)\n",
    "            'asthma_yes___1': (None, 'categorical'), # asthma\n",
    "            'asthma_yes___2': (None, 'categorical'), # diabetes\n",
    "            'asthma_yes___3': (None, 'categorical'), # gestational hypertension\n",
    "            'asthma_yes___4': (None, 'categorical'), # CHTN\n",
    "            'asthma_yes___5': (None, 'categorical'), # anomaly\n",
    "            'asthma_yes___6': (None, 'categorical'), # lupus\n",
    "            'asthma_yes___7': (None, 'categorical'), # throid disease\n",
    "            'asthma_yes___8': (None, 'categorical'), # heart disease\n",
    "            'asthma_yes___9': (None, 'categorical'), # liver disease\n",
    "            'asthma_yes___10': (None, 'categorical'), # renal disease\n",
    "            'asthma_yes___13': (None, 'categorical'), # IUGR\n",
    "            'asthma_yes___14': (None, 'categorical'), # polyhraminios\n",
    "            'asthma_yes___15': (None, 'categorical'), # oligohydraminos\n",
    "            'asthma_yes___18': (None, 'categorical'), # anxiety\n",
    "            'asthma_yes___19': (None, 'categorical'), # depression\n",
    "            'asthma_yes___20': (None, 'categorical'), # anemia\n",
    "            'other_disease': ('nan22', 'categorical'),\n",
    "            'gestational_diabetes': ('nan22', 'categorical'),\n",
    "            'ghtn': ('nan22', 'categorical'),\n",
    "            'preeclampsia': ('nan22', 'categorical'),\n",
    "            'rh': ('nan22', 'categorical'),\n",
    "            'corticosteroids': ('nan22', 'categorical'),\n",
    "            'abuse': ('nan23', 'categorical'),\n",
    "            'assist_repro': ('nan23', 'categorical'),\n",
    "            'gyn_infection': ('nan22', 'categorical'),\n",
    "            'maternal_del_weight': ('-992nan', 'continuous'),\n",
    "            'ptb_37wks': ('nan22', 'categorical'),\n",
    "\n",
    "            # vitals and labs @admission\n",
    "            'cbc_hct': ('-992nan', 'continuous'), # NOTE: some of these shouldn't be negative, need some filtering\n",
    "            'cbc_wbc': ('-992nan', 'continuous'),\n",
    "            'cbc_plts': ('-992nan', 'continuous'),\n",
    "            'cbc_mcv': ('-992nan', 'continuous'),\n",
    "            'art_ph': ('-992nan', 'continuous'),\n",
    "            'art_pco2': ('-992nan', 'continuous'),\n",
    "            'art_po2': ('-992nan', 'continuous'),\n",
    "            'art_excess': ('-992nan', 'continuous'),\n",
    "            'art_lactate': ('-992nan', 'continuous'),\n",
    "            'ven_ph': ('-992nan', 'continuous'),\n",
    "            'ven_pco2': ('-992nan', 'continuous'),\n",
    "            'ven_po2': ('-992nan', 'continuous'),\n",
    "            'ven_excess': ('-992nan', 'continuous'),\n",
    "            'ven_lactate': ('-992nan', 'continuous'),\n",
    "            'anes_type': ('-992nan', 'continuous'),\n",
    "            'epidural': ('nan20', 'categorical'),\n",
    "            'deliv_mode': ('nan24', 'categorical'),\n",
    "\n",
    "            # infant things\n",
    "            'infant_wt': ('-992nan', 'continuous'), # kg\n",
    "            'infant_length': ('-992nan', 'continuous'),\n",
    "            'head_circ': ('-992nan', 'continuous'),\n",
    "            'death_baby': ('nan20', 'categorical'),\n",
    "            'neonatal_complication': (['22nan', 'nan20'], 'categorical'),\n",
    "\n",
    "            # postpartum\n",
    "            'ervisit': ('nan20', 'categorical'),\n",
    "            'ppvisit_dx': ('nan26', 'categorical'),\n",
    "\n",
    "            # surveys\n",
    "            'education1': ('nan2-99', 'categorical'),\n",
    "            'paidjob1': ('nan20', 'categorical'),\n",
    "            'work_hrs1': ('nan2-99', 'categorical'),\n",
    "            'income_annual1': ('nan2-99', 'categorical'),\n",
    "            'income_support1': ('nan2-99', 'categorical'),\n",
    "            'regular_period1': ('nan2-88', 'categorical'),\n",
    "            'period_window1': ('nan2-88', 'categorical'),\n",
    "            'menstrual_days1': ('nan2-88', 'categorical'),\n",
    "            'bc_past1': ('nan20', 'categorical'),\n",
    "            'bc_years1': (['882nan', 'nan2-88'], 'categorical'),\n",
    "            'months_noprego1': ('nan24', 'categorical'),\n",
    "            'premature_birth1': ('nan2-88', 'categorical'),\n",
    "            'stress3_1': ('nan2-99', 'categorical'),\n",
    "            'workreg_1trim': ('nan20', 'categorical'),\n",
    "\n",
    "            'choosesleep_1trim': ('nan2-99', 'categorical'),\n",
    "            'slpwake_1trim': ('nan2-99', 'categorical'),\n",
    "            'slp30_1trim': ('nan2-99', 'categorical'),\n",
    "            'sleep_qual1': ('nan2-99', 'categorical'),\n",
    "            'slpenergy1': ('nan2-99', 'categorical'),\n",
    "            ## epworth (sum), for interpretation: https://epworthsleepinessscale.com/about-the-ess/ (NOTE: convert 4 to np.nan for sum)\n",
    "            'sitting1': ('nan20', 'categorical'), ### TODO: add fx to sum this from metadata, then convert to continuous label for regression\n",
    "            'tv1': ('nan20', 'categorical'),\n",
    "            'inactive1': ('nan20', 'categorical'),\n",
    "            'passenger1': ('nan20', 'categorical'),\n",
    "            'reset1': ('nan20', 'categorical'),\n",
    "            'talking1': ('nan20', 'categorical'),\n",
    "            'afterlunch1': ('nan20', 'categorical'),\n",
    "            'cartraffic1': ('nan20', 'categorical'),\n",
    "            ## edinburgh depression scale\n",
    "            'edinb1_1trim': ('nan2-99', 'categorical'),\n",
    "            'edinb2_1trim': ('nan2-99', 'categorical'),\n",
    "            'edinb3_1trim': ('nan2-99', 'categorical'),\n",
    "            'edinb4_1trim': ('nan2-99', 'categorical'),\n",
    "            'edinb5_1trim': ('nan2-99', 'categorical'),\n",
    "            'edinb6_1trim': ('nan2-99', 'categorical'),\n",
    "            'edinb7_1trim': ('nan2-99', 'categorical'),\n",
    "            'edinb8_1trim': ('nan2-99', 'categorical'),\n",
    "            'edinb9_1trim': ('nan2-99', 'categorical'),\n",
    "            'edinb10_1trim': ('nan2-99', 'categorical'),\n",
    "            ## difficult life circumstances\n",
    "            ## sleep diary\n",
    "    }"
   ]
  },
  {
   "cell_type": "code",
   "execution_count": 95,
   "metadata": {},
   "outputs": [],
   "source": [
    "X_train, y_train, X_test, y_test = get_Xy(data, md, label='edinb10_1trim')"
   ]
  },
  {
   "cell_type": "code",
   "execution_count": null,
   "metadata": {},
   "outputs": [],
   "source": [
    "def md_experiment(data, md, model='RFts'):\n",
    "    '''\n",
    "    \n",
    "    Arguments:\n",
    "      model (str): implemented models are RFts (short for RF Time Series), kNN\n",
    "    '''\n",
    "    from sklearn.model_selection import KFold\n",
    "    \n",
    "    for label in voi.keys():\n",
    "        X_train, y_train, X_test, y_test = get_Xy(data, md, label=label)\n",
    "\n",
    "        # clf or reg\n",
    "        if isinstance(y_train[0], float):\n",
    "            continue\n",
    "        else:\n",
    "            \n",
    "    \n",
    "    \n",
    "    "
   ]
  },
  {
   "cell_type": "code",
   "execution_count": 98,
   "metadata": {},
   "outputs": [],
   "source": [
    "from sklearn.preprocessing import LabelEncoder\n",
    "le = LabelEncoder()"
   ]
  },
  {
   "cell_type": "code",
   "execution_count": 96,
   "metadata": {},
   "outputs": [
    {
     "data": {
      "text/plain": [
       "0       1.0\n",
       "1       1.0\n",
       "2       1.0\n",
       "3       1.0\n",
       "4       1.0\n",
       "       ... \n",
       "2351    1.0\n",
       "2488    1.0\n",
       "2556    1.0\n",
       "2577    1.0\n",
       "2613    1.0\n",
       "Name: edinb10_1trim, Length: 2618, dtype: object"
      ]
     },
     "execution_count": 96,
     "metadata": {},
     "output_type": "execute_result"
    }
   ],
   "source": [
    "pd.oney_train.append(y_test)"
   ]
  },
  {
   "cell_type": "code",
   "execution_count": 99,
   "metadata": {},
   "outputs": [
    {
     "data": {
      "text/plain": [
       "Index(['record_id', 'age_enroll', 'marital', 'gestage_by', 'insur',\n",
       "       'ethnicity', 'race', 'bmi_1vis', 'prior_ptb_all', 'fullterm_births',\n",
       "       ...\n",
       "       'edinb1_1trim', 'edinb2_1trim', 'edinb3_1trim', 'edinb4_1trim',\n",
       "       'edinb5_1trim', 'edinb6_1trim', 'edinb7_1trim', 'edinb8_1trim',\n",
       "       'edinb9_1trim', 'edinb10_1trim'],\n",
       "      dtype='object', length=104)"
      ]
     },
     "execution_count": 99,
     "metadata": {},
     "output_type": "execute_result"
    }
   ],
   "source": [
    "md.columns"
   ]
  },
  {
   "cell_type": "code",
   "execution_count": null,
   "metadata": {},
   "outputs": [],
   "source": []
  }
 ],
 "metadata": {
  "kernelspec": {
   "display_name": "Python 3",
   "language": "python",
   "name": "python3"
  },
  "language_info": {
   "codemirror_mode": {
    "name": "ipython",
    "version": 3
   },
   "file_extension": ".py",
   "mimetype": "text/x-python",
   "name": "python",
   "nbconvert_exporter": "python",
   "pygments_lexer": "ipython3",
   "version": "3.8.5"
  }
 },
 "nbformat": 4,
 "nbformat_minor": 4
}
