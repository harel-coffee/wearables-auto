{
 "cells": [
  {
   "cell_type": "code",
   "execution_count": 1,
   "id": "1ea6370e-6509-417c-98a8-e373a486bdbb",
   "metadata": {},
   "outputs": [],
   "source": [
    "%matplotlib inline\n",
    "%timeit\n",
    "\n",
    "import pandas as pd\n",
    "import numpy as np\n",
    "import matplotlib.pyplot as plt\n",
    "import seaborn as sns\n",
    "import glob\n",
    "import os\n",
    "import time\n",
    "import pickle\n",
    "import datetime\n",
    "import re\n",
    "import pyActigraphy\n",
    "\n",
    "import sys\n",
    "sys.path.append('/home/ngrav/project/')\n",
    "from wearables.scripts import utils as wearutils\n",
    "from wearables.scripts import data as weardata\n",
    "from wearables.scripts import train as weartrain\n",
    "from wearables.scripts import eval_ as weareval\n",
    "from wearables.scripts import model as wearmodels\n",
    "from wearables.scripts import DTW as weardtw\n",
    "\n",
    "import torch\n",
    "import torch.nn as nn\n",
    "import torch.nn.functional as F\n",
    "\n",
    "from scipy.spatial.distance import pdist, squareform\n",
    "import fastdtw\n",
    "import umap\n",
    "\n",
    "plt.rc('font', size = 9)\n",
    "plt.rc('font', family='sans serif')\n",
    "plt.rcParams['pdf.fonttype'] = 42\n",
    "plt.rcParams['ps.fonttype'] = 42\n",
    "plt.rcParams['legend.frameon']=False\n",
    "plt.rcParams['axes.grid']=False\n",
    "plt.rcParams['legend.markerscale']=1\n",
    "plt.rcParams['savefig.dpi'] = 600\n",
    "sns.set_style(\"ticks\")"
   ]
  },
  {
   "cell_type": "code",
   "execution_count": 2,
   "id": "5b5820b3-13a3-4952-80c6-ceab35818c01",
   "metadata": {},
   "outputs": [],
   "source": [
    "# load data\n",
    "mfp = '/home/ngrav/project/wearables/model_zoo'\n",
    "bst_modelpkl = os.path.join(mfp, '213-itv52_InceptionTime_GA5.pkl')\n",
    "bst_trainer = os.path.join(mfp, 'trainer_itv52_InceptionTime_GA5.pkl')\n",
    "\n",
    "pfp = '/home/ngrav/project/wearables/results/'\n",
    "md = pd.read_csv(os.path.join(pfp, 'md_v52_220124.csv'), index_col=0)"
   ]
  },
  {
   "cell_type": "code",
   "execution_count": 5,
   "id": "44070dd0-f1c4-4d9e-a972-ca64f9f5b4eb",
   "metadata": {},
   "outputs": [],
   "source": [
    "def merge_out2md(md, bst_trainerfp, bst_modelfp, return_embeds=True, out_file=None, verbose=False):\n",
    "    def loadpkl(file):\n",
    "        with open(file, 'rb') as f:\n",
    "            data = pickle.load(f)\n",
    "            f.close()\n",
    "        return data\n",
    "    trainer = loadpkl(bst_trainerfp)\n",
    "    if verbose:\n",
    "        total_t = time.time()\n",
    "    dt = pd.DataFrame()\n",
    "    if return_embeds:\n",
    "        embeds = pd.DataFrame()\n",
    "    for split in ['train', 'test']: # omit val since test_pids contain val_pids (val is a subset of test)\n",
    "        if verbose:\n",
    "            tic = time.time()\n",
    "            print('Starting inference for {} set...'.format(split))\n",
    "\n",
    "        evaluation = weareval.eval_trained(trainer, split=split,\n",
    "                                           modelpkl=bst_modelfp,\n",
    "                                           two_outputs=True)\n",
    "        dt = dt.append(pd.DataFrame({\n",
    "            'y':evaluation.y.numpy(), 'yhat':evaluation.yhat.numpy(), \n",
    "            'split':[split]*evaluation.y.shape[0],\n",
    "            'error':(evaluation.yhat - evaluation.y).numpy()\n",
    "        }, index=evaluation.id))\n",
    "        if return_embeds:\n",
    "            embeds = embeds.append(pd.DataFrame(evaluation.out2.numpy(), index=evaluation.id))\n",
    "        if verbose:\n",
    "            print('  inference for {} set done in {:.0f}-s\\t{:.2f}-min elapsed'.format(split, time.time()-tic, (time.time()-total_t)/60))\n",
    "    md = md.merge(dt, left_index=True, right_index=True, how='left')\n",
    "    if out_file is not None:\n",
    "        md.to_csv(out_file)\n",
    "    if return_embeds:\n",
    "        if out_file is not None:\n",
    "            embeds.to_csv(os.path.join(os.path.split(out_file)[0], 'embeds_v522_220124.csv'))\n",
    "        return md, embeds\n",
    "    else:\n",
    "        return md"
   ]
  },
  {
   "cell_type": "code",
   "execution_count": null,
   "id": "c4a7415d-ccd7-4dde-baab-d83d7f40e31b",
   "metadata": {},
   "outputs": [
    {
     "name": "stdout",
     "output_type": "stream",
     "text": [
      "Starting inference for train set...\n"
     ]
    },
    {
     "name": "stderr",
     "output_type": "stream",
     "text": [
      "/home/ngrav/miniconda3/envs/wearables/lib/python3.8/site-packages/torch/nn/modules/conv.py:294: UserWarning: Using padding='same' with even kernel lengths and odd dilation may require a zero-padded copy of the input be created (Triggered internally at  /opt/conda/conda-bld/pytorch_1623448278899/work/aten/src/ATen/native/Convolution.cpp:660.)\n",
      "  return F.conv1d(input, weight, bias, self.stride,\n",
      "/home/ngrav/miniconda3/envs/wearables/lib/python3.8/site-packages/torch/nn/functional.py:652: UserWarning: Named tensors and all their associated APIs are an experimental feature and subject to change. Please do not use them for anything important until they are released as stable. (Triggered internally at  /opt/conda/conda-bld/pytorch_1623448278899/work/c10/core/TensorImpl.h:1156.)\n",
      "  return torch.max_pool1d(input, kernel_size, stride, padding, dilation, ceil_mode)\n"
     ]
    },
    {
     "name": "stdout",
     "output_type": "stream",
     "text": [
      "  inference for train set done in 555-s\t9.25-min elapsed\n",
      "Starting inference for test set...\n"
     ]
    },
    {
     "name": "stderr",
     "output_type": "stream",
     "text": [
      "[W pthreadpool-cpp.cc:90] Warning: Leaking Caffe2 thread-pool after fork. (function pthreadpool)\n"
     ]
    }
   ],
   "source": [
    "md, embeds = merge_out2md(md, bst_trainer, bst_modelpkl, out_file=os.path.join(pfp, 'md_v522_220124.csv'), verbose=True)"
   ]
  },
  {
   "cell_type": "code",
   "execution_count": null,
   "id": "23da9a2d-d403-4083-b0ad-b4a9c152e104",
   "metadata": {},
   "outputs": [],
   "source": [
    "md.head()"
   ]
  },
  {
   "cell_type": "code",
   "execution_count": null,
   "id": "6e0e5b5e-f79c-4269-8020-a90923cf22fb",
   "metadata": {},
   "outputs": [],
   "source": [
    "md.index.duplicated().sum()"
   ]
  },
  {
   "cell_type": "code",
   "execution_count": null,
   "id": "24103b06-01c8-444d-8c26-afe5f0ed37b4",
   "metadata": {},
   "outputs": [],
   "source": [
    "md.shape"
   ]
  },
  {
   "cell_type": "code",
   "execution_count": null,
   "id": "e1704126-c441-4ab8-ba02-6eb18ad0205f",
   "metadata": {},
   "outputs": [],
   "source": []
  }
 ],
 "metadata": {
  "kernelspec": {
   "display_name": "Python 3 (ipykernel)",
   "language": "python",
   "name": "python3"
  },
  "language_info": {
   "codemirror_mode": {
    "name": "ipython",
    "version": 3
   },
   "file_extension": ".py",
   "mimetype": "text/x-python",
   "name": "python",
   "nbconvert_exporter": "python",
   "pygments_lexer": "ipython3",
   "version": "3.8.10"
  }
 },
 "nbformat": 4,
 "nbformat_minor": 5
}
