{
 "cells": [
  {
   "cell_type": "code",
   "execution_count": 1,
   "id": "1ea6370e-6509-417c-98a8-e373a486bdbb",
   "metadata": {},
   "outputs": [],
   "source": [
    "%matplotlib inline\n",
    "%timeit\n",
    "\n",
    "import pandas as pd\n",
    "import numpy as np\n",
    "import matplotlib.pyplot as plt\n",
    "import seaborn as sns\n",
    "import glob\n",
    "import os\n",
    "import time\n",
    "import pickle\n",
    "import datetime\n",
    "import re\n",
    "import pyActigraphy\n",
    "\n",
    "import sys\n",
    "sys.path.append('/home/ngrav/project/')\n",
    "from wearables.scripts import utils as wearutils\n",
    "from wearables.scripts import data as weardata\n",
    "from wearables.scripts import train as weartrain\n",
    "from wearables.scripts import eval_ as weareval\n",
    "from wearables.scripts import model as wearmodels\n",
    "from wearables.scripts import DTW as weardtw\n",
    "\n",
    "import torch\n",
    "import torch.nn as nn\n",
    "import torch.nn.functional as F\n",
    "\n",
    "from scipy.spatial.distance import pdist, squareform\n",
    "import fastdtw\n",
    "import umap\n",
    "\n",
    "plt.rc('font', size = 9)\n",
    "plt.rc('font', family='sans serif')\n",
    "plt.rcParams['pdf.fonttype'] = 42\n",
    "plt.rcParams['ps.fonttype'] = 42\n",
    "plt.rcParams['legend.frameon']=False\n",
    "plt.rcParams['axes.grid']=False\n",
    "plt.rcParams['legend.markerscale']=1\n",
    "plt.rcParams['savefig.dpi'] = 600\n",
    "sns.set_style(\"ticks\")"
   ]
  },
  {
   "cell_type": "code",
   "execution_count": 2,
   "id": "5b5820b3-13a3-4952-80c6-ceab35818c01",
   "metadata": {},
   "outputs": [],
   "source": [
    "# load data\n",
    "mfp = '/home/ngrav/project/wearables/model_zoo'\n",
    "bst_modelpkl = os.path.join(mfp, '213-itv52_InceptionTime_GA5.pkl')\n",
    "bst_trainer = os.path.join(mfp, 'trainer_itv52_InceptionTime_GA5.pkl')\n",
    "\n",
    "pfp = '/home/ngrav/project/wearables/results/'\n",
    "md = pd.read_csv(os.path.join(pfp, 'md_v52_220111.csv'), index_col=0)"
   ]
  },
  {
   "cell_type": "code",
   "execution_count": 3,
   "id": "44070dd0-f1c4-4d9e-a972-ca64f9f5b4eb",
   "metadata": {},
   "outputs": [],
   "source": [
    "def merge_out2md(md, bst_trainerfp, bst_modelfp, return_embeds=True, out_file=None, verbose=False):\n",
    "    def loadpkl(file):\n",
    "        with open(file, 'rb') as f:\n",
    "            data = pickle.load(f)\n",
    "            f.close()\n",
    "        return data\n",
    "    trainer = loadpkl(bst_trainerfp)\n",
    "    if verbose:\n",
    "        total_t = time.time()\n",
    "    dt = pd.DataFrame()\n",
    "    if return_embeds:\n",
    "        embeds = pd.DataFrame()\n",
    "    for split in ['train', 'val', 'test']:\n",
    "        if verbose:\n",
    "            tic = time.time()\n",
    "            print('Starting inference for {} set...'.format(split))\n",
    "\n",
    "        evaluation = weareval.eval_trained(trainer, split=split,\n",
    "                                           modelpkl=bst_modelfp,\n",
    "                                           two_outputs=True)\n",
    "        dt = dt.append(pd.DataFrame({\n",
    "            'y':evaluation.y.numpy(), 'yhat':evaluation.yhat.numpy(), \n",
    "            'split':[split]*evaluation.y.shape[0],\n",
    "            'error':(evaluation.yhat - evaluation.y).numpy()\n",
    "        }, index=evaluation.id))\n",
    "        if return_embeds:\n",
    "            embeds = embeds.append(pd.DataFrame(evaluation.out2.numpy(), index=evaluation.id))\n",
    "        if verbose:\n",
    "            print('  inference for {} set done in {:.0f}-s\\t{:.2f}-min elapsed'.format(split, time.time()-tic, (time.time()-total_t)/60))\n",
    "    md = md.merge(dt, left_index=True, right_index=True, how='left')\n",
    "    if out_file is not None:\n",
    "        md.to_csv(out_file)\n",
    "    if return_embeds:\n",
    "        if out_file is not None:\n",
    "            embeds.to_csv(os.path.join(os.path.split(out_file)[0], 'embeds_v52.csv'))\n",
    "        return md, embeds\n",
    "    else:\n",
    "        return md"
   ]
  },
  {
   "cell_type": "code",
   "execution_count": 4,
   "id": "c4a7415d-ccd7-4dde-baab-d83d7f40e31b",
   "metadata": {},
   "outputs": [
    {
     "name": "stdout",
     "output_type": "stream",
     "text": [
      "Starting inference for train set...\n"
     ]
    },
    {
     "name": "stderr",
     "output_type": "stream",
     "text": [
      "/home/ngrav/miniconda3/envs/wearables/lib/python3.8/site-packages/torch/nn/modules/conv.py:294: UserWarning: Using padding='same' with even kernel lengths and odd dilation may require a zero-padded copy of the input be created (Triggered internally at  /opt/conda/conda-bld/pytorch_1623448278899/work/aten/src/ATen/native/Convolution.cpp:660.)\n",
      "  return F.conv1d(input, weight, bias, self.stride,\n",
      "/home/ngrav/miniconda3/envs/wearables/lib/python3.8/site-packages/torch/nn/functional.py:652: UserWarning: Named tensors and all their associated APIs are an experimental feature and subject to change. Please do not use them for anything important until they are released as stable. (Triggered internally at  /opt/conda/conda-bld/pytorch_1623448278899/work/c10/core/TensorImpl.h:1156.)\n",
      "  return torch.max_pool1d(input, kernel_size, stride, padding, dilation, ceil_mode)\n"
     ]
    },
    {
     "name": "stdout",
     "output_type": "stream",
     "text": [
      "  inference for train set done in 554-s\t9.23-min elapsed\n",
      "Starting inference for val set...\n"
     ]
    },
    {
     "name": "stderr",
     "output_type": "stream",
     "text": [
      "[W pthreadpool-cpp.cc:90] Warning: Leaking Caffe2 thread-pool after fork. (function pthreadpool)\n"
     ]
    },
    {
     "name": "stdout",
     "output_type": "stream",
     "text": [
      "  inference for val set done in 115-s\t11.14-min elapsed\n",
      "Starting inference for test set...\n"
     ]
    },
    {
     "name": "stderr",
     "output_type": "stream",
     "text": [
      "[W pthreadpool-cpp.cc:90] Warning: Leaking Caffe2 thread-pool after fork. (function pthreadpool)\n",
      "/home/ngrav/miniconda3/envs/wearables/lib/python3.8/site-packages/torch/nn/modules/loss.py:528: UserWarning: Using a target size (torch.Size([1])) that is different to the input size (torch.Size([])). This will likely lead to incorrect results due to broadcasting. Please ensure they have the same size.\n",
      "  return F.mse_loss(input, target, reduction=self.reduction)\n"
     ]
    },
    {
     "name": "stdout",
     "output_type": "stream",
     "text": [
      "  inference for test set done in 216-s\t14.74-min elapsed\n"
     ]
    }
   ],
   "source": [
    "md, embeds = merge_out2md(md, bst_trainer, bst_modelpkl, out_file=os.path.join(pfp, 'md_v52_220112.csv'), verbose=True)"
   ]
  },
  {
   "cell_type": "code",
   "execution_count": 5,
   "id": "23da9a2d-d403-4083-b0ad-b4a9c152e104",
   "metadata": {},
   "outputs": [
    {
     "data": {
      "text/html": [
       "<div>\n",
       "<style scoped>\n",
       "    .dataframe tbody tr th:only-of-type {\n",
       "        vertical-align: middle;\n",
       "    }\n",
       "\n",
       "    .dataframe tbody tr th {\n",
       "        vertical-align: top;\n",
       "    }\n",
       "\n",
       "    .dataframe thead th {\n",
       "        text-align: right;\n",
       "    }\n",
       "</style>\n",
       "<table border=\"1\" class=\"dataframe\">\n",
       "  <thead>\n",
       "    <tr style=\"text-align: right;\">\n",
       "      <th></th>\n",
       "      <th>record_id</th>\n",
       "      <th>age_enroll</th>\n",
       "      <th>marital</th>\n",
       "      <th>gestage_by</th>\n",
       "      <th>insur</th>\n",
       "      <th>ethnicity</th>\n",
       "      <th>race</th>\n",
       "      <th>bmi_1vis</th>\n",
       "      <th>prior_ptb_all</th>\n",
       "      <th>fullterm_births</th>\n",
       "      <th>...</th>\n",
       "      <th>ave_logpseudocount_sleep</th>\n",
       "      <th>ave_logpseudocount_wknd</th>\n",
       "      <th>ave_logpseudocount_wkday</th>\n",
       "      <th>ave_logpseudocount_day</th>\n",
       "      <th>ave_logpseudocount_night</th>\n",
       "      <th>Pre-term birth</th>\n",
       "      <th>y</th>\n",
       "      <th>yhat</th>\n",
       "      <th>split</th>\n",
       "      <th>error</th>\n",
       "    </tr>\n",
       "  </thead>\n",
       "  <tbody>\n",
       "    <tr>\n",
       "      <th>1001_14</th>\n",
       "      <td>1001</td>\n",
       "      <td>26.0</td>\n",
       "      <td>0.0</td>\n",
       "      <td>1.0</td>\n",
       "      <td>1.0</td>\n",
       "      <td>0.0</td>\n",
       "      <td>1.0</td>\n",
       "      <td>34.820812</td>\n",
       "      <td>0.0</td>\n",
       "      <td>1.0</td>\n",
       "      <td>...</td>\n",
       "      <td>0.170627</td>\n",
       "      <td>1.146411</td>\n",
       "      <td>0.637768</td>\n",
       "      <td>1.010842</td>\n",
       "      <td>0.555347</td>\n",
       "      <td>False</td>\n",
       "      <td>14.0</td>\n",
       "      <td>17.139236</td>\n",
       "      <td>train</td>\n",
       "      <td>3.139236</td>\n",
       "    </tr>\n",
       "    <tr>\n",
       "      <th>1001_25</th>\n",
       "      <td>1001</td>\n",
       "      <td>26.0</td>\n",
       "      <td>0.0</td>\n",
       "      <td>1.0</td>\n",
       "      <td>1.0</td>\n",
       "      <td>0.0</td>\n",
       "      <td>1.0</td>\n",
       "      <td>34.820812</td>\n",
       "      <td>0.0</td>\n",
       "      <td>1.0</td>\n",
       "      <td>...</td>\n",
       "      <td>0.018178</td>\n",
       "      <td>0.021256</td>\n",
       "      <td>0.025278</td>\n",
       "      <td>0.024005</td>\n",
       "      <td>0.024252</td>\n",
       "      <td>False</td>\n",
       "      <td>25.0</td>\n",
       "      <td>18.259083</td>\n",
       "      <td>train</td>\n",
       "      <td>-6.740917</td>\n",
       "    </tr>\n",
       "    <tr>\n",
       "      <th>1001_32</th>\n",
       "      <td>1001</td>\n",
       "      <td>26.0</td>\n",
       "      <td>0.0</td>\n",
       "      <td>1.0</td>\n",
       "      <td>1.0</td>\n",
       "      <td>0.0</td>\n",
       "      <td>1.0</td>\n",
       "      <td>34.820812</td>\n",
       "      <td>0.0</td>\n",
       "      <td>1.0</td>\n",
       "      <td>...</td>\n",
       "      <td>0.001696</td>\n",
       "      <td>0.002719</td>\n",
       "      <td>0.003989</td>\n",
       "      <td>0.004080</td>\n",
       "      <td>0.003172</td>\n",
       "      <td>False</td>\n",
       "      <td>32.0</td>\n",
       "      <td>16.724869</td>\n",
       "      <td>train</td>\n",
       "      <td>-15.275131</td>\n",
       "    </tr>\n",
       "    <tr>\n",
       "      <th>1002_6</th>\n",
       "      <td>1002</td>\n",
       "      <td>22.0</td>\n",
       "      <td>0.0</td>\n",
       "      <td>1.0</td>\n",
       "      <td>1.0</td>\n",
       "      <td>0.0</td>\n",
       "      <td>1.0</td>\n",
       "      <td>23.355223</td>\n",
       "      <td>0.0</td>\n",
       "      <td>0.0</td>\n",
       "      <td>...</td>\n",
       "      <td>0.048014</td>\n",
       "      <td>0.034127</td>\n",
       "      <td>0.832020</td>\n",
       "      <td>0.820863</td>\n",
       "      <td>0.387239</td>\n",
       "      <td>False</td>\n",
       "      <td>6.0</td>\n",
       "      <td>19.194839</td>\n",
       "      <td>test</td>\n",
       "      <td>13.194839</td>\n",
       "    </tr>\n",
       "    <tr>\n",
       "      <th>1003_14</th>\n",
       "      <td>1003</td>\n",
       "      <td>23.0</td>\n",
       "      <td>0.0</td>\n",
       "      <td>1.0</td>\n",
       "      <td>1.0</td>\n",
       "      <td>0.0</td>\n",
       "      <td>1.0</td>\n",
       "      <td>27.193642</td>\n",
       "      <td>1.0</td>\n",
       "      <td>1.0</td>\n",
       "      <td>...</td>\n",
       "      <td>0.117282</td>\n",
       "      <td>0.148441</td>\n",
       "      <td>0.358667</td>\n",
       "      <td>0.405664</td>\n",
       "      <td>0.191540</td>\n",
       "      <td>False</td>\n",
       "      <td>14.0</td>\n",
       "      <td>30.649376</td>\n",
       "      <td>val</td>\n",
       "      <td>16.649376</td>\n",
       "    </tr>\n",
       "  </tbody>\n",
       "</table>\n",
       "<p>5 rows × 126 columns</p>\n",
       "</div>"
      ],
      "text/plain": [
       "         record_id  age_enroll  marital  gestage_by  insur  ethnicity  race  \\\n",
       "1001_14       1001        26.0      0.0         1.0    1.0        0.0   1.0   \n",
       "1001_25       1001        26.0      0.0         1.0    1.0        0.0   1.0   \n",
       "1001_32       1001        26.0      0.0         1.0    1.0        0.0   1.0   \n",
       "1002_6        1002        22.0      0.0         1.0    1.0        0.0   1.0   \n",
       "1003_14       1003        23.0      0.0         1.0    1.0        0.0   1.0   \n",
       "\n",
       "          bmi_1vis  prior_ptb_all  fullterm_births  ...  \\\n",
       "1001_14  34.820812            0.0              1.0  ...   \n",
       "1001_25  34.820812            0.0              1.0  ...   \n",
       "1001_32  34.820812            0.0              1.0  ...   \n",
       "1002_6   23.355223            0.0              0.0  ...   \n",
       "1003_14  27.193642            1.0              1.0  ...   \n",
       "\n",
       "         ave_logpseudocount_sleep  ave_logpseudocount_wknd  \\\n",
       "1001_14                  0.170627                 1.146411   \n",
       "1001_25                  0.018178                 0.021256   \n",
       "1001_32                  0.001696                 0.002719   \n",
       "1002_6                   0.048014                 0.034127   \n",
       "1003_14                  0.117282                 0.148441   \n",
       "\n",
       "         ave_logpseudocount_wkday  ave_logpseudocount_day  \\\n",
       "1001_14                  0.637768                1.010842   \n",
       "1001_25                  0.025278                0.024005   \n",
       "1001_32                  0.003989                0.004080   \n",
       "1002_6                   0.832020                0.820863   \n",
       "1003_14                  0.358667                0.405664   \n",
       "\n",
       "         ave_logpseudocount_night  Pre-term birth     y       yhat  split  \\\n",
       "1001_14                  0.555347           False  14.0  17.139236  train   \n",
       "1001_25                  0.024252           False  25.0  18.259083  train   \n",
       "1001_32                  0.003172           False  32.0  16.724869  train   \n",
       "1002_6                   0.387239           False   6.0  19.194839   test   \n",
       "1003_14                  0.191540           False  14.0  30.649376    val   \n",
       "\n",
       "             error  \n",
       "1001_14   3.139236  \n",
       "1001_25  -6.740917  \n",
       "1001_32 -15.275131  \n",
       "1002_6   13.194839  \n",
       "1003_14  16.649376  \n",
       "\n",
       "[5 rows x 126 columns]"
      ]
     },
     "execution_count": 5,
     "metadata": {},
     "output_type": "execute_result"
    }
   ],
   "source": [
    "md.head()"
   ]
  },
  {
   "cell_type": "code",
   "execution_count": 18,
   "id": "6e0e5b5e-f79c-4269-8020-a90923cf22fb",
   "metadata": {},
   "outputs": [
    {
     "data": {
      "text/plain": [
       "0"
      ]
     },
     "execution_count": 18,
     "metadata": {},
     "output_type": "execute_result"
    }
   ],
   "source": [
    "md.index.duplicated().sum()"
   ]
  },
  {
   "cell_type": "code",
   "execution_count": 16,
   "id": "9c1a6e1a-1f17-46f9-9540-91e7220936aa",
   "metadata": {},
   "outputs": [],
   "source": [
    "md = pd.read_csv(os.path.join(pfp, 'md_v52_220111.csv'), index_col=0)"
   ]
  },
  {
   "cell_type": "code",
   "execution_count": 17,
   "id": "24103b06-01c8-444d-8c26-afe5f0ed37b4",
   "metadata": {},
   "outputs": [
    {
     "data": {
      "text/plain": [
       "(2463, 122)"
      ]
     },
     "execution_count": 17,
     "metadata": {},
     "output_type": "execute_result"
    }
   ],
   "source": [
    "md.shape"
   ]
  },
  {
   "cell_type": "code",
   "execution_count": null,
   "id": "e1704126-c441-4ab8-ba02-6eb18ad0205f",
   "metadata": {},
   "outputs": [],
   "source": []
  }
 ],
 "metadata": {
  "kernelspec": {
   "display_name": "Python 3 (ipykernel)",
   "language": "python",
   "name": "python3"
  },
  "language_info": {
   "codemirror_mode": {
    "name": "ipython",
    "version": 3
   },
   "file_extension": ".py",
   "mimetype": "text/x-python",
   "name": "python",
   "nbconvert_exporter": "python",
   "pygments_lexer": "ipython3",
   "version": "3.8.10"
  }
 },
 "nbformat": 4,
 "nbformat_minor": 5
}
