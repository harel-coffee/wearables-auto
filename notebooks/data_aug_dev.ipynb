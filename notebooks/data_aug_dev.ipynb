{
 "cells": [
  {
   "cell_type": "code",
   "execution_count": 1,
   "id": "7f6134d9-b40c-4489-8aee-5712fd4f24d7",
   "metadata": {},
   "outputs": [],
   "source": [
    "%matplotlib inline\n",
    "\n",
    "import pandas as pd\n",
    "import numpy as np\n",
    "import matplotlib.pyplot as plt\n",
    "import seaborn as sns\n",
    "import glob\n",
    "import os\n",
    "import time\n",
    "import pickle\n",
    "import datetime\n",
    "\n",
    "import torch\n",
    "\n",
    "plt.rc('font', size = 9)\n",
    "plt.rc('font', family='sans serif')\n",
    "plt.rcParams['pdf.fonttype']=42\n",
    "plt.rcParams['ps.fonttype']=42\n",
    "plt.rcParams['legend.frameon']=False\n",
    "plt.rcParams['axes.grid']=False\n",
    "plt.rcParams['legend.markerscale']=0.5\n",
    "plt.rcParams['savefig.dpi']=600\n",
    "sns.set_style(\"ticks\")"
   ]
  },
  {
   "cell_type": "code",
   "execution_count": 2,
   "id": "ce0fe1b8-1d9a-4752-8bab-6f4e7324a545",
   "metadata": {},
   "outputs": [],
   "source": [
    "X = torch.rand(32, 10080, 2)"
   ]
  },
  {
   "cell_type": "code",
   "execution_count": 52,
   "id": "dd6b2536-1acb-49fa-8c42-241cbcba37d8",
   "metadata": {},
   "outputs": [],
   "source": [
    "import sys\n",
    "sys.path.append('/home/ngrav/project/')\n",
    "from wearables.scripts import utils as wearutils\n",
    "from wearables.scripts import data_v42 as weardata\n",
    "from wearables.scripts import train_v42 as weartrain\n",
    "from wearables.scripts import eval_v42 as weareval\n",
    "from wearables.scripts import model as wearmodels\n",
    "from wearables.scripts import DTW as weardtw\n",
    "\n",
    "from wearables.scripts import data_augmentation as aug"
   ]
  },
  {
   "cell_type": "code",
   "execution_count": 50,
   "id": "dd452346-18a1-4838-859b-4e14cb8c8e54",
   "metadata": {},
   "outputs": [],
   "source": [
    "# load data\n",
    "\n",
    "model_fp = '/home/ngrav/project/wearables/model_zoo'\n",
    "\n",
    "bst_trainer = os.path.join(model_fp, 'trainer_cnnv43l1l2_GA5.pkl')\n",
    "bst_modelpkl = os.path.join(model_fp, '6143-cnnv43l1l2_GA5.pkl')\n"
   ]
  },
  {
   "cell_type": "code",
   "execution_count": 53,
   "id": "254a77c0-102a-4b56-9e82-5d9bc29db124",
   "metadata": {},
   "outputs": [
    {
     "name": "stderr",
     "output_type": "stream",
     "text": [
      "[W pthreadpool-cpp.cc:90] Warning: Leaking Caffe2 thread-pool after fork. (function pthreadpool)\n",
      "/home/ngrav/miniconda3/envs/wearables/lib/python3.8/site-packages/torch/nn/functional.py:652: UserWarning: Named tensors and all their associated APIs are an experimental feature and subject to change. Please do not use them for anything important until they are released as stable. (Triggered internally at  /opt/conda/conda-bld/pytorch_1623448278899/work/c10/core/TensorImpl.h:1156.)\n",
      "  return torch.max_pool1d(input, kernel_size, stride, padding, dilation, ceil_mode)\n",
      "/home/ngrav/miniconda3/envs/wearables/lib/python3.8/site-packages/torch/nn/modules/loss.py:528: UserWarning: Using a target size (torch.Size([1])) that is different to the input size (torch.Size([])). This will likely lead to incorrect results due to broadcasting. Please ensure they have the same size.\n",
      "  return F.mse_loss(input, target, reduction=self.reduction)\n"
     ]
    }
   ],
   "source": [
    "# # fix potential issue with net\n",
    "net = wearmodels.CNN(2, 10080, 1, [(1, 32), (1, 64), (1, 128), (3, 256)])\n",
    "\n",
    "# best CNN\n",
    "_, md_model, trainer = weardtw.data_from_trainer(bst_trainer)\n",
    "\n",
    "# fix issue with net\n",
    "trainer.model = net\n",
    "\n",
    "# call eval to get output, modify for return_hidden = True option\n",
    "evaluation = weareval.eval_trained(trainer, split='train',\n",
    "                                   modelpkl=bst_modelpkl,\n",
    "                                   two_outputs=True)"
   ]
  },
  {
   "cell_type": "markdown",
   "id": "c9b4d4bc-c559-4637-ac42-c273f7fd76c9",
   "metadata": {},
   "source": [
    "# dev augmentations "
   ]
  },
  {
   "cell_type": "code",
   "execution_count": 70,
   "id": "efb1b23c-12a5-4bc7-ac20-d5cba8b23c88",
   "metadata": {},
   "outputs": [
    {
     "data": {
      "text/plain": [
       "<module 'wearables.scripts.data_augmentation' from '/home/ngrav/project/wearables/scripts/data_augmentation.py'>"
      ]
     },
     "execution_count": 74,
     "metadata": {},
     "output_type": "execute_result"
    }
   ],
   "source": [
    "import importlib\n",
    "importlib.reload(aug)"
   ]
  },
  {
   "cell_type": "code",
   "execution_count": 75,
   "id": "8884cc93-b3bf-4e28-896b-1a46fc1c49ff",
   "metadata": {},
   "outputs": [],
   "source": [
    "def printdata(X):\n",
    "    print('X:\\n', X, '\\n\\nShape:\\n', X.shape)"
   ]
  },
  {
   "cell_type": "code",
   "execution_count": 76,
   "id": "ecffde7d-9bdf-47fc-b489-db0c833496ce",
   "metadata": {},
   "outputs": [
    {
     "name": "stderr",
     "output_type": "stream",
     "text": [
      "[W pthreadpool-cpp.cc:90] Warning: Leaking Caffe2 thread-pool after fork. (function pthreadpool)\n"
     ]
    },
    {
     "name": "stdout",
     "output_type": "stream",
     "text": [
      "X:\n",
      " tensor([[[0.0000, 0.0000, 0.0000,  ..., 0.0000, 0.0000, 0.0000],\n",
      "         [0.0000, 0.0000, 0.0000,  ..., 0.0000, 0.0000, 0.0000]],\n",
      "\n",
      "        [[0.0000, 3.3322, 0.0000,  ..., 0.0000, 0.0000, 0.0000],\n",
      "         [0.0000, 0.0000, 0.0000,  ..., 0.0000, 0.0000, 0.0000]],\n",
      "\n",
      "        [[3.6889, 3.3322, 0.0000,  ..., 3.7612, 2.5649, 0.0000],\n",
      "         [0.0000, 0.0000, 0.0000,  ..., 0.0000, 0.0000, 0.0000]],\n",
      "\n",
      "        ...,\n",
      "\n",
      "        [[3.6636, 4.9200, 5.0999,  ..., 5.1705, 5.0434, 3.9120],\n",
      "         [2.8959, 2.8530, 2.8082,  ..., 2.3145, 2.3514, 1.6448]],\n",
      "\n",
      "        [[3.2189, 0.0000, 4.5850,  ..., 5.9789, 5.0039, 3.2189],\n",
      "         [2.6868, 2.7139, 2.6010,  ..., 2.4738, 2.0596, 2.1096]],\n",
      "\n",
      "        [[0.0000, 0.0000, 0.0000,  ..., 0.0000, 0.0000, 0.0000],\n",
      "         [0.0000, 0.0000, 0.0000,  ..., 0.0000, 0.0000, 0.0000]]]) \n",
      "\n",
      "Shape:\n",
      " torch.Size([64, 2, 10080])\n"
     ]
    }
   ],
   "source": [
    "batch = next(iter(trainer.data.train_dl))\n",
    "X = batch['x']\n",
    "printdata(X)"
   ]
  },
  {
   "cell_type": "code",
   "execution_count": 77,
   "id": "caa7d7a5-bfc7-4f00-9f4b-52202082b23a",
   "metadata": {},
   "outputs": [
    {
     "name": "stdout",
     "output_type": "stream",
     "text": [
      "X:\n",
      " tensor([[[-1.5594e-02, -1.7587e-02,  8.6085e-02,  ..., -2.0962e-02,\n",
      "          -1.9111e-02, -7.6582e-04],\n",
      "         [ 6.1087e-02,  1.0482e-02, -3.7301e-02,  ..., -7.7162e-03,\n",
      "           1.3235e-04,  5.4338e-03]],\n",
      "\n",
      "        [[-7.0354e-03,  3.3235e+00, -1.3301e-02,  ..., -1.3961e-02,\n",
      "          -1.6914e-02, -1.0174e-02],\n",
      "         [ 2.4679e-03,  5.3518e-03, -1.9156e-02,  ..., -4.7091e-02,\n",
      "          -2.6144e-03,  4.3014e-02]],\n",
      "\n",
      "        [[ 3.6559e+00,  3.3348e+00, -4.1193e-02,  ...,  3.7323e+00,\n",
      "           2.5115e+00, -2.5950e-02],\n",
      "         [-2.4043e-02,  1.6654e-02,  9.2061e-03,  ..., -2.0608e-02,\n",
      "           1.6129e-02,  2.9876e-02]],\n",
      "\n",
      "        ...,\n",
      "\n",
      "        [[ 3.7017e+00,  4.9346e+00,  5.1473e+00,  ...,  5.1712e+00,\n",
      "           5.0420e+00,  3.8430e+00],\n",
      "         [ 2.9635e+00,  2.8244e+00,  2.7930e+00,  ...,  2.2904e+00,\n",
      "           2.4218e+00,  1.6462e+00]],\n",
      "\n",
      "        [[ 3.2455e+00, -2.1872e-02,  4.5867e+00,  ...,  5.9402e+00,\n",
      "           5.0312e+00,  3.2091e+00],\n",
      "         [ 2.6971e+00,  2.6740e+00,  2.5835e+00,  ...,  2.4055e+00,\n",
      "           2.0608e+00,  2.1234e+00]],\n",
      "\n",
      "        [[ 5.1028e-02, -3.2209e-02, -8.8069e-03,  ..., -1.3252e-02,\n",
      "           4.0917e-02,  9.5176e-03],\n",
      "         [ 7.2724e-03,  2.7374e-02,  1.4753e-02,  ..., -1.7481e-02,\n",
      "          -2.7986e-02,  2.3606e-03]]]) \n",
      "\n",
      "Shape:\n",
      " torch.Size([64, 2, 10080])\n"
     ]
    }
   ],
   "source": [
    "printdata(aug.jitter(X))\n",
    "printdata(aug.scaling(X))"
   ]
  },
  {
   "cell_type": "code",
   "execution_count": 104,
   "id": "9cbfb8f1-4eef-4136-a9bc-831bb90d8e52",
   "metadata": {},
   "outputs": [
    {
     "data": {
      "text/plain": [
       "torch.Size([64, 2, 10080])"
      ]
     },
     "execution_count": 104,
     "metadata": {},
     "output_type": "execute_result"
    }
   ],
   "source": [
    "x.shape"
   ]
  },
  {
   "cell_type": "code",
   "execution_count": 103,
   "id": "7b5976c1-23cf-42aa-a012-794feae7e189",
   "metadata": {},
   "outputs": [
    {
     "name": "stdout",
     "output_type": "stream",
     "text": [
      "0 torch.Size([2, 10080])\n",
      "1 torch.Size([2, 10080])\n",
      "2 torch.Size([2, 10080])\n",
      "3 torch.Size([2, 10080])\n",
      "4 torch.Size([2, 10080])\n",
      "5 torch.Size([2, 10080])\n",
      "6 torch.Size([2, 10080])\n",
      "7 torch.Size([2, 10080])\n",
      "8 torch.Size([2, 10080])\n",
      "9 torch.Size([2, 10080])\n",
      "10 torch.Size([2, 10080])\n",
      "11 torch.Size([2, 10080])\n",
      "12 torch.Size([2, 10080])\n",
      "13 torch.Size([2, 10080])\n",
      "14 torch.Size([2, 10080])\n",
      "15 torch.Size([2, 10080])\n",
      "16 torch.Size([2, 10080])\n",
      "17 torch.Size([2, 10080])\n",
      "18 torch.Size([2, 10080])\n",
      "19 torch.Size([2, 10080])\n",
      "20 torch.Size([2, 10080])\n",
      "21 torch.Size([2, 10080])\n",
      "22 torch.Size([2, 10080])\n",
      "23 torch.Size([2, 10080])\n",
      "24 torch.Size([2, 10080])\n",
      "25 torch.Size([2, 10080])\n",
      "26 torch.Size([2, 10080])\n",
      "27 torch.Size([2, 10080])\n",
      "28 torch.Size([2, 10080])\n",
      "29 torch.Size([2, 10080])\n",
      "30 torch.Size([2, 10080])\n",
      "31 torch.Size([2, 10080])\n",
      "32 torch.Size([2, 10080])\n",
      "33 torch.Size([2, 10080])\n",
      "34 torch.Size([2, 10080])\n",
      "35 torch.Size([2, 10080])\n",
      "36 torch.Size([2, 10080])\n",
      "37 torch.Size([2, 10080])\n",
      "38 torch.Size([2, 10080])\n",
      "39 torch.Size([2, 10080])\n",
      "40 torch.Size([2, 10080])\n",
      "41 torch.Size([2, 10080])\n",
      "42 torch.Size([2, 10080])\n",
      "43 torch.Size([2, 10080])\n",
      "44 torch.Size([2, 10080])\n",
      "45 torch.Size([2, 10080])\n",
      "46 torch.Size([2, 10080])\n",
      "47 torch.Size([2, 10080])\n",
      "48 torch.Size([2, 10080])\n",
      "49 torch.Size([2, 10080])\n",
      "50 torch.Size([2, 10080])\n",
      "51 torch.Size([2, 10080])\n",
      "52 torch.Size([2, 10080])\n",
      "53 torch.Size([2, 10080])\n",
      "54 torch.Size([2, 10080])\n",
      "55 torch.Size([2, 10080])\n",
      "56 torch.Size([2, 10080])\n",
      "57 torch.Size([2, 10080])\n",
      "58 torch.Size([2, 10080])\n",
      "59 torch.Size([2, 10080])\n",
      "60 torch.Size([2, 10080])\n",
      "61 torch.Size([2, 10080])\n",
      "62 torch.Size([2, 10080])\n",
      "63 torch.Size([2, 10080])\n"
     ]
    }
   ],
   "source": [
    "for i, pat in enumerate(X):\n",
    "    print(i, pat.shape)"
   ]
  },
  {
   "cell_type": "code",
   "execution_count": 94,
   "id": "3fa5a2f1-1d7d-4db2-ba97-51f1d2c9d716",
   "metadata": {},
   "outputs": [
    {
     "data": {
      "text/plain": [
       "torch.int64"
      ]
     },
     "execution_count": 94,
     "metadata": {},
     "output_type": "execute_result"
    }
   ],
   "source": [
    "(strt + 9072).dtype"
   ]
  },
  {
   "cell_type": "code",
   "execution_count": 85,
   "id": "f1069f63-7e51-41cd-9ce6-056e9493084d",
   "metadata": {},
   "outputs": [
    {
     "data": {
      "text/plain": [
       "tensor([378, 163, 149,  39, 152,  55, 511,  69,   1, 975, 348, 733, 402, 301,\n",
       "         43, 676, 320, 541,  98,  60, 731, 106, 272, 344, 182, 316, 345, 474,\n",
       "        867, 648, 257, 869])"
      ]
     },
     "execution_count": 86,
     "metadata": {},
     "output_type": "execute_result"
    }
   ],
   "source": [
    "torch.randint(10080-9072, size=(32,))"
   ]
  },
  {
   "cell_type": "code",
   "execution_count": 57,
   "id": "9222aa78-5894-4857-ac5e-994160aeda80",
   "metadata": {},
   "outputs": [
    {
     "name": "stdout",
     "output_type": "stream",
     "text": [
      "tensor([[1.1112, 1.1112, 1.1112,  ..., 1.1112, 1.1112, 1.1112]])\n"
     ]
    }
   ],
   "source": [
    "Xprime_sc = aug.scaling(X)\n",
    "Xprime_sc[0, 0, :10]"
   ]
  },
  {
   "cell_type": "code",
   "execution_count": 45,
   "id": "ee174e32-58cc-4c27-8d71-6da58fbddbe3",
   "metadata": {},
   "outputs": [
    {
     "data": {
      "text/plain": [
       "tensor([[0.0697, 0.0431],\n",
       "        [0.7462, 0.2365],\n",
       "        [1.0573, 0.3995],\n",
       "        ...,\n",
       "        [0.4024, 0.3984],\n",
       "        [0.2614, 0.9320],\n",
       "        [0.8369, 0.5396]])"
      ]
     },
     "execution_count": 45,
     "metadata": {},
     "output_type": "execute_result"
    }
   ],
   "source": [
    "Xprime_sc[0, :, :]"
   ]
  },
  {
   "cell_type": "code",
   "execution_count": 60,
   "id": "c879f3f2-8ce2-467c-85f4-4f7bb30d8ff4",
   "metadata": {},
   "outputs": [],
   "source": [
    "a = torch.rand(32, 1).repeat(1, 2)"
   ]
  },
  {
   "cell_type": "code",
   "execution_count": 69,
   "id": "d1eefdcd-e199-4f71-90b6-ed59a92cbc69",
   "metadata": {},
   "outputs": [
    {
     "data": {
      "text/plain": [
       "torch.Size([32, 2, 10080])"
      ]
     },
     "execution_count": 69,
     "metadata": {},
     "output_type": "execute_result"
    }
   ],
   "source": [
    "(a.unsqueeze(-1)*X[:32, :, :]).shape"
   ]
  },
  {
   "cell_type": "code",
   "execution_count": 43,
   "id": "f9844f81-fe3a-4494-bef8-167b312cfc91",
   "metadata": {},
   "outputs": [
    {
     "data": {
      "text/plain": [
       "tensor([[[0.0596, 0.0369],\n",
       "         [0.6377, 0.2021],\n",
       "         [0.9036, 0.3414],\n",
       "         ...,\n",
       "         [0.3439, 0.3405],\n",
       "         [0.2234, 0.7966],\n",
       "         [0.7153, 0.4612]],\n",
       "\n",
       "        [[0.2874, 0.6301],\n",
       "         [0.3652, 0.7726],\n",
       "         [0.9882, 0.7088],\n",
       "         ...,\n",
       "         [0.6019, 0.1745],\n",
       "         [0.5133, 0.1650],\n",
       "         [0.0945, 0.1263]],\n",
       "\n",
       "        [[0.9639, 0.8774],\n",
       "         [0.0775, 0.2425],\n",
       "         [0.0945, 0.7686],\n",
       "         ...,\n",
       "         [0.4086, 0.9040],\n",
       "         [0.5888, 0.8940],\n",
       "         [0.8535, 0.4663]],\n",
       "\n",
       "        ...,\n",
       "\n",
       "        [[0.5013, 0.8265],\n",
       "         [0.1360, 0.5555],\n",
       "         [0.9088, 0.3801],\n",
       "         ...,\n",
       "         [0.1671, 0.0270],\n",
       "         [0.7479, 0.5993],\n",
       "         [0.9830, 0.1802]],\n",
       "\n",
       "        [[0.9886, 0.5755],\n",
       "         [0.6431, 0.1376],\n",
       "         [0.5719, 0.0389],\n",
       "         ...,\n",
       "         [0.3919, 0.3656],\n",
       "         [0.5025, 0.9074],\n",
       "         [0.6556, 0.6916]],\n",
       "\n",
       "        [[0.5810, 0.7003],\n",
       "         [0.5114, 0.9149],\n",
       "         [0.5998, 0.7675],\n",
       "         ...,\n",
       "         [0.0814, 0.9324],\n",
       "         [0.0981, 0.7026],\n",
       "         [0.6290, 0.7068]]])"
      ]
     },
     "execution_count": 43,
     "metadata": {},
     "output_type": "execute_result"
    }
   ],
   "source": [
    "factor = torch.normal(1.0, sigma, size=(x.shape[0], 1))\n",
    "factor = factor.repeat(1, x.shape[2]).unsqueeze(1)\n",
    "return factor * x"
   ]
  },
  {
   "cell_type": "code",
   "execution_count": null,
   "id": "9cd50228-2fe6-4534-a937-bc3c0c52770e",
   "metadata": {},
   "outputs": [],
   "source": []
  }
 ],
 "metadata": {
  "kernelspec": {
   "display_name": "Python 3 (ipykernel)",
   "language": "python",
   "name": "python3"
  },
  "language_info": {
   "codemirror_mode": {
    "name": "ipython",
    "version": 3
   },
   "file_extension": ".py",
   "mimetype": "text/x-python",
   "name": "python",
   "nbconvert_exporter": "python",
   "pygments_lexer": "ipython3",
   "version": "3.8.10"
  }
 },
 "nbformat": 4,
 "nbformat_minor": 5
}
