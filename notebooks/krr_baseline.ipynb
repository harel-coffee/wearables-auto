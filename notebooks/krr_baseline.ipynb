{
 "cells": [
  {
   "cell_type": "code",
   "execution_count": 1,
   "metadata": {},
   "outputs": [],
   "source": [
    "import sys\n",
    "sys.path.append('/home/ngr/gdrive/wearables/scripts')\n",
    "import data as weardata\n",
    "\n",
    "import numpy as np"
   ]
  },
  {
   "cell_type": "code",
   "execution_count": 2,
   "metadata": {},
   "outputs": [],
   "source": [
    "data = weardata.load_pp_actigraphy()"
   ]
  },
  {
   "cell_type": "code",
   "execution_count": 42,
   "metadata": {},
   "outputs": [],
   "source": [
    "def split_pp_actigraphy(data):\n",
    "    pids = np.unique([i.split('-')[0] for i in data.keys()])\n",
    "    train_pids = np.random.choice(pids, int(len(pids)*0.8), replace=False)\n",
    "    test_pids = [i for i in pids if i not in train_pids]\n",
    "    \n",
    "    train_keys, test_keys = [], []\n",
    "    for k in data.keys():\n",
    "        if k.split('-')[0] in train_pids:\n",
    "            train_keys.append(k)\n",
    "        elif k.split('-')[0] in test_pids:\n",
    "            test_keys.append(k)\n",
    "        else:\n",
    "            print('{} dict key not found or sorted')\n",
    "            \n",
    "    return {k:data[k] for k in train_keys}, {k:data[k] for k in test_keys}"
   ]
  },
  {
   "cell_type": "code",
   "execution_count": 72,
   "metadata": {},
   "outputs": [],
   "source": [
    "def pad_align_transform(data):\n",
    "    X = np.empty((len(data.keys()), 24*60))\n",
    "    y = np.empty((len(data.keys()),))\n",
    "    for i, (k, v) in enumerate(data.items()):\n",
    "        ts, act = v[0], v[1]\n",
    "        first_hour, first_min = ts[0].hour, ts[0].minute\n",
    "        zeros2pad = np.zeros((first_hour*60 + first_min + 1))\n",
    "        act = np.concatenate((zeros2pad, [float(i) for i in act[:24*60 - zeros2pad.shape[0]]]))\n",
    "        if act.shape[0] < 24*60:\n",
    "            act = np.concatenate((act, np.zeros((24*60-act.shape[0], ))))\n",
    "        \n",
    "        # add log-pseudocount\n",
    "        act = np.log(act + 1)\n",
    "        X[i, :] = act\n",
    "        y[i] = int(k.split('-')[1])\n",
    "    return X, y\n",
    "        \n"
   ]
  },
  {
   "cell_type": "code",
   "execution_count": 73,
   "metadata": {},
   "outputs": [],
   "source": [
    "# get train/test\n",
    "X_train, y_train = pad_align_transform(train_data)\n",
    "X_test, y_test = pad_align_transform(test_data)"
   ]
  },
  {
   "cell_type": "code",
   "execution_count": 90,
   "metadata": {},
   "outputs": [
    {
     "data": {
      "text/plain": [
       "KernelRidge(alpha=0.1)"
      ]
     },
     "execution_count": 90,
     "metadata": {},
     "output_type": "execute_result"
    }
   ],
   "source": [
    "from sklearn.kernel_ridge import KernelRidge\n",
    "from sklearn.model_selection import cross_val_score\n",
    "from sklearn.metrics import mean_absolute_error\n",
    "\n",
    "cv_scores = \n",
    "clf = KernelRidge(alpha=0.1)\n",
    "# scores = cross_val_score(clf, X_train, y_train, scoring='r2')\n",
    "# n_samples, n_features = 10, 5\n",
    "# rng = np.random.RandomState(0)\n",
    "# y = rng.randn(n_samples)\n",
    "# X = rng.randn(n_samples, n_features)\n",
    "# clf = KernelRidge(alpha=1.0)\n",
    "# clf.fit(X, y)"
   ]
  },
  {
   "cell_type": "code",
   "execution_count": 93,
   "metadata": {},
   "outputs": [
    {
     "data": {
      "text/plain": [
       "7.098047419986828"
      ]
     },
     "execution_count": 93,
     "metadata": {},
     "output_type": "execute_result"
    }
   ],
   "source": [
    "mean_absolute_error(y_train, clf.predict(X_train))"
   ]
  },
  {
   "cell_type": "code",
   "execution_count": 94,
   "metadata": {},
   "outputs": [
    {
     "data": {
      "text/plain": [
       "13.359774591220422"
      ]
     },
     "execution_count": 94,
     "metadata": {},
     "output_type": "execute_result"
    }
   ],
   "source": [
    "mean_absolute_error(y_test, clf.predict(X_test))"
   ]
  },
  {
   "cell_type": "code",
   "execution_count": 104,
   "metadata": {},
   "outputs": [
    {
     "data": {
      "image/png": "[encoded data removed]",
      "text/plain": [
       "<Figure size 216x144 with 2 Axes>"
      ]
     },
     "metadata": {
      "needs_background": "light"
     },
     "output_type": "display_data"
    }
   ],
   "source": [
    "%matplotlib inline\n",
    "import matplotlib.pyplot as plt\n",
    "\n",
    "fig, ax = plt.subplots(1, 1, figsize=(3,2))\n",
    "pred = clf.predict(X_test)\n",
    "true = y_test\n",
    "im = ax.scatter(true, pred, s=6, edgecolor='none', alpha=0.8, c=np.abs(pred-true), cmap='RdYlBu_r', rasterized=True)\n",
    "ax.set_xlabel('GA true')\n",
    "ax.set_ylabel('GA predicted')\n",
    "cbar = fig.colorbar(im)\n",
    "cbar.set_label('Absolute error')\n",
    "\n",
    "fig.savefig('/home/ngr/Downloads/krr.png', dpi=600, bbox_inches='tight')"
   ]
  },
  {
   "cell_type": "code",
   "execution_count": null,
   "metadata": {},
   "outputs": [],
   "source": []
  }
 ],
 "metadata": {
  "kernelspec": {
   "display_name": "Python 3",
   "language": "python",
   "name": "python3"
  },
  "language_info": {
   "codemirror_mode": {
    "name": "ipython",
    "version": 3
   },
   "file_extension": ".py",
   "mimetype": "text/x-python",
   "name": "python",
   "nbconvert_exporter": "python",
   "pygments_lexer": "ipython3",
   "version": "3.8.5"
  }
 },
 "nbformat": 4,
 "nbformat_minor": 4
}
