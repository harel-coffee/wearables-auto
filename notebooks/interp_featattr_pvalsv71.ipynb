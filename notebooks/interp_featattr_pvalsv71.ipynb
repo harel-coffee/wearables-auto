{
 "cells": [
  {
   "cell_type": "code",
   "execution_count": 3,
   "id": "88e9a7ca-905e-4532-9900-6849dc6c93f2",
   "metadata": {},
   "outputs": [],
   "source": [
    "%matplotlib inline\n",
    "%timeit\n",
    "\n",
    "import pandas as pd\n",
    "import numpy as np\n",
    "import matplotlib.pyplot as plt\n",
    "import seaborn as sns\n",
    "import glob\n",
    "import os\n",
    "import time\n",
    "import pickle\n",
    "import datetime\n",
    "import re\n",
    "import pyActigraphy\n",
    "\n",
    "import sys\n",
    "sys.path.append('/home/ngrav/project/')\n",
    "from wearables.scripts import utils as wearutils\n",
    "from wearables.scripts import data as weardata\n",
    "from wearables.scripts import train as weartrain\n",
    "from wearables.scripts import eval_ as weareval\n",
    "from wearables.scripts import model as wearmodels\n",
    "from wearables.scripts import DTW as weardtw\n",
    "\n",
    "import torch\n",
    "import torch.nn as nn\n",
    "import torch.nn.functional as F\n",
    "\n",
    "from scipy.spatial.distance import pdist, squareform\n",
    "import fastdtw\n",
    "import umap\n",
    "\n",
    "from scipy.stats import mannwhitneyu, spearmanr\n",
    "\n",
    "plt.rc('font', size = 9)\n",
    "plt.rc('font', family='sans serif')\n",
    "plt.rcParams['pdf.fonttype'] = 42\n",
    "plt.rcParams['ps.fonttype'] = 42\n",
    "plt.rcParams['legend.frameon']=False\n",
    "plt.rcParams['axes.grid']=False\n",
    "plt.rcParams['legend.markerscale']=1\n",
    "plt.rcParams['savefig.dpi'] = 600\n",
    "sns.set_style(\"ticks\")"
   ]
  },
  {
   "cell_type": "code",
   "execution_count": 59,
   "id": "6c2f977f-b35d-45bb-8df9-22905d0b4f88",
   "metadata": {},
   "outputs": [],
   "source": [
    "pfp = '/home/ngrav/project/wearables/results/'\n",
    "fname = 'featattr_res_220923_3.pkl'\n",
    "\n",
    "def loadpkl(full_fname):\n",
    "    with open(full_fname, 'rb') as f:\n",
    "        return pickle.load(f)\n",
    "    \n",
    "def p_encoder(p):\n",
    "    if p > 0.05:\n",
    "        label = '' # n.s.\n",
    "    elif p <= 0.001:\n",
    "        label = '***'\n",
    "    elif p <= 0.05 and p > 0.01:\n",
    "        label = '*'\n",
    "    elif p <= 0.01 and p > 0.001:\n",
    "        label = '**'\n",
    "    else: \n",
    "        label = 'Unclassified'\n",
    "    return label"
   ]
  },
  {
   "cell_type": "code",
   "execution_count": 60,
   "id": "fca029a8-23e9-41f9-8a6f-e3a88d885dcf",
   "metadata": {},
   "outputs": [],
   "source": [
    "# load data\n",
    "res = loadpkl(os.path.join(pfp, fname))"
   ]
  },
  {
   "cell_type": "code",
   "execution_count": 61,
   "id": "c9fe3851-b08b-483f-8a03-df63e4d36377",
   "metadata": {},
   "outputs": [
    {
     "data": {
      "text/plain": [
       "dict_keys(['res_4wk', 'res_err_grps', 'res_errgrp_ptb', 'impcorr_morningVevening', 'impcorr_weekdayVweekend', 'impcorr_dayVnight', 'impcorr_sleep', 'impcorr_group', 'errcorr', 'errcorr_morningVevening', 'errcorr_weekdayVweekend', 'errcorr_dayVnight', 'errcorr_sleep', 'errcorr_group'])"
      ]
     },
     "execution_count": 61,
     "metadata": {},
     "output_type": "execute_result"
    }
   ],
   "source": [
    "res.keys()"
   ]
  },
  {
   "cell_type": "code",
   "execution_count": 9,
   "id": "6a3dedb0-15a6-4edc-801f-ac41b85ea2d6",
   "metadata": {},
   "outputs": [
    {
     "data": {
      "text/html": [
       "<div>\n",
       "<style scoped>\n",
       "    .dataframe tbody tr th:only-of-type {\n",
       "        vertical-align: middle;\n",
       "    }\n",
       "\n",
       "    .dataframe tbody tr th {\n",
       "        vertical-align: top;\n",
       "    }\n",
       "\n",
       "    .dataframe thead th {\n",
       "        text-align: right;\n",
       "    }\n",
       "</style>\n",
       "<table border=\"1\" class=\"dataframe\">\n",
       "  <thead>\n",
       "    <tr style=\"text-align: right;\">\n",
       "      <th></th>\n",
       "      <th>attr</th>\n",
       "      <th>uid</th>\n",
       "      <th>sleep</th>\n",
       "      <th>t</th>\n",
       "      <th>morningVevening</th>\n",
       "      <th>weekdayVweekend</th>\n",
       "      <th>dayVnight</th>\n",
       "      <th>group</th>\n",
       "      <th>abs_attr</th>\n",
       "    </tr>\n",
       "  </thead>\n",
       "  <tbody>\n",
       "    <tr>\n",
       "      <th>0</th>\n",
       "      <td>0.005186</td>\n",
       "      <td>2354_34</td>\n",
       "      <td>1</td>\n",
       "      <td>2019-01-15 00:00:00</td>\n",
       "      <td>NA</td>\n",
       "      <td>Weekday</td>\n",
       "      <td>Night</td>\n",
       "      <td>lt4wk</td>\n",
       "      <td>0.005186</td>\n",
       "    </tr>\n",
       "    <tr>\n",
       "      <th>1</th>\n",
       "      <td>-0.006501</td>\n",
       "      <td>2354_34</td>\n",
       "      <td>1</td>\n",
       "      <td>2019-01-15 00:01:00</td>\n",
       "      <td>NA</td>\n",
       "      <td>Weekday</td>\n",
       "      <td>Night</td>\n",
       "      <td>lt4wk</td>\n",
       "      <td>0.006501</td>\n",
       "    </tr>\n",
       "    <tr>\n",
       "      <th>2</th>\n",
       "      <td>0.000000</td>\n",
       "      <td>2354_34</td>\n",
       "      <td>1</td>\n",
       "      <td>2019-01-15 00:02:00</td>\n",
       "      <td>NA</td>\n",
       "      <td>Weekday</td>\n",
       "      <td>Night</td>\n",
       "      <td>lt4wk</td>\n",
       "      <td>0.000000</td>\n",
       "    </tr>\n",
       "    <tr>\n",
       "      <th>3</th>\n",
       "      <td>0.000000</td>\n",
       "      <td>2354_34</td>\n",
       "      <td>1</td>\n",
       "      <td>2019-01-15 00:03:00</td>\n",
       "      <td>NA</td>\n",
       "      <td>Weekday</td>\n",
       "      <td>Night</td>\n",
       "      <td>lt4wk</td>\n",
       "      <td>0.000000</td>\n",
       "    </tr>\n",
       "    <tr>\n",
       "      <th>4</th>\n",
       "      <td>0.000000</td>\n",
       "      <td>2354_34</td>\n",
       "      <td>1</td>\n",
       "      <td>2019-01-15 00:04:00</td>\n",
       "      <td>NA</td>\n",
       "      <td>Weekday</td>\n",
       "      <td>Night</td>\n",
       "      <td>lt4wk</td>\n",
       "      <td>0.000000</td>\n",
       "    </tr>\n",
       "  </tbody>\n",
       "</table>\n",
       "</div>"
      ],
      "text/plain": [
       "       attr      uid  sleep                   t morningVevening  \\\n",
       "0  0.005186  2354_34      1 2019-01-15 00:00:00              NA   \n",
       "1 -0.006501  2354_34      1 2019-01-15 00:01:00              NA   \n",
       "2  0.000000  2354_34      1 2019-01-15 00:02:00              NA   \n",
       "3  0.000000  2354_34      1 2019-01-15 00:03:00              NA   \n",
       "4  0.000000  2354_34      1 2019-01-15 00:04:00              NA   \n",
       "\n",
       "  weekdayVweekend dayVnight  group  abs_attr  \n",
       "0         Weekday     Night  lt4wk  0.005186  \n",
       "1         Weekday     Night  lt4wk  0.006501  \n",
       "2         Weekday     Night  lt4wk  0.000000  \n",
       "3         Weekday     Night  lt4wk  0.000000  \n",
       "4         Weekday     Night  lt4wk  0.000000  "
      ]
     },
     "execution_count": 9,
     "metadata": {},
     "output_type": "execute_result"
    }
   ],
   "source": [
    "df = res['res_4wk']\n",
    "df['abs_attr'] = df['attr'].abs()\n",
    "n_samples = 1000\n",
    "df.head()"
   ]
  },
  {
   "cell_type": "code",
   "execution_count": 10,
   "id": "3f04a18c-110d-4d06-adbc-8acbfb1894ab",
   "metadata": {},
   "outputs": [
    {
     "name": "stdout",
     "output_type": "stream",
     "text": [
      "a:(205090,)\tb:(198052,)\t<b>-<a>: 0.01\tp:1.50e-03**\n"
     ]
    }
   ],
   "source": [
    "\n",
    "a = df.loc[(df['morningVevening']=='Morning') & (df['sleep']==0), 'abs_attr']\n",
    "b = df.loc[(df['morningVevening']=='Evening') & (df['sleep']==0), 'abs_attr']\n",
    "stat, p = mannwhitneyu(a if n_samples is None else np.random.choice(a, n_samples), \n",
    "                       b if n_samples is None else np.random.choice(b, n_samples))\n",
    "print(f\"a:{a.shape}\\tb:{b.shape}\\t<b>-<a>: {np.mean(b) - np.mean(a):.2f}\\tp:{p:.2e}{p_encoder(p)}\")\n"
   ]
  },
  {
   "cell_type": "code",
   "execution_count": 11,
   "id": "ffacfe6e-fba1-4355-814b-7717f22b7b5a",
   "metadata": {},
   "outputs": [
    {
     "name": "stdout",
     "output_type": "stream",
     "text": [
      "a:(298910,)\tb:(305948,)\t<b>-<a>: 0.00\tp:1.17e-01\n"
     ]
    }
   ],
   "source": [
    "\n",
    "a = df.loc[(df['morningVevening']=='Morning') & (df['sleep']==1), 'abs_attr']\n",
    "b = df.loc[(df['morningVevening']=='Evening') & (df['sleep']==1), 'abs_attr']\n",
    "stat, p = mannwhitneyu(a if n_samples is None else np.random.choice(a, n_samples), \n",
    "                       b if n_samples is None else np.random.choice(b, n_samples))\n",
    "print(f\"a:{a.shape}\\tb:{b.shape}\\t<b>-<a>: {np.mean(b) - np.mean(a):.2f}\\tp:{p:.2e}{p_encoder(p)}\")\n"
   ]
  },
  {
   "cell_type": "code",
   "execution_count": 12,
   "id": "08658221-0094-4327-8857-5a9b7708d7e8",
   "metadata": {},
   "outputs": [
    {
     "name": "stdout",
     "output_type": "stream",
     "text": [
      "a:(531331,)\tb:(183846,)\t<b>-<a>: 0.00\tp:3.80e-02*\n"
     ]
    }
   ],
   "source": [
    "\n",
    "a = df.loc[(df['weekdayVweekend']=='Weekday') & (df['sleep']==0), 'abs_attr']\n",
    "b = df.loc[(df['weekdayVweekend']=='Weekend') & (df['sleep']==0), 'abs_attr']\n",
    "stat, p = mannwhitneyu(a if n_samples is None else np.random.choice(a, n_samples), \n",
    "                       b if n_samples is None else np.random.choice(b, n_samples))\n",
    "print(f\"a:{a.shape}\\tb:{b.shape}\\t<b>-<a>: {np.mean(b) - np.mean(a):.2f}\\tp:{p:.2e}{p_encoder(p)}\")\n"
   ]
  },
  {
   "cell_type": "code",
   "execution_count": 13,
   "id": "9b57941e-68c8-4727-a273-4a9f81883cd1",
   "metadata": {},
   "outputs": [
    {
     "name": "stdout",
     "output_type": "stream",
     "text": [
      "a:(908669,)\tb:(392154,)\t<b>-<a>: -0.00\tp:3.64e-01\n"
     ]
    }
   ],
   "source": [
    "\n",
    "a = df.loc[(df['weekdayVweekend']=='Weekday') & (df['sleep']==1), 'abs_attr']\n",
    "b = df.loc[(df['weekdayVweekend']=='Weekend') & (df['sleep']==1), 'abs_attr']\n",
    "stat, p = mannwhitneyu(a if n_samples is None else np.random.choice(a, n_samples), \n",
    "                       b if n_samples is None else np.random.choice(b, n_samples))\n",
    "print(f\"a:{a.shape}\\tb:{b.shape}\\t<b>-<a>: {np.mean(b) - np.mean(a):.2f}\\tp:{p:.2e}{p_encoder(p)}\")\n"
   ]
  },
  {
   "cell_type": "code",
   "execution_count": 14,
   "id": "0d787fd6-e42c-4f0f-85ef-dcf6291e262d",
   "metadata": {},
   "outputs": [
    {
     "name": "stdout",
     "output_type": "stream",
     "text": [
      "a:(470951,)\tb:(244226,)\t<b>-<a>: 0.02\tp:2.83e-06***\n"
     ]
    }
   ],
   "source": [
    "\n",
    "a = df.loc[(df['dayVnight']=='Day') & (df['sleep']==0), 'abs_attr']\n",
    "b = df.loc[(df['dayVnight']=='Night') & (df['sleep']==0), 'abs_attr']\n",
    "stat, p = mannwhitneyu(a if n_samples is None else np.random.choice(a, n_samples), \n",
    "                       b if n_samples is None else np.random.choice(b, n_samples))\n",
    "print(f\"a:{a.shape}\\tb:{b.shape}\\t<b>-<a>: {np.mean(b) - np.mean(a):.2f}\\tp:{p:.2e}{p_encoder(p)}\")\n"
   ]
  },
  {
   "cell_type": "code",
   "execution_count": 15,
   "id": "3e47ee5c-301f-4c46-8f0c-e70a769e086f",
   "metadata": {},
   "outputs": [
    {
     "name": "stdout",
     "output_type": "stream",
     "text": [
      "a:(537049,)\tb:(763774,)\t<b>-<a>: 0.00\tp:1.22e-03**\n"
     ]
    }
   ],
   "source": [
    "\n",
    "a = df.loc[(df['dayVnight']=='Day') & (df['sleep']==1), 'abs_attr']\n",
    "b = df.loc[(df['dayVnight']=='Night') & (df['sleep']==1), 'abs_attr']\n",
    "stat, p = mannwhitneyu(a if n_samples is None else np.random.choice(a, n_samples), \n",
    "                       b if n_samples is None else np.random.choice(b, n_samples))\n",
    "print(f\"a:{a.shape}\\tb:{b.shape}\\t<b>-<a>: {np.mean(b) - np.mean(a):.2f}\\tp:{p:.2e}{p_encoder(p)}\")\n"
   ]
  },
  {
   "cell_type": "code",
   "execution_count": 16,
   "id": "2e56731e-da68-4658-9308-0dfd62c4b9fd",
   "metadata": {},
   "outputs": [
    {
     "name": "stdout",
     "output_type": "stream",
     "text": [
      "a:(715177,)\tb:(1300823,)\t<b>-<a>: -0.04\tp:3.74e-283***\n"
     ]
    }
   ],
   "source": [
    "\n",
    "a = df.loc[(df['sleep']==0), 'abs_attr']\n",
    "b = df.loc[(df['sleep']==1), 'abs_attr']\n",
    "stat, p = mannwhitneyu(a if n_samples is None else np.random.choice(a, n_samples), \n",
    "                       b if n_samples is None else np.random.choice(b, n_samples))\n",
    "print(f\"a:{a.shape}\\tb:{b.shape}\\t<b>-<a>: {np.mean(b) - np.mean(a):.2f}\\tp:{p:.2e}{p_encoder(p)}\")\n"
   ]
  },
  {
   "cell_type": "markdown",
   "id": "22de5db8-4c32-4ff2-ac1b-307797426a85",
   "metadata": {},
   "source": [
    "### IS/RA vs. imp/err"
   ]
  },
  {
   "cell_type": "code",
   "execution_count": 63,
   "id": "8c529219-abde-44e6-9783-acc5da9322c5",
   "metadata": {},
   "outputs": [
    {
     "data": {
      "text/html": [
       "<div>\n",
       "<style scoped>\n",
       "    .dataframe tbody tr th:only-of-type {\n",
       "        vertical-align: middle;\n",
       "    }\n",
       "\n",
       "    .dataframe tbody tr th {\n",
       "        vertical-align: top;\n",
       "    }\n",
       "\n",
       "    .dataframe thead th {\n",
       "        text-align: right;\n",
       "    }\n",
       "</style>\n",
       "<table border=\"1\" class=\"dataframe\">\n",
       "  <thead>\n",
       "    <tr style=\"text-align: right;\">\n",
       "      <th></th>\n",
       "      <th>attr</th>\n",
       "      <th>uid</th>\n",
       "      <th>sleep</th>\n",
       "      <th>t</th>\n",
       "      <th>morningVevening</th>\n",
       "      <th>weekdayVweekend</th>\n",
       "      <th>dayVnight</th>\n",
       "      <th>group</th>\n",
       "      <th>abs_attr</th>\n",
       "    </tr>\n",
       "  </thead>\n",
       "  <tbody>\n",
       "    <tr>\n",
       "      <th>0</th>\n",
       "      <td>0.0</td>\n",
       "      <td>1505_31</td>\n",
       "      <td>1</td>\n",
       "      <td>2019-01-05 00:00:00</td>\n",
       "      <td>NA</td>\n",
       "      <td>Weekend</td>\n",
       "      <td>Night</td>\n",
       "      <td>lt10wks</td>\n",
       "      <td>0.0</td>\n",
       "    </tr>\n",
       "    <tr>\n",
       "      <th>1</th>\n",
       "      <td>0.0</td>\n",
       "      <td>1505_31</td>\n",
       "      <td>1</td>\n",
       "      <td>2019-01-05 00:01:00</td>\n",
       "      <td>NA</td>\n",
       "      <td>Weekend</td>\n",
       "      <td>Night</td>\n",
       "      <td>lt10wks</td>\n",
       "      <td>0.0</td>\n",
       "    </tr>\n",
       "    <tr>\n",
       "      <th>2</th>\n",
       "      <td>0.0</td>\n",
       "      <td>1505_31</td>\n",
       "      <td>1</td>\n",
       "      <td>2019-01-05 00:02:00</td>\n",
       "      <td>NA</td>\n",
       "      <td>Weekend</td>\n",
       "      <td>Night</td>\n",
       "      <td>lt10wks</td>\n",
       "      <td>0.0</td>\n",
       "    </tr>\n",
       "    <tr>\n",
       "      <th>3</th>\n",
       "      <td>0.0</td>\n",
       "      <td>1505_31</td>\n",
       "      <td>1</td>\n",
       "      <td>2019-01-05 00:03:00</td>\n",
       "      <td>NA</td>\n",
       "      <td>Weekend</td>\n",
       "      <td>Night</td>\n",
       "      <td>lt10wks</td>\n",
       "      <td>0.0</td>\n",
       "    </tr>\n",
       "    <tr>\n",
       "      <th>4</th>\n",
       "      <td>0.0</td>\n",
       "      <td>1505_31</td>\n",
       "      <td>1</td>\n",
       "      <td>2019-01-05 00:04:00</td>\n",
       "      <td>NA</td>\n",
       "      <td>Weekend</td>\n",
       "      <td>Night</td>\n",
       "      <td>lt10wks</td>\n",
       "      <td>0.0</td>\n",
       "    </tr>\n",
       "  </tbody>\n",
       "</table>\n",
       "</div>"
      ],
      "text/plain": [
       "   attr      uid  sleep                   t morningVevening weekdayVweekend  \\\n",
       "0   0.0  1505_31      1 2019-01-05 00:00:00              NA         Weekend   \n",
       "1   0.0  1505_31      1 2019-01-05 00:01:00              NA         Weekend   \n",
       "2   0.0  1505_31      1 2019-01-05 00:02:00              NA         Weekend   \n",
       "3   0.0  1505_31      1 2019-01-05 00:03:00              NA         Weekend   \n",
       "4   0.0  1505_31      1 2019-01-05 00:04:00              NA         Weekend   \n",
       "\n",
       "  dayVnight    group  abs_attr  \n",
       "0     Night  lt10wks       0.0  \n",
       "1     Night  lt10wks       0.0  \n",
       "2     Night  lt10wks       0.0  \n",
       "3     Night  lt10wks       0.0  \n",
       "4     Night  lt10wks       0.0  "
      ]
     },
     "execution_count": 63,
     "metadata": {},
     "output_type": "execute_result"
    }
   ],
   "source": [
    "df = res['res_err_grps']\n",
    "df['abs_attr'] = df['attr'].abs()\n",
    "df.head()"
   ]
  },
  {
   "cell_type": "code",
   "execution_count": 64,
   "id": "69c95dda-c02c-4c63-93dd-8bb0bbef2fc0",
   "metadata": {},
   "outputs": [],
   "source": [
    "# load md info\n",
    "from wearables.scripts.md_specification import mdpred_voi_v2\n",
    "\n",
    "# filepaths to bst or pre-processed md with calculated metrics \n",
    "pp_md_fp = os.path.join(pfp, 'md_220912.csv')\n",
    "\n",
    "# load up to date md\n",
    "md = pd.read_csv(pp_md_fp, index_col=0)\n"
   ]
  },
  {
   "cell_type": "code",
   "execution_count": 65,
   "id": "d5d898cc-c718-47b0-ad7d-6877cb1654fe",
   "metadata": {},
   "outputs": [
    {
     "data": {
      "text/html": [
       "<div>\n",
       "<style scoped>\n",
       "    .dataframe tbody tr th:only-of-type {\n",
       "        vertical-align: middle;\n",
       "    }\n",
       "\n",
       "    .dataframe tbody tr th {\n",
       "        vertical-align: top;\n",
       "    }\n",
       "\n",
       "    .dataframe thead th {\n",
       "        text-align: right;\n",
       "    }\n",
       "</style>\n",
       "<table border=\"1\" class=\"dataframe\">\n",
       "  <thead>\n",
       "    <tr style=\"text-align: right;\">\n",
       "      <th></th>\n",
       "      <th>record_id</th>\n",
       "      <th>age_enroll</th>\n",
       "      <th>marital</th>\n",
       "      <th>gestage_by</th>\n",
       "      <th>insur</th>\n",
       "      <th>ethnicity</th>\n",
       "      <th>race</th>\n",
       "      <th>bmi_1vis</th>\n",
       "      <th>prior_ptb_all</th>\n",
       "      <th>fullterm_births</th>\n",
       "      <th>...</th>\n",
       "      <th>PQSI</th>\n",
       "      <th>KPAS</th>\n",
       "      <th>EpworthSS</th>\n",
       "      <th>Edinburgh</th>\n",
       "      <th>Pre-term birth</th>\n",
       "      <th>id</th>\n",
       "      <th>split</th>\n",
       "      <th>y</th>\n",
       "      <th>yhat</th>\n",
       "      <th>error</th>\n",
       "    </tr>\n",
       "    <tr>\n",
       "      <th>unique_id</th>\n",
       "      <th></th>\n",
       "      <th></th>\n",
       "      <th></th>\n",
       "      <th></th>\n",
       "      <th></th>\n",
       "      <th></th>\n",
       "      <th></th>\n",
       "      <th></th>\n",
       "      <th></th>\n",
       "      <th></th>\n",
       "      <th></th>\n",
       "      <th></th>\n",
       "      <th></th>\n",
       "      <th></th>\n",
       "      <th></th>\n",
       "      <th></th>\n",
       "      <th></th>\n",
       "      <th></th>\n",
       "      <th></th>\n",
       "      <th></th>\n",
       "      <th></th>\n",
       "    </tr>\n",
       "  </thead>\n",
       "  <tbody>\n",
       "    <tr>\n",
       "      <th>2180_12</th>\n",
       "      <td>2180</td>\n",
       "      <td>34.0</td>\n",
       "      <td>1.0</td>\n",
       "      <td>1.0</td>\n",
       "      <td>3.0</td>\n",
       "      <td>0.0</td>\n",
       "      <td>0.0</td>\n",
       "      <td>31.732640</td>\n",
       "      <td>0.0</td>\n",
       "      <td>0.0</td>\n",
       "      <td>...</td>\n",
       "      <td>10.0</td>\n",
       "      <td>9.053680</td>\n",
       "      <td>5.0</td>\n",
       "      <td>6.0</td>\n",
       "      <td>False</td>\n",
       "      <td>2180_12</td>\n",
       "      <td>test</td>\n",
       "      <td>12.0</td>\n",
       "      <td>15.189330</td>\n",
       "      <td>3.189330</td>\n",
       "    </tr>\n",
       "    <tr>\n",
       "      <th>2148_11</th>\n",
       "      <td>2148</td>\n",
       "      <td>34.0</td>\n",
       "      <td>1.0</td>\n",
       "      <td>2.0</td>\n",
       "      <td>3.0</td>\n",
       "      <td>0.0</td>\n",
       "      <td>0.0</td>\n",
       "      <td>22.406605</td>\n",
       "      <td>0.0</td>\n",
       "      <td>1.0</td>\n",
       "      <td>...</td>\n",
       "      <td>11.0</td>\n",
       "      <td>10.266234</td>\n",
       "      <td>9.0</td>\n",
       "      <td>7.0</td>\n",
       "      <td>False</td>\n",
       "      <td>2148_11</td>\n",
       "      <td>train</td>\n",
       "      <td>11.0</td>\n",
       "      <td>19.224419</td>\n",
       "      <td>8.224419</td>\n",
       "    </tr>\n",
       "    <tr>\n",
       "      <th>1062_8</th>\n",
       "      <td>1062</td>\n",
       "      <td>31.0</td>\n",
       "      <td>0.0</td>\n",
       "      <td>1.0</td>\n",
       "      <td>5.0</td>\n",
       "      <td>0.0</td>\n",
       "      <td>1.0</td>\n",
       "      <td>40.106270</td>\n",
       "      <td>0.0</td>\n",
       "      <td>0.0</td>\n",
       "      <td>...</td>\n",
       "      <td>8.0</td>\n",
       "      <td>9.493074</td>\n",
       "      <td>3.0</td>\n",
       "      <td>5.0</td>\n",
       "      <td>False</td>\n",
       "      <td>1062_8</td>\n",
       "      <td>train</td>\n",
       "      <td>8.0</td>\n",
       "      <td>15.505736</td>\n",
       "      <td>7.505736</td>\n",
       "    </tr>\n",
       "    <tr>\n",
       "      <th>1306_7</th>\n",
       "      <td>1306</td>\n",
       "      <td>25.0</td>\n",
       "      <td>0.0</td>\n",
       "      <td>3.0</td>\n",
       "      <td>5.0</td>\n",
       "      <td>0.0</td>\n",
       "      <td>1.0</td>\n",
       "      <td>24.555670</td>\n",
       "      <td>0.0</td>\n",
       "      <td>0.0</td>\n",
       "      <td>...</td>\n",
       "      <td>10.0</td>\n",
       "      <td>8.889610</td>\n",
       "      <td>9.0</td>\n",
       "      <td>9.0</td>\n",
       "      <td>False</td>\n",
       "      <td>1306_7</td>\n",
       "      <td>train</td>\n",
       "      <td>7.0</td>\n",
       "      <td>17.990391</td>\n",
       "      <td>10.990391</td>\n",
       "    </tr>\n",
       "    <tr>\n",
       "      <th>2003_7</th>\n",
       "      <td>2003</td>\n",
       "      <td>38.0</td>\n",
       "      <td>1.0</td>\n",
       "      <td>1.0</td>\n",
       "      <td>1.0</td>\n",
       "      <td>0.0</td>\n",
       "      <td>1.0</td>\n",
       "      <td>37.804455</td>\n",
       "      <td>0.0</td>\n",
       "      <td>0.0</td>\n",
       "      <td>...</td>\n",
       "      <td>8.0</td>\n",
       "      <td>8.984632</td>\n",
       "      <td>8.0</td>\n",
       "      <td>3.0</td>\n",
       "      <td>False</td>\n",
       "      <td>2003_7</td>\n",
       "      <td>train</td>\n",
       "      <td>7.0</td>\n",
       "      <td>19.551502</td>\n",
       "      <td>12.551502</td>\n",
       "    </tr>\n",
       "  </tbody>\n",
       "</table>\n",
       "<p>5 rows × 131 columns</p>\n",
       "</div>"
      ],
      "text/plain": [
       "           record_id  age_enroll  marital  gestage_by  insur  ethnicity  race  \\\n",
       "unique_id                                                                       \n",
       "2180_12         2180        34.0      1.0         1.0    3.0        0.0   0.0   \n",
       "2148_11         2148        34.0      1.0         2.0    3.0        0.0   0.0   \n",
       "1062_8          1062        31.0      0.0         1.0    5.0        0.0   1.0   \n",
       "1306_7          1306        25.0      0.0         3.0    5.0        0.0   1.0   \n",
       "2003_7          2003        38.0      1.0         1.0    1.0        0.0   1.0   \n",
       "\n",
       "            bmi_1vis  prior_ptb_all  fullterm_births  ...  PQSI       KPAS  \\\n",
       "unique_id                                             ...                    \n",
       "2180_12    31.732640            0.0              0.0  ...  10.0   9.053680   \n",
       "2148_11    22.406605            0.0              1.0  ...  11.0  10.266234   \n",
       "1062_8     40.106270            0.0              0.0  ...   8.0   9.493074   \n",
       "1306_7     24.555670            0.0              0.0  ...  10.0   8.889610   \n",
       "2003_7     37.804455            0.0              0.0  ...   8.0   8.984632   \n",
       "\n",
       "           EpworthSS  Edinburgh  Pre-term birth       id  split     y  \\\n",
       "unique_id                                                               \n",
       "2180_12          5.0        6.0           False  2180_12   test  12.0   \n",
       "2148_11          9.0        7.0           False  2148_11  train  11.0   \n",
       "1062_8           3.0        5.0           False   1062_8  train   8.0   \n",
       "1306_7           9.0        9.0           False   1306_7  train   7.0   \n",
       "2003_7           8.0        3.0           False   2003_7  train   7.0   \n",
       "\n",
       "                yhat      error  \n",
       "unique_id                        \n",
       "2180_12    15.189330   3.189330  \n",
       "2148_11    19.224419   8.224419  \n",
       "1062_8     15.505736   7.505736  \n",
       "1306_7     17.990391  10.990391  \n",
       "2003_7     19.551502  12.551502  \n",
       "\n",
       "[5 rows x 131 columns]"
      ]
     },
     "execution_count": 65,
     "metadata": {},
     "output_type": "execute_result"
    }
   ],
   "source": [
    "# add error\n",
    "md['error'] = md['yhat'] - md['y']\n",
    "md.head()"
   ]
  },
  {
   "cell_type": "code",
   "execution_count": 66,
   "id": "53942860-1b93-47e8-b863-57aab5bcab11",
   "metadata": {},
   "outputs": [],
   "source": [
    "md_coi = [i for i in list(mdpred_voi_v2.keys()) if i in md.columns]\n",
    "dt = df.merge(md.loc[:, md_coi], left_on='uid', right_index=True, how='left')\n",
    "\n",
    "# sample? takes too long otherwise\n",
    "if True:\n",
    "    dt = dt.sample(200000).reset_index()"
   ]
  },
  {
   "cell_type": "code",
   "execution_count": 67,
   "id": "275baf1e-c57a-4091-89b8-951dc2e21da1",
   "metadata": {},
   "outputs": [
    {
     "data": {
      "text/html": [
       "<div>\n",
       "<style scoped>\n",
       "    .dataframe tbody tr th:only-of-type {\n",
       "        vertical-align: middle;\n",
       "    }\n",
       "\n",
       "    .dataframe tbody tr th {\n",
       "        vertical-align: top;\n",
       "    }\n",
       "\n",
       "    .dataframe thead th {\n",
       "        text-align: right;\n",
       "    }\n",
       "</style>\n",
       "<table border=\"1\" class=\"dataframe\">\n",
       "  <thead>\n",
       "    <tr style=\"text-align: right;\">\n",
       "      <th></th>\n",
       "      <th>index</th>\n",
       "      <th>attr</th>\n",
       "      <th>uid</th>\n",
       "      <th>sleep</th>\n",
       "      <th>t</th>\n",
       "      <th>morningVevening</th>\n",
       "      <th>weekdayVweekend</th>\n",
       "      <th>dayVnight</th>\n",
       "      <th>group</th>\n",
       "      <th>abs_attr</th>\n",
       "      <th>...</th>\n",
       "      <th>ave_logpseudocount_wkday</th>\n",
       "      <th>ave_logpseudocount_day</th>\n",
       "      <th>ave_logpseudocount_night</th>\n",
       "      <th>PQSI</th>\n",
       "      <th>KPAS</th>\n",
       "      <th>EpworthSS</th>\n",
       "      <th>Edinburgh</th>\n",
       "      <th>GA</th>\n",
       "      <th>yhat</th>\n",
       "      <th>error</th>\n",
       "    </tr>\n",
       "  </thead>\n",
       "  <tbody>\n",
       "    <tr>\n",
       "      <th>0</th>\n",
       "      <td>9860</td>\n",
       "      <td>0.000000</td>\n",
       "      <td>1449_9</td>\n",
       "      <td>1</td>\n",
       "      <td>2018-05-09 20:20:00</td>\n",
       "      <td>Evening</td>\n",
       "      <td>Weekday</td>\n",
       "      <td>Night</td>\n",
       "      <td>Higher-than-actual</td>\n",
       "      <td>0.000000</td>\n",
       "      <td>...</td>\n",
       "      <td>0.540321</td>\n",
       "      <td>0.528283</td>\n",
       "      <td>0.283990</td>\n",
       "      <td>4.0</td>\n",
       "      <td>4.571429</td>\n",
       "      <td>0.0</td>\n",
       "      <td>2.0</td>\n",
       "      <td>9.0</td>\n",
       "      <td>22.177807</td>\n",
       "      <td>13.177807</td>\n",
       "    </tr>\n",
       "    <tr>\n",
       "      <th>1</th>\n",
       "      <td>3636</td>\n",
       "      <td>0.000000</td>\n",
       "      <td>2465_36</td>\n",
       "      <td>1</td>\n",
       "      <td>2019-06-30 12:36:00</td>\n",
       "      <td>NA</td>\n",
       "      <td>Weekend</td>\n",
       "      <td>Day</td>\n",
       "      <td>Lower-than-actual</td>\n",
       "      <td>0.000000</td>\n",
       "      <td>...</td>\n",
       "      <td>1.504510</td>\n",
       "      <td>1.772223</td>\n",
       "      <td>1.260422</td>\n",
       "      <td>12.0</td>\n",
       "      <td>8.136797</td>\n",
       "      <td>13.0</td>\n",
       "      <td>8.0</td>\n",
       "      <td>36.0</td>\n",
       "      <td>20.035034</td>\n",
       "      <td>-15.964966</td>\n",
       "    </tr>\n",
       "    <tr>\n",
       "      <th>2</th>\n",
       "      <td>957</td>\n",
       "      <td>0.000863</td>\n",
       "      <td>1313_9</td>\n",
       "      <td>0</td>\n",
       "      <td>2018-01-30 15:57:00</td>\n",
       "      <td>NA</td>\n",
       "      <td>Weekday</td>\n",
       "      <td>Day</td>\n",
       "      <td>Higher-than-actual</td>\n",
       "      <td>0.000863</td>\n",
       "      <td>...</td>\n",
       "      <td>3.028347</td>\n",
       "      <td>3.020041</td>\n",
       "      <td>1.910136</td>\n",
       "      <td>7.0</td>\n",
       "      <td>10.153896</td>\n",
       "      <td>4.0</td>\n",
       "      <td>11.0</td>\n",
       "      <td>9.0</td>\n",
       "      <td>19.412422</td>\n",
       "      <td>10.412422</td>\n",
       "    </tr>\n",
       "    <tr>\n",
       "      <th>3</th>\n",
       "      <td>4803</td>\n",
       "      <td>-0.012373</td>\n",
       "      <td>2487_8</td>\n",
       "      <td>1</td>\n",
       "      <td>2019-02-04 08:03:00</td>\n",
       "      <td>Morning</td>\n",
       "      <td>Weekday</td>\n",
       "      <td>Day</td>\n",
       "      <td>Higher-than-actual</td>\n",
       "      <td>0.012373</td>\n",
       "      <td>...</td>\n",
       "      <td>1.994986</td>\n",
       "      <td>2.921534</td>\n",
       "      <td>1.281345</td>\n",
       "      <td>11.0</td>\n",
       "      <td>11.209524</td>\n",
       "      <td>12.0</td>\n",
       "      <td>8.0</td>\n",
       "      <td>8.0</td>\n",
       "      <td>18.006992</td>\n",
       "      <td>10.006992</td>\n",
       "    </tr>\n",
       "    <tr>\n",
       "      <th>4</th>\n",
       "      <td>5591</td>\n",
       "      <td>0.000000</td>\n",
       "      <td>1088_29</td>\n",
       "      <td>1</td>\n",
       "      <td>2017-10-31 21:11:00</td>\n",
       "      <td>Evening</td>\n",
       "      <td>Weekday</td>\n",
       "      <td>Night</td>\n",
       "      <td>Lower-than-actual</td>\n",
       "      <td>0.000000</td>\n",
       "      <td>...</td>\n",
       "      <td>0.360022</td>\n",
       "      <td>1.207952</td>\n",
       "      <td>0.553886</td>\n",
       "      <td>7.0</td>\n",
       "      <td>5.615368</td>\n",
       "      <td>17.0</td>\n",
       "      <td>2.0</td>\n",
       "      <td>29.0</td>\n",
       "      <td>17.301994</td>\n",
       "      <td>-11.698006</td>\n",
       "    </tr>\n",
       "  </tbody>\n",
       "</table>\n",
       "<p>5 rows × 135 columns</p>\n",
       "</div>"
      ],
      "text/plain": [
       "   index      attr      uid  sleep                   t morningVevening  \\\n",
       "0   9860  0.000000   1449_9      1 2018-05-09 20:20:00         Evening   \n",
       "1   3636  0.000000  2465_36      1 2019-06-30 12:36:00              NA   \n",
       "2    957  0.000863   1313_9      0 2018-01-30 15:57:00              NA   \n",
       "3   4803 -0.012373   2487_8      1 2019-02-04 08:03:00         Morning   \n",
       "4   5591  0.000000  1088_29      1 2017-10-31 21:11:00         Evening   \n",
       "\n",
       "  weekdayVweekend dayVnight               group  abs_attr  ...  \\\n",
       "0         Weekday     Night  Higher-than-actual  0.000000  ...   \n",
       "1         Weekend       Day   Lower-than-actual  0.000000  ...   \n",
       "2         Weekday       Day  Higher-than-actual  0.000863  ...   \n",
       "3         Weekday       Day  Higher-than-actual  0.012373  ...   \n",
       "4         Weekday     Night   Lower-than-actual  0.000000  ...   \n",
       "\n",
       "   ave_logpseudocount_wkday  ave_logpseudocount_day  ave_logpseudocount_night  \\\n",
       "0                  0.540321                0.528283                  0.283990   \n",
       "1                  1.504510                1.772223                  1.260422   \n",
       "2                  3.028347                3.020041                  1.910136   \n",
       "3                  1.994986                2.921534                  1.281345   \n",
       "4                  0.360022                1.207952                  0.553886   \n",
       "\n",
       "   PQSI       KPAS  EpworthSS  Edinburgh    GA       yhat      error  \n",
       "0   4.0   4.571429        0.0        2.0   9.0  22.177807  13.177807  \n",
       "1  12.0   8.136797       13.0        8.0  36.0  20.035034 -15.964966  \n",
       "2   7.0  10.153896        4.0       11.0   9.0  19.412422  10.412422  \n",
       "3  11.0  11.209524       12.0        8.0   8.0  18.006992  10.006992  \n",
       "4   7.0   5.615368       17.0        2.0  29.0  17.301994 -11.698006  \n",
       "\n",
       "[5 rows x 135 columns]"
      ]
     },
     "execution_count": 67,
     "metadata": {},
     "output_type": "execute_result"
    }
   ],
   "source": [
    "dt.head()"
   ]
  },
  {
   "cell_type": "code",
   "execution_count": 68,
   "id": "e64c1832-6adf-4d63-8b5e-1c954f4032a6",
   "metadata": {},
   "outputs": [],
   "source": [
    "savefigs = True\n",
    "sleep_cmap = {0:'#FAD02C', 1:'#333652'}\n"
   ]
  },
  {
   "cell_type": "code",
   "execution_count": 69,
   "id": "465b5830-084b-4f3e-9399-2633ab4b069d",
   "metadata": {},
   "outputs": [
    {
     "data": {
      "image/png": "[encoded data removed]",
      "text/plain": [
       "<Figure size 432x432 with 3 Axes>"
      ]
     },
     "metadata": {},
     "output_type": "display_data"
    },
    {
     "data": {
      "image/png": "[encoded data removed]",
      "text/plain": [
       "<Figure size 432x432 with 3 Axes>"
      ]
     },
     "metadata": {},
     "output_type": "display_data"
    }
   ],
   "source": [
    "p1 = sns.jointplot(x='RA', y='abs_attr', data=dt, rasterized=True, hue='sleep', palette=sleep_cmap, linewidth=0, s=3, space=0)\n",
    "if savefigs:\n",
    "    p1.savefig(os.path.join(pfp, 'joinplot_impVRA_byslp_v712.pdf'), bbox_inches='tight', dpi=600)\n",
    "\n",
    "p2 = sns.jointplot(x='IS', y='error', data=dt, hue='sleep', rasterized=True, linewidth=0, palette=sleep_cmap, s=3, space=0)\n",
    "if savefigs:\n",
    "    p2.savefig(os.path.join(pfp, 'joinplot_errorVRA_byslp_v712.pdf'), bbox_inches='tight', dpi=600)"
   ]
  },
  {
   "cell_type": "code",
   "execution_count": 26,
   "id": "c1d80342-a868-4bfb-a3d3-d37ae9575521",
   "metadata": {},
   "outputs": [],
   "source": [
    "n_samples = None"
   ]
  },
  {
   "cell_type": "code",
   "execution_count": 27,
   "id": "238f821f-9576-43a2-9e5c-6bb3a643fc55",
   "metadata": {},
   "outputs": [
    {
     "data": {
      "text/html": [
       "<div>\n",
       "<style scoped>\n",
       "    .dataframe tbody tr th:only-of-type {\n",
       "        vertical-align: middle;\n",
       "    }\n",
       "\n",
       "    .dataframe tbody tr th {\n",
       "        vertical-align: top;\n",
       "    }\n",
       "\n",
       "    .dataframe thead th {\n",
       "        text-align: right;\n",
       "    }\n",
       "</style>\n",
       "<table border=\"1\" class=\"dataframe\">\n",
       "  <thead>\n",
       "    <tr style=\"text-align: right;\">\n",
       "      <th></th>\n",
       "      <th>index</th>\n",
       "      <th>attr</th>\n",
       "      <th>uid</th>\n",
       "      <th>sleep</th>\n",
       "      <th>t</th>\n",
       "      <th>morningVevening</th>\n",
       "      <th>weekdayVweekend</th>\n",
       "      <th>dayVnight</th>\n",
       "      <th>group</th>\n",
       "      <th>abs_attr</th>\n",
       "      <th>...</th>\n",
       "      <th>ave_logpseudocount_wkday</th>\n",
       "      <th>ave_logpseudocount_day</th>\n",
       "      <th>ave_logpseudocount_night</th>\n",
       "      <th>PQSI</th>\n",
       "      <th>KPAS</th>\n",
       "      <th>EpworthSS</th>\n",
       "      <th>Edinburgh</th>\n",
       "      <th>GA</th>\n",
       "      <th>yhat</th>\n",
       "      <th>error</th>\n",
       "    </tr>\n",
       "  </thead>\n",
       "  <tbody>\n",
       "    <tr>\n",
       "      <th>0</th>\n",
       "      <td>6756</td>\n",
       "      <td>0.000227</td>\n",
       "      <td>1357_28</td>\n",
       "      <td>0</td>\n",
       "      <td>2018-06-30 16:36:00</td>\n",
       "      <td>NA</td>\n",
       "      <td>Weekend</td>\n",
       "      <td>Day</td>\n",
       "      <td>lt10wks</td>\n",
       "      <td>0.000227</td>\n",
       "      <td>...</td>\n",
       "      <td>1.186209</td>\n",
       "      <td>2.384875</td>\n",
       "      <td>0.838013</td>\n",
       "      <td>12.0</td>\n",
       "      <td>9.204329</td>\n",
       "      <td>12.0</td>\n",
       "      <td>3.0</td>\n",
       "      <td>28.0</td>\n",
       "      <td>24.052155</td>\n",
       "      <td>-3.947845</td>\n",
       "    </tr>\n",
       "    <tr>\n",
       "      <th>1</th>\n",
       "      <td>1383</td>\n",
       "      <td>0.000000</td>\n",
       "      <td>1338_34</td>\n",
       "      <td>1</td>\n",
       "      <td>2018-06-19 23:03:00</td>\n",
       "      <td>Evening</td>\n",
       "      <td>Weekday</td>\n",
       "      <td>Night</td>\n",
       "      <td>Lower-than-actual</td>\n",
       "      <td>0.000000</td>\n",
       "      <td>...</td>\n",
       "      <td>0.321872</td>\n",
       "      <td>0.245987</td>\n",
       "      <td>0.214954</td>\n",
       "      <td>7.0</td>\n",
       "      <td>4.571429</td>\n",
       "      <td>0.0</td>\n",
       "      <td>4.0</td>\n",
       "      <td>34.0</td>\n",
       "      <td>22.455322</td>\n",
       "      <td>-11.544678</td>\n",
       "    </tr>\n",
       "    <tr>\n",
       "      <th>2</th>\n",
       "      <td>9061</td>\n",
       "      <td>0.005963</td>\n",
       "      <td>1186_27</td>\n",
       "      <td>0</td>\n",
       "      <td>2018-01-18 07:01:00</td>\n",
       "      <td>Morning</td>\n",
       "      <td>Weekday</td>\n",
       "      <td>Day</td>\n",
       "      <td>Lower-than-actual</td>\n",
       "      <td>0.005963</td>\n",
       "      <td>...</td>\n",
       "      <td>2.764500</td>\n",
       "      <td>3.626507</td>\n",
       "      <td>1.581787</td>\n",
       "      <td>13.0</td>\n",
       "      <td>8.899654</td>\n",
       "      <td>10.0</td>\n",
       "      <td>6.0</td>\n",
       "      <td>27.0</td>\n",
       "      <td>11.846210</td>\n",
       "      <td>-15.153790</td>\n",
       "    </tr>\n",
       "    <tr>\n",
       "      <th>3</th>\n",
       "      <td>724</td>\n",
       "      <td>0.010284</td>\n",
       "      <td>1174_5</td>\n",
       "      <td>0</td>\n",
       "      <td>2017-09-06 12:04:00</td>\n",
       "      <td>NA</td>\n",
       "      <td>Weekday</td>\n",
       "      <td>Day</td>\n",
       "      <td>Higher-than-actual</td>\n",
       "      <td>0.010284</td>\n",
       "      <td>...</td>\n",
       "      <td>2.788079</td>\n",
       "      <td>3.322016</td>\n",
       "      <td>2.306502</td>\n",
       "      <td>8.0</td>\n",
       "      <td>7.640909</td>\n",
       "      <td>5.0</td>\n",
       "      <td>5.0</td>\n",
       "      <td>5.0</td>\n",
       "      <td>15.439292</td>\n",
       "      <td>10.439292</td>\n",
       "    </tr>\n",
       "    <tr>\n",
       "      <th>4</th>\n",
       "      <td>9115</td>\n",
       "      <td>0.000000</td>\n",
       "      <td>1052_14</td>\n",
       "      <td>1</td>\n",
       "      <td>2017-06-27 07:55:00</td>\n",
       "      <td>Morning</td>\n",
       "      <td>Weekday</td>\n",
       "      <td>Day</td>\n",
       "      <td>Higher-than-actual</td>\n",
       "      <td>0.000000</td>\n",
       "      <td>...</td>\n",
       "      <td>0.257999</td>\n",
       "      <td>0.336610</td>\n",
       "      <td>0.262500</td>\n",
       "      <td>17.0</td>\n",
       "      <td>9.803030</td>\n",
       "      <td>11.0</td>\n",
       "      <td>8.0</td>\n",
       "      <td>14.0</td>\n",
       "      <td>25.231812</td>\n",
       "      <td>11.231812</td>\n",
       "    </tr>\n",
       "  </tbody>\n",
       "</table>\n",
       "<p>5 rows × 135 columns</p>\n",
       "</div>"
      ],
      "text/plain": [
       "   index      attr      uid  sleep                   t morningVevening  \\\n",
       "0   6756  0.000227  1357_28      0 2018-06-30 16:36:00              NA   \n",
       "1   1383  0.000000  1338_34      1 2018-06-19 23:03:00         Evening   \n",
       "2   9061  0.005963  1186_27      0 2018-01-18 07:01:00         Morning   \n",
       "3    724  0.010284   1174_5      0 2017-09-06 12:04:00              NA   \n",
       "4   9115  0.000000  1052_14      1 2017-06-27 07:55:00         Morning   \n",
       "\n",
       "  weekdayVweekend dayVnight               group  abs_attr  ...  \\\n",
       "0         Weekend       Day             lt10wks  0.000227  ...   \n",
       "1         Weekday     Night   Lower-than-actual  0.000000  ...   \n",
       "2         Weekday       Day   Lower-than-actual  0.005963  ...   \n",
       "3         Weekday       Day  Higher-than-actual  0.010284  ...   \n",
       "4         Weekday       Day  Higher-than-actual  0.000000  ...   \n",
       "\n",
       "   ave_logpseudocount_wkday  ave_logpseudocount_day  ave_logpseudocount_night  \\\n",
       "0                  1.186209                2.384875                  0.838013   \n",
       "1                  0.321872                0.245987                  0.214954   \n",
       "2                  2.764500                3.626507                  1.581787   \n",
       "3                  2.788079                3.322016                  2.306502   \n",
       "4                  0.257999                0.336610                  0.262500   \n",
       "\n",
       "   PQSI      KPAS  EpworthSS  Edinburgh    GA       yhat      error  \n",
       "0  12.0  9.204329       12.0        3.0  28.0  24.052155  -3.947845  \n",
       "1   7.0  4.571429        0.0        4.0  34.0  22.455322 -11.544678  \n",
       "2  13.0  8.899654       10.0        6.0  27.0  11.846210 -15.153790  \n",
       "3   8.0  7.640909        5.0        5.0   5.0  15.439292  10.439292  \n",
       "4  17.0  9.803030       11.0        8.0  14.0  25.231812  11.231812  \n",
       "\n",
       "[5 rows x 135 columns]"
      ]
     },
     "execution_count": 27,
     "metadata": {},
     "output_type": "execute_result"
    }
   ],
   "source": [
    "dt.head()"
   ]
  },
  {
   "cell_type": "code",
   "execution_count": 28,
   "id": "5c7fe1e0-2735-4df8-a915-c9539fdd73e4",
   "metadata": {},
   "outputs": [
    {
     "name": "stdout",
     "output_type": "stream",
     "text": [
      "rho:-0.23 (P=0.00e+00***)\t<b>-<a>: 0.78\n",
      "rho:-0.17 (P=0.00e+00***)\t<b>-<a>: 0.81\n",
      "rho:-0.04 (P=1.31e-18***)\t<b>-<a>: 0.71\n"
     ]
    }
   ],
   "source": [
    "# all, g1, g2\n",
    "a_all = dt.loc[:, 'abs_attr']\n",
    "b_all = dt.loc[:, 'RA']\n",
    "\n",
    "a_slp = dt.loc[(dt['sleep']==1), 'abs_attr']\n",
    "b_slp = dt.loc[(dt['sleep']==1), 'RA']\n",
    "\n",
    "a_wk = dt.loc[(dt['sleep']==0), 'abs_attr']\n",
    "b_wk = dt.loc[(dt['sleep']==0), 'RA']\n",
    "\n",
    "def rho(a, b, n_samples=None, verbose=True):\n",
    "    rho, p = spearmanr(a if n_samples is None else np.random.choice(a, n_samples), \n",
    "                       b if n_samples is None else np.random.choice(b, n_samples))\n",
    "    if verbose:\n",
    "        print(f\"rho:{rho:.2f} (P={p:.2e}{p_encoder(p)})\\t<b>-<a>: {np.mean(b) - np.mean(a):.2f}\")\n",
    "    return rho, p\n",
    "\n",
    "    \n",
    "\n",
    "rho_all, p_all = rho(a_all, b_all)\n",
    "rho_slp, p_slp = rho(a_slp, b_slp)\n",
    "rho_wk, p_wk = rho(a_wk, b_wk)"
   ]
  },
  {
   "cell_type": "code",
   "execution_count": 29,
   "id": "fb227574-4acf-44ee-a776-cf708b4dbc6f",
   "metadata": {},
   "outputs": [
    {
     "name": "stdout",
     "output_type": "stream",
     "text": [
      "rho:0.10 (P=0.00e+00***)\t<b>-<a>: 0.45\n",
      "rho:0.11 (P=0.00e+00***)\t<b>-<a>: 0.79\n",
      "rho:0.01 (P=8.61e-02)\t<b>-<a>: -0.31\n"
     ]
    }
   ],
   "source": [
    "# all, g1, g2\n",
    "a_all = dt.loc[:, 'error']\n",
    "b_all = dt.loc[:, 'IS']\n",
    "\n",
    "a_slp = dt.loc[(dt['sleep']==1), 'error']\n",
    "b_slp = dt.loc[(dt['sleep']==1), 'IS']\n",
    "\n",
    "a_wk = dt.loc[(dt['sleep']==0), 'error']\n",
    "b_wk = dt.loc[(dt['sleep']==0), 'IS']    \n",
    "\n",
    "rho_all, p_all = rho(a_all, b_all)\n",
    "rho_slp, p_slp = rho(a_slp, b_slp)\n",
    "rho_wk, p_wk = rho(a_wk, b_wk)"
   ]
  },
  {
   "cell_type": "markdown",
   "id": "9a538960-bb4e-442a-b564-f1b2e8f80c39",
   "metadata": {},
   "source": [
    "### bar plots summary"
   ]
  },
  {
   "cell_type": "code",
   "execution_count": 30,
   "id": "1db1306c-1ff8-4d5e-bc5e-6803681410ee",
   "metadata": {},
   "outputs": [],
   "source": [
    "from wearables.scripts.aesthetics import md_node_annotation, md_node_category_cmap\n"
   ]
  },
  {
   "cell_type": "code",
   "execution_count": 44,
   "id": "24b32789-7488-4aec-9c5b-996ef4e29dbf",
   "metadata": {},
   "outputs": [
    {
     "data": {
      "text/plain": [
       "dict_keys(['res_4wk', 'res_err_grps', 'res_errgrp_ptb', 'impcorr_morningVevening', 'impcorr_weekdayVweekend', 'impcorr_dayVnight', 'impcorr_sleep', 'impcorr_group', 'errcorr'])"
      ]
     },
     "execution_count": 44,
     "metadata": {},
     "output_type": "execute_result"
    }
   ],
   "source": [
    "res.keys()"
   ]
  },
  {
   "cell_type": "code",
   "execution_count": 35,
   "id": "b2d15096-a893-4ec9-877b-7c8bd56feaba",
   "metadata": {},
   "outputs": [],
   "source": [
    "k_a = 'errcorr_group'\n",
    "dt = res[k_a]\n",
    "dt['cat'] = dt.index.map(md_node_annotation)\n",
    "dt = dt.loc[~dt['cat'].isna()]\n",
    "dt = dt.reset_index().melt(id_vars=['cat', 'index'])\n",
    "dt['value'] = dt['value'].abs()\n",
    "\n",
    "for v in dt['variable'].unique():\n",
    "    print(f\"\\ngrp: {v}\")\n",
    "    dtt = dt.loc[dt['variable']==v, :].sort_values(by='value', ascending=False)\n",
    "    dtt = dtt.reset_index()\n",
    "    print('  means per cat')\n",
    "    print(dtt.groupby('cat').mean(0)['value'].to_dict())\n",
    "    # print(dtt.groupby('cat').mean())\n",
    "    print('\\n  ranking:')\n",
    "    for i in range(10):\n",
    "        print(f\"{i+1}\\t{dtt.loc[i, 'index']} ({dtt.loc[i, 'cat']}): {dtt.loc[i, 'value']:.2f}\")\n",
    "    print('')"
   ]
  },
  {
   "cell_type": "code",
   "execution_count": 45,
   "id": "24ce9ab2-58ed-429f-8a05-be8fadfee866",
   "metadata": {},
   "outputs": [
    {
     "name": "stdout",
     "output_type": "stream",
     "text": [
      "\n",
      "grp: all\n",
      "  means per cat\n",
      "{'Activity-related': 0.26971691315796104, 'Comorbidities': 0.5162445569325458, 'Depression-related': 0.5521267767545758, 'Pregnancy outcome': 0.395947767543489, 'Procedural': 0.20196738263080985, 'Sleep-quality': 0.5445785602379748, 'Social determinants of health': 0.5294113678498291, 'Stress-related': 0.6172437422035355}\n",
      "\n",
      "  ranking:\n",
      "1\tgestage_by (Procedural): 0.68\n",
      "2\tasthma_yes___10 (Comorbidities): 0.64\n",
      "3\tedinb9_1trim (Depression-related): 0.64\n",
      "4\tedinb5_1trim (Depression-related): 0.64\n",
      "5\tslpwake_1trim (Sleep-quality): 0.63\n",
      "6\tsleep_qual1 (Sleep-quality): 0.63\n",
      "7\tslp30_1trim (Sleep-quality): 0.63\n",
      "8\tslpenergy1 (Sleep-quality): 0.63\n",
      "9\tchoosesleep_1trim (Sleep-quality): 0.62\n",
      "10\tstress7_1 (Stress-related): 0.62\n",
      "\n",
      "\n",
      "grp: lt10wks\n",
      "  means per cat\n",
      "{'Activity-related': 0.2261606100166196, 'Comorbidities': 0.5129532718925492, 'Depression-related': 0.5303820177116353, 'Pregnancy outcome': 0.40726126884677866, 'Procedural': 0.2076701361819235, 'Sleep-quality': 0.5343547718969595, 'Social determinants of health': 0.5418215183283347, 'Stress-related': 0.5992283186742311}\n",
      "\n",
      "  ranking:\n",
      "1\tasthma_yes___10 (Comorbidities): 0.72\n",
      "2\tinsur (Social determinants of health): 0.72\n",
      "3\tslpwake_1trim (Sleep-quality): 0.71\n",
      "4\tgestage_by (Procedural): 0.70\n",
      "5\tdeliv_mode (Procedural): 0.68\n",
      "6\tsleep_qual1 (Sleep-quality): 0.63\n",
      "7\tslpenergy1 (Sleep-quality): 0.62\n",
      "8\tslp30_1trim (Sleep-quality): 0.62\n",
      "9\talcohol (Social determinants of health): 0.62\n",
      "10\tdrugs (Social determinants of health): 0.61\n",
      "\n",
      "\n",
      "grp: Higher-than-actual\n",
      "  means per cat\n",
      "{'Activity-related': 0.21467626362256295, 'Comorbidities': 0.5375368221475897, 'Depression-related': 0.5070277366546502, 'Pregnancy outcome': 0.4186361412808364, 'Procedural': 0.2046551338634053, 'Sleep-quality': 0.5840813147798083, 'Social determinants of health': 0.532790054451623, 'Stress-related': 0.6727266892712283}\n",
      "\n",
      "  ranking:\n",
      "1\tstress4_1 (Stress-related): 0.67\n",
      "2\tstress9_1 (Stress-related): 0.67\n",
      "3\tstress10_1 (Stress-related): 0.67\n",
      "4\tstress8_1 (Stress-related): 0.67\n",
      "5\tstress5_1 (Stress-related): 0.67\n",
      "6\tstress7_1 (Stress-related): 0.67\n",
      "7\tstress3_1 (Stress-related): 0.67\n",
      "8\tstress2_1 (Stress-related): 0.67\n",
      "9\tstress6_1 (Stress-related): 0.67\n",
      "10\tstress1_1 (Stress-related): 0.67\n",
      "\n",
      "\n",
      "grp: Lower-than-actual\n",
      "  means per cat\n",
      "{'Activity-related': 0.360585864999938, 'Comorbidities': 0.5310793188675028, 'Depression-related': 0.5395609416688137, 'Pregnancy outcome': 0.44081852080570555, 'Procedural': 0.2190247174173774, 'Sleep-quality': 0.5674400046699843, 'Social determinants of health': 0.5325737494694962, 'Stress-related': 0.6065943467842944}\n",
      "\n",
      "  ranking:\n",
      "1\ttv1 (Sleep-quality): 0.66\n",
      "2\tanes_type (Procedural): 0.66\n",
      "3\tperiod_window1 (Comorbidities): 0.66\n",
      "4\tgestage_by (Procedural): 0.65\n",
      "5\tedinb1_1trim (Depression-related): 0.65\n",
      "6\tpassenger1 (Sleep-quality): 0.65\n",
      "7\trh (Pregnancy outcome): 0.65\n",
      "8\ttalking1 (Sleep-quality): 0.64\n",
      "9\tinactive1 (Sleep-quality): 0.64\n",
      "10\tafterlunch1 (Sleep-quality): 0.64\n",
      "\n"
     ]
    },
    {
     "name": "stderr",
     "output_type": "stream",
     "text": [
      "/home/ngrav/miniconda3/envs/wearables/lib/python3.8/site-packages/IPython/core/interactiveshell.py:3457: FutureWarning: Dropping invalid columns in DataFrameGroupBy.mean is deprecated. In a future version, a TypeError will be raised. Before calling .mean, select only columns which should be valid for the function.\n",
      "  exec(code_obj, self.user_global_ns, self.user_ns)\n"
     ]
    }
   ],
   "source": [
    "k_a = 'impcorr_group'\n",
    "dt = res[k_a]\n",
    "dt['cat'] = dt.index.map(md_node_annotation)\n",
    "dt = dt.loc[~dt['cat'].isna()]\n",
    "dt = dt.reset_index().melt(id_vars=['cat', 'index'])\n",
    "dt['value'] = dt['value'].abs()\n",
    "\n",
    "for v in dt['variable'].unique():\n",
    "    print(f\"\\ngrp: {v}\")\n",
    "    dtt = dt.loc[dt['variable']==v, :].sort_values(by='value', ascending=False)\n",
    "    dtt = dtt.reset_index()\n",
    "    print('  means per cat')\n",
    "    print(dtt.groupby('cat').mean(0)['value'].to_dict())\n",
    "    # print(dtt.groupby('cat').mean())\n",
    "    print('\\n  ranking:')\n",
    "    for i in range(10):\n",
    "        print(f\"{i+1}\\t{dtt.loc[i, 'index']} ({dtt.loc[i, 'cat']}): {dtt.loc[i, 'value']:.2f}\")\n",
    "    print('')"
   ]
  },
  {
   "cell_type": "markdown",
   "id": "8aa66313-ae73-4f54-a41d-080fe05535d2",
   "metadata": {},
   "source": [
    "### ptb+/- AND slp/wk vs imp/err"
   ]
  },
  {
   "cell_type": "code",
   "execution_count": 49,
   "id": "7be66ebf-7a98-494e-a7cc-a1c566d9befe",
   "metadata": {},
   "outputs": [],
   "source": [
    "df = res['res_4wk']\n",
    "df['abs_attr'] = df['attr'].abs()\n",
    "md_coi = [i for i in list(mdpred_voi_v2.keys()) if i in md.columns]\n",
    "dt = df.merge(md.loc[:, md_coi], left_on='uid', right_index=True, how='left')\n",
    "\n",
    "# sample? takes too long otherwise\n",
    "if True:\n",
    "    dt = dt.sample(200000).reset_index()\n",
    "    \n",
    "df = dt"
   ]
  },
  {
   "cell_type": "code",
   "execution_count": 50,
   "id": "7a5bafb1-448b-4677-8878-f85e20ba5271",
   "metadata": {},
   "outputs": [],
   "source": [
    "n_samples = 1000"
   ]
  },
  {
   "cell_type": "code",
   "execution_count": 51,
   "id": "39ad8891-37a5-4a8a-a3e2-e4227bd0312d",
   "metadata": {},
   "outputs": [
    {
     "name": "stdout",
     "output_type": "stream",
     "text": [
      "a:(61659,)\tb:(9523,)\t<b>-<a>: 0.00\tp:3.98e-01\n"
     ]
    }
   ],
   "source": [
    "\n",
    "a = df.loc[(df['ptb_37wks']==0) & (df['sleep']==0), 'abs_attr']\n",
    "b = df.loc[(df['ptb_37wks']==1) & (df['sleep']==0), 'abs_attr']\n",
    "stat, p = mannwhitneyu(a if n_samples is None else np.random.choice(a, n_samples), \n",
    "                       b if n_samples is None else np.random.choice(b, n_samples))\n",
    "print(f\"a:{a.shape}\\tb:{b.shape}\\t<b>-<a>: {np.mean(b) - np.mean(a):.2f}\\tp:{p:.2e}{p_encoder(p)}\")\n"
   ]
  },
  {
   "cell_type": "code",
   "execution_count": 52,
   "id": "61b9452d-33e9-42a2-885c-212c9f9a4403",
   "metadata": {},
   "outputs": [
    {
     "name": "stdout",
     "output_type": "stream",
     "text": [
      "a:(111280,)\tb:(17538,)\t<b>-<a>: 0.00\tp:4.20e-01\n"
     ]
    }
   ],
   "source": [
    "\n",
    "a = df.loc[(df['ptb_37wks']==0) & (df['sleep']==1), 'abs_attr']\n",
    "b = df.loc[(df['ptb_37wks']==1) & (df['sleep']==1), 'abs_attr']\n",
    "stat, p = mannwhitneyu(a if n_samples is None else np.random.choice(a, n_samples), \n",
    "                       b if n_samples is None else np.random.choice(b, n_samples))\n",
    "print(f\"a:{a.shape}\\tb:{b.shape}\\t<b>-<a>: {np.mean(b) - np.mean(a):.2f}\\tp:{p:.2e}{p_encoder(p)}\")\n"
   ]
  },
  {
   "cell_type": "code",
   "execution_count": 53,
   "id": "21ca1cc6-ee70-4ed3-bc83-050fc3651f7c",
   "metadata": {},
   "outputs": [
    {
     "name": "stdout",
     "output_type": "stream",
     "text": [
      "a:(61659,)\tb:(111280,)\t<b>-<a>: -0.04\tp:2.83e-256***\n"
     ]
    }
   ],
   "source": [
    "\n",
    "a = df.loc[(df['ptb_37wks']==0) & (df['sleep']==0), 'abs_attr']\n",
    "b = df.loc[(df['ptb_37wks']==0) & (df['sleep']==1), 'abs_attr']\n",
    "stat, p = mannwhitneyu(a if n_samples is None else np.random.choice(a, n_samples), \n",
    "                       b if n_samples is None else np.random.choice(b, n_samples))\n",
    "print(f\"a:{a.shape}\\tb:{b.shape}\\t<b>-<a>: {np.mean(b) - np.mean(a):.2f}\\tp:{p:.2e}{p_encoder(p)}\")\n"
   ]
  },
  {
   "cell_type": "code",
   "execution_count": 54,
   "id": "1b6750f7-1916-4a98-b096-58e2f1b9c90e",
   "metadata": {},
   "outputs": [
    {
     "name": "stdout",
     "output_type": "stream",
     "text": [
      "a:(9523,)\tb:(17538,)\t<b>-<a>: -0.04\tp:3.66e-272***\n"
     ]
    }
   ],
   "source": [
    "\n",
    "a = df.loc[(df['ptb_37wks']==1) & (df['sleep']==0), 'abs_attr']\n",
    "b = df.loc[(df['ptb_37wks']==1) & (df['sleep']==1), 'abs_attr']\n",
    "stat, p = mannwhitneyu(a if n_samples is None else np.random.choice(a, n_samples), \n",
    "                       b if n_samples is None else np.random.choice(b, n_samples))\n",
    "print(f\"a:{a.shape}\\tb:{b.shape}\\t<b>-<a>: {np.mean(b) - np.mean(a):.2f}\\tp:{p:.2e}{p_encoder(p)}\")\n"
   ]
  },
  {
   "cell_type": "code",
   "execution_count": 70,
   "id": "50af7adc-331d-43c9-8a5b-bfbad29c6e76",
   "metadata": {},
   "outputs": [
    {
     "ename": "KeyError",
     "evalue": "'ptb_37wks'",
     "output_type": "error",
     "traceback": [
      "\u001b[0;31m---------------------------------------------------------------------------\u001b[0m",
      "\u001b[0;31mKeyError\u001b[0m                                  Traceback (most recent call last)",
      "\u001b[0;32m~/miniconda3/envs/wearables/lib/python3.8/site-packages/pandas/core/indexes/base.py\u001b[0m in \u001b[0;36mget_loc\u001b[0;34m(self, key, method, tolerance)\u001b[0m\n\u001b[1;32m   3360\u001b[0m             \u001b[0;32mtry\u001b[0m\u001b[0;34m:\u001b[0m\u001b[0;34m\u001b[0m\u001b[0;34m\u001b[0m\u001b[0m\n\u001b[0;32m-> 3361\u001b[0;31m                 \u001b[0;32mreturn\u001b[0m \u001b[0mself\u001b[0m\u001b[0;34m.\u001b[0m\u001b[0m_engine\u001b[0m\u001b[0;34m.\u001b[0m\u001b[0mget_loc\u001b[0m\u001b[0;34m(\u001b[0m\u001b[0mcasted_key\u001b[0m\u001b[0;34m)\u001b[0m\u001b[0;34m\u001b[0m\u001b[0;34m\u001b[0m\u001b[0m\n\u001b[0m\u001b[1;32m   3362\u001b[0m             \u001b[0;32mexcept\u001b[0m \u001b[0mKeyError\u001b[0m \u001b[0;32mas\u001b[0m \u001b[0merr\u001b[0m\u001b[0;34m:\u001b[0m\u001b[0;34m\u001b[0m\u001b[0;34m\u001b[0m\u001b[0m\n",
      "\u001b[0;32m~/miniconda3/envs/wearables/lib/python3.8/site-packages/pandas/_libs/index.pyx\u001b[0m in \u001b[0;36mpandas._libs.index.IndexEngine.get_loc\u001b[0;34m()\u001b[0m\n",
      "\u001b[0;32m~/miniconda3/envs/wearables/lib/python3.8/site-packages/pandas/_libs/index.pyx\u001b[0m in \u001b[0;36mpandas._libs.index.IndexEngine.get_loc\u001b[0;34m()\u001b[0m\n",
      "\u001b[0;32mpandas/_libs/hashtable_class_helper.pxi\u001b[0m in \u001b[0;36mpandas._libs.hashtable.PyObjectHashTable.get_item\u001b[0;34m()\u001b[0m\n",
      "\u001b[0;32mpandas/_libs/hashtable_class_helper.pxi\u001b[0m in \u001b[0;36mpandas._libs.hashtable.PyObjectHashTable.get_item\u001b[0;34m()\u001b[0m\n",
      "\u001b[0;31mKeyError\u001b[0m: 'ptb_37wks'",
      "\nThe above exception was the direct cause of the following exception:\n",
      "\u001b[0;31mKeyError\u001b[0m                                  Traceback (most recent call last)",
      "\u001b[0;32m/tmp/ipykernel_1536959/3031460021.py\u001b[0m in \u001b[0;36m<module>\u001b[0;34m\u001b[0m\n\u001b[0;32m----> 1\u001b[0;31m \u001b[0ma\u001b[0m \u001b[0;34m=\u001b[0m \u001b[0mdf\u001b[0m\u001b[0;34m.\u001b[0m\u001b[0mloc\u001b[0m\u001b[0;34m[\u001b[0m\u001b[0;34m(\u001b[0m\u001b[0mdf\u001b[0m\u001b[0;34m[\u001b[0m\u001b[0;34m'ptb_37wks'\u001b[0m\u001b[0;34m]\u001b[0m\u001b[0;34m==\u001b[0m\u001b[0;36m0\u001b[0m\u001b[0;34m)\u001b[0m \u001b[0;34m&\u001b[0m \u001b[0;34m(\u001b[0m\u001b[0mdf\u001b[0m\u001b[0;34m[\u001b[0m\u001b[0;34m'sleep'\u001b[0m\u001b[0;34m]\u001b[0m\u001b[0;34m==\u001b[0m\u001b[0;36m0\u001b[0m\u001b[0;34m)\u001b[0m\u001b[0;34m,\u001b[0m \u001b[0;34m'error'\u001b[0m\u001b[0;34m]\u001b[0m\u001b[0;34m\u001b[0m\u001b[0;34m\u001b[0m\u001b[0m\n\u001b[0m\u001b[1;32m      2\u001b[0m \u001b[0mb\u001b[0m \u001b[0;34m=\u001b[0m \u001b[0mdf\u001b[0m\u001b[0;34m.\u001b[0m\u001b[0mloc\u001b[0m\u001b[0;34m[\u001b[0m\u001b[0;34m(\u001b[0m\u001b[0mdf\u001b[0m\u001b[0;34m[\u001b[0m\u001b[0;34m'ptb_37wks'\u001b[0m\u001b[0;34m]\u001b[0m\u001b[0;34m==\u001b[0m\u001b[0;36m1\u001b[0m\u001b[0;34m)\u001b[0m \u001b[0;34m&\u001b[0m \u001b[0;34m(\u001b[0m\u001b[0mdf\u001b[0m\u001b[0;34m[\u001b[0m\u001b[0;34m'sleep'\u001b[0m\u001b[0;34m]\u001b[0m\u001b[0;34m==\u001b[0m\u001b[0;36m0\u001b[0m\u001b[0;34m)\u001b[0m\u001b[0;34m,\u001b[0m \u001b[0;34m'error'\u001b[0m\u001b[0;34m]\u001b[0m\u001b[0;34m\u001b[0m\u001b[0;34m\u001b[0m\u001b[0m\n\u001b[1;32m      3\u001b[0m stat, p = mannwhitneyu(a if n_samples is None else np.random.choice(a, n_samples), \n\u001b[1;32m      4\u001b[0m                        b if n_samples is None else np.random.choice(b, n_samples))\n\u001b[1;32m      5\u001b[0m \u001b[0mprint\u001b[0m\u001b[0;34m(\u001b[0m\u001b[0;34mf\"a:{a.shape}\\tb:{b.shape}\\t<b>-<a>: {np.mean(b) - np.mean(a):.2f}\\tp:{p:.2e}{p_encoder(p)}\"\u001b[0m\u001b[0;34m)\u001b[0m\u001b[0;34m\u001b[0m\u001b[0;34m\u001b[0m\u001b[0m\n",
      "\u001b[0;32m~/miniconda3/envs/wearables/lib/python3.8/site-packages/pandas/core/frame.py\u001b[0m in \u001b[0;36m__getitem__\u001b[0;34m(self, key)\u001b[0m\n\u001b[1;32m   3453\u001b[0m             \u001b[0;32mif\u001b[0m \u001b[0mself\u001b[0m\u001b[0;34m.\u001b[0m\u001b[0mcolumns\u001b[0m\u001b[0;34m.\u001b[0m\u001b[0mnlevels\u001b[0m \u001b[0;34m>\u001b[0m \u001b[0;36m1\u001b[0m\u001b[0;34m:\u001b[0m\u001b[0;34m\u001b[0m\u001b[0;34m\u001b[0m\u001b[0m\n\u001b[1;32m   3454\u001b[0m                 \u001b[0;32mreturn\u001b[0m \u001b[0mself\u001b[0m\u001b[0;34m.\u001b[0m\u001b[0m_getitem_multilevel\u001b[0m\u001b[0;34m(\u001b[0m\u001b[0mkey\u001b[0m\u001b[0;34m)\u001b[0m\u001b[0;34m\u001b[0m\u001b[0;34m\u001b[0m\u001b[0m\n\u001b[0;32m-> 3455\u001b[0;31m             \u001b[0mindexer\u001b[0m \u001b[0;34m=\u001b[0m \u001b[0mself\u001b[0m\u001b[0;34m.\u001b[0m\u001b[0mcolumns\u001b[0m\u001b[0;34m.\u001b[0m\u001b[0mget_loc\u001b[0m\u001b[0;34m(\u001b[0m\u001b[0mkey\u001b[0m\u001b[0;34m)\u001b[0m\u001b[0;34m\u001b[0m\u001b[0;34m\u001b[0m\u001b[0m\n\u001b[0m\u001b[1;32m   3456\u001b[0m             \u001b[0;32mif\u001b[0m \u001b[0mis_integer\u001b[0m\u001b[0;34m(\u001b[0m\u001b[0mindexer\u001b[0m\u001b[0;34m)\u001b[0m\u001b[0;34m:\u001b[0m\u001b[0;34m\u001b[0m\u001b[0;34m\u001b[0m\u001b[0m\n\u001b[1;32m   3457\u001b[0m                 \u001b[0mindexer\u001b[0m \u001b[0;34m=\u001b[0m \u001b[0;34m[\u001b[0m\u001b[0mindexer\u001b[0m\u001b[0;34m]\u001b[0m\u001b[0;34m\u001b[0m\u001b[0;34m\u001b[0m\u001b[0m\n",
      "\u001b[0;32m~/miniconda3/envs/wearables/lib/python3.8/site-packages/pandas/core/indexes/base.py\u001b[0m in \u001b[0;36mget_loc\u001b[0;34m(self, key, method, tolerance)\u001b[0m\n\u001b[1;32m   3361\u001b[0m                 \u001b[0;32mreturn\u001b[0m \u001b[0mself\u001b[0m\u001b[0;34m.\u001b[0m\u001b[0m_engine\u001b[0m\u001b[0;34m.\u001b[0m\u001b[0mget_loc\u001b[0m\u001b[0;34m(\u001b[0m\u001b[0mcasted_key\u001b[0m\u001b[0;34m)\u001b[0m\u001b[0;34m\u001b[0m\u001b[0;34m\u001b[0m\u001b[0m\n\u001b[1;32m   3362\u001b[0m             \u001b[0;32mexcept\u001b[0m \u001b[0mKeyError\u001b[0m \u001b[0;32mas\u001b[0m \u001b[0merr\u001b[0m\u001b[0;34m:\u001b[0m\u001b[0;34m\u001b[0m\u001b[0;34m\u001b[0m\u001b[0m\n\u001b[0;32m-> 3363\u001b[0;31m                 \u001b[0;32mraise\u001b[0m \u001b[0mKeyError\u001b[0m\u001b[0;34m(\u001b[0m\u001b[0mkey\u001b[0m\u001b[0;34m)\u001b[0m \u001b[0;32mfrom\u001b[0m \u001b[0merr\u001b[0m\u001b[0;34m\u001b[0m\u001b[0;34m\u001b[0m\u001b[0m\n\u001b[0m\u001b[1;32m   3364\u001b[0m \u001b[0;34m\u001b[0m\u001b[0m\n\u001b[1;32m   3365\u001b[0m         \u001b[0;32mif\u001b[0m \u001b[0mis_scalar\u001b[0m\u001b[0;34m(\u001b[0m\u001b[0mkey\u001b[0m\u001b[0;34m)\u001b[0m \u001b[0;32mand\u001b[0m \u001b[0misna\u001b[0m\u001b[0;34m(\u001b[0m\u001b[0mkey\u001b[0m\u001b[0;34m)\u001b[0m \u001b[0;32mand\u001b[0m \u001b[0;32mnot\u001b[0m \u001b[0mself\u001b[0m\u001b[0;34m.\u001b[0m\u001b[0mhasnans\u001b[0m\u001b[0;34m:\u001b[0m\u001b[0;34m\u001b[0m\u001b[0;34m\u001b[0m\u001b[0m\n",
      "\u001b[0;31mKeyError\u001b[0m: 'ptb_37wks'"
     ]
    }
   ],
   "source": [
    "\n",
    "a = df.loc[(df['ptb_37wks']==0) & (df['sleep']==0), 'error']\n",
    "b = df.loc[(df['ptb_37wks']==1) & (df['sleep']==0), 'error']\n",
    "stat, p = mannwhitneyu(a if n_samples is None else np.random.choice(a, n_samples), \n",
    "                       b if n_samples is None else np.random.choice(b, n_samples))\n",
    "print(f\"a:{a.shape}\\tb:{b.shape}\\t<b>-<a>: {np.mean(b) - np.mean(a):.2f}\\tp:{p:.2e}{p_encoder(p)}\")\n"
   ]
  },
  {
   "cell_type": "code",
   "execution_count": 56,
   "id": "c98a497c-1a5d-4df1-91d4-39f6198cc56b",
   "metadata": {},
   "outputs": [
    {
     "name": "stdout",
     "output_type": "stream",
     "text": [
      "a:(111280,)\tb:(17538,)\t<b>-<a>: 0.13\tp:1.45e-02*\n"
     ]
    }
   ],
   "source": [
    "\n",
    "a = df.loc[(df['ptb_37wks']==0) & (df['sleep']==1), 'error']\n",
    "b = df.loc[(df['ptb_37wks']==1) & (df['sleep']==1), 'error']\n",
    "stat, p = mannwhitneyu(a if n_samples is None else np.random.choice(a, n_samples), \n",
    "                       b if n_samples is None else np.random.choice(b, n_samples))\n",
    "print(f\"a:{a.shape}\\tb:{b.shape}\\t<b>-<a>: {np.mean(b) - np.mean(a):.2f}\\tp:{p:.2e}{p_encoder(p)}\")\n"
   ]
  },
  {
   "cell_type": "code",
   "execution_count": 57,
   "id": "a5734a0b-0a84-4228-99a1-fd66b294aa25",
   "metadata": {},
   "outputs": [
    {
     "name": "stdout",
     "output_type": "stream",
     "text": [
      "a:(61659,)\tb:(111280,)\t<b>-<a>: 0.24\tp:2.65e-02*\n"
     ]
    }
   ],
   "source": [
    "\n",
    "a = df.loc[(df['ptb_37wks']==0) & (df['sleep']==0), 'error']\n",
    "b = df.loc[(df['ptb_37wks']==0) & (df['sleep']==1), 'error']\n",
    "stat, p = mannwhitneyu(a if n_samples is None else np.random.choice(a, n_samples), \n",
    "                       b if n_samples is None else np.random.choice(b, n_samples))\n",
    "print(f\"a:{a.shape}\\tb:{b.shape}\\t<b>-<a>: {np.mean(b) - np.mean(a):.2f}\\tp:{p:.2e}{p_encoder(p)}\")\n"
   ]
  },
  {
   "cell_type": "code",
   "execution_count": 58,
   "id": "21b375fe-0f49-4372-b37a-1557690d5bb6",
   "metadata": {},
   "outputs": [
    {
     "name": "stdout",
     "output_type": "stream",
     "text": [
      "a:(9523,)\tb:(17538,)\t<b>-<a>: 0.22\tp:3.59e-01\n"
     ]
    }
   ],
   "source": [
    "\n",
    "a = df.loc[(df['ptb_37wks']==1) & (df['sleep']==0), 'error']\n",
    "b = df.loc[(df['ptb_37wks']==1) & (df['sleep']==1), 'error']\n",
    "stat, p = mannwhitneyu(a if n_samples is None else np.random.choice(a, n_samples), \n",
    "                       b if n_samples is None else np.random.choice(b, n_samples))\n",
    "print(f\"a:{a.shape}\\tb:{b.shape}\\t<b>-<a>: {np.mean(b) - np.mean(a):.2f}\\tp:{p:.2e}{p_encoder(p)}\")\n"
   ]
  },
  {
   "cell_type": "code",
   "execution_count": null,
   "id": "c6b56210-362b-469f-8354-354d0d46667a",
   "metadata": {},
   "outputs": [],
   "source": []
  }
 ],
 "metadata": {
  "kernelspec": {
   "display_name": "Python 3 (ipykernel)",
   "language": "python",
   "name": "python3"
  },
  "language_info": {
   "codemirror_mode": {
    "name": "ipython",
    "version": 3
   },
   "file_extension": ".py",
   "mimetype": "text/x-python",
   "name": "python",
   "nbconvert_exporter": "python",
   "pygments_lexer": "ipython3",
   "version": "3.8.12"
  }
 },
 "nbformat": 4,
 "nbformat_minor": 5
}
