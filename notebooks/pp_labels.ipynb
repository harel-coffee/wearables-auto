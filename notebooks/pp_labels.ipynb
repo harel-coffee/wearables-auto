{
 "cells": [
  {
   "cell_type": "code",
   "execution_count": 36,
   "metadata": {},
   "outputs": [],
   "source": [
    "%matplotlib inline\n",
    "\n",
    "import pandas as pd\n",
    "import numpy as np\n",
    "import seaborn as sns\n",
    "import matplotlib.pyplot as plt\n",
    "import glob\n",
    "import os\n",
    "\n",
    "import torch\n",
    "import torch.nn as nn\n",
    "import torch.nn.functional as F\n",
    "\n",
    "# settings\n",
    "plt.rc('font', size = 9)\n",
    "plt.rc('font', family='sans serif')\n",
    "plt.rcParams['pdf.fonttype']=42\n",
    "plt.rcParams['ps.fonttype']=42\n",
    "plt.rcParams['text.usetex']=False\n",
    "plt.rcParams['legend.frameon']=False\n",
    "plt.rcParams['axes.grid']=False\n",
    "plt.rcParams['legend.markerscale']=0.5\n",
    "plt.rcParams['savefig.dpi']=600\n",
    "sns.set_style(\"ticks\")"
   ]
  },
  {
   "cell_type": "code",
   "execution_count": 37,
   "metadata": {},
   "outputs": [
    {
     "name": "stdout",
     "output_type": "stream",
     "text": [
      "  skipping\t /home/ngr/Downloads/MOD_1000_Woman_Activity_Data/1342_GA22.csv \t ['1342_GA22.csv']\n",
      "  skipping\t /home/ngr/Downloads/MOD_1000_Woman_Activity_Data/1342_GA22.mtn \t ['1342_GA22.mtn']\n",
      "  skipping\t /home/ngr/Downloads/MOD_1000_Woman_Activity_Data/1648 \t ['1648']\n",
      "  skipping\t /home/ngr/Downloads/MOD_1000_Woman_Activity_Data/1831_GA24.csv \t ['1831_GA24.csv']\n",
      "  skipping\t /home/ngr/Downloads/MOD_1000_Woman_Activity_Data/2202_GA34.mtn \t ['2202_GA34.mtn']\n"
     ]
    }
   ],
   "source": [
    "df = pd.DataFrame()\n",
    "for i, file in enumerate(glob.glob('/home/ngr/gdrive/wearables/data/MOD_1000_Woman_Activity_Data/*')):\n",
    "    labels = os.path.split(file)[1].split(' ')\n",
    "    if len(labels) == 4:\n",
    "        pid, status, _, ga = labels # gestational age\n",
    "    elif len(labels) == 2:\n",
    "        pid, status = labels\n",
    "        ga = np.nan\n",
    "    elif len(labels) == 3:\n",
    "        pid, status, ga = labels\n",
    "        if ga=='Loss':\n",
    "            ga = np.nan\n",
    "        elif ga=='Withdrawn':\n",
    "            status = 'Withdrawn'\n",
    "            ga = np.nan\n",
    "    elif len(labels) == 5:\n",
    "        pid, _, status, _, ga = labels\n",
    "    else: \n",
    "        print('  skipping\\t', file, '\\t', labels)\n",
    "        continue\n",
    "    dt = pd.DataFrame({'status':status, 'GA':ga, 'fpath':file}, index=[pid])\n",
    "    df = df.append(dt)"
   ]
  },
  {
   "cell_type": "code",
   "execution_count": 38,
   "metadata": {},
   "outputs": [],
   "source": [
    "# drop some erroneous ones \n",
    "df = df.loc[(df['status']!='Uploaded') & (df['status']!='Withdrawn') & (df['status']!='to'), :]"
   ]
  },
  {
   "cell_type": "code",
   "execution_count": 39,
   "metadata": {},
   "outputs": [
    {
     "data": {
      "text/plain": [
       "array(['Delivered', 'Miscarriage', 'Pregnant', 'Loss', 'Misscarriage',\n",
       "       'Closed', 'Delivere', 'Prgnant', 'Deliverd', 'Term', 'Preterm',\n",
       "       'IUFD', 'Delieverd', 'Delivery'], dtype=object)"
      ]
     },
     "execution_count": 39,
     "metadata": {},
     "output_type": "execute_result"
    }
   ],
   "source": [
    "df['status'].unique()"
   ]
  },
  {
   "cell_type": "code",
   "execution_count": 40,
   "metadata": {},
   "outputs": [
    {
     "data": {
      "text/plain": [
       "array(['/home/ngr/Downloads/MOD_1000_Woman_Activity_Data/1265 Closed Loss',\n",
       "       '/home/ngr/Downloads/MOD_1000_Woman_Activity_Data/1313 Closed Loss 26w6d',\n",
       "       '/home/ngr/Downloads/MOD_1000_Woman_Activity_Data/1375 Closed Loss 22wks0days',\n",
       "       '/home/ngr/Downloads/MOD_1000_Woman_Activity_Data/2405 Closed Loss 9w4d'],\n",
       "      dtype=object)"
      ]
     },
     "execution_count": 40,
     "metadata": {},
     "output_type": "execute_result"
    }
   ],
   "source": [
    "df.loc[df['status']=='Closed', 'fpath'].values"
   ]
  },
  {
   "cell_type": "code",
   "execution_count": 41,
   "metadata": {},
   "outputs": [
    {
     "data": {
      "text/plain": [
       "array(['/home/ngr/Downloads/MOD_1000_Woman_Activity_Data/1477 Term Delivered 39w2d',\n",
       "       '/home/ngr/Downloads/MOD_1000_Woman_Activity_Data/2411 Term 40w4d'],\n",
       "      dtype=object)"
      ]
     },
     "execution_count": 41,
     "metadata": {},
     "output_type": "execute_result"
    }
   ],
   "source": [
    "df.loc[df['status']=='Term', 'fpath'].values"
   ]
  },
  {
   "cell_type": "code",
   "execution_count": 42,
   "metadata": {},
   "outputs": [
    {
     "data": {
      "text/plain": [
       "array(['/home/ngr/Downloads/MOD_1000_Woman_Activity_Data/1482 Preterm 36w1d'],\n",
       "      dtype=object)"
      ]
     },
     "execution_count": 42,
     "metadata": {},
     "output_type": "execute_result"
    }
   ],
   "source": [
    "df.loc[df['status']=='Preterm', 'fpath'].values"
   ]
  },
  {
   "cell_type": "code",
   "execution_count": 43,
   "metadata": {},
   "outputs": [],
   "source": [
    "# if GA is NaN, mask that by that label, otherwise multiply by 1\n",
    "## give status label consistent names\n",
    "status_dict = {\n",
    "    'Delivered':'delivered', \n",
    "    'Miscarriage':'miscarriage', \n",
    "    'Pregnant':'pregnant', \n",
    "    'Loss':'miscarriage',\n",
    "    'Misscarriage':'miscarriage', \n",
    "    'Closed':'miscarriage', \n",
    "    'Delivere':'delivered',\n",
    "    'Prgnant':'pregnant', \n",
    "    'Deliverd':'delivered',\n",
    "    'Term':'delivered', \n",
    "    'Preterm':'delivered', \n",
    "    'IUFD':'miscarriage', \n",
    "    'Delieverd':'delivered', \n",
    "    'Delivery':'delivered',\n",
    "}\n",
    "\n",
    "df['status'] = df['status'].map(status_dict)"
   ]
  },
  {
   "cell_type": "code",
   "execution_count": 44,
   "metadata": {},
   "outputs": [],
   "source": [
    "df['status_label'] = df['status']\n",
    "df['status_label'] = df['status_label'].map({'delivered': 2, 'pregnant': 0, 'miscarriage': 1})"
   ]
  },
  {
   "cell_type": "code",
   "execution_count": 45,
   "metadata": {},
   "outputs": [
    {
     "data": {
      "text/html": [
       "<div>\n",
       "<style scoped>\n",
       "    .dataframe tbody tr th:only-of-type {\n",
       "        vertical-align: middle;\n",
       "    }\n",
       "\n",
       "    .dataframe tbody tr th {\n",
       "        vertical-align: top;\n",
       "    }\n",
       "\n",
       "    .dataframe thead th {\n",
       "        text-align: right;\n",
       "    }\n",
       "</style>\n",
       "<table border=\"1\" class=\"dataframe\">\n",
       "  <thead>\n",
       "    <tr style=\"text-align: right;\">\n",
       "      <th></th>\n",
       "      <th>status</th>\n",
       "      <th>GA</th>\n",
       "      <th>fpath</th>\n",
       "      <th>status_label</th>\n",
       "      <th>pid</th>\n",
       "    </tr>\n",
       "  </thead>\n",
       "  <tbody>\n",
       "    <tr>\n",
       "      <th>1265</th>\n",
       "      <td>miscarriage</td>\n",
       "      <td>NaN</td>\n",
       "      <td>/home/ngr/Downloads/MOD_1000_Woman_Activity_Da...</td>\n",
       "      <td>1</td>\n",
       "      <td>1265</td>\n",
       "    </tr>\n",
       "    <tr>\n",
       "      <th>1265</th>\n",
       "      <td>pregnant</td>\n",
       "      <td>NaN</td>\n",
       "      <td>/home/ngr/Downloads/MOD_1000_Woman_Activity_Da...</td>\n",
       "      <td>0</td>\n",
       "      <td>1265</td>\n",
       "    </tr>\n",
       "  </tbody>\n",
       "</table>\n",
       "</div>"
      ],
      "text/plain": [
       "           status   GA                                              fpath  \\\n",
       "1265  miscarriage  NaN  /home/ngr/Downloads/MOD_1000_Woman_Activity_Da...   \n",
       "1265     pregnant  NaN  /home/ngr/Downloads/MOD_1000_Woman_Activity_Da...   \n",
       "\n",
       "      status_label   pid  \n",
       "1265             1  1265  \n",
       "1265             0  1265  "
      ]
     },
     "execution_count": 45,
     "metadata": {},
     "output_type": "execute_result"
    }
   ],
   "source": [
    "df['pid'] = df.index\n",
    "df.loc[df.duplicated(subset='pid'), :]\n",
    "df.loc['1265', :]\n",
    "# this is fine to have duplicates"
   ]
  },
  {
   "cell_type": "code",
   "execution_count": 73,
   "metadata": {},
   "outputs": [],
   "source": [
    "# drop the one repeated one\n",
    "df = df.drop_duplicates(subset=['GA', 'status_label'])"
   ]
  },
  {
   "cell_type": "code",
   "execution_count": 48,
   "metadata": {},
   "outputs": [
    {
     "data": {
      "text/plain": [
       "array(['/home/ngr/Downloads/MOD_1000_Woman_Activity_Data/1014 Delivered _',\n",
       "       '/home/ngr/Downloads/MOD_1000_Woman_Activity_Data/1162 Delivered _',\n",
       "       '/home/ngr/Downloads/MOD_1000_Woman_Activity_Data/2006 Delivered _'],\n",
       "      dtype=object)"
      ]
     },
     "execution_count": 48,
     "metadata": {},
     "output_type": "execute_result"
    }
   ],
   "source": [
    "df.loc[df['GA']=='_', 'fpath'].values"
   ]
  },
  {
   "cell_type": "code",
   "execution_count": 49,
   "metadata": {},
   "outputs": [
    {
     "data": {
      "text/plain": [
       "array(['/home/ngr/Downloads/MOD_1000_Woman_Activity_Data/1645 Delivered Unknown GA'],\n",
       "      dtype=object)"
      ]
     },
     "execution_count": 49,
     "metadata": {},
     "output_type": "execute_result"
    }
   ],
   "source": [
    "df.loc[df['GA']=='GA', 'fpath'].values"
   ]
  },
  {
   "cell_type": "code",
   "execution_count": 50,
   "metadata": {},
   "outputs": [
    {
     "data": {
      "text/plain": [
       "array(['/home/ngr/Downloads/MOD_1000_Woman_Activity_Data/1812 Delivered FT',\n",
       "       '/home/ngr/Downloads/MOD_1000_Woman_Activity_Data/2586 Delivered FT'],\n",
       "      dtype=object)"
      ]
     },
     "execution_count": 50,
     "metadata": {},
     "output_type": "execute_result"
    }
   ],
   "source": [
    "df.loc[df['GA']=='FT', 'fpath'].values"
   ]
  },
  {
   "cell_type": "code",
   "execution_count": 51,
   "metadata": {},
   "outputs": [],
   "source": [
    "df.loc[(df['GA']=='GA') | (df['GA']=='_'), 'GA'] = np.nan\n",
    "df.loc[(df['GA']=='FT'), 'GA'] = '39w0d'\n",
    "\n",
    "for i in df.loc[[True if 'term' in str(i).lower() else False for i in df['GA']], :].index:\n",
    "    df.loc[i, 'GA'] = df.loc[i, 'GA'].split('erm')[1]\n"
   ]
  },
  {
   "cell_type": "code",
   "execution_count": 54,
   "metadata": {},
   "outputs": [
    {
     "data": {
      "text/plain": [
       "True"
      ]
     },
     "execution_count": 54,
     "metadata": {},
     "output_type": "execute_result"
    }
   ],
   "source": [
    "np.isnan(np.nan)"
   ]
  },
  {
   "cell_type": "code",
   "execution_count": 74,
   "metadata": {},
   "outputs": [
    {
     "name": "stderr",
     "output_type": "stream",
     "text": [
      "<ipython-input-74-252394e13f18>:1: SettingWithCopyWarning: \n",
      "A value is trying to be set on a copy of a slice from a DataFrame.\n",
      "Try using .loc[row_indexer,col_indexer] = value instead\n",
      "\n",
      "See the caveats in the documentation: https://pandas.pydata.org/pandas-docs/stable/user_guide/indexing.html#returning-a-view-versus-a-copy\n",
      "  df['GA_label'] = df['GA']\n",
      "/home/ngr/.local/lib/python3.8/site-packages/pandas/core/indexing.py:966: SettingWithCopyWarning: \n",
      "A value is trying to be set on a copy of a slice from a DataFrame.\n",
      "Try using .loc[row_indexer,col_indexer] = value instead\n",
      "\n",
      "See the caveats in the documentation: https://pandas.pydata.org/pandas-docs/stable/user_guide/indexing.html#returning-a-view-versus-a-copy\n",
      "  self.obj[item] = s\n"
     ]
    }
   ],
   "source": [
    "df['GA_label'] = df['GA']\n",
    "for i in df.index:\n",
    "    if isinstance(df.loc[i, 'GA_label'], str):\n",
    "        df.loc[i, 'GA_label'] = int(df.loc[i, 'GA_label'].lower().split('w')[0])\n",
    "        "
   ]
  },
  {
   "cell_type": "code",
   "execution_count": 75,
   "metadata": {},
   "outputs": [
    {
     "data": {
      "text/plain": [
       "array([37, nan, 39, 36, 33, 40, 38, 28, 35, 34, 41, 31, 8, 26, 22, 20, 24,\n",
       "       32, 29, 27, 23, 14, 17, 15, 25, 9, 13, 10, 30, 3, 11, 12],\n",
       "      dtype=object)"
      ]
     },
     "execution_count": 75,
     "metadata": {},
     "output_type": "execute_result"
    }
   ],
   "source": [
    "df['GA_label'].unique()"
   ]
  },
  {
   "cell_type": "code",
   "execution_count": 77,
   "metadata": {},
   "outputs": [],
   "source": [
    "df.to_csv('/home/ngr/gdrive/wearables/data/labels_per_file.csv')"
   ]
  },
  {
   "cell_type": "code",
   "execution_count": 80,
   "metadata": {},
   "outputs": [
    {
     "data": {
      "text/plain": [
       "'/home/ngr/Downloads/MOD_1000_Woman_Activity_Data/1001 Delivered Term 37w1d'"
      ]
     },
     "execution_count": 80,
     "metadata": {},
     "output_type": "execute_result"
    }
   ],
   "source": [
    "# quick viz\n",
    "pd.read_csv(df.loc['1001', 'fpath']"
   ]
  },
  {
   "cell_type": "code",
   "execution_count": 84,
   "metadata": {},
   "outputs": [],
   "source": [
    "for f in glob.glob(os.path.join(df.loc['1001', 'fpath'], '*.csv')):\n",
    "    dt = pd.read_csv(f, header=None)"
   ]
  },
  {
   "cell_type": "code",
   "execution_count": 85,
   "metadata": {},
   "outputs": [
    {
     "data": {
      "text/html": [
       "<div>\n",
       "<style scoped>\n",
       "    .dataframe tbody tr th:only-of-type {\n",
       "        vertical-align: middle;\n",
       "    }\n",
       "\n",
       "    .dataframe tbody tr th {\n",
       "        vertical-align: top;\n",
       "    }\n",
       "\n",
       "    .dataframe thead th {\n",
       "        text-align: right;\n",
       "    }\n",
       "</style>\n",
       "<table border=\"1\" class=\"dataframe\">\n",
       "  <thead>\n",
       "    <tr style=\"text-align: right;\">\n",
       "      <th></th>\n",
       "      <th>0</th>\n",
       "      <th>1</th>\n",
       "      <th>2</th>\n",
       "      <th>3</th>\n",
       "    </tr>\n",
       "  </thead>\n",
       "  <tbody>\n",
       "    <tr>\n",
       "      <th>0</th>\n",
       "      <td>UserID</td>\n",
       "      <td>1001_GA32</td>\n",
       "      <td>NaN</td>\n",
       "      <td>NaN</td>\n",
       "    </tr>\n",
       "    <tr>\n",
       "      <th>1</th>\n",
       "      <td>UserName</td>\n",
       "      <td>5900-282</td>\n",
       "      <td>NaN</td>\n",
       "      <td>NaN</td>\n",
       "    </tr>\n",
       "    <tr>\n",
       "      <th>2</th>\n",
       "      <td>Sex</td>\n",
       "      <td>Female</td>\n",
       "      <td>NaN</td>\n",
       "      <td>NaN</td>\n",
       "    </tr>\n",
       "    <tr>\n",
       "      <th>3</th>\n",
       "      <td>DOB</td>\n",
       "      <td>6/21/2017</td>\n",
       "      <td>NaN</td>\n",
       "      <td>NaN</td>\n",
       "    </tr>\n",
       "    <tr>\n",
       "      <th>4</th>\n",
       "      <td>FirmwareVersion</td>\n",
       "      <td>20</td>\n",
       "      <td>NaN</td>\n",
       "      <td>NaN</td>\n",
       "    </tr>\n",
       "    <tr>\n",
       "      <th>...</th>\n",
       "      <td>...</td>\n",
       "      <td>...</td>\n",
       "      <td>...</td>\n",
       "      <td>...</td>\n",
       "    </tr>\n",
       "    <tr>\n",
       "      <th>50560</th>\n",
       "      <td>7/26/2017</td>\n",
       "      <td>12:56:00 PM</td>\n",
       "      <td>0.0</td>\n",
       "      <td>70.905</td>\n",
       "    </tr>\n",
       "    <tr>\n",
       "      <th>50561</th>\n",
       "      <td>7/26/2017</td>\n",
       "      <td>12:57:00 PM</td>\n",
       "      <td>0.0</td>\n",
       "      <td>70.905</td>\n",
       "    </tr>\n",
       "    <tr>\n",
       "      <th>50562</th>\n",
       "      <td>7/26/2017</td>\n",
       "      <td>12:58:00 PM</td>\n",
       "      <td>0.0</td>\n",
       "      <td>67.860</td>\n",
       "    </tr>\n",
       "    <tr>\n",
       "      <th>50563</th>\n",
       "      <td>7/26/2017</td>\n",
       "      <td>12:59:00 PM</td>\n",
       "      <td>0.0</td>\n",
       "      <td>69.165</td>\n",
       "    </tr>\n",
       "    <tr>\n",
       "      <th>50564</th>\n",
       "      <td>7/26/2017</td>\n",
       "      <td>1:00:00 PM</td>\n",
       "      <td>0.0</td>\n",
       "      <td>66.120</td>\n",
       "    </tr>\n",
       "  </tbody>\n",
       "</table>\n",
       "<p>50565 rows × 4 columns</p>\n",
       "</div>"
      ],
      "text/plain": [
       "                     0            1    2       3\n",
       "0               UserID    1001_GA32  NaN     NaN\n",
       "1             UserName     5900-282  NaN     NaN\n",
       "2                  Sex       Female  NaN     NaN\n",
       "3                  DOB    6/21/2017  NaN     NaN\n",
       "4      FirmwareVersion           20  NaN     NaN\n",
       "...                ...          ...  ...     ...\n",
       "50560        7/26/2017  12:56:00 PM  0.0  70.905\n",
       "50561        7/26/2017  12:57:00 PM  0.0  70.905\n",
       "50562        7/26/2017  12:58:00 PM  0.0  67.860\n",
       "50563        7/26/2017  12:59:00 PM  0.0  69.165\n",
       "50564        7/26/2017   1:00:00 PM  0.0  66.120\n",
       "\n",
       "[50565 rows x 4 columns]"
      ]
     },
     "execution_count": 85,
     "metadata": {},
     "output_type": "execute_result"
    }
   ],
   "source": [
    "dt"
   ]
  },
  {
   "cell_type": "code",
   "execution_count": null,
   "metadata": {},
   "outputs": [],
   "source": []
  }
 ],
 "metadata": {
  "kernelspec": {
   "display_name": "Python 3",
   "language": "python",
   "name": "python3"
  },
  "language_info": {
   "codemirror_mode": {
    "name": "ipython",
    "version": 3
   },
   "file_extension": ".py",
   "mimetype": "text/x-python",
   "name": "python",
   "nbconvert_exporter": "python",
   "pygments_lexer": "ipython3",
   "version": "3.8.5"
  }
 },
 "nbformat": 4,
 "nbformat_minor": 4
}
