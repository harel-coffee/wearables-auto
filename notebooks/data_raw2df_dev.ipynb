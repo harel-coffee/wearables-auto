{
 "cells": [
  {
   "cell_type": "code",
   "execution_count": 2,
   "id": "0cefa499-6e06-4def-8483-6afaebf99a34",
   "metadata": {},
   "outputs": [],
   "source": [
    "%matplotlib inline\n",
    "\n",
    "import pandas as pd\n",
    "import numpy as np\n",
    "import matplotlib.pyplot as plt\n",
    "import seaborn as sns\n",
    "import glob\n",
    "import os\n",
    "import time\n",
    "import pickle\n",
    "import datetime\n",
    "import re\n",
    "import pyActigraphy\n",
    "\n",
    "import sys\n",
    "sys.path.append('/home/ngrav/project/')\n",
    "from wearables.scripts import utils as wearutils\n",
    "from wearables.scripts import data_v42 as weardata\n",
    "\n",
    "import torch\n",
    "\n",
    "plt.rc('font', size = 9)\n",
    "plt.rc('font', family='sans serif')\n",
    "plt.rcParams['pdf.fonttype']=42\n",
    "plt.rcParams['ps.fonttype']=42\n",
    "plt.rcParams['legend.frameon']=False\n",
    "plt.rcParams['axes.grid']=False\n",
    "plt.rcParams['legend.markerscale']=0.5\n",
    "plt.rcParams['savefig.dpi']=600\n",
    "sns.set_style(\"ticks\")"
   ]
  },
  {
   "cell_type": "code",
   "execution_count": null,
   "id": "2aa4f89e-1842-4d51-9edf-a59abf9ec19d",
   "metadata": {},
   "outputs": [],
   "source": [
    "# clean run \n",
    "rawdata = weardata.save_raw2df('/home/ngrav/data/wearables/MOD1000_modeldata.pkl')"
   ]
  },
  {
   "cell_type": "code",
   "execution_count": 3,
   "id": "cec39be4-4148-4eae-8ca8-2e94856a208e",
   "metadata": {},
   "outputs": [],
   "source": [
    "raw_fp='/home/ngrav/project/wearables/data/raw/MOD1000WomanActivityData20210707T213505Z-001/MOD 1000 Woman Activity Data/'\n",
    "raw_md_fp='/home/ngrav/project/wearables/data/raw/MOD_Data_2021.csv'\n",
    "raw_md = pd.read_csv(raw_md_fp, low_memory=False)"
   ]
  },
  {
   "cell_type": "code",
   "execution_count": 71,
   "id": "1216b11e-f6bb-4c09-9dec-52638bf68ad0",
   "metadata": {},
   "outputs": [
    {
     "data": {
      "text/plain": [
       "<module 'wearables.scripts.data_v42' from '/home/ngrav/project/wearables/scripts/data_v42.py'>"
      ]
     },
     "execution_count": 71,
     "metadata": {},
     "output_type": "execute_result"
    }
   ],
   "source": [
    "import importlib\n",
    "importlib.reload(weardata)"
   ]
  },
  {
   "cell_type": "code",
   "execution_count": 75,
   "id": "534d7858-ef4f-4cf3-b404-afd08b5f7294",
   "metadata": {},
   "outputs": [
    {
     "data": {
      "text/plain": [
       "2017-03-01 00:00:00   2017-03-01 00:00:00\n",
       "2017-03-01 00:01:00   2017-03-01 00:01:00\n",
       "2017-03-01 00:02:00   2017-03-01 00:02:00\n",
       "2017-03-01 00:03:00   2017-03-01 00:03:00\n",
       "2017-03-01 00:04:00   2017-03-01 00:04:00\n",
       "                              ...        \n",
       "2017-03-07 23:56:00   2017-03-07 23:56:00\n",
       "2017-03-07 23:57:00   2017-03-07 23:57:00\n",
       "2017-03-07 23:58:00   2017-03-07 23:58:00\n",
       "2017-03-07 23:59:00   2017-03-07 23:59:00\n",
       "2017-03-08 00:00:00   2017-03-08 00:00:00\n",
       "Length: 10081, dtype: datetime64[ns]"
      ]
     },
     "execution_count": 75,
     "metadata": {},
     "output_type": "execute_result"
    }
   ],
   "source": [
    "rawdata.data['1024_10']['t']"
   ]
  },
  {
   "cell_type": "code",
   "execution_count": 16,
   "id": "cc43f689-75a1-489d-bbcd-18d9ae511fd1",
   "metadata": {},
   "outputs": [
    {
     "name": "stdout",
     "output_type": "stream",
     "text": [
      "Could not find light measurement.\n",
      "Could not find light measurement.\n",
      "Could not find light measurement.\n",
      "Could not find light measurement.\n",
      "Could not find light measurement.\n",
      "Could not find light measurement.\n",
      "Could not find light measurement.\n",
      "Could not find light measurement.\n",
      "Could not find light measurement.\n",
      "Could not find light measurement.\n",
      "Could not find light measurement.\n",
      "Could not find light measurement.\n",
      "Could not find light measurement.\n",
      "Could not find light measurement.\n",
      "Could not find light measurement.\n",
      "Could not find light measurement.\n",
      "Could not find light measurement.\n",
      "Could not find light measurement.\n",
      "Could not find light measurement.\n",
      "Could not find light measurement.\n",
      "Could not find light measurement.\n",
      "Could not find light measurement.\n",
      "Could not find light measurement.\n",
      "Could not find light measurement.\n",
      "Could not find light measurement.\n",
      "Could not find light measurement.\n",
      "Could not find light measurement.\n",
      "Could not find light measurement.\n",
      "Could not find light measurement.\n",
      "Could not find light measurement.\n",
      "Could not find light measurement.\n",
      "Could not find light measurement.\n",
      "Could not find light measurement.\n",
      "Could not find light measurement.\n",
      "Could not find light measurement.\n",
      "Could not find light measurement.\n",
      "Could not find light measurement.\n",
      "Could not find light measurement.\n",
      "Could not find light measurement.\n",
      "Could not find light measurement.\n",
      "Could not find light measurement.\n",
      "Could not find light measurement.\n",
      "Could not find light measurement.\n",
      "Could not find light measurement.\n",
      "Could not find light measurement.\n",
      "Could not find light measurement.\n",
      "Could not find light measurement.\n",
      "Could not find light measurement.\n",
      "Could not find light measurement.\n",
      "Could not find light measurement.\n",
      "Could not find light measurement.\n",
      "Could not find light measurement.\n",
      "Could not find light measurement.\n",
      "Could not find light measurement.\n",
      "Could not find light measurement.\n",
      "Could not find light measurement.\n",
      "Could not find light measurement.\n",
      "Could not find light measurement.\n",
      "Could not find light measurement.\n",
      "Could not find light measurement.\n",
      "Could not find light measurement.\n",
      "Could not find light measurement.\n",
      "Could not find light measurement.\n",
      "Could not find light measurement.\n",
      "Could not find light measurement.\n",
      "Could not find light measurement.\n",
      "Could not find light measurement.\n",
      "Could not find light measurement.\n",
      "Could not find light measurement.\n",
      "Could not find light measurement.\n",
      "Could not find light measurement.\n",
      "Could not find light measurement.\n",
      "Could not find light measurement.\n",
      "Could not find light measurement.\n",
      "Could not find light measurement.\n",
      "Could not find light measurement.\n",
      "Could not find light measurement.\n",
      "Could not find light measurement.\n",
      "Could not find light measurement.\n",
      "Could not find light measurement.\n",
      "Could not find light measurement.\n",
      "Could not find light measurement.\n",
      "Could not find light measurement.\n",
      "Could not find light measurement.\n",
      "Could not find light measurement.\n",
      "Could not find light measurement.\n",
      "Could not find light measurement.\n",
      "Could not find light measurement.\n",
      "Could not find light measurement.\n",
      "Could not find light measurement.\n",
      "Could not find light measurement.\n",
      "Could not find light measurement.\n",
      "Could not find light measurement.\n",
      "Could not find light measurement.\n",
      "Could not find light measurement.\n",
      "Could not find light measurement.\n",
      "Could not find light measurement.\n",
      "Could not find light measurement.\n",
      "Could not find light measurement.\n",
      "Could not find light measurement.\n",
      "Could not find light measurement.\n",
      "Could not find light measurement.\n",
      "Could not find light measurement.\n",
      "Could not find light measurement.\n",
      "Could not find light measurement.\n",
      "Could not find light measurement.\n",
      "Corrupt file for ID: 1168_24\n",
      "Could not find light measurement.\n",
      "Could not find light measurement.\n",
      "Could not find light measurement.\n",
      "Could not find light measurement.\n",
      "Could not find light measurement.\n",
      "Could not find light measurement.\n",
      "Could not find light measurement.\n",
      "Could not find light measurement.\n",
      "Could not find light measurement.\n",
      "Could not find light measurement.\n",
      "\n",
      "Raw actigraphy data loaded in 11.8-min\n"
     ]
    }
   ],
   "source": [
    "rawdata = weardata.raw2df()"
   ]
  },
  {
   "cell_type": "code",
   "execution_count": 80,
   "id": "e508d12c-1c8b-4543-99b3-93766923a2b7",
   "metadata": {},
   "outputs": [],
   "source": [
    "k = '1024_10'"
   ]
  },
  {
   "cell_type": "code",
   "execution_count": 81,
   "id": "38f18817-d9ea-42a3-95af-e331a59ef2e0",
   "metadata": {},
   "outputs": [
    {
     "data": {
      "text/plain": [
       "dict_keys(['t', 'activity', 'light', 'sleep', 'test'])"
      ]
     },
     "execution_count": 81,
     "metadata": {},
     "output_type": "execute_result"
    }
   ],
   "source": [
    "rawdata.data[k]['test'] = {'blah':[]}\n",
    "rawdata.data[k].keys()"
   ]
  },
  {
   "cell_type": "code",
   "execution_count": 88,
   "id": "4f4e56ce-af92-4040-8836-43369d6eb910",
   "metadata": {},
   "outputs": [
    {
     "name": "stderr",
     "output_type": "stream",
     "text": [
      "/home/ngrav/miniconda3/envs/wearables/lib/python3.8/site-packages/seaborn/distributions.py:2557: FutureWarning: `distplot` is a deprecated function and will be removed in a future version. Please adapt your code to use either `displot` (a figure-level function with similar flexibility) or `histplot` (an axes-level function for histograms).\n",
      "  warnings.warn(msg, FutureWarning)\n"
     ]
    },
    {
     "data": {
      "text/plain": [
       "<AxesSubplot:ylabel='Density'>"
      ]
     },
     "execution_count": 88,
     "metadata": {},
     "output_type": "execute_result"
    },
    {
     "data": {
      "image/png": "[encoded data removed]",
      "text/plain": [
       "<Figure size 432x288 with 1 Axes>"
      ]
     },
     "metadata": {},
     "output_type": "display_data"
    }
   ],
   "source": [
    "sns.distplot(rawdata.data[k]['light'])"
   ]
  },
  {
   "cell_type": "code",
   "execution_count": 89,
   "id": "603fcfcd-fe36-4ca9-8f1a-6a23d5966d7b",
   "metadata": {},
   "outputs": [
    {
     "name": "stderr",
     "output_type": "stream",
     "text": [
      "/home/ngrav/miniconda3/envs/wearables/lib/python3.8/site-packages/seaborn/distributions.py:2557: FutureWarning: `distplot` is a deprecated function and will be removed in a future version. Please adapt your code to use either `displot` (a figure-level function with similar flexibility) or `histplot` (an axes-level function for histograms).\n",
      "  warnings.warn(msg, FutureWarning)\n"
     ]
    },
    {
     "data": {
      "text/plain": [
       "<AxesSubplot:ylabel='Density'>"
      ]
     },
     "execution_count": 89,
     "metadata": {},
     "output_type": "execute_result"
    },
    {
     "data": {
      "image/png": "[encoded data removed]",
      "text/plain": [
       "<Figure size 432x288 with 1 Axes>"
      ]
     },
     "metadata": {},
     "output_type": "display_data"
    }
   ],
   "source": [
    "sns.distplot(np.log(rawdata.data[k]['light'] +1))"
   ]
  },
  {
   "cell_type": "code",
   "execution_count": 87,
   "id": "62210c49-8787-4ada-9b7c-725b1c0ec815",
   "metadata": {},
   "outputs": [
    {
     "name": "stderr",
     "output_type": "stream",
     "text": [
      "/home/ngrav/miniconda3/envs/wearables/lib/python3.8/site-packages/seaborn/distributions.py:2557: FutureWarning: `distplot` is a deprecated function and will be removed in a future version. Please adapt your code to use either `displot` (a figure-level function with similar flexibility) or `histplot` (an axes-level function for histograms).\n",
      "  warnings.warn(msg, FutureWarning)\n"
     ]
    },
    {
     "data": {
      "text/plain": [
       "<AxesSubplot:ylabel='Density'>"
      ]
     },
     "execution_count": 87,
     "metadata": {},
     "output_type": "execute_result"
    },
    {
     "data": {
      "image/png": "[encoded data removed]",
      "text/plain": [
       "<Figure size 432x288 with 1 Axes>"
      ]
     },
     "metadata": {},
     "output_type": "display_data"
    }
   ],
   "source": [
    "sns.distplot(rawdata.data[k]['activity'])"
   ]
  },
  {
   "cell_type": "code",
   "execution_count": 86,
   "id": "d13f4743-5eaf-4152-b28d-1fee87041b76",
   "metadata": {},
   "outputs": [
    {
     "name": "stderr",
     "output_type": "stream",
     "text": [
      "/home/ngrav/miniconda3/envs/wearables/lib/python3.8/site-packages/seaborn/distributions.py:2557: FutureWarning: `distplot` is a deprecated function and will be removed in a future version. Please adapt your code to use either `displot` (a figure-level function with similar flexibility) or `histplot` (an axes-level function for histograms).\n",
      "  warnings.warn(msg, FutureWarning)\n"
     ]
    },
    {
     "data": {
      "text/plain": [
       "<AxesSubplot:ylabel='Density'>"
      ]
     },
     "execution_count": 86,
     "metadata": {},
     "output_type": "execute_result"
    },
    {
     "data": {
      "image/png": "[encoded data removed]",
      "text/plain": [
       "<Figure size 432x288 with 1 Axes>"
      ]
     },
     "metadata": {},
     "output_type": "display_data"
    }
   ],
   "source": [
    "sns.distplot(np.log(rawdata.data[k]['activity']+1))"
   ]
  },
  {
   "cell_type": "code",
   "execution_count": null,
   "id": "1b653eba-56de-4a36-b1b2-3855ee75cdf3",
   "metadata": {},
   "outputs": [],
   "source": [
    "len(np.unique([i.split('_')[0] for i in rawdata.exclude[k]] if isinstance(rawdata.exclude[k], list) else rawdata.exclude[k].split('_')[0]))))"
   ]
  },
  {
   "cell_type": "code",
   "execution_count": 43,
   "id": "97060640-a14b-4da8-84a8-a247276d8647",
   "metadata": {},
   "outputs": [
    {
     "name": "stdout",
     "output_type": "stream",
     "text": [
      "Exclusion criteria (n_measurements, n_pts)\n",
      "  no_lux: (116, 110)\n",
      "  chk_t: (7, 1)\n",
      "  lt_1d: (7, 1)\n",
      "  lt_max_t: (0, 0)\n",
      "  corrupt_mtn: (7, 1)\n"
     ]
    }
   ],
   "source": [
    "print('Exclusion criteria (n_measurements, n_pts)')\n",
    "for k in rawdata.exclude.keys():\n",
    "    print('  {}: ({}, {})'.format(k, \n",
    "                               len(rawdata.exclude[k]), \n",
    "                               len(np.unique([i.split('_')[0] for i in rawdata.exclude[k]] if isinstance(rawdata.exclude[k], list) else rawdata.exclude[k].split('_')[0]))))\n"
   ]
  },
  {
   "cell_type": "code",
   "execution_count": 76,
   "id": "b990cb17-842d-41e3-83bd-e161399c30b8",
   "metadata": {},
   "outputs": [
    {
     "data": {
      "text/plain": [
       "dict_values([['2003_29', '2015_25', '1464_7', '1636_33', '2045_18', '1327_32', '1473_17', '2005_31', '2049_20', '1639_31', '2020_28', '1769_17', '1273_34', '1283_32', '1447_20', '2026_24', '2029_23', '2470_24', '2009_29', '2055_15', '2044_19', '1319_25', '2035_20', '1418_23', '1741_28', '1448_21', '1713_32', '1216_38', '1340_26', '2216_20', '2087_8', '1679_25', '1465_15', '1467_12', '2460_34', '1667_27', '1646_36', '1364_25', '2435_34', '1619_32', '1661_31', '1714_35', '1253_32', '2397_34', '1698_34', '1627_33', '1758_28', '1315_36', '2496_20', '1654_25', '1654_32', '2488_24', '1662_29', '1623_32', '1690_34', '1695_33', '1716_21', '1729_32', '1726_29', '1463_8', '1830_6', '1598_35', '1676_36', '1797_34', '1797_25', '1477_18', '2486_27', '1707_34', '1761_24', '1782_19', '1782_30', '1766_30', '1711_33', '1739_23', '1778_14', '1783_18', '1783_34', '1771_24', '1771_12', '1771_35', '2551_10', '1763_12', '1775_15', '1730_24', '1678_26', '2520_11', '1823_17', '1788_10', '1807_15', '2550_33', '1805_12', '1795_11', '2549_34', '1810_11', '1799_12', '1784_20', '2621_14', '1774_19', '1794_8', '2609_33', '2625_24', '2617_24', '1848_11', '1836_7', '1812_9', '1747_26', '2622_24', '1746_9', '1745_11', '1345_24', '1819_6', '1468_12', '2256_10', '1594_32', '1328_34', '1476_13'], '1605_11', '1325_32', ['123'], '1168_24'])"
      ]
     },
     "execution_count": 76,
     "metadata": {},
     "output_type": "execute_result"
    }
   ],
   "source": [
    "rawdata.exclude.values()"
   ]
  },
  {
   "cell_type": "code",
   "execution_count": 28,
   "id": "3215bf7d-481d-4611-9b23-11e758431e09",
   "metadata": {},
   "outputs": [
    {
     "data": {
      "text/plain": [
       "'1325_32'"
      ]
     },
     "execution_count": 28,
     "metadata": {},
     "output_type": "execute_result"
    }
   ],
   "source": [
    "rawdata.exclude['lt_1d']"
   ]
  },
  {
   "cell_type": "code",
   "execution_count": 27,
   "id": "b9a020b6-bad3-4894-b11a-c65dfac14d38",
   "metadata": {},
   "outputs": [
    {
     "data": {
      "text/plain": [
       "'1168_24'"
      ]
     },
     "execution_count": 27,
     "metadata": {},
     "output_type": "execute_result"
    }
   ],
   "source": [
    "rawdata.exclude['corrupt_mtn']"
   ]
  },
  {
   "cell_type": "code",
   "execution_count": 46,
   "id": "32529036-923d-45da-aaa4-633f0125569a",
   "metadata": {},
   "outputs": [],
   "source": [
    "rawdata.exclude['lt_max_t'].append('123')"
   ]
  },
  {
   "cell_type": "code",
   "execution_count": 47,
   "id": "7dddab5e-51d6-4c64-ab69-a28e96e361e4",
   "metadata": {},
   "outputs": [
    {
     "data": {
      "text/plain": [
       "['123']"
      ]
     },
     "execution_count": 47,
     "metadata": {},
     "output_type": "execute_result"
    }
   ],
   "source": [
    "rawdata.exclude['lt_max_t']"
   ]
  },
  {
   "cell_type": "markdown",
   "id": "01b34969-67b9-4455-a547-aa854291b492",
   "metadata": {},
   "source": [
    "# dev"
   ]
  },
  {
   "cell_type": "code",
   "execution_count": 20,
   "id": "9fa6bc4a-920e-4167-ab1b-c110caddf4d2",
   "metadata": {},
   "outputs": [
    {
     "name": "stdout",
     "output_type": "stream",
     "text": [
      "2633_22\n",
      "2633\n"
     ]
    }
   ],
   "source": [
    "# select a random file\n",
    "ID = np.random.choice(list(rawdata.IDs.keys()))\n",
    "file = rawdata.IDs[ID]\n",
    "print(ID)\n",
    "\n",
    "raw = pyActigraphy.io.read_raw_mtn(file)\n",
    "print(raw.name)"
   ]
  },
  {
   "cell_type": "markdown",
   "id": "cda7895b-ead2-4b2f-9cdc-17a3c1d6ed4a",
   "metadata": {},
   "source": [
    "# grab metadata and labels\n"
   ]
  },
  {
   "cell_type": "code",
   "execution_count": 31,
   "id": "cd9388c9-569b-4c47-bea6-6d446381c107",
   "metadata": {},
   "outputs": [],
   "source": [
    "raw_fp='/home/ngrav/project/wearables/data/raw/MOD1000WomanActivityData20210707T213505Z-001/MOD 1000 Woman Activity Data/'\n",
    "raw_md_fp='/home/ngrav/project/wearables/data/raw/MOD_Data_2021.csv'\n",
    "raw_md = pd.read_csv(raw_md_fp, low_memory=False)"
   ]
  },
  {
   "cell_type": "code",
   "execution_count": 48,
   "id": "4a321204-08c7-4558-8400-279ac2e77704",
   "metadata": {},
   "outputs": [],
   "source": [
    "# import variable from file\n",
    "from wearables.data.processed.md_pp_specification import *"
   ]
  },
  {
   "cell_type": "code",
   "execution_count": 34,
   "id": "64bd781d-9398-4cb9-8223-f6424d3ffcd5",
   "metadata": {},
   "outputs": [
    {
     "data": {
      "text/plain": [
       "[]"
      ]
     },
     "execution_count": 34,
     "metadata": {},
     "output_type": "execute_result"
    }
   ],
   "source": [
    "# chk that all PIDs have info in the metadata (produce themd_pp_specificationmpty list)\n",
    "IDs = list(rawdata.IDs.keys())\n",
    "[i for i in IDs if int(i.split('_')[0]) not in raw_md['record_id'].tolist()]"
   ]
  },
  {
   "cell_type": "code",
   "execution_count": 63,
   "id": "7f4b6ad2-6288-44e9-8b14-6862e2257c7e",
   "metadata": {},
   "outputs": [
    {
     "data": {
      "text/plain": [
       "(1260, 3081)"
      ]
     },
     "execution_count": 63,
     "metadata": {},
     "output_type": "execute_result"
    }
   ],
   "source": [
    "raw_md.loc[raw_md['record_id'].isin([int(i.split('_')[0]) for i in IDs] ), :].shape"
   ]
  },
  {
   "cell_type": "code",
   "execution_count": null,
   "id": "e60aa858-39e3-4fd5-9a5c-46fafe54bd42",
   "metadata": {},
   "outputs": [],
   "source": []
  },
  {
   "cell_type": "code",
   "execution_count": 69,
   "id": "20941c69-2381-4d23-a668-293f9e4b23ff",
   "metadata": {},
   "outputs": [],
   "source": [
    "with open('/home/ngrav/scratch/IDs.pkl', 'wb') as f:\n",
    "    pickle.dump(list(rawdata.IDs.keys()), f, protocol=pickle.HIGHEST_PROTOCOL)\n",
    "    f.close()"
   ]
  },
  {
   "cell_type": "code",
   "execution_count": 57,
   "id": "9cec553a-5126-41f8-a948-9c885d534335",
   "metadata": {},
   "outputs": [],
   "source": [
    "def delete_problematic_measurements(exclude_list=['no_lux', 'corrupt_mtn', 'lt_1d', 'chk_t']):\n",
    "    for problem in exclude_list:\n",
    "        if isinstance(rawdata.exclude[problem], list):\n",
    "            for k in list(rawdata.exclude[problem]):\n",
    "                print(k)\n",
    "                del rawdata.IDs[k]\n",
    "                del rawdata.data[k]\n",
    "        else:\n",
    "            print(rawdata.exclude[problem])\n",
    "            del rawdata.data[rawdata.exclude[problem]]\n",
    "            del rawdata.IDs[rawdata.exclude[problem]]"
   ]
  },
  {
   "cell_type": "code",
   "execution_count": 59,
   "id": "bebf3c18-f148-469b-8f4b-2986cabbffaf",
   "metadata": {},
   "outputs": [
    {
     "name": "stdout",
     "output_type": "stream",
     "text": [
      "2003_29\n"
     ]
    },
    {
     "ename": "KeyError",
     "evalue": "'2003_29'",
     "output_type": "error",
     "traceback": [
      "\u001b[0;31m---------------------------------------------------------------------------\u001b[0m",
      "\u001b[0;31mKeyError\u001b[0m                                  Traceback (most recent call last)",
      "\u001b[0;32m/tmp/ipykernel_27929/2718073654.py\u001b[0m in \u001b[0;36m<module>\u001b[0;34m\u001b[0m\n\u001b[1;32m      1\u001b[0m \u001b[0;31m# filter out the IDs\u001b[0m\u001b[0;34m\u001b[0m\u001b[0;34m\u001b[0m\u001b[0;34m\u001b[0m\u001b[0m\n\u001b[0;32m----> 2\u001b[0;31m \u001b[0mdelete_problematic_measurements\u001b[0m\u001b[0;34m(\u001b[0m\u001b[0;34m)\u001b[0m\u001b[0;34m\u001b[0m\u001b[0;34m\u001b[0m\u001b[0m\n\u001b[0m",
      "\u001b[0;32m/tmp/ipykernel_27929/572939908.py\u001b[0m in \u001b[0;36mdelete_problematic_measurements\u001b[0;34m(exclude_list)\u001b[0m\n\u001b[1;32m      4\u001b[0m             \u001b[0;32mfor\u001b[0m \u001b[0mk\u001b[0m \u001b[0;32min\u001b[0m \u001b[0mlist\u001b[0m\u001b[0;34m(\u001b[0m\u001b[0mrawdata\u001b[0m\u001b[0;34m.\u001b[0m\u001b[0mexclude\u001b[0m\u001b[0;34m[\u001b[0m\u001b[0mproblem\u001b[0m\u001b[0;34m]\u001b[0m\u001b[0;34m)\u001b[0m\u001b[0;34m:\u001b[0m\u001b[0;34m\u001b[0m\u001b[0;34m\u001b[0m\u001b[0m\n\u001b[1;32m      5\u001b[0m                 \u001b[0mprint\u001b[0m\u001b[0;34m(\u001b[0m\u001b[0mk\u001b[0m\u001b[0;34m)\u001b[0m\u001b[0;34m\u001b[0m\u001b[0;34m\u001b[0m\u001b[0m\n\u001b[0;32m----> 6\u001b[0;31m                 \u001b[0;32mdel\u001b[0m \u001b[0mrawdata\u001b[0m\u001b[0;34m.\u001b[0m\u001b[0mIDs\u001b[0m\u001b[0;34m[\u001b[0m\u001b[0mk\u001b[0m\u001b[0;34m]\u001b[0m\u001b[0;34m\u001b[0m\u001b[0;34m\u001b[0m\u001b[0m\n\u001b[0m\u001b[1;32m      7\u001b[0m                 \u001b[0;32mdel\u001b[0m \u001b[0mrawdata\u001b[0m\u001b[0;34m.\u001b[0m\u001b[0mdata\u001b[0m\u001b[0;34m[\u001b[0m\u001b[0mk\u001b[0m\u001b[0;34m]\u001b[0m\u001b[0;34m\u001b[0m\u001b[0;34m\u001b[0m\u001b[0m\n\u001b[1;32m      8\u001b[0m         \u001b[0;32melse\u001b[0m\u001b[0;34m:\u001b[0m\u001b[0;34m\u001b[0m\u001b[0;34m\u001b[0m\u001b[0m\n",
      "\u001b[0;31mKeyError\u001b[0m: '2003_29'"
     ]
    }
   ],
   "source": [
    "# filter out the IDs\n",
    "delete_problematic_measurements()"
   ]
  },
  {
   "cell_type": "code",
   "execution_count": null,
   "id": "20000278-19d3-40b7-808f-cb6f60bf508c",
   "metadata": {},
   "outputs": [],
   "source": []
  },
  {
   "cell_type": "code",
   "execution_count": null,
   "id": "f0cdb05a-c731-49ff-8f86-b97075fabb55",
   "metadata": {},
   "outputs": [],
   "source": []
  },
  {
   "cell_type": "markdown",
   "id": "8a480c76-e650-4b10-8f35-6ce72bd68fb1",
   "metadata": {},
   "source": [
    "# train test splits\n"
   ]
  },
  {
   "cell_type": "markdown",
   "id": "b8f4891c-2682-45b9-bdfd-f95d2ab7aa45",
   "metadata": {},
   "source": [
    "# visuzlize from train based on md"
   ]
  },
  {
   "cell_type": "code",
   "execution_count": null,
   "id": "ea59bf48-24c4-4a82-81af-ef0f8cd943c2",
   "metadata": {},
   "outputs": [],
   "source": []
  }
 ],
 "metadata": {
  "kernelspec": {
   "display_name": "Python 3 (ipykernel)",
   "language": "python",
   "name": "python3"
  },
  "language_info": {
   "codemirror_mode": {
    "name": "ipython",
    "version": 3
   },
   "file_extension": ".py",
   "mimetype": "text/x-python",
   "name": "python",
   "nbconvert_exporter": "python",
   "pygments_lexer": "ipython3",
   "version": "3.8.10"
  }
 },
 "nbformat": 4,
 "nbformat_minor": 5
}
