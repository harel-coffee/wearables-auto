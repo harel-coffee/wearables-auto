{
 "cells": [
  {
   "cell_type": "code",
   "execution_count": 11,
   "id": "9720ee38-07bd-4acd-819f-af056775f0f0",
   "metadata": {},
   "outputs": [
    {
     "data": {
      "text/plain": [
       "'\\nFrom SO: https://stackoverflow.com/questions/21052509/sklearn-knn-usage-with-a-user-defined-metric \\n\\n>>> def mydist(x, y, **kwargs):\\n...     return np.sum((x-y)**kwargs[\"metric_params\"][\"power\"])\\n...\\n>>> X = np.array([[-1, -1], [-2, -1], [-3, -2], [1, 1], [2, 1], [3, 2]])\\n>>> Y = np.array([-1, -1, -2, 1, 1, 2])\\n>>> nbrs = KNeighborsClassifier(n_neighbors=4, algorithm=\\'ball_tree\\',\\n...            metric=mydist, metric_params={\"power\": 2})\\n\\n'"
      ]
     },
     "execution_count": 11,
     "metadata": {},
     "output_type": "execute_result"
    }
   ],
   "source": [
    "# REF: https://github.com/slaypni/fastdtw\n",
    "\n",
    "import fastdtw\n",
    "import torch\n",
    "from sklearn.neighbors import KNeighborsRegressor\n",
    "import time\n",
    "\n",
    "def generate_data(N, L, D):\n",
    "    '''\n",
    "    Arguments:\n",
    "      N (int): number of samples\n",
    "      L (int): sequence length\n",
    "      D (int): dimensionality\n",
    "\n",
    "    '''\n",
    "    return torch.rand(N, L, D)\n",
    "\n",
    "def DTW(x, y):\n",
    "    return fastdtw.fastdtw(x, y)[0]\n",
    "\n",
    "knndtw = KNeighborsRegressor(n_neighbors=5, algorithm='ball_tree',\n",
    "                             metric=DTW, weights='distance')\n",
    "\n",
    "X = generate_data(32, 10080, 1).squeeze()\n",
    "\n",
    "\n"
   ]
  },
  {
   "cell_type": "code",
   "execution_count": 6,
   "id": "5f8777f1-509a-47d7-961a-0a0c7bae0501",
   "metadata": {},
   "outputs": [
    {
     "data": {
      "text/plain": [
       "KNeighborsRegressor(algorithm='ball_tree',\n",
       "                    metric=<function DTW at 0x7f1a4e451e50>,\n",
       "                    weights='distance')"
      ]
     },
     "execution_count": 6,
     "metadata": {},
     "output_type": "execute_result"
    }
   ],
   "source": [
    "knndtw.fit(X, torch.rand(X.shape[0],))"
   ]
  },
  {
   "cell_type": "code",
   "execution_count": null,
   "id": "6eed1637-8dbc-4349-8d36-5f227f8712e8",
   "metadata": {},
   "outputs": [
    {
     "name": "stdout",
     "output_type": "stream",
     "text": [
      "{'n': [32], 't_fit': [0.23329877853393555], 't_pred': [10.28831934928894], 'L': [10080]}\n",
      "{'n': [32, 256], 't_fit': [0.23329877853393555, 7.069570064544678], 't_pred': [10.28831934928894, 689.3890790939331], 'L': [10080, 10080]}\n",
      "{'n': [32, 256, 512], 't_fit': [0.23329877853393555, 7.069570064544678, 17.368834733963013], 't_pred': [10.28831934928894, 689.3890790939331, 2666.79279756546], 'L': [10080, 10080, 10080]}\n",
      "{'n': [32, 256, 512, 1024], 't_fit': [0.23329877853393555, 7.069570064544678, 17.368834733963013, 42.583410024642944], 't_pred': [10.28831934928894, 689.3890790939331, 2666.79279756546, 9991.809742927551], 'L': [10080, 10080, 10080, 10080]}\n"
     ]
    }
   ],
   "source": [
    "results = {'n': [], 't_fit': [], 't_pred': [], 'L': []}\n",
    "for n in [32, 256, 512, 1024, 2048]:\n",
    "    X = generate_data(n, 10080, 1).squeeze()\n",
    "    tic = time.time()\n",
    "    knndtw = KNeighborsRegressor(n_neighbors=5, \n",
    "                                 algorithm='ball_tree',\n",
    "                                 metric=DTW, \n",
    "                                 weights='distance',\n",
    "                                 n_jobs=32)\n",
    "    knndtw.fit(X, torch.rand(X.shape[0],))\n",
    "    results['t_fit'].append(time.time() - tic)\n",
    "    tic = time.time()\n",
    "    preds = knndtw.predict(X)\n",
    "    results['t_pred'].append(time.time() - tic)\n",
    "    results['n'].append(n)\n",
    "    results['L'].append(X.shape[1])\n",
    "    print(results)"
   ]
  },
  {
   "cell_type": "code",
   "execution_count": 16,
   "id": "f39d896d-3f94-4209-96c9-1e3a47fef732",
   "metadata": {},
   "outputs": [],
   "source": [
    "%matplotlib inline\n",
    "\n",
    "import pandas as pd\n",
    "import numpy as np\n",
    "import matplotlib.pyplot as plt\n",
    "import seaborn as sns\n",
    "import glob\n",
    "import os\n",
    "import time\n",
    "import pickle\n",
    "import datetime\n",
    "import re\n",
    "import pyActigraphy\n",
    "\n",
    "import sys\n",
    "sys.path.append('/home/ngrav/project/')\n",
    "from wearables.scripts import utils as wearutils\n",
    "from wearables.scripts import data_v42 as weardata\n",
    "\n",
    "import torch\n",
    "\n",
    "plt.rc('font', size = 9)\n",
    "plt.rc('font', family='sans serif')\n",
    "plt.rcParams['pdf.fonttype'] = 42\n",
    "plt.rcParams['ps.fonttype'] = 42\n",
    "plt.rcParams['legend.frameon']=False\n",
    "plt.rcParams['axes.grid']=False\n",
    "# plt.rcParams['legend.markerscale']=0.5\n",
    "plt.rcParams['savefig.dpi'] = 600\n",
    "sns.set_style(\"ticks\")"
   ]
  },
  {
   "cell_type": "code",
   "execution_count": 19,
   "id": "9ef75e5b-871e-4d1c-8b96-9c9632c8b4ad",
   "metadata": {},
   "outputs": [
    {
     "data": {
      "image/png": "[encoded data removed]",
      "text/plain": [
       "<Figure size 360x288 with 1 Axes>"
      ]
     },
     "metadata": {},
     "output_type": "display_data"
    }
   ],
   "source": [
    "fig, ax = plt.subplots(1, 1, figsize=(5, 4))\n",
    "ax.plot(results['n'], np.array(results['t_fit'])/60, label='Fit', color=sns.color_palette()[3])\n",
    "ax.plot(results['n'], np.array(results['t_pred'])/60, label='Pred', color=sns.color_palette()[4])\n",
    "ax.legend()\n",
    "ax.set_xlabel('N samples')\n",
    "ax.set_ylabel('Time (min)')\n",
    "ax.set_title('cythonize(d)')\n",
    "fig.savefig('/home/ngrav/project/wearables/results/fastdtw_pred_time_cythonized.png', bbox_inches='tight')"
   ]
  },
  {
   "cell_type": "code",
   "execution_count": null,
   "id": "1403d991-f0ab-4860-a488-cdbbce925e83",
   "metadata": {},
   "outputs": [],
   "source": []
  }
 ],
 "metadata": {
  "kernelspec": {
   "display_name": "Python 3 (ipykernel)",
   "language": "python",
   "name": "python3"
  },
  "language_info": {
   "codemirror_mode": {
    "name": "ipython",
    "version": 3
   },
   "file_extension": ".py",
   "mimetype": "text/x-python",
   "name": "python",
   "nbconvert_exporter": "python",
   "pygments_lexer": "ipython3",
   "version": "3.8.10"
  }
 },
 "nbformat": 4,
 "nbformat_minor": 5
}
