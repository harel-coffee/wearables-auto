{
 "cells": [
  {
   "cell_type": "code",
   "execution_count": null,
   "id": "1ea6370e-6509-417c-98a8-e373a486bdbb",
   "metadata": {},
   "outputs": [],
   "source": [
    "%matplotlib inline\n",
    "%timeit\n",
    "\n",
    "import pandas as pd\n",
    "import numpy as np\n",
    "import matplotlib.pyplot as plt\n",
    "import seaborn as sns\n",
    "import glob\n",
    "import os\n",
    "import time\n",
    "import pickle\n",
    "import datetime\n",
    "import re\n",
    "import pyActigraphy\n",
    "\n",
    "import sys\n",
    "sys.path.append('/home/ngrav/project/')\n",
    "from wearables.scripts import utils as wearutils\n",
    "from wearables.scripts import data_v42 as weardata\n",
    "from wearables.scripts import train as weartrain\n",
    "from wearables.scripts import eval_v42 as weareval\n",
    "from wearables.scripts import model as wearmodels\n",
    "from wearables.scripts import DTW as weardtw\n",
    "\n",
    "import torch\n",
    "import torch.nn as nn\n",
    "import torch.nn.functional as F\n",
    "\n",
    "from scipy.spatial.distance import pdist, squareform\n",
    "import fastdtw\n",
    "import umap\n",
    "\n",
    "plt.rc('font', size = 9)\n",
    "plt.rc('font', family='sans serif')\n",
    "plt.rcParams['pdf.fonttype'] = 42\n",
    "plt.rcParams['ps.fonttype'] = 42\n",
    "plt.rcParams['legend.frameon']=False\n",
    "plt.rcParams['axes.grid']=False\n",
    "plt.rcParams['legend.markerscale']=1\n",
    "plt.rcParams['savefig.dpi'] = 600\n",
    "sns.set_style(\"ticks\")"
   ]
  },
  {
   "cell_type": "code",
   "execution_count": null,
   "id": "5b5820b3-13a3-4952-80c6-ceab35818c01",
   "metadata": {},
   "outputs": [],
   "source": [
    "# load data\n",
    "\n",
    "model_fp = '/home/ngrav/scratch/wearables_model_zoo'\n",
    "\n",
    "trainer_fp = os.path.join(model_fp, 'trainer_itrandaug_GA4.pkl')\n",
    "modelpkl = os.path.join(model_fp, '752-itrandaug_GA4.pkl')\n",
    "\n",
    "if not os.path.exists(trainer_fp) and os.path.exists(modelpkl):\n",
    "    print('no pickles found along that path')"
   ]
  },
  {
   "cell_type": "code",
   "execution_count": null,
   "id": "a90fb5aa-076d-4acb-8035-ce634b42006e",
   "metadata": {},
   "outputs": [],
   "source": [
    "with open(trainerfp, 'rb') as f:\n",
    "    trainer = pickle.load(f)\n",
    "    f.close()"
   ]
  },
  {
   "cell_type": "code",
   "execution_count": null,
   "id": "0243a5e8-9ede-41ec-b754-ebb3772f3c0b",
   "metadata": {},
   "outputs": [],
   "source": [
    "trainer.data.train_ids"
   ]
  },
  {
   "cell_type": "code",
   "execution_count": null,
   "id": "16db744b-c720-497e-90f8-293f1aa7d9e9",
   "metadata": {},
   "outputs": [],
   "source": []
  }
 ],
 "metadata": {
  "kernelspec": {
   "display_name": "Python 3 (ipykernel)",
   "language": "python",
   "name": "python3"
  },
  "language_info": {
   "codemirror_mode": {
    "name": "ipython",
    "version": 3
   },
   "file_extension": ".py",
   "mimetype": "text/x-python",
   "name": "python",
   "nbconvert_exporter": "python",
   "pygments_lexer": "ipython3",
   "version": "3.8.10"
  }
 },
 "nbformat": 4,
 "nbformat_minor": 5
}
