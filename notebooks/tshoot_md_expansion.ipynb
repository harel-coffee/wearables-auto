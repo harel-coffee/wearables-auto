{
 "cells": [
  {
   "cell_type": "code",
   "execution_count": 1,
   "id": "35646bc7-2fc9-4280-895e-1f7536e838a0",
   "metadata": {},
   "outputs": [],
   "source": [
    "%matplotlib inline\n",
    "%timeit\n",
    "\n",
    "import pandas as pd\n",
    "import numpy as np\n",
    "import matplotlib.pyplot as plt\n",
    "import seaborn as sns\n",
    "import glob\n",
    "import os\n",
    "import time\n",
    "import pickle\n",
    "import datetime\n",
    "import re\n",
    "import pyActigraphy\n",
    "\n",
    "import sys\n",
    "sys.path.append('/home/ngrav/project/')\n",
    "from wearables.scripts import utils as wearutils\n",
    "from wearables.scripts import data as weardata\n",
    "from wearables.scripts import train as weartrain\n",
    "from wearables.scripts import eval_ as weareval\n",
    "from wearables.scripts import model as wearmodels\n",
    "from wearables.scripts import DTW as weardtw\n",
    "\n",
    "import torch\n",
    "import torch.nn as nn\n",
    "import torch.nn.functional as F\n",
    "\n",
    "from scipy.spatial.distance import pdist, squareform\n",
    "import fastdtw\n",
    "import umap\n",
    "\n",
    "plt.rc('font', size = 9)\n",
    "plt.rc('font', family='sans serif')\n",
    "plt.rcParams['pdf.fonttype'] = 42\n",
    "plt.rcParams['ps.fonttype'] = 42\n",
    "plt.rcParams['legend.frameon']=False\n",
    "plt.rcParams['axes.grid']=False\n",
    "plt.rcParams['legend.markerscale']=1\n",
    "plt.rcParams['savefig.dpi'] = 600\n",
    "sns.set_style(\"ticks\")"
   ]
  },
  {
   "cell_type": "code",
   "execution_count": 2,
   "id": "7e43fd8b-56d3-4327-8a91-75866571bc17",
   "metadata": {},
   "outputs": [],
   "source": [
    "# load data\n",
    "mfp = '/home/ngrav/project/wearables/model_zoo'\n",
    "bst_modelpkl = os.path.join(mfp, '213-itv52_InceptionTime_GA5.pkl')\n",
    "bst_trainer = os.path.join(mfp, 'trainer_itv52_InceptionTime_GA5.pkl')\n",
    "\n",
    "pfp = '/home/ngrav/project/wearables/results/'\n",
    "md = pd.read_csv(os.path.join(pfp, 'md_v52_220111.csv'), index_col=0)"
   ]
  },
  {
   "cell_type": "code",
   "execution_count": 3,
   "id": "671e59e4-dfda-404c-9b60-cecb1626ac52",
   "metadata": {},
   "outputs": [],
   "source": [
    "def loadpkl(file):\n",
    "    with open(file, 'rb') as f:\n",
    "        data = pickle.load(f)\n",
    "        f.close()\n",
    "    return data\n",
    "trainer = loadpkl(bst_trainer)"
   ]
  },
  {
   "cell_type": "code",
   "execution_count": 5,
   "id": "9f13a29c-bf75-4f02-b876-f92955d067cb",
   "metadata": {},
   "outputs": [],
   "source": [
    "train_ids = trainer.data.train_ids + trainer.data.val_ids"
   ]
  },
  {
   "cell_type": "code",
   "execution_count": 11,
   "id": "abd5b637-b41b-42de-b901-bd4e094292a0",
   "metadata": {},
   "outputs": [
    {
     "data": {
      "text/plain": [
       "2463"
      ]
     },
     "execution_count": 11,
     "metadata": {},
     "output_type": "execute_result"
    }
   ],
   "source": [
    "2084 + 737 - 358"
   ]
  },
  {
   "cell_type": "code",
   "execution_count": 12,
   "id": "5f5898da-cf39-42e1-b0d5-a264bee11e74",
   "metadata": {},
   "outputs": [
    {
     "data": {
      "text/plain": [
       "0"
      ]
     },
     "execution_count": 12,
     "metadata": {},
     "output_type": "execute_result"
    }
   ],
   "source": [
    "# are they in the train or val set?\n",
    "len([i for i in trainer.data.test_ids if i in trainer.data.train_ids])"
   ]
  },
  {
   "cell_type": "code",
   "execution_count": 14,
   "id": "48581c5c-509c-4734-9f28-cf37e53b8e98",
   "metadata": {},
   "outputs": [
    {
     "data": {
      "text/plain": [
       "358"
      ]
     },
     "execution_count": 14,
     "metadata": {},
     "output_type": "execute_result"
    }
   ],
   "source": [
    "# are they in the train or val set?\n",
    "len([i for i in trainer.data.test_ids if i in trainer.data.val_ids])"
   ]
  },
  {
   "cell_type": "code",
   "execution_count": 7,
   "id": "c05a451d-37ca-4800-a75c-5f4588f27b47",
   "metadata": {},
   "outputs": [
    {
     "data": {
      "text/plain": [
       "2084"
      ]
     },
     "execution_count": 7,
     "metadata": {},
     "output_type": "execute_result"
    }
   ],
   "source": [
    "len(train_ids)"
   ]
  },
  {
   "cell_type": "code",
   "execution_count": 8,
   "id": "11174fa6-7454-491b-9d6d-70cbf34a246a",
   "metadata": {},
   "outputs": [
    {
     "data": {
      "text/plain": [
       "737"
      ]
     },
     "execution_count": 8,
     "metadata": {},
     "output_type": "execute_result"
    }
   ],
   "source": [
    "len(trainer.data.test_ids)"
   ]
  },
  {
   "cell_type": "code",
   "execution_count": 9,
   "id": "00a76c1e-506f-4e6f-8ad9-92e1b1b43d0e",
   "metadata": {},
   "outputs": [
    {
     "data": {
      "text/plain": [
       "358"
      ]
     },
     "execution_count": 9,
     "metadata": {},
     "output_type": "execute_result"
    }
   ],
   "source": [
    "len([i for i in trainer.data.test_ids if i in train_ids])"
   ]
  },
  {
   "cell_type": "code",
   "execution_count": 8,
   "id": "65d48988-51bb-4c4e-ad57-12d5a97daad0",
   "metadata": {},
   "outputs": [
    {
     "name": "stderr",
     "output_type": "stream",
     "text": [
      "[W pthreadpool-cpp.cc:90] Warning: Leaking Caffe2 thread-pool after fork. (function pthreadpool)\n",
      "[W pthreadpool-cpp.cc:90] Warning: Leaking Caffe2 thread-pool after fork. (function pthreadpool)\n",
      "[W pthreadpool-cpp.cc:90] Warning: Leaking Caffe2 thread-pool after fork. (function pthreadpool)\n"
     ]
    },
    {
     "name": "stdout",
     "output_type": "stream",
     "text": [
      "j:2\ti:0\tcounter:66\n",
      "j:2\ti:1\tcounter:67\n",
      "j:2\ti:2\tcounter:68\n",
      "j:2\ti:3\tcounter:69\n",
      "j:2\ti:4\tcounter:70\n",
      "j:2\ti:5\tcounter:71\n",
      "j:2\ti:6\tcounter:72\n",
      "j:2\ti:7\tcounter:73\n",
      "j:2\ti:8\tcounter:74\n",
      "j:2\ti:9\tcounter:75\n",
      "j:2\ti:10\tcounter:76\n",
      "j:2\ti:11\tcounter:77\n",
      "j:2\ti:12\tcounter:78\n",
      "j:2\ti:13\tcounter:79\n",
      "j:2\ti:14\tcounter:80\n",
      "j:2\ti:15\tcounter:81\n",
      "j:2\ti:16\tcounter:82\n",
      "j:2\ti:17\tcounter:83\n",
      "j:2\ti:18\tcounter:84\n",
      "j:2\ti:19\tcounter:85\n",
      "j:2\ti:20\tcounter:86\n",
      "j:2\ti:21\tcounter:87\n",
      "j:2\ti:22\tcounter:88\n",
      "j:2\ti:23\tcounter:89\n"
     ]
    }
   ],
   "source": [
    "counter = 0\n",
    "for j, dataloader in enumerate([trainer.data.train_dl, trainer.data.val_dl, trainer.data.test_dl]):\n",
    "    dataloader.num_workers = 1\n",
    "    for i, batch in enumerate(dataloader):\n",
    "        x, y, idx = batch['x'], batch['y'], batch['id']\n",
    "        if counter==0:\n",
    "            idx_total = idx\n",
    "        else:\n",
    "            idx_total = idx_total + idx\n",
    "            \n",
    "        if len(idx_total) > len(np.unique(idx_total)):\n",
    "            print('j:{}\\ti:{}\\tcounter:{}'.format(j, i, counter))\n",
    "        counter+=1\n"
   ]
  },
  {
   "cell_type": "code",
   "execution_count": 6,
   "id": "127ed348-8774-4a1b-9ff6-c3e56596772f",
   "metadata": {},
   "outputs": [
    {
     "name": "stdout",
     "output_type": "stream",
     "text": [
      "2821\n"
     ]
    }
   ],
   "source": [
    "print(len(idx_total))"
   ]
  },
  {
   "cell_type": "code",
   "execution_count": 7,
   "id": "6992a6d1-96eb-4538-88d4-e731ad084478",
   "metadata": {},
   "outputs": [
    {
     "data": {
      "text/plain": [
       "2463"
      ]
     },
     "execution_count": 7,
     "metadata": {},
     "output_type": "execute_result"
    }
   ],
   "source": [
    "len(np.unique(idx_total))"
   ]
  },
  {
   "cell_type": "code",
   "execution_count": 27,
   "id": "d8dd7f15-bab3-4033-ae64-607ffa6159ca",
   "metadata": {},
   "outputs": [
    {
     "name": "stderr",
     "output_type": "stream",
     "text": [
      "[W pthreadpool-cpp.cc:90] Warning: Leaking Caffe2 thread-pool after fork. (function pthreadpool)\n"
     ]
    },
    {
     "name": "stdout",
     "output_type": "stream",
     "text": [
      "len idx minus len unique:  0\n"
     ]
    }
   ],
   "source": [
    "# question now is what to do. is it error in the splitter or shuffler?\n",
    "\n",
    "# if error in the splitter, we would have duplicates in train vs. val or maybe in each set. Try this\n",
    "counter = 0\n",
    "for dataloader in [trainer.data.test_dl]:#, trainer.data.val_dl, trainer.data.test_dl]:\n",
    "    dataloader.num_workers = 1\n",
    "    for i, batch in enumerate(dataloader):\n",
    "        x, y, idx = batch['x'], batch['y'], batch['id']\n",
    "        if counter==0:\n",
    "            idx_total = idx\n",
    "        else:\n",
    "            idx_total = idx_total + idx\n",
    "        counter+=1\n",
    "print('len idx minus len unique: ', len(idx_total) - len(np.unique(idx_total)))"
   ]
  },
  {
   "cell_type": "code",
   "execution_count": null,
   "id": "b3599ca7-8342-471f-95f1-7b42657d7441",
   "metadata": {},
   "outputs": [],
   "source": [
    "# question now is what to do. is it error in the splitter or shuffler?\n",
    "\n",
    "# if error in the splitter, we would have duplicates in train vs. val or maybe in each set. Try this\n",
    "counter = 0\n",
    "for dataloader in [trainer.data.test_dl]:#, trainer.data.val_dl, trainer.data.test_dl]:\n",
    "    dataloader.num_workers = 1\n",
    "    for i, batch in enumerate(dataloader):\n",
    "        x, y, idx = batch['x'], batch['y'], batch['id']\n",
    "        if counter==0:\n",
    "            idx_total = idx\n",
    "        else:\n",
    "            idx_total = idx_total + idx\n",
    "        counter+=1\n",
    "print('len idx minus len unique: ', len(idx_total) - len(np.unique(idx_total)))"
   ]
  },
  {
   "cell_type": "markdown",
   "id": "f85750d8-e66b-4f09-9000-9dd2ca44d29d",
   "metadata": {},
   "source": [
    "# problem source\n",
    "\n",
    "## overlap in val/test ids\n",
    "\n",
    "This occurs because after the call for `val_pids` to randomly select 50% of the `test_pids`, there is no "
   ]
  },
  {
   "cell_type": "code",
   "execution_count": 16,
   "id": "a6dd2093-9990-40fe-b70b-203434d45083",
   "metadata": {},
   "outputs": [
    {
     "ename": "TypeError",
     "evalue": "'torch_dataloaders' object is not subscriptable",
     "output_type": "error",
     "traceback": [
      "\u001b[0;31m---------------------------------------------------------------------------\u001b[0m",
      "\u001b[0;31mTypeError\u001b[0m                                 Traceback (most recent call last)",
      "\u001b[0;32m/tmp/ipykernel_2464748/1260655652.py\u001b[0m in \u001b[0;36m<module>\u001b[0;34m\u001b[0m\n\u001b[0;32m----> 1\u001b[0;31m \u001b[0mpids\u001b[0m \u001b[0;34m=\u001b[0m \u001b[0mnp\u001b[0m\u001b[0;34m.\u001b[0m\u001b[0munique\u001b[0m\u001b[0;34m(\u001b[0m\u001b[0;34m[\u001b[0m\u001b[0mi\u001b[0m\u001b[0;34m.\u001b[0m\u001b[0msplit\u001b[0m\u001b[0;34m(\u001b[0m\u001b[0;34m'_'\u001b[0m\u001b[0;34m)\u001b[0m\u001b[0;34m[\u001b[0m\u001b[0;36m0\u001b[0m\u001b[0;34m]\u001b[0m \u001b[0;32mfor\u001b[0m \u001b[0mi\u001b[0m \u001b[0;32min\u001b[0m \u001b[0mtrainer\u001b[0m\u001b[0;34m.\u001b[0m\u001b[0mdata\u001b[0m\u001b[0;34m[\u001b[0m\u001b[0;34m'data'\u001b[0m\u001b[0;34m]\u001b[0m\u001b[0;34m[\u001b[0m\u001b[0;34m'IDs'\u001b[0m\u001b[0;34m]\u001b[0m\u001b[0;34m.\u001b[0m\u001b[0mkeys\u001b[0m\u001b[0;34m(\u001b[0m\u001b[0;34m)\u001b[0m\u001b[0;34m]\u001b[0m\u001b[0;34m)\u001b[0m\u001b[0;34m\u001b[0m\u001b[0;34m\u001b[0m\u001b[0m\n\u001b[0m\u001b[1;32m      2\u001b[0m \u001b[0mtrain_pids\u001b[0m \u001b[0;34m=\u001b[0m \u001b[0mnp\u001b[0m\u001b[0;34m.\u001b[0m\u001b[0mrandom\u001b[0m\u001b[0;34m.\u001b[0m\u001b[0mchoice\u001b[0m\u001b[0;34m(\u001b[0m\u001b[0mpids\u001b[0m\u001b[0;34m,\u001b[0m \u001b[0mint\u001b[0m\u001b[0;34m(\u001b[0m\u001b[0mlen\u001b[0m\u001b[0;34m(\u001b[0m\u001b[0mpids\u001b[0m\u001b[0;34m)\u001b[0m\u001b[0;34m*\u001b[0m\u001b[0mtrain_ratio\u001b[0m\u001b[0;34m*\u001b[0m\u001b[0mself\u001b[0m\u001b[0;34m.\u001b[0m\u001b[0mprop_trainset\u001b[0m\u001b[0;34m)\u001b[0m\u001b[0;34m,\u001b[0m \u001b[0mreplace\u001b[0m\u001b[0;34m=\u001b[0m\u001b[0;32mFalse\u001b[0m\u001b[0;34m)\u001b[0m\u001b[0;34m\u001b[0m\u001b[0;34m\u001b[0m\u001b[0m\n\u001b[1;32m      3\u001b[0m \u001b[0mtest_pids\u001b[0m \u001b[0;34m=\u001b[0m \u001b[0;34m[\u001b[0m\u001b[0mi\u001b[0m \u001b[0;32mfor\u001b[0m \u001b[0mi\u001b[0m \u001b[0;32min\u001b[0m \u001b[0mpids\u001b[0m \u001b[0;32mif\u001b[0m \u001b[0mi\u001b[0m \u001b[0;32mnot\u001b[0m \u001b[0;32min\u001b[0m \u001b[0mtrain_pids\u001b[0m\u001b[0;34m]\u001b[0m\u001b[0;34m\u001b[0m\u001b[0;34m\u001b[0m\u001b[0m\n",
      "\u001b[0;31mTypeError\u001b[0m: 'torch_dataloaders' object is not subscriptable"
     ]
    }
   ],
   "source": [
    "pids = np.unique([i.split('_')[0] for i in trainer.data['data']['IDs'].keys()])\n",
    "train_pids = np.random.choice(pids, int(len(pids)*train_ratio*self.prop_trainset), replace=False)\n",
    "test_pids = [i for i in pids if i not in train_pids]"
   ]
  },
  {
   "cell_type": "code",
   "execution_count": 17,
   "id": "6dd38699-1eea-403f-89b7-b9af7a8dc03d",
   "metadata": {},
   "outputs": [
    {
     "ename": "NameError",
     "evalue": "name 'test_pids' is not defined",
     "output_type": "error",
     "traceback": [
      "\u001b[0;31m---------------------------------------------------------------------------\u001b[0m",
      "\u001b[0;31mNameError\u001b[0m                                 Traceback (most recent call last)",
      "\u001b[0;32m/tmp/ipykernel_2464748/128256428.py\u001b[0m in \u001b[0;36m<module>\u001b[0;34m\u001b[0m\n\u001b[0;32m----> 1\u001b[0;31m \u001b[0mval_pids\u001b[0m \u001b[0;34m=\u001b[0m \u001b[0mnp\u001b[0m\u001b[0;34m.\u001b[0m\u001b[0mrandom\u001b[0m\u001b[0;34m.\u001b[0m\u001b[0mchoice\u001b[0m\u001b[0;34m(\u001b[0m\u001b[0mtest_pids\u001b[0m\u001b[0;34m,\u001b[0m \u001b[0mint\u001b[0m\u001b[0;34m(\u001b[0m\u001b[0mlen\u001b[0m\u001b[0;34m(\u001b[0m\u001b[0mtest_pids\u001b[0m\u001b[0;34m)\u001b[0m\u001b[0;34m*\u001b[0m\u001b[0;36m0.5\u001b[0m\u001b[0;34m)\u001b[0m\u001b[0;34m,\u001b[0m \u001b[0mreplace\u001b[0m\u001b[0;34m=\u001b[0m\u001b[0;32mFalse\u001b[0m\u001b[0;34m)\u001b[0m\u001b[0;34m\u001b[0m\u001b[0;34m\u001b[0m\u001b[0m\n\u001b[0m",
      "\u001b[0;31mNameError\u001b[0m: name 'test_pids' is not defined"
     ]
    }
   ],
   "source": [
    "val_pids = np.random.choice(test_pids, int(len(test_pids)*0.5), replace=False)"
   ]
  },
  {
   "cell_type": "code",
   "execution_count": null,
   "id": "b5e61d0c-76de-4529-947c-20f79b63cfaf",
   "metadata": {},
   "outputs": [],
   "source": [
    "# add to code:\n",
    "test_pids = [i for i in test_pids if i not in val_pids]"
   ]
  },
  {
   "cell_type": "markdown",
   "id": "d0e62178-43a1-4ce8-bd61-58c509273937",
   "metadata": {},
   "source": [
    "# NOTE:\n",
    "\n",
    "when creating the metadata, just don't call val dataloader again"
   ]
  },
  {
   "cell_type": "code",
   "execution_count": null,
   "id": "96f439f4-d434-4546-acc0-65f1d21265cd",
   "metadata": {},
   "outputs": [],
   "source": []
  }
 ],
 "metadata": {
  "kernelspec": {
   "display_name": "Python 3 (ipykernel)",
   "language": "python",
   "name": "python3"
  },
  "language_info": {
   "codemirror_mode": {
    "name": "ipython",
    "version": 3
   },
   "file_extension": ".py",
   "mimetype": "text/x-python",
   "name": "python",
   "nbconvert_exporter": "python",
   "pygments_lexer": "ipython3",
   "version": "3.8.10"
  }
 },
 "nbformat": 4,
 "nbformat_minor": 5
}
