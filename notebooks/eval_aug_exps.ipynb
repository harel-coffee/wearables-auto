{
 "cells": [
  {
   "cell_type": "code",
   "execution_count": 24,
   "id": "a3124a8b-fbce-472c-b351-fef79cfe5987",
   "metadata": {},
   "outputs": [],
   "source": [
    "import pandas as pd\n",
    "import os\n",
    "import sys\n",
    "import matplotlib.pyplot as plt\n",
    "import seaborn as sns\n",
    "import numpy as np\n",
    "import re\n",
    "from scipy.stats import mannwhitneyu\n",
    "\n",
    "plt.rc('font', size = 9)\n",
    "plt.rc('font', family='sans serif')\n",
    "plt.rcParams['pdf.fonttype'] = 42\n",
    "plt.rcParams['ps.fonttype'] = 42\n",
    "plt.rcParams['legend.frameon']=False\n",
    "plt.rcParams['axes.grid']=False\n",
    "plt.rcParams['legend.markerscale']=1\n",
    "plt.rcParams['savefig.dpi'] = 600\n",
    "sns.set_style(\"ticks\")"
   ]
  },
  {
   "cell_type": "code",
   "execution_count": 2,
   "id": "fbfb9d3e-b47b-4e0b-a1f2-76d0cc6e5f25",
   "metadata": {},
   "outputs": [
    {
     "name": "stderr",
     "output_type": "stream",
     "text": [
      "/tmp/ipykernel_522254/4158601086.py:7: SettingWithCopyWarning: \n",
      "A value is trying to be set on a copy of a slice from a DataFrame.\n",
      "Try using .loc[row_indexer,col_indexer] = value instead\n",
      "\n",
      "See the caveats in the documentation: https://pandas.pydata.org/pandas-docs/stable/user_guide/indexing.html#returning-a-view-versus-a-copy\n",
      "  dt['exp_trial'] = dt['exp'].astype(str) + '_' + dt['trial'].astype(str)\n"
     ]
    }
   ],
   "source": [
    "df = pd.read_csv('/home/ngrav/project/wearables/results/train_v44.csv')\n",
    "# add specifics of aug exp\n",
    "df['aug_exp'] = [re.findall('l1l2(.*)_', s)[0] for s in df['exp']]\n",
    "\n",
    "# ignore IT experiments\n",
    "dt = df.loc[[True if 'cnn' in i else False for i in df['exp']], :]\n",
    "dt['exp_trial'] = dt['exp'].astype(str) + '_' + dt['trial'].astype(str)"
   ]
  },
  {
   "cell_type": "code",
   "execution_count": 3,
   "id": "479e9797-ab7e-468d-b15e-8d467e977f81",
   "metadata": {},
   "outputs": [
    {
     "data": {
      "text/html": [
       "<div>\n",
       "<style scoped>\n",
       "    .dataframe tbody tr th:only-of-type {\n",
       "        vertical-align: middle;\n",
       "    }\n",
       "\n",
       "    .dataframe tbody tr th {\n",
       "        vertical-align: top;\n",
       "    }\n",
       "\n",
       "    .dataframe thead th {\n",
       "        text-align: right;\n",
       "    }\n",
       "</style>\n",
       "<table border=\"1\" class=\"dataframe\">\n",
       "  <thead>\n",
       "    <tr style=\"text-align: right;\">\n",
       "      <th></th>\n",
       "      <th>Unnamed: 0</th>\n",
       "      <th>exp_trial</th>\n",
       "      <th>y</th>\n",
       "      <th>yhat</th>\n",
       "      <th>loss</th>\n",
       "      <th>mae</th>\n",
       "      <th>rho</th>\n",
       "      <th>P_rho</th>\n",
       "    </tr>\n",
       "  </thead>\n",
       "  <tbody>\n",
       "    <tr>\n",
       "      <th>0</th>\n",
       "      <td>0.0</td>\n",
       "      <td>cnnl1l2randaug_GA_1</td>\n",
       "      <td>tensor([ 8., 34., 31., 31., 21.,  6.,  7., 14....</td>\n",
       "      <td>tensor([19.7984, 33.9053, 24.1894, 15.0190, 16...</td>\n",
       "      <td>100.6509780883789</td>\n",
       "      <td>8.12842845916748</td>\n",
       "      <td>0.3167976978128986</td>\n",
       "      <td>1.9596088166503975e-18</td>\n",
       "    </tr>\n",
       "    <tr>\n",
       "      <th>1</th>\n",
       "      <td>NaN</td>\n",
       "      <td>exp_trial</td>\n",
       "      <td>y</td>\n",
       "      <td>yhat</td>\n",
       "      <td>loss</td>\n",
       "      <td>mae</td>\n",
       "      <td>rho</td>\n",
       "      <td>P_rho</td>\n",
       "    </tr>\n",
       "    <tr>\n",
       "      <th>2</th>\n",
       "      <td>0.0</td>\n",
       "      <td>cnnl1l2allaug_GA_1</td>\n",
       "      <td>tensor([23., 33., 24., 11., 25.,  8., 24.,  9....</td>\n",
       "      <td>tensor([15.5564, 14.9340, 16.3986, 13.9485, 18...</td>\n",
       "      <td>109.62893676757812</td>\n",
       "      <td>8.425660133361816</td>\n",
       "      <td>0.3667706049034611</td>\n",
       "      <td>5.425507380905659e-26</td>\n",
       "    </tr>\n",
       "    <tr>\n",
       "      <th>3</th>\n",
       "      <td>NaN</td>\n",
       "      <td>exp_trial</td>\n",
       "      <td>y</td>\n",
       "      <td>yhat</td>\n",
       "      <td>loss</td>\n",
       "      <td>mae</td>\n",
       "      <td>rho</td>\n",
       "      <td>P_rho</td>\n",
       "    </tr>\n",
       "    <tr>\n",
       "      <th>4</th>\n",
       "      <td>0.0</td>\n",
       "      <td>cnnl1l2randaug_GA_2</td>\n",
       "      <td>tensor([34., 10., 36., 15., 10., 33., 23., 25....</td>\n",
       "      <td>tensor([21.0144, 16.8113, 20.8990, 11.3423, 13...</td>\n",
       "      <td>68.39281463623047</td>\n",
       "      <td>7.860438346862793</td>\n",
       "      <td>0.35554638257194554</td>\n",
       "      <td>7.538283269767302e-23</td>\n",
       "    </tr>\n",
       "  </tbody>\n",
       "</table>\n",
       "</div>"
      ],
      "text/plain": [
       "   Unnamed: 0            exp_trial  \\\n",
       "0         0.0  cnnl1l2randaug_GA_1   \n",
       "1         NaN            exp_trial   \n",
       "2         0.0   cnnl1l2allaug_GA_1   \n",
       "3         NaN            exp_trial   \n",
       "4         0.0  cnnl1l2randaug_GA_2   \n",
       "\n",
       "                                                   y  \\\n",
       "0  tensor([ 8., 34., 31., 31., 21.,  6.,  7., 14....   \n",
       "1                                                  y   \n",
       "2  tensor([23., 33., 24., 11., 25.,  8., 24.,  9....   \n",
       "3                                                  y   \n",
       "4  tensor([34., 10., 36., 15., 10., 33., 23., 25....   \n",
       "\n",
       "                                                yhat                loss  \\\n",
       "0  tensor([19.7984, 33.9053, 24.1894, 15.0190, 16...   100.6509780883789   \n",
       "1                                               yhat                loss   \n",
       "2  tensor([15.5564, 14.9340, 16.3986, 13.9485, 18...  109.62893676757812   \n",
       "3                                               yhat                loss   \n",
       "4  tensor([21.0144, 16.8113, 20.8990, 11.3423, 13...   68.39281463623047   \n",
       "\n",
       "                 mae                  rho                   P_rho  \n",
       "0   8.12842845916748   0.3167976978128986  1.9596088166503975e-18  \n",
       "1                mae                  rho                   P_rho  \n",
       "2  8.425660133361816   0.3667706049034611   5.425507380905659e-26  \n",
       "3                mae                  rho                   P_rho  \n",
       "4  7.860438346862793  0.35554638257194554   7.538283269767302e-23  "
      ]
     },
     "execution_count": 3,
     "metadata": {},
     "output_type": "execute_result"
    }
   ],
   "source": [
    "# import evals from this\n",
    "dfeval = pd.read_csv('/home/ngrav/project/wearables/results/eval_test_v44.csv')\n",
    "dfeval.head()"
   ]
  },
  {
   "cell_type": "code",
   "execution_count": 5,
   "id": "8b04dd94-3077-49d0-abcc-36c20f4b1837",
   "metadata": {},
   "outputs": [],
   "source": [
    "dt = dt.merge(dfeval, left_on='exp_trial', right_on='exp_trial')"
   ]
  },
  {
   "cell_type": "code",
   "execution_count": 11,
   "id": "44078eca-2c27-418c-a325-2188e8d37712",
   "metadata": {},
   "outputs": [],
   "source": [
    "def p_encoder(p):\n",
    "    if p > 0.05:\n",
    "        label = '' # n.s.\n",
    "    elif p <= 0.001:\n",
    "        label = '***'\n",
    "    elif p <= 0.05 and p > 0.01:\n",
    "        label = '*'\n",
    "    elif p <= 0.01 and p > 0.001:\n",
    "        label = '**'\n",
    "    else: \n",
    "        label = 'Unclassified'\n",
    "    return label\n"
   ]
  },
  {
   "cell_type": "code",
   "execution_count": 20,
   "id": "a79d3871-d46a-449e-803a-d6f87f115b88",
   "metadata": {},
   "outputs": [
    {
     "data": {
      "text/plain": [
       "0    8.128428\n",
       "2    7.860438\n",
       "4    8.114739\n",
       "5    7.747314\n",
       "7    8.231212\n",
       "8    7.893942\n",
       "Name: mae, dtype: float32"
      ]
     },
     "execution_count": 20,
     "metadata": {},
     "output_type": "execute_result"
    }
   ],
   "source": [
    "dt.loc[dt['aug_exp']==exp, 'mae'].astype(np.float32)"
   ]
  },
  {
   "cell_type": "code",
   "execution_count": 27,
   "id": "daa0748a-6acc-48bb-8f0c-1bfe77d49096",
   "metadata": {},
   "outputs": [],
   "source": [
    "exps = ['randaug', 'allaug', 'randaugperepoch', 'allaugperepoch']\n",
    "df_res = pd.DataFrame(index=exps, columns=['MAE', 'Rho', 'maediffVrandaugperepoch'])\n",
    "for exp in exps:\n",
    "    df_res.loc[exp, 'MAE'] = '{:.2f} ({:.2f})'.format(np.mean(dt.loc[dt['aug_exp']==exp, 'mae'].astype(np.float32)), \n",
    "                                       np.std(dt.loc[dt['aug_exp']==exp, 'mae'].astype(np.float32)))\n",
    "    df_res.loc[exp, 'Rho'] = '{:.2f}{} ({:.2f})'.format(np.mean(dt.loc[dt['aug_exp']==exp, 'rho'].astype(np.float32)),\n",
    "                                                        p_encoder(np.mean(dt.loc[dt['aug_exp']==exp, 'P_rho'].astype(np.float32))),\n",
    "                                       np.std(dt.loc[dt['aug_exp']==exp, 'rho'].astype(np.float32)))\n",
    "    stat, p = mannwhitneyu(dt.loc[dt['aug_exp']==exp, 'mae'].astype(np.float32), dt.loc[dt['aug_exp']=='randaugperepoch', 'mae'].astype(np.float32))\n",
    "    df_res.loc[exp, 'maediffVrandaugperepoch'] = '{:.2e}{}'.format(p, p_encoder(p))\n",
    "    "
   ]
  },
  {
   "cell_type": "code",
   "execution_count": 29,
   "id": "fb04fc30-de1a-4912-9d02-aeb315887334",
   "metadata": {},
   "outputs": [],
   "source": [
    "df_res.to_csv('/home/ngrav/project/wearables/results/eval_summary_aug_exps.csv')"
   ]
  },
  {
   "cell_type": "code",
   "execution_count": 10,
   "id": "254e4f8d-298d-4184-b544-ee3e6b484094",
   "metadata": {},
   "outputs": [
    {
     "data": {
      "text/plain": [
       "array(['randaug', 'allaug', 'randaugperepoch', 'allaugperepoch'],\n",
       "      dtype=object)"
      ]
     },
     "execution_count": 10,
     "metadata": {},
     "output_type": "execute_result"
    }
   ],
   "source": [
    "dt['aug_exp'].unique()"
   ]
  },
  {
   "cell_type": "code",
   "execution_count": null,
   "id": "a55c2531-90d6-4117-9c38-8bbcf2422994",
   "metadata": {},
   "outputs": [],
   "source": []
  }
 ],
 "metadata": {
  "kernelspec": {
   "display_name": "Python 3 (ipykernel)",
   "language": "python",
   "name": "python3"
  },
  "language_info": {
   "codemirror_mode": {
    "name": "ipython",
    "version": 3
   },
   "file_extension": ".py",
   "mimetype": "text/x-python",
   "name": "python",
   "nbconvert_exporter": "python",
   "pygments_lexer": "ipython3",
   "version": "3.8.12"
  }
 },
 "nbformat": 4,
 "nbformat_minor": 5
}
