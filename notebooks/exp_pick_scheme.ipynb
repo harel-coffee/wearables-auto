{
 "cells": [
  {
   "cell_type": "code",
   "execution_count": 1,
   "id": "220721dd-459e-47d2-a597-be38e8acc64f",
   "metadata": {},
   "outputs": [],
   "source": [
    "import pickle\n",
    "import numpy as np\n",
    "import pandas as pd\n",
    "import os\n",
    "import glob\n",
    "import time\n",
    "\n",
    "import sys\n",
    "sfp = '/home/ngrav/project' \n",
    "sys.path.append(sfp)\n",
    "from wearables.scripts import utils as wearutils\n",
    "from wearables.scripts import data_v42 as weardata\n",
    "from wearables.scripts import models_v42 as wearmodels\n",
    "from wearables.scripts import train_v42 as weartrain\n",
    "from wearables.scripts import eval_v42 as weareval\n",
    "\n",
    "import torch\n",
    "\n",
    "# plotting\n",
    "import matplotlib.pyplot as plt\n",
    "import seaborn as sns\n",
    "plt.rc('font', size = 9)\n",
    "plt.rc('font', family='sans serif')\n",
    "plt.rcParams['pdf.fonttype']=42\n",
    "plt.rcParams['ps.fonttype']=42\n",
    "plt.rcParams['legend.frameon']=False\n",
    "plt.rcParams['axes.grid']=False\n",
    "plt.rcParams['legend.markerscale']=0.5\n",
    "plt.rcParams['savefig.dpi']=600\n",
    "sns.set_style(\"ticks\")"
   ]
  },
  {
   "cell_type": "code",
   "execution_count": 2,
   "id": "5441dba8-7c1a-40fe-9e6a-5eef77b09b3b",
   "metadata": {},
   "outputs": [
    {
     "data": {
      "text/plain": [
       "['/home/ngrav/project/wearables/results/eval_test_v42.csv',\n",
       " '/home/ngrav/project/wearables/results/train_v42.csv']"
      ]
     },
     "execution_count": 2,
     "metadata": {},
     "output_type": "execute_result"
    }
   ],
   "source": [
    "glob.glob('/home/ngrav/project/wearables/results/*csv')"
   ]
  },
  {
   "cell_type": "code",
   "execution_count": 19,
   "id": "e1e049fc-c69e-458a-aee0-3b33cdd20cae",
   "metadata": {},
   "outputs": [
    {
     "data": {
      "text/plain": [
       "7.971225182215373"
      ]
     },
     "execution_count": 19,
     "metadata": {},
     "output_type": "execute_result"
    }
   ],
   "source": [
    "res_eval = pd.read_csv('/home/ngrav/project/wearables/results/eval_test_v42.csv', index_col=0)\n",
    "np.mean([float(i) for i in res_eval.iloc[4::2, 4].to_list()])\n",
    "# [print(type(i)) for i in res_eval.iloc[4]]"
   ]
  },
  {
   "cell_type": "code",
   "execution_count": 20,
   "id": "77d637d2-6766-4bdb-acee-137d119fb2a0",
   "metadata": {},
   "outputs": [
    {
     "data": {
      "text/plain": [
       "1.2651180555776949"
      ]
     },
     "execution_count": 20,
     "metadata": {},
     "output_type": "execute_result"
    }
   ],
   "source": [
    "np.std([float(i) for i in res_eval.iloc[4::2, 4].to_list()])\n"
   ]
  },
  {
   "cell_type": "markdown",
   "id": "52195be1-2e91-4826-9cb5-52aef41ead4a",
   "metadata": {},
   "source": [
    "# trouble shoot why the heck the thing is not saving models\n"
   ]
  },
  {
   "cell_type": "code",
   "execution_count": 2,
   "id": "c6519b6d-fd44-473b-bf18-9066b2c99788",
   "metadata": {},
   "outputs": [],
   "source": [
    "net = wearmodels.CNN(2, 10080, 1, [(1, 32), (1, 64), (1, 128), (3, 256)])"
   ]
  },
  {
   "cell_type": "code",
   "execution_count": 7,
   "id": "ff717820-5196-4a03-859b-7a1992d3716a",
   "metadata": {},
   "outputs": [],
   "source": [
    "# train\n",
    "trainer = weartrain.train(\n",
    "    net, exp='CNNL1L1shorthighLR',\n",
    "    criterion=weartrain.MSEL1(), \n",
    "    trial=0,\n",
    "    n_epochs=100,\n",
    "    lr=0.01,\n",
    "    patience=10,\n",
    "    min_nb_epochs=10,\n",
    "    out_file='/home/ngrav/project/wearables/results/train_v42.csv',\n",
    "    model_path='/home/ngrav/scratch/wearables_model_zoo',\n",
    "    device=torch.device('cuda:{}'.format(1)))\n",
    "# trainer.fit()"
   ]
  },
  {
   "cell_type": "code",
   "execution_count": 27,
   "id": "1a387b55-841c-47bc-b0e7-dc8e297408a2",
   "metadata": {},
   "outputs": [],
   "source": [
    "!export CUDA_LAUNCH_BLOCKING=1"
   ]
  },
  {
   "cell_type": "code",
   "execution_count": 28,
   "id": "774e5e44-edd6-4379-b040-f2b59de52cee",
   "metadata": {},
   "outputs": [
    {
     "name": "stdout",
     "output_type": "stream",
     "text": [
      "1 MB\n"
     ]
    },
    {
     "ename": "RuntimeError",
     "evalue": "CUDA error: out of memory\nCUDA kernel errors might be asynchronously reported at some other API call,so the stacktrace below might be incorrect.\nFor debugging consider passing CUDA_LAUNCH_BLOCKING=1.",
     "output_type": "error",
     "traceback": [
      "\u001b[0;31m---------------------------------------------------------------------------\u001b[0m",
      "\u001b[0;31mRuntimeError\u001b[0m                              Traceback (most recent call last)",
      "\u001b[0;32m/tmp/ipykernel_93755/220399691.py\u001b[0m in \u001b[0;36m<module>\u001b[0;34m\u001b[0m\n\u001b[1;32m      6\u001b[0m \u001b[0;34m\u001b[0m\u001b[0m\n\u001b[1;32m      7\u001b[0m \u001b[0;31m# send to device\u001b[0m\u001b[0;34m\u001b[0m\u001b[0;34m\u001b[0m\u001b[0;34m\u001b[0m\u001b[0m\n\u001b[0;32m----> 8\u001b[0;31m \u001b[0ma\u001b[0m\u001b[0;34m.\u001b[0m\u001b[0mto\u001b[0m\u001b[0;34m(\u001b[0m\u001b[0mtorch\u001b[0m\u001b[0;34m.\u001b[0m\u001b[0mdevice\u001b[0m\u001b[0;34m(\u001b[0m\u001b[0;34m'cuda:2'\u001b[0m\u001b[0;34m)\u001b[0m\u001b[0;34m)\u001b[0m\u001b[0;34m\u001b[0m\u001b[0;34m\u001b[0m\u001b[0m\n\u001b[0m",
      "\u001b[0;31mRuntimeError\u001b[0m: CUDA error: out of memory\nCUDA kernel errors might be asynchronously reported at some other API call,so the stacktrace below might be incorrect.\nFor debugging consider passing CUDA_LAUNCH_BLOCKING=1."
     ]
    }
   ],
   "source": [
    "def tensor_mem_size(a):\n",
    "    size = (a.element_size() * a.nelement()) / (1e6) # MB\n",
    "    return '{:.0f} MB'.format(size)\n",
    "a = torch.rand(32, 10080)\n",
    "print(tensor_mem_size(a))\n",
    "\n",
    "# send to device\n",
    "a.to(torch.device('cuda:2'))"
   ]
  },
  {
   "cell_type": "code",
   "execution_count": 33,
   "id": "739f05ca-6d06-4b30-bad5-097d8f0f6105",
   "metadata": {},
   "outputs": [
    {
     "name": "stderr",
     "output_type": "stream",
     "text": [
      "[W pthreadpool-cpp.cc:90] Warning: Leaking Caffe2 thread-pool after fork. (function pthreadpool)\n",
      "[W pthreadpool-cpp.cc:90] Warning: Leaking Caffe2 thread-pool after fork. (function pthreadpool)\n",
      "[W pthreadpool-cpp.cc:90] Warning: Leaking Caffe2 thread-pool after fork. (function pthreadpool)\n",
      "[W pthreadpool-cpp.cc:90] Warning: Leaking Caffe2 thread-pool after fork. (function pthreadpool)\n",
      "[W pthreadpool-cpp.cc:90] Warning: Leaking Caffe2 thread-pool after fork. (function pthreadpool)\n",
      "[W pthreadpool-cpp.cc:90] Warning: Leaking Caffe2 thread-pool after fork. (function pthreadpool)\n",
      "[W pthreadpool-cpp.cc:90] Warning: Leaking Caffe2 thread-pool after fork. (function pthreadpool)\n",
      "[W pthreadpool-cpp.cc:90] Warning: Leaking Caffe2 thread-pool after fork. (function pthreadpool)\n",
      "[W pthreadpool-cpp.cc:90] Warning: Leaking Caffe2 thread-pool after fork. (function pthreadpool)\n",
      "[W pthreadpool-cpp.cc:90] Warning: Leaking Caffe2 thread-pool after fork. (function pthreadpool)\n",
      "[W pthreadpool-cpp.cc:90] Warning: Leaking Caffe2 thread-pool after fork. (function pthreadpool)\n",
      "[W pthreadpool-cpp.cc:90] Warning: Leaking Caffe2 thread-pool after fork. (function pthreadpool)\n",
      "[W pthreadpool-cpp.cc:90] Warning: Leaking Caffe2 thread-pool after fork. (function pthreadpool)\n",
      "[W pthreadpool-cpp.cc:90] Warning: Leaking Caffe2 thread-pool after fork. (function pthreadpool)\n",
      "[W pthreadpool-cpp.cc:90] Warning: Leaking Caffe2 thread-pool after fork. (function pthreadpool)\n",
      "[W pthreadpool-cpp.cc:90] Warning: Leaking Caffe2 thread-pool after fork. (function pthreadpool)\n"
     ]
    },
    {
     "data": {
      "text/plain": [
       "torch.Size([32, 2, 10080])"
      ]
     },
     "execution_count": 33,
     "metadata": {},
     "output_type": "execute_result"
    }
   ],
   "source": [
    "x = next(iter(trainer.data.train_dl))['x']\n",
    "x.shape"
   ]
  },
  {
   "cell_type": "code",
   "execution_count": 35,
   "id": "c11a1deb-d9fa-4eb3-8c4d-379241ef8439",
   "metadata": {},
   "outputs": [],
   "source": [
    "import torch\n",
    "import torch.nn as nn\n",
    "import torch.nn.functional as F"
   ]
  },
  {
   "cell_type": "code",
   "execution_count": 40,
   "id": "f71f7921-14ea-4706-94bb-01b3874aaca7",
   "metadata": {},
   "outputs": [],
   "source": [
    "class GRU(nn.Module):\n",
    "    '''Basic comparison for a 2 layer, final hidden unit clf using LSTM\n",
    "    '''\n",
    "    def __init__(self, d_in, d_hidden, nb_layers, T, d_out):\n",
    "        super().__init__()\n",
    "        self.d_in = d_in\n",
    "        self.d_hidden = d_hidden\n",
    "        self.nb_layers = nb_layers\n",
    "        self.T = T\n",
    "        self.d_out = d_out\n",
    "        \n",
    "        # blocks\n",
    "        self.gru = nn.GRU(d_in, d_hidden, \n",
    "                            num_layers=nb_layers, \n",
    "                            bidirectional=True, \n",
    "                            batch_first=True, \n",
    "                            dropout=0.5)\n",
    "        self.pred = nn.Sequential(\n",
    "            nn.Linear(d_in*d_hidden, d_in*d_hidden // 2),\n",
    "            nn.LeakyReLU(),\n",
    "            nn.Linear(d_in*d_hidden // 2, d_out)\n",
    "        )\n",
    "    \n",
    "    def forward(self, X):\n",
    "        # X shape (N, d_in, T) where d_in=data dim (activity counts and light intensity)\n",
    "        _, h_n = self.gru(X.transpose(2, 1))\n",
    "        # https://discuss.pytorch.org/t/how-to-concatenate-the-hidden-states-of-a-bi-lstm-with-multiple-layers/39798/5\n",
    "        ##  h_n = h_n.view(num_layers, num_directions, batch, hidden_size)\n",
    "        h_n = h_n.reshape(self.nb_layers, 2, -1, self.d_hidden)[-1]\n",
    "        h_n = h_n.reshape(-1, 2*self.d_hidden)\n",
    "        return self.pred(h_n)"
   ]
  },
  {
   "cell_type": "code",
   "execution_count": 41,
   "id": "51e4d8fb-e0e3-495b-820a-7622bbd13b10",
   "metadata": {},
   "outputs": [],
   "source": [
    "net = GRU(2, 64, 3, 10080, 1)"
   ]
  },
  {
   "cell_type": "code",
   "execution_count": 42,
   "id": "3fb351cb-251e-45ed-a2f8-702091af035b",
   "metadata": {},
   "outputs": [
    {
     "data": {
      "text/plain": [
       "tensor([[ 0.0443],\n",
       "        [ 0.0574],\n",
       "        [ 0.0241],\n",
       "        [ 0.0419],\n",
       "        [ 0.0319],\n",
       "        [ 0.0459],\n",
       "        [ 0.0033],\n",
       "        [ 0.0201],\n",
       "        [ 0.0273],\n",
       "        [-0.0123],\n",
       "        [-0.0019],\n",
       "        [ 0.0192],\n",
       "        [ 0.0354],\n",
       "        [ 0.0428],\n",
       "        [ 0.0343],\n",
       "        [ 0.0159],\n",
       "        [-0.0105],\n",
       "        [ 0.0299],\n",
       "        [-0.0562],\n",
       "        [-0.0055],\n",
       "        [-0.0210],\n",
       "        [-0.0019],\n",
       "        [-0.0245],\n",
       "        [-0.0199],\n",
       "        [-0.0492],\n",
       "        [ 0.0081],\n",
       "        [-0.0472],\n",
       "        [-0.0154],\n",
       "        [-0.0124],\n",
       "        [-0.0383],\n",
       "        [-0.0637],\n",
       "        [-0.0312]], grad_fn=<AddmmBackward>)"
      ]
     },
     "execution_count": 42,
     "metadata": {},
     "output_type": "execute_result"
    }
   ],
   "source": [
    "net(x)"
   ]
  },
  {
   "cell_type": "markdown",
   "id": "5c02366b-c115-442a-9192-e0a5bfd5d467",
   "metadata": {},
   "source": [
    "# process existing word files"
   ]
  },
  {
   "cell_type": "code",
   "execution_count": 44,
   "id": "dbcfb719-331f-4e52-8244-5160bb750074",
   "metadata": {},
   "outputs": [
    {
     "data": {
      "text/plain": [
       "['/home/ngrav/project/wearables/experiments/jobs/CNNL1L2_n3.log',\n",
       " '/home/ngrav/project/wearables/experiments/jobs/CNNL1L2_n1.log',\n",
       " '/home/ngrav/project/wearables/experiments/jobs/CNNL1L2_n2.log',\n",
       " '/home/ngrav/project/wearables/experiments/jobs/ITL1L2_n1.log',\n",
       " '/home/ngrav/project/wearables/experiments/jobs/LSTML1L2_n1.log']"
      ]
     },
     "execution_count": 44,
     "metadata": {},
     "output_type": "execute_result"
    }
   ],
   "source": [
    "glob.glob('/home/ngrav/project/wearables/experiments/jobs/*log')"
   ]
  },
  {
   "cell_type": "code",
   "execution_count": 61,
   "id": "34e3d5cf-44c3-405a-b6ec-2b419bb7730e",
   "metadata": {},
   "outputs": [],
   "source": [
    "import re"
   ]
  },
  {
   "cell_type": "code",
   "execution_count": 82,
   "id": "cf5477c1-0d34-4741-a535-9db37e7924d7",
   "metadata": {},
   "outputs": [],
   "source": [
    "epoch_times = []\n",
    "loss = []\n",
    "loss_val = []\n",
    "with open('/home/ngrav/project/wearables/experiments/jobs/ITL1L2_n1.log', 'r') as f:\n",
    "    for i, line in enumerate(f.readlines()):\n",
    "        if i>=2:\n",
    "            editline = line.strip().split('\\t')\n",
    "            timing = editline[3]\n",
    "            timing = re.findall(r' (.[0-9]*)-s', timing)\n",
    "            timing = float(timing[0])\n",
    "            epoch_times.append(timing)\n",
    "            loss.append(float(editline[1].split('=')[1]))\n",
    "            loss_val.append(float(editline[2].split('=')[1]))"
   ]
  },
  {
   "cell_type": "code",
   "execution_count": 87,
   "id": "1fa5f0b7-a64c-4afb-a791-cfaf29b877bc",
   "metadata": {
    "tags": []
   },
   "outputs": [
    {
     "name": "stderr",
     "output_type": "stream",
     "text": [
      "/home/ngrav/miniconda3/envs/wearables/lib/python3.8/site-packages/seaborn/distributions.py:2557: FutureWarning: `distplot` is a deprecated function and will be removed in a future version. Please adapt your code to use either `displot` (a figure-level function with similar flexibility) or `histplot` (an axes-level function for histograms).\n",
      "  warnings.warn(msg, FutureWarning)\n"
     ]
    },
    {
     "data": {
      "image/png": "[encoded data removed]",
      "text/plain": [
       "<Figure size 360x144 with 1 Axes>"
      ]
     },
     "metadata": {},
     "output_type": "display_data"
    }
   ],
   "source": [
    "fig, ax = plt.subplots(1, 1, figsize=(5, 2))\n",
    "sns.distplot(epoch_times, ax=ax)\n",
    "ax.set_xlabel('Time per epoch')\n",
    "fig.savefig('/home/ngrav/project/wearables/results/epoch_times_IT_lowLR_L1.png', bbox_inches='tight', dpi=300)"
   ]
  },
  {
   "cell_type": "code",
   "execution_count": 86,
   "id": "74839c03-eb15-4d1b-81f2-d054df91e558",
   "metadata": {},
   "outputs": [
    {
     "data": {
      "image/png": "[encoded data removed]",
      "text/plain": [
       "<Figure size 360x288 with 1 Axes>"
      ]
     },
     "metadata": {},
     "output_type": "display_data"
    }
   ],
   "source": [
    "fig, ax = plt.subplots(1, 1, figsize=(5, 4))\n",
    "ax.plot(np.arange(len(loss)), loss, label='train')\n",
    "ax.plot(np.arange(len(loss_val)), loss_val, label='val')\n",
    "ax.legend()\n",
    "ax.set_xlabel('Epoch')\n",
    "ax.set_ylabel('MSEL1L2Loss')\n",
    "ax.set_title('Currently running IT')\n",
    "fig.savefig('/home/ngrav/project/wearables/results/train_val_loss_IT_lowLR_L1.png', bbox_inches='tight', dpi=300)"
   ]
  },
  {
   "cell_type": "markdown",
   "id": "b1a7d09e-d4ae-4fe3-84d6-8b0000363934",
   "metadata": {},
   "source": [
    "# check bst CNN training curves, select a better patience "
   ]
  },
  {
   "cell_type": "code",
   "execution_count": 88,
   "id": "9603b4d0-29a9-4a5c-a786-3141b3c17ca8",
   "metadata": {},
   "outputs": [
    {
     "data": {
      "text/html": [
       "<div>\n",
       "<style scoped>\n",
       "    .dataframe tbody tr th:only-of-type {\n",
       "        vertical-align: middle;\n",
       "    }\n",
       "\n",
       "    .dataframe tbody tr th {\n",
       "        vertical-align: top;\n",
       "    }\n",
       "\n",
       "    .dataframe thead th {\n",
       "        text-align: right;\n",
       "    }\n",
       "</style>\n",
       "<table border=\"1\" class=\"dataframe\">\n",
       "  <thead>\n",
       "    <tr style=\"text-align: right;\">\n",
       "      <th></th>\n",
       "      <th>exp_trial</th>\n",
       "      <th>y</th>\n",
       "      <th>yhat</th>\n",
       "      <th>loss</th>\n",
       "      <th>mae</th>\n",
       "      <th>rho</th>\n",
       "      <th>P_rho</th>\n",
       "    </tr>\n",
       "  </thead>\n",
       "  <tbody>\n",
       "    <tr>\n",
       "      <th>0.0</th>\n",
       "      <td>CNN_GA_0</td>\n",
       "      <td>tensor([23., 34., 11., 25., 15., 15., 32., 34....</td>\n",
       "      <td>tensor([23.3786, 33.3094, 13.5194, 37.4183, 23...</td>\n",
       "      <td>152.42417907714844</td>\n",
       "      <td>9.988155364990234</td>\n",
       "      <td>0.21078738668303154</td>\n",
       "      <td>6.429204097637882e-09</td>\n",
       "    </tr>\n",
       "    <tr>\n",
       "      <th>NaN</th>\n",
       "      <td>exp_trial</td>\n",
       "      <td>y</td>\n",
       "      <td>yhat</td>\n",
       "      <td>loss</td>\n",
       "      <td>mae</td>\n",
       "      <td>rho</td>\n",
       "      <td>P_rho</td>\n",
       "    </tr>\n",
       "    <tr>\n",
       "      <th>0.0</th>\n",
       "      <td>CNN_GA_1</td>\n",
       "      <td>tensor([18., 36., 32., 11., 28., 32., 14., 19....</td>\n",
       "      <td>tensor([19.9934, 18.6679, 20.0464, 23.8355, 22...</td>\n",
       "      <td>105.37854766845703</td>\n",
       "      <td>8.16934871673584</td>\n",
       "      <td>0.26936495206250644</td>\n",
       "      <td>7.514909637607e-14</td>\n",
       "    </tr>\n",
       "    <tr>\n",
       "      <th>NaN</th>\n",
       "      <td>exp_trial</td>\n",
       "      <td>y</td>\n",
       "      <td>yhat</td>\n",
       "      <td>loss</td>\n",
       "      <td>mae</td>\n",
       "      <td>rho</td>\n",
       "      <td>P_rho</td>\n",
       "    </tr>\n",
       "    <tr>\n",
       "      <th>0.0</th>\n",
       "      <td>CNNMSEl1_GA_1</td>\n",
       "      <td>tensor([34., 19., 11., 34., 24., 24.,  7., 24....</td>\n",
       "      <td>tensor([32.5890, 16.9544, 10.3172, 23.5483, 14...</td>\n",
       "      <td>101.1440200805664</td>\n",
       "      <td>5.696577548980713</td>\n",
       "      <td>0.6775308931586468</td>\n",
       "      <td>2.372060594329595e-99</td>\n",
       "    </tr>\n",
       "    <tr>\n",
       "      <th>NaN</th>\n",
       "      <td>exp_trial</td>\n",
       "      <td>y</td>\n",
       "      <td>yhat</td>\n",
       "      <td>loss</td>\n",
       "      <td>mae</td>\n",
       "      <td>rho</td>\n",
       "      <td>P_rho</td>\n",
       "    </tr>\n",
       "    <tr>\n",
       "      <th>0.0</th>\n",
       "      <td>CNNL2_GA_2</td>\n",
       "      <td>tensor([14., 24.,  9., 32., 25., 12.,  9., 13....</td>\n",
       "      <td>tensor([20.6975, 20.7298, 24.6287, 21.6757, 20...</td>\n",
       "      <td>119.56114959716797</td>\n",
       "      <td>7.824972152709961</td>\n",
       "      <td>0.3838162549841941</td>\n",
       "      <td>6.237310645180146e-27</td>\n",
       "    </tr>\n",
       "    <tr>\n",
       "      <th>NaN</th>\n",
       "      <td>exp_trial</td>\n",
       "      <td>y</td>\n",
       "      <td>yhat</td>\n",
       "      <td>loss</td>\n",
       "      <td>mae</td>\n",
       "      <td>rho</td>\n",
       "      <td>P_rho</td>\n",
       "    </tr>\n",
       "    <tr>\n",
       "      <th>0.0</th>\n",
       "      <td>CNNL1L2_GA_3</td>\n",
       "      <td>tensor([ 8., 29., 34., 23., 11.,  8., 20., 23....</td>\n",
       "      <td>tensor([14.0577, 19.6408, 18.1760, 26.1839, 20...</td>\n",
       "      <td>105.45992279052734</td>\n",
       "      <td>7.618980884552002</td>\n",
       "      <td>0.3768698799892931</td>\n",
       "      <td>3.7498922679454873e-26</td>\n",
       "    </tr>\n",
       "    <tr>\n",
       "      <th>NaN</th>\n",
       "      <td>exp_trial</td>\n",
       "      <td>y</td>\n",
       "      <td>yhat</td>\n",
       "      <td>loss</td>\n",
       "      <td>mae</td>\n",
       "      <td>rho</td>\n",
       "      <td>P_rho</td>\n",
       "    </tr>\n",
       "    <tr>\n",
       "      <th>0.0</th>\n",
       "      <td>CNNL1_GA_3</td>\n",
       "      <td>tensor([32., 10., 16., 34., 14., 36., 16., 23....</td>\n",
       "      <td>tensor([24.7052, 23.9776, 25.1831, 17.2787, 22...</td>\n",
       "      <td>122.4556884765625</td>\n",
       "      <td>7.828150272369385</td>\n",
       "      <td>0.325107055325742</td>\n",
       "      <td>2.085463519300076e-19</td>\n",
       "    </tr>\n",
       "    <tr>\n",
       "      <th>NaN</th>\n",
       "      <td>exp_trial</td>\n",
       "      <td>y</td>\n",
       "      <td>yhat</td>\n",
       "      <td>loss</td>\n",
       "      <td>mae</td>\n",
       "      <td>rho</td>\n",
       "      <td>P_rho</td>\n",
       "    </tr>\n",
       "    <tr>\n",
       "      <th>0.0</th>\n",
       "      <td>CNNL1L2_GA_1</td>\n",
       "      <td>tensor([15.,  6., 11., 14., 34., 33.,  7., 31....</td>\n",
       "      <td>tensor([ 1.5227e+01,  2.3013e+01,  1.8851e+01,...</td>\n",
       "      <td>41.34938049316406</td>\n",
       "      <td>9.355123519897461</td>\n",
       "      <td>0.22318416288116316</td>\n",
       "      <td>1.689216172858163e-09</td>\n",
       "    </tr>\n",
       "    <tr>\n",
       "      <th>NaN</th>\n",
       "      <td>exp_trial</td>\n",
       "      <td>y</td>\n",
       "      <td>yhat</td>\n",
       "      <td>loss</td>\n",
       "      <td>mae</td>\n",
       "      <td>rho</td>\n",
       "      <td>P_rho</td>\n",
       "    </tr>\n",
       "    <tr>\n",
       "      <th>0.0</th>\n",
       "      <td>CNNL1L2_GA_2</td>\n",
       "      <td>tensor([15., 12., 27., 25., 36., 11., 36., 34....</td>\n",
       "      <td>tensor([ 2.9126e+01,  5.7073e+00,  2.8024e+01,...</td>\n",
       "      <td>109.3696060180664</td>\n",
       "      <td>9.503546714782715</td>\n",
       "      <td>0.21759713748424894</td>\n",
       "      <td>2.1088833615142512e-09</td>\n",
       "    </tr>\n",
       "  </tbody>\n",
       "</table>\n",
       "</div>"
      ],
      "text/plain": [
       "         exp_trial                                                  y  \\\n",
       "0.0       CNN_GA_0  tensor([23., 34., 11., 25., 15., 15., 32., 34....   \n",
       "NaN      exp_trial                                                  y   \n",
       "0.0       CNN_GA_1  tensor([18., 36., 32., 11., 28., 32., 14., 19....   \n",
       "NaN      exp_trial                                                  y   \n",
       "0.0  CNNMSEl1_GA_1  tensor([34., 19., 11., 34., 24., 24.,  7., 24....   \n",
       "NaN      exp_trial                                                  y   \n",
       "0.0     CNNL2_GA_2  tensor([14., 24.,  9., 32., 25., 12.,  9., 13....   \n",
       "NaN      exp_trial                                                  y   \n",
       "0.0   CNNL1L2_GA_3  tensor([ 8., 29., 34., 23., 11.,  8., 20., 23....   \n",
       "NaN      exp_trial                                                  y   \n",
       "0.0     CNNL1_GA_3  tensor([32., 10., 16., 34., 14., 36., 16., 23....   \n",
       "NaN      exp_trial                                                  y   \n",
       "0.0   CNNL1L2_GA_1  tensor([15.,  6., 11., 14., 34., 33.,  7., 31....   \n",
       "NaN      exp_trial                                                  y   \n",
       "0.0   CNNL1L2_GA_2  tensor([15., 12., 27., 25., 36., 11., 36., 34....   \n",
       "\n",
       "                                                  yhat                loss  \\\n",
       "0.0  tensor([23.3786, 33.3094, 13.5194, 37.4183, 23...  152.42417907714844   \n",
       "NaN                                               yhat                loss   \n",
       "0.0  tensor([19.9934, 18.6679, 20.0464, 23.8355, 22...  105.37854766845703   \n",
       "NaN                                               yhat                loss   \n",
       "0.0  tensor([32.5890, 16.9544, 10.3172, 23.5483, 14...   101.1440200805664   \n",
       "NaN                                               yhat                loss   \n",
       "0.0  tensor([20.6975, 20.7298, 24.6287, 21.6757, 20...  119.56114959716797   \n",
       "NaN                                               yhat                loss   \n",
       "0.0  tensor([14.0577, 19.6408, 18.1760, 26.1839, 20...  105.45992279052734   \n",
       "NaN                                               yhat                loss   \n",
       "0.0  tensor([24.7052, 23.9776, 25.1831, 17.2787, 22...   122.4556884765625   \n",
       "NaN                                               yhat                loss   \n",
       "0.0  tensor([ 1.5227e+01,  2.3013e+01,  1.8851e+01,...   41.34938049316406   \n",
       "NaN                                               yhat                loss   \n",
       "0.0  tensor([ 2.9126e+01,  5.7073e+00,  2.8024e+01,...   109.3696060180664   \n",
       "\n",
       "                   mae                  rho                   P_rho  \n",
       "0.0  9.988155364990234  0.21078738668303154   6.429204097637882e-09  \n",
       "NaN                mae                  rho                   P_rho  \n",
       "0.0   8.16934871673584  0.26936495206250644      7.514909637607e-14  \n",
       "NaN                mae                  rho                   P_rho  \n",
       "0.0  5.696577548980713   0.6775308931586468   2.372060594329595e-99  \n",
       "NaN                mae                  rho                   P_rho  \n",
       "0.0  7.824972152709961   0.3838162549841941   6.237310645180146e-27  \n",
       "NaN                mae                  rho                   P_rho  \n",
       "0.0  7.618980884552002   0.3768698799892931  3.7498922679454873e-26  \n",
       "NaN                mae                  rho                   P_rho  \n",
       "0.0  7.828150272369385    0.325107055325742   2.085463519300076e-19  \n",
       "NaN                mae                  rho                   P_rho  \n",
       "0.0  9.355123519897461  0.22318416288116316   1.689216172858163e-09  \n",
       "NaN                mae                  rho                   P_rho  \n",
       "0.0  9.503546714782715  0.21759713748424894  2.1088833615142512e-09  "
      ]
     },
     "execution_count": 88,
     "metadata": {},
     "output_type": "execute_result"
    }
   ],
   "source": [
    "res_eval = pd.read_csv('/home/ngrav/project/wearables/results/eval_test_v42.csv', index_col=0)\n",
    "res_eval"
   ]
  },
  {
   "cell_type": "code",
   "execution_count": 90,
   "id": "54532b70-8a9b-40c3-8c5e-09b19c762324",
   "metadata": {},
   "outputs": [
    {
     "data": {
      "text/html": [
       "<div>\n",
       "<style scoped>\n",
       "    .dataframe tbody tr th:only-of-type {\n",
       "        vertical-align: middle;\n",
       "    }\n",
       "\n",
       "    .dataframe tbody tr th {\n",
       "        vertical-align: top;\n",
       "    }\n",
       "\n",
       "    .dataframe thead th {\n",
       "        text-align: right;\n",
       "    }\n",
       "</style>\n",
       "<table border=\"1\" class=\"dataframe\">\n",
       "  <thead>\n",
       "    <tr style=\"text-align: right;\">\n",
       "      <th></th>\n",
       "      <th>exp</th>\n",
       "      <th>trial</th>\n",
       "      <th>target</th>\n",
       "      <th>hyperparams</th>\n",
       "      <th>tasktype</th>\n",
       "      <th>bst_epoch</th>\n",
       "      <th>loss_train</th>\n",
       "      <th>loss_val</th>\n",
       "    </tr>\n",
       "  </thead>\n",
       "  <tbody>\n",
       "    <tr>\n",
       "      <th>0</th>\n",
       "      <td>CNNL1L2_GA</td>\n",
       "      <td>1</td>\n",
       "      <td>GA</td>\n",
       "      <td>{'criterion': MSEL1(\\n  (MSE): MSELoss()\\n), '...</td>\n",
       "      <td>regression</td>\n",
       "      <td>2009</td>\n",
       "      <td>[545.6215970126066, 534.156561834162, 516.1712...</td>\n",
       "      <td>[585.3072280883789, 569.4286193847656, 468.797...</td>\n",
       "    </tr>\n",
       "    <tr>\n",
       "      <th>0</th>\n",
       "      <td>CNNL1L2_GA</td>\n",
       "      <td>2</td>\n",
       "      <td>GA</td>\n",
       "      <td>{'criterion': MSEL1(\\n  (MSE): MSELoss()\\n), '...</td>\n",
       "      <td>regression</td>\n",
       "      <td>2011</td>\n",
       "      <td>[546.7280685989945, 535.2482655843099, 517.993...</td>\n",
       "      <td>[524.9254302978516, 511.6100667317708, 481.192...</td>\n",
       "    </tr>\n",
       "    <tr>\n",
       "      <th>0</th>\n",
       "      <td>CNNL1L1shorthighLR_GA</td>\n",
       "      <td>0</td>\n",
       "      <td>GA</td>\n",
       "      <td>{'criterion': MSEL1(\\n  (MSE): MSELoss()\\n), '...</td>\n",
       "      <td>regression</td>\n",
       "      <td>12</td>\n",
       "      <td>[289641.8208002161, 1171.21518057364, 1023.265...</td>\n",
       "      <td>[1221.3979085286458, 1065.2091776529949, 960.4...</td>\n",
       "    </tr>\n",
       "  </tbody>\n",
       "</table>\n",
       "</div>"
      ],
      "text/plain": [
       "                     exp  trial target  \\\n",
       "0             CNNL1L2_GA      1     GA   \n",
       "0             CNNL1L2_GA      2     GA   \n",
       "0  CNNL1L1shorthighLR_GA      0     GA   \n",
       "\n",
       "                                         hyperparams    tasktype  bst_epoch  \\\n",
       "0  {'criterion': MSEL1(\\n  (MSE): MSELoss()\\n), '...  regression       2009   \n",
       "0  {'criterion': MSEL1(\\n  (MSE): MSELoss()\\n), '...  regression       2011   \n",
       "0  {'criterion': MSEL1(\\n  (MSE): MSELoss()\\n), '...  regression         12   \n",
       "\n",
       "                                          loss_train  \\\n",
       "0  [545.6215970126066, 534.156561834162, 516.1712...   \n",
       "0  [546.7280685989945, 535.2482655843099, 517.993...   \n",
       "0  [289641.8208002161, 1171.21518057364, 1023.265...   \n",
       "\n",
       "                                            loss_val  \n",
       "0  [585.3072280883789, 569.4286193847656, 468.797...  \n",
       "0  [524.9254302978516, 511.6100667317708, 481.192...  \n",
       "0  [1221.3979085286458, 1065.2091776529949, 960.4...  "
      ]
     },
     "execution_count": 90,
     "metadata": {},
     "output_type": "execute_result"
    }
   ],
   "source": [
    "# CNNL1L2_GA_3\n",
    "res_train = pd.read_csv('/home/ngrav/project/wearables/results/train_v42.csv', index_col=0)\n",
    "res_train.head()"
   ]
  },
  {
   "cell_type": "code",
   "execution_count": null,
   "id": "77dcb531-060d-49c0-a011-d2bf5da0a48f",
   "metadata": {},
   "outputs": [],
   "source": []
  },
  {
   "cell_type": "code",
   "execution_count": 117,
   "id": "0f4a80e4-25dc-4fc5-aef8-838d196f2bc0",
   "metadata": {},
   "outputs": [],
   "source": [
    "import ast\n",
    "loss = ast.literal_eval(res_train.loc[res_train['trial']==1, 'loss_train'][0])\n",
    "loss_val = ast.literal_eval(res_train.loc[res_train['trial']==1, 'loss_val'][0])\n"
   ]
  },
  {
   "cell_type": "code",
   "execution_count": 120,
   "id": "571af4b4-1a5c-4b45-9a75-c2710b2805be",
   "metadata": {},
   "outputs": [
    {
     "data": {
      "image/png": "[encoded data removed]",
      "text/plain": [
       "<Figure size 360x288 with 1 Axes>"
      ]
     },
     "metadata": {},
     "output_type": "display_data"
    }
   ],
   "source": [
    "fig, ax = plt.subplots(1, 1, figsize=(5, 4))\n",
    "ax.plot(np.arange(len(loss)), loss, label='train')\n",
    "ax.plot(np.arange(len(loss_val)), loss_val, label='val')\n",
    "ax.legend()\n",
    "ax.set_xlabel('Epoch')\n",
    "ax.set_ylabel('MSEL1L2Loss')\n",
    "ax.set_title('CNN w/min_nepochs=2000, bst=2009, patience=2500, lr=1e-6')\n",
    "fig.savefig('/home/ngrav/project/wearables/results/train_val_loss_shitCNN_lowLR_L1.png', bbox_inches='tight', dpi=300)"
   ]
  },
  {
   "cell_type": "code",
   "execution_count": 133,
   "id": "8b42b2f2-b47d-4d4b-9924-ce140e7fd07d",
   "metadata": {},
   "outputs": [
    {
     "data": {
      "text/plain": [
       "<matplotlib.collections.PathCollection at 0x7ff2ac4f1d30>"
      ]
     },
     "execution_count": 133,
     "metadata": {},
     "output_type": "execute_result"
    },
    {
     "data": {
      "image/png": "[encoded data removed]",
      "text/plain": [
       "<Figure size 360x288 with 1 Axes>"
      ]
     },
     "metadata": {},
     "output_type": "display_data"
    }
   ],
   "source": [
    "fig, ax = plt.subplots(1, 1, figsize=(5, 4))\n",
    "\n",
    "ax.scatter(np.random.uniform(size=(100, )), np.argsort(loss_val)[:100], s=1)"
   ]
  },
  {
   "cell_type": "code",
   "execution_count": 136,
   "id": "99fc4c73-fef8-473e-bb6b-5149aea36a94",
   "metadata": {},
   "outputs": [
    {
     "name": "stdout",
     "output_type": "stream",
     "text": [
      "[709 692 730 698 672 685 635 704 741 756]\n"
     ]
    }
   ],
   "source": [
    "print(np.argsort(loss_val)[:10])"
   ]
  },
  {
   "cell_type": "code",
   "execution_count": 135,
   "id": "d4729abe-1ebb-4214-9c5b-6f187bbd82de",
   "metadata": {},
   "outputs": [
    {
     "name": "stderr",
     "output_type": "stream",
     "text": [
      "/home/ngrav/miniconda3/envs/wearables/lib/python3.8/site-packages/seaborn/_decorators.py:36: FutureWarning: Pass the following variable as a keyword arg: x. From version 0.12, the only valid positional argument will be `data`, and passing other arguments without an explicit keyword will result in an error or misinterpretation.\n",
      "  warnings.warn(\n"
     ]
    },
    {
     "data": {
      "text/plain": [
       "<AxesSubplot:>"
      ]
     },
     "execution_count": 135,
     "metadata": {},
     "output_type": "execute_result"
    },
    {
     "data": {
      "image/png": "[encoded data removed]",
      "text/plain": [
       "<Figure size 432x288 with 1 Axes>"
      ]
     },
     "metadata": {},
     "output_type": "display_data"
    }
   ],
   "source": [
    "sns.swarmplot(np.argsort(loss_val)[:100])"
   ]
  },
  {
   "cell_type": "code",
   "execution_count": 137,
   "id": "6170aa9e-e92b-422c-acaf-20bb588516ed",
   "metadata": {},
   "outputs": [
    {
     "name": "stderr",
     "output_type": "stream",
     "text": [
      "/home/ngrav/miniconda3/envs/wearables/lib/python3.8/site-packages/seaborn/_decorators.py:36: FutureWarning: Pass the following variable as a keyword arg: x. From version 0.12, the only valid positional argument will be `data`, and passing other arguments without an explicit keyword will result in an error or misinterpretation.\n",
      "  warnings.warn(\n"
     ]
    },
    {
     "data": {
      "text/plain": [
       "<AxesSubplot:>"
      ]
     },
     "execution_count": 137,
     "metadata": {},
     "output_type": "execute_result"
    },
    {
     "data": {
      "image/png": "[encoded data removed]",
      "text/plain": [
       "<Figure size 432x288 with 1 Axes>"
      ]
     },
     "metadata": {},
     "output_type": "display_data"
    }
   ],
   "source": [
    "sns.boxplot(np.argsort(loss_val)[:100])"
   ]
  },
  {
   "cell_type": "code",
   "execution_count": 138,
   "id": "0a750286-a110-4aea-ba76-2f0c2e4809aa",
   "metadata": {},
   "outputs": [
    {
     "name": "stdout",
     "output_type": "stream",
     "text": [
      "[624.75 819.5 ]\n"
     ]
    }
   ],
   "source": [
    "print(np.quantile(np.argsort(loss_val)[:100], q=[0.25, 0.75]))"
   ]
  },
  {
   "cell_type": "code",
   "execution_count": null,
   "id": "f16f817d-29d1-42eb-80f8-e0760d092d5f",
   "metadata": {},
   "outputs": [],
   "source": []
  }
 ],
 "metadata": {
  "kernelspec": {
   "display_name": "Python 3 (ipykernel)",
   "language": "python",
   "name": "python3"
  },
  "language_info": {
   "codemirror_mode": {
    "name": "ipython",
    "version": 3
   },
   "file_extension": ".py",
   "mimetype": "text/x-python",
   "name": "python",
   "nbconvert_exporter": "python",
   "pygments_lexer": "ipython3",
   "version": "3.8.10"
  }
 },
 "nbformat": 4,
 "nbformat_minor": 5
}
