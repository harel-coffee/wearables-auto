{
 "cells": [
  {
   "cell_type": "code",
   "execution_count": 9,
   "id": "14a38834-7ea3-4cba-aa96-b23611393e04",
   "metadata": {},
   "outputs": [],
   "source": [
    "import sys\n",
    "sys.path.append('/home/ngrav/project/wearables/')\n",
    "import scripts.dtw\n",
    "import torch\n",
    "from sklearn.neighbors import KNeighborsRegressor\n",
    "import time\n",
    "\n",
    "def generate_data(N, L, D):\n",
    "    '''\n",
    "    Arguments:\n",
    "      N (int): number of samples\n",
    "      L (int): sequence length\n",
    "      D (int): dimensionality\n",
    "\n",
    "    '''\n",
    "    return torch.rand(N, L, D)\n",
    "\n"
   ]
  },
  {
   "cell_type": "code",
   "execution_count": null,
   "id": "2e2684a6-782a-4a55-808f-ca828835d88a",
   "metadata": {},
   "outputs": [
    {
     "name": "stdout",
     "output_type": "stream",
     "text": [
      "{'n': [32], 't_fit': [0.24447035789489746], 't_pred': [9.169721841812134], 'L': [10080]}\n",
      "{'n': [32, 256], 't_fit': [0.24447035789489746, 7.708814859390259], 't_pred': [9.169721841812134, 611.6846976280212], 'L': [10080, 10080]}\n",
      "{'n': [32, 256, 512], 't_fit': [0.24447035789489746, 7.708814859390259, 18.988508701324463], 't_pred': [9.169721841812134, 611.6846976280212, 2466.167361497879], 'L': [10080, 10080, 10080]}\n"
     ]
    }
   ],
   "source": [
    "results = {'n': [], 't_fit': [], 't_pred': [], 'L': []}\n",
    "for n in [32, 256, 512, 1024, 2048]:\n",
    "    X = generate_data(n, 10080, 1).squeeze()\n",
    "    tic = time.time()\n",
    "    knndtw = KNeighborsRegressor(n_neighbors=5, \n",
    "                                 algorithm='ball_tree',\n",
    "                                 metric=scripts.dtw.dtw, \n",
    "                                 weights='distance',\n",
    "                                 n_jobs=32)\n",
    "    knndtw.fit(X, torch.rand(X.shape[0],))\n",
    "    results['t_fit'].append(time.time() - tic)\n",
    "    tic = time.time()\n",
    "    preds = knndtw.predict(X)\n",
    "    results['t_pred'].append(time.time() - tic)\n",
    "    results['n'].append(n)\n",
    "    results['L'].append(X.shape[1])\n",
    "    print(results)"
   ]
  },
  {
   "cell_type": "code",
   "execution_count": 13,
   "id": "b7b5040f-ab47-4189-8b63-a6d3aa8b1730",
   "metadata": {},
   "outputs": [
    {
     "name": "stdout",
     "output_type": "stream",
     "text": [
      "{'n': [32, 256, 512, 1024, 2048], 't_fit': [0.24447035789489746, 7.708814859390259, 18.988508701324463, 45.51005983352661, 102.78354358673096], 't_pred': [9.169721841812134, 611.6846976280212, 2466.167361497879, 11342.965804338455, 34096.027482032776], 'L': [10080, 10080, 10080, 10080, 10080]}\n"
     ]
    }
   ],
   "source": [
    "print(results)"
   ]
  },
  {
   "cell_type": "code",
   "execution_count": 15,
   "id": "8d7cb82e-810f-469d-8997-90e60880d8e4",
   "metadata": {},
   "outputs": [],
   "source": [
    "%matplotlib inline\n",
    "\n",
    "import pandas as pd\n",
    "import numpy as np\n",
    "import matplotlib.pyplot as plt\n",
    "import seaborn as sns\n",
    "import glob\n",
    "import os\n",
    "import time\n",
    "import pickle\n",
    "import datetime\n",
    "import re\n",
    "import pyActigraphy\n",
    "\n",
    "import sys\n",
    "sys.path.append('/home/ngrav/project/')\n",
    "from wearables.scripts import utils as wearutils\n",
    "from wearables.scripts import data_v42 as weardata\n",
    "\n",
    "import torch\n",
    "\n",
    "plt.rc('font', size = 9)\n",
    "plt.rc('font', family='sans serif')\n",
    "plt.rcParams['pdf.fonttype'] = 42\n",
    "plt.rcParams['ps.fonttype'] = 42\n",
    "plt.rcParams['legend.frameon']=False\n",
    "plt.rcParams['axes.grid']=False\n",
    "# plt.rcParams['legend.markerscale']=0.5\n",
    "plt.rcParams['savefig.dpi'] = 600\n",
    "sns.set_style(\"ticks\")"
   ]
  },
  {
   "cell_type": "code",
   "execution_count": 3,
   "id": "6c766de1-78b8-4bd5-a18a-aa53a255f48b",
   "metadata": {},
   "outputs": [],
   "source": [
    "results = {'n': [32, 256, 512], 't_fit': [0.23329877853393555, 7.069570064544678, 17.368834733963013], 't_pred': [10.28831934928894, 689.3890790939331, 2666.79279756546], 'L': [10080, 10080, 10080]}"
   ]
  },
  {
   "cell_type": "code",
   "execution_count": 6,
   "id": "bc5f9718-9c3b-436c-9113-819370677562",
   "metadata": {},
   "outputs": [
    {
     "data": {
      "text/plain": [
       "(0.12156862745098039, 0.4666666666666667, 0.7058823529411765)"
      ]
     },
     "execution_count": 6,
     "metadata": {},
     "output_type": "execute_result"
    }
   ],
   "source": [
    "sns.color_palette()[0]"
   ]
  },
  {
   "cell_type": "code",
   "execution_count": 17,
   "id": "40814aa1-6f58-4d4a-8a35-6efed26153d3",
   "metadata": {},
   "outputs": [
    {
     "data": {
      "image/png": "[encoded data removed]",
      "text/plain": [
       "<Figure size 360x288 with 1 Axes>"
      ]
     },
     "metadata": {},
     "output_type": "display_data"
    }
   ],
   "source": [
    "fig, ax = plt.subplots(1, 1, figsize=(5, 4))\n",
    "ax.plot(results['n'], np.array(results['t_fit'])/60, label='Fit', color=sns.color_palette()[0])\n",
    "ax.plot(results['n'], np.array(results['t_pred'])/60, label='Pred', color=sns.color_palette()[1])\n",
    "ax.legend()\n",
    "ax.set_xlabel('N samples')\n",
    "ax.set_ylabel('Time (min)')\n",
    "ax.set_title('fastdtw')\n",
    "fig.savefig('/home/ngrav/project/wearables/results/fastdtw_pred_time.png', bbox_inches='tight')"
   ]
  },
  {
   "cell_type": "code",
   "execution_count": null,
   "id": "6a596814-1b70-4ee1-923b-8e19816125e7",
   "metadata": {},
   "outputs": [],
   "source": []
  }
 ],
 "metadata": {
  "kernelspec": {
   "display_name": "Python 3 (ipykernel)",
   "language": "python",
   "name": "python3"
  },
  "language_info": {
   "codemirror_mode": {
    "name": "ipython",
    "version": 3
   },
   "file_extension": ".py",
   "mimetype": "text/x-python",
   "name": "python",
   "nbconvert_exporter": "python",
   "pygments_lexer": "ipython3",
   "version": "3.8.10"
  }
 },
 "nbformat": 4,
 "nbformat_minor": 5
}
