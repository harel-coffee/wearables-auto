{
 "cells": [
  {
   "cell_type": "code",
   "execution_count": 1,
   "id": "5d36c398-6fc4-44ba-b241-621a6e8d7a49",
   "metadata": {},
   "outputs": [],
   "source": [
    "import matplotlib.pyplot as plt\n",
    "import seaborn as sns\n",
    "\n",
    "import sys\n",
    "sys.path.append('/home/ngrav/project/')\n",
    "from wearables.scripts import utils as wearutils\n",
    "from wearables.scripts import data_v42 as weardata\n",
    "from wearables.scripts import models_v42 as wearmodels\n",
    "from wearables.scripts import train_v42 as weartrain\n",
    "from wearables.scripts import eval_v42 as weareval\n",
    "\n",
    "import torch\n",
    "\n",
    "import numpy as np"
   ]
  },
  {
   "cell_type": "code",
   "execution_count": 2,
   "id": "34034415-8cef-4587-8391-51fef3d997d0",
   "metadata": {},
   "outputs": [
    {
     "name": "stdout",
     "output_type": "stream",
     "text": [
      "16 MB\n"
     ]
    }
   ],
   "source": [
    "# model\n",
    "# net = wearmodels.InceptionTime(2, 1, bottleneck=8, kernel_size=5,\n",
    "#                                nb_filters=512, residual=True, nb_layers=16)\n",
    "net = wearmodels.LSTM(2, 256, 8, 10080, 1)\n",
    "\n",
    "# double chk size\n",
    "print(wearutils.estimate_model_mem(net))"
   ]
  },
  {
   "cell_type": "code",
   "execution_count": 3,
   "id": "6612a11c-f94f-4f5d-b7cf-db171f97d547",
   "metadata": {},
   "outputs": [],
   "source": [
    "trainer = weartrain.train(net,  \n",
    "                          load_splits=None,\n",
    "                          n_epochs=5000,\n",
    "                          batch_size=32,\n",
    "                          lr=1e-6,\n",
    "                          device=torch.device('cuda:0'))"
   ]
  },
  {
   "cell_type": "code",
   "execution_count": 4,
   "id": "9b52521e-03e3-47ea-af97-4c26fdbb04f6",
   "metadata": {},
   "outputs": [
    {
     "name": "stdout",
     "output_type": "stream",
     "text": [
      "\n",
      "Starting training after 6-s of setup...\n"
     ]
    },
    {
     "name": "stderr",
     "output_type": "stream",
     "text": [
      "/home/ngrav/project/wearables/scripts/train_v42.py:105: UserWarning: To copy construct from a tensor, it is recommended to use sourceTensor.clone().detach() or sourceTensor.clone().detach().requires_grad_(True), rather than torch.tensor(sourceTensor).\n",
      "  loss = torch.tensor(loss, dtype=torch.float)\n"
     ]
    },
    {
     "ename": "RuntimeError",
     "evalue": "element 0 of tensors does not require grad and does not have a grad_fn",
     "output_type": "error",
     "traceback": [
      "\u001b[0;31m---------------------------------------------------------------------------\u001b[0m",
      "\u001b[0;31mRuntimeError\u001b[0m                              Traceback (most recent call last)",
      "\u001b[0;32m/tmp/ipykernel_54783/498936609.py\u001b[0m in \u001b[0;36m<module>\u001b[0;34m\u001b[0m\n\u001b[0;32m----> 1\u001b[0;31m \u001b[0mtrainer\u001b[0m\u001b[0;34m.\u001b[0m\u001b[0mfit\u001b[0m\u001b[0;34m(\u001b[0m\u001b[0;34m)\u001b[0m\u001b[0;34m\u001b[0m\u001b[0;34m\u001b[0m\u001b[0m\n\u001b[0m",
      "\u001b[0;32m~/project/wearables/scripts/train_v42.py\u001b[0m in \u001b[0;36mfit\u001b[0;34m(self, verbose)\u001b[0m\n\u001b[1;32m    104\u001b[0m                 \u001b[0mloss\u001b[0m \u001b[0;34m=\u001b[0m \u001b[0mself\u001b[0m\u001b[0;34m.\u001b[0m\u001b[0mcriterion\u001b[0m\u001b[0;34m(\u001b[0m\u001b[0moutput\u001b[0m\u001b[0;34m,\u001b[0m \u001b[0my\u001b[0m\u001b[0;34m)\u001b[0m\u001b[0;34m\u001b[0m\u001b[0;34m\u001b[0m\u001b[0m\n\u001b[1;32m    105\u001b[0m                 \u001b[0mloss\u001b[0m \u001b[0;34m=\u001b[0m \u001b[0mtorch\u001b[0m\u001b[0;34m.\u001b[0m\u001b[0mtensor\u001b[0m\u001b[0;34m(\u001b[0m\u001b[0mloss\u001b[0m\u001b[0;34m,\u001b[0m \u001b[0mdtype\u001b[0m\u001b[0;34m=\u001b[0m\u001b[0mtorch\u001b[0m\u001b[0;34m.\u001b[0m\u001b[0mfloat\u001b[0m\u001b[0;34m)\u001b[0m\u001b[0;34m\u001b[0m\u001b[0;34m\u001b[0m\u001b[0m\n\u001b[0;32m--> 106\u001b[0;31m                 \u001b[0mloss\u001b[0m\u001b[0;34m.\u001b[0m\u001b[0mbackward\u001b[0m\u001b[0;34m(\u001b[0m\u001b[0;34m)\u001b[0m\u001b[0;34m\u001b[0m\u001b[0;34m\u001b[0m\u001b[0m\n\u001b[0m\u001b[1;32m    107\u001b[0m                 \u001b[0mself\u001b[0m\u001b[0;34m.\u001b[0m\u001b[0moptimizer\u001b[0m\u001b[0;34m.\u001b[0m\u001b[0mstep\u001b[0m\u001b[0;34m(\u001b[0m\u001b[0;34m)\u001b[0m\u001b[0;34m\u001b[0m\u001b[0;34m\u001b[0m\u001b[0m\n\u001b[1;32m    108\u001b[0m                 \u001b[0mepoch_loss\u001b[0m\u001b[0;34m.\u001b[0m\u001b[0mappend\u001b[0m\u001b[0;34m(\u001b[0m\u001b[0mloss\u001b[0m\u001b[0;34m.\u001b[0m\u001b[0mitem\u001b[0m\u001b[0;34m(\u001b[0m\u001b[0;34m)\u001b[0m\u001b[0;34m)\u001b[0m\u001b[0;34m\u001b[0m\u001b[0;34m\u001b[0m\u001b[0m\n",
      "\u001b[0;32m~/miniconda3/envs/wearables/lib/python3.8/site-packages/torch/_tensor.py\u001b[0m in \u001b[0;36mbackward\u001b[0;34m(self, gradient, retain_graph, create_graph, inputs)\u001b[0m\n\u001b[1;32m    253\u001b[0m                 \u001b[0mcreate_graph\u001b[0m\u001b[0;34m=\u001b[0m\u001b[0mcreate_graph\u001b[0m\u001b[0;34m,\u001b[0m\u001b[0;34m\u001b[0m\u001b[0;34m\u001b[0m\u001b[0m\n\u001b[1;32m    254\u001b[0m                 inputs=inputs)\n\u001b[0;32m--> 255\u001b[0;31m         \u001b[0mtorch\u001b[0m\u001b[0;34m.\u001b[0m\u001b[0mautograd\u001b[0m\u001b[0;34m.\u001b[0m\u001b[0mbackward\u001b[0m\u001b[0;34m(\u001b[0m\u001b[0mself\u001b[0m\u001b[0;34m,\u001b[0m \u001b[0mgradient\u001b[0m\u001b[0;34m,\u001b[0m \u001b[0mretain_graph\u001b[0m\u001b[0;34m,\u001b[0m \u001b[0mcreate_graph\u001b[0m\u001b[0;34m,\u001b[0m \u001b[0minputs\u001b[0m\u001b[0;34m=\u001b[0m\u001b[0minputs\u001b[0m\u001b[0;34m)\u001b[0m\u001b[0;34m\u001b[0m\u001b[0;34m\u001b[0m\u001b[0m\n\u001b[0m\u001b[1;32m    256\u001b[0m \u001b[0;34m\u001b[0m\u001b[0m\n\u001b[1;32m    257\u001b[0m     \u001b[0;32mdef\u001b[0m \u001b[0mregister_hook\u001b[0m\u001b[0;34m(\u001b[0m\u001b[0mself\u001b[0m\u001b[0;34m,\u001b[0m \u001b[0mhook\u001b[0m\u001b[0;34m)\u001b[0m\u001b[0;34m:\u001b[0m\u001b[0;34m\u001b[0m\u001b[0;34m\u001b[0m\u001b[0m\n",
      "\u001b[0;32m~/miniconda3/envs/wearables/lib/python3.8/site-packages/torch/autograd/__init__.py\u001b[0m in \u001b[0;36mbackward\u001b[0;34m(tensors, grad_tensors, retain_graph, create_graph, grad_variables, inputs)\u001b[0m\n\u001b[1;32m    145\u001b[0m         \u001b[0mretain_graph\u001b[0m \u001b[0;34m=\u001b[0m \u001b[0mcreate_graph\u001b[0m\u001b[0;34m\u001b[0m\u001b[0;34m\u001b[0m\u001b[0m\n\u001b[1;32m    146\u001b[0m \u001b[0;34m\u001b[0m\u001b[0m\n\u001b[0;32m--> 147\u001b[0;31m     Variable._execution_engine.run_backward(\n\u001b[0m\u001b[1;32m    148\u001b[0m         \u001b[0mtensors\u001b[0m\u001b[0;34m,\u001b[0m \u001b[0mgrad_tensors_\u001b[0m\u001b[0;34m,\u001b[0m \u001b[0mretain_graph\u001b[0m\u001b[0;34m,\u001b[0m \u001b[0mcreate_graph\u001b[0m\u001b[0;34m,\u001b[0m \u001b[0minputs\u001b[0m\u001b[0;34m,\u001b[0m\u001b[0;34m\u001b[0m\u001b[0;34m\u001b[0m\u001b[0m\n\u001b[1;32m    149\u001b[0m         allow_unreachable=True, accumulate_grad=True)  # allow_unreachable flag\n",
      "\u001b[0;31mRuntimeError\u001b[0m: element 0 of tensors does not require grad and does not have a grad_fn"
     ]
    }
   ],
   "source": [
    "trainer.fit()"
   ]
  },
  {
   "cell_type": "code",
   "execution_count": null,
   "id": "15426703-ecc7-4a7d-9262-6632ed310c25",
   "metadata": {},
   "outputs": [],
   "source": [
    "evaluation = weareval.eval_trained(trainer, \n",
    "                                   out_file='/home/ngrav/project/wearables/results/eval_test_v42.csv')"
   ]
  },
  {
   "cell_type": "markdown",
   "id": "2a37a639-0e83-4fe4-bf77-ff36cf8604d1",
   "metadata": {},
   "source": [
    "# dev"
   ]
  },
  {
   "cell_type": "code",
   "execution_count": 11,
   "id": "33ac7e40-ae76-4542-bb32-a6a577ef944c",
   "metadata": {},
   "outputs": [],
   "source": [
    "# test\n",
    "device = torch.device('cpu')\n",
    "trainer.model.to(device)\n",
    "trainer.model.eval()\n",
    "if True: # switch for set to analyze\n",
    "    dataloader = trainer.data.test_dl\n",
    "\n",
    "for i, batch in enumerate(dataloader):\n",
    "    x, y, idx = batch['x'], batch['y'], batch['id']\n",
    "\n",
    "    output = trainer.model(x)\n",
    "    if trainer.data.tasktype == 'regression':\n",
    "        output = output.squeeze()\n",
    "    if i==0:\n",
    "        y_total = y.detach()\n",
    "        idx_total = idx\n",
    "        yhat_total = output.detach()\n",
    "    else:\n",
    "        y_total = torch.cat((y_total, y.detach()), dim=0)\n",
    "        idx_total = idx_total + idx\n",
    "        yhat_total = torch.cat((yhat_total, output.detach()), dim=0)\n",
    "loss_test = trainer.criterion(yhat_total, y_total).item()"
   ]
  },
  {
   "cell_type": "code",
   "execution_count": 12,
   "id": "bd0f482e-3971-4b6d-904a-9bf34739777f",
   "metadata": {},
   "outputs": [
    {
     "data": {
      "text/plain": [
       "88.0103988647461"
      ]
     },
     "execution_count": 12,
     "metadata": {},
     "output_type": "execute_result"
    }
   ],
   "source": [
    "loss_test"
   ]
  },
  {
   "cell_type": "code",
   "execution_count": 18,
   "id": "66eebcd4-f825-4eee-9420-90ba63a8fdc2",
   "metadata": {},
   "outputs": [
    {
     "data": {
      "text/plain": [
       "8.121149063110352"
      ]
     },
     "execution_count": 18,
     "metadata": {},
     "output_type": "execute_result"
    }
   ],
   "source": [
    "(y_total - yhat_total).abs().mean().item()"
   ]
  },
  {
   "cell_type": "code",
   "execution_count": 19,
   "id": "1a419232-5ea4-4006-8f6d-82c7bfbfb6d2",
   "metadata": {},
   "outputs": [],
   "source": [
    "from scipy.stats import spearmanr"
   ]
  },
  {
   "cell_type": "code",
   "execution_count": 21,
   "id": "bff1d63c-f036-448d-abb0-53dbffbe6fa1",
   "metadata": {},
   "outputs": [
    {
     "data": {
      "text/plain": [
       "SpearmanrResult(correlation=0.3109129103839624, pvalue=2.995345883681129e-18)"
      ]
     },
     "execution_count": 21,
     "metadata": {},
     "output_type": "execute_result"
    }
   ],
   "source": [
    "spearmanr(y_total, yhat_total)"
   ]
  },
  {
   "cell_type": "code",
   "execution_count": 27,
   "id": "a2410889-5d9e-4203-9643-b1ca40374272",
   "metadata": {},
   "outputs": [
    {
     "data": {
      "image/png": "[encoded data removed]",
      "text/plain": [
       "<Figure size 288x216 with 1 Axes>"
      ]
     },
     "metadata": {},
     "output_type": "display_data"
    }
   ],
   "source": [
    "fig, ax = plt.subplots(1, 1, figsize=(4, 3))\n",
    "ax.plot(np.arange(len(trainer.loss)), trainer.loss, label='train')\n",
    "ax.plot(np.arange(len(trainer.loss_val)), trainer.loss_val, label='val', color='orange')\n",
    "ax.legend()\n",
    "ax.set_xlabel('Epoch')\n",
    "ax.set_ylabel('MSELoss + L1 + L2')\n",
    "fig.savefig('/home/ngrav/project/wearables/results/CNN_GA_0_losscurves.png')"
   ]
  },
  {
   "cell_type": "code",
   "execution_count": 29,
   "id": "e01c719a-191d-458e-89d1-d258386818d4",
   "metadata": {},
   "outputs": [
    {
     "data": {
      "text/plain": [
       "CNN(\n",
       "  (vgg): Sequential(\n",
       "    (0): Sequential(\n",
       "      (0): Conv1d(2, 32, kernel_size=(3,), stride=(1,), padding=(1,))\n",
       "      (1): LeakyReLU(negative_slope=0.01)\n",
       "      (2): MaxPool1d(kernel_size=2, stride=2, padding=0, dilation=1, ceil_mode=False)\n",
       "    )\n",
       "    (1): Sequential(\n",
       "      (0): Conv1d(32, 64, kernel_size=(3,), stride=(1,), padding=(1,))\n",
       "      (1): LeakyReLU(negative_slope=0.01)\n",
       "      (2): MaxPool1d(kernel_size=2, stride=2, padding=0, dilation=1, ceil_mode=False)\n",
       "    )\n",
       "    (2): Sequential(\n",
       "      (0): Conv1d(64, 128, kernel_size=(3,), stride=(1,), padding=(1,))\n",
       "      (1): LeakyReLU(negative_slope=0.01)\n",
       "      (2): MaxPool1d(kernel_size=2, stride=2, padding=0, dilation=1, ceil_mode=False)\n",
       "    )\n",
       "    (3): Sequential(\n",
       "      (0): Conv1d(128, 256, kernel_size=(3,), stride=(1,), padding=(1,))\n",
       "      (1): LeakyReLU(negative_slope=0.01)\n",
       "      (2): MaxPool1d(kernel_size=2, stride=2, padding=0, dilation=1, ceil_mode=False)\n",
       "      (3): Conv1d(256, 256, kernel_size=(3,), stride=(1,), padding=(1,))\n",
       "      (4): LeakyReLU(negative_slope=0.01)\n",
       "      (5): MaxPool1d(kernel_size=2, stride=2, padding=0, dilation=1, ceil_mode=False)\n",
       "      (6): Conv1d(256, 256, kernel_size=(3,), stride=(1,), padding=(1,))\n",
       "      (7): LeakyReLU(negative_slope=0.01)\n",
       "      (8): MaxPool1d(kernel_size=2, stride=2, padding=0, dilation=1, ceil_mode=False)\n",
       "    )\n",
       "    (4): Flatten(start_dim=1, end_dim=-1)\n",
       "  )\n",
       "  (pred): Sequential(\n",
       "    (0): Linear(in_features=40192, out_features=512, bias=True)\n",
       "    (1): LeakyReLU(negative_slope=0.01)\n",
       "    (2): Dropout(p=0.5, inplace=False)\n",
       "    (3): Linear(in_features=512, out_features=1, bias=True)\n",
       "  )\n",
       ")"
      ]
     },
     "execution_count": 29,
     "metadata": {},
     "output_type": "execute_result"
    }
   ],
   "source": [
    "trainer.model"
   ]
  },
  {
   "cell_type": "code",
   "execution_count": 33,
   "id": "b727598d-e9ce-4a26-bbcf-fe9f360e26c5",
   "metadata": {},
   "outputs": [
    {
     "data": {
      "text/plain": [
       "CNN(\n",
       "  (vgg): Sequential(\n",
       "    (0): Sequential(\n",
       "      (0): Conv1d(2, 32, kernel_size=(3,), stride=(1,), padding=(1,))\n",
       "      (1): LeakyReLU(negative_slope=0.01)\n",
       "      (2): MaxPool1d(kernel_size=2, stride=2, padding=0, dilation=1, ceil_mode=False)\n",
       "    )\n",
       "    (1): Sequential(\n",
       "      (0): Conv1d(32, 64, kernel_size=(3,), stride=(1,), padding=(1,))\n",
       "      (1): LeakyReLU(negative_slope=0.01)\n",
       "      (2): MaxPool1d(kernel_size=2, stride=2, padding=0, dilation=1, ceil_mode=False)\n",
       "    )\n",
       "    (2): Sequential(\n",
       "      (0): Conv1d(64, 128, kernel_size=(3,), stride=(1,), padding=(1,))\n",
       "      (1): LeakyReLU(negative_slope=0.01)\n",
       "      (2): MaxPool1d(kernel_size=2, stride=2, padding=0, dilation=1, ceil_mode=False)\n",
       "    )\n",
       "    (3): Sequential(\n",
       "      (0): Conv1d(128, 256, kernel_size=(3,), stride=(1,), padding=(1,))\n",
       "      (1): LeakyReLU(negative_slope=0.01)\n",
       "      (2): MaxPool1d(kernel_size=2, stride=2, padding=0, dilation=1, ceil_mode=False)\n",
       "      (3): Conv1d(256, 256, kernel_size=(3,), stride=(1,), padding=(1,))\n",
       "      (4): LeakyReLU(negative_slope=0.01)\n",
       "      (5): MaxPool1d(kernel_size=2, stride=2, padding=0, dilation=1, ceil_mode=False)\n",
       "      (6): Conv1d(256, 256, kernel_size=(3,), stride=(1,), padding=(1,))\n",
       "      (7): LeakyReLU(negative_slope=0.01)\n",
       "      (8): MaxPool1d(kernel_size=2, stride=2, padding=0, dilation=1, ceil_mode=False)\n",
       "    )\n",
       "    (4): Flatten(start_dim=1, end_dim=-1)\n",
       "  )\n",
       "  (pred): Sequential(\n",
       "    (0): Linear(in_features=40192, out_features=512, bias=True)\n",
       "    (1): LeakyReLU(negative_slope=0.01)\n",
       "    (2): Dropout(p=0.5, inplace=False)\n",
       "    (3): Linear(in_features=512, out_features=1, bias=True)\n",
       "  )\n",
       ")"
      ]
     },
     "execution_count": 33,
     "metadata": {},
     "output_type": "execute_result"
    }
   ],
   "source": [
    "trainer.model.to(torch.device('cuda:0'))"
   ]
  },
  {
   "cell_type": "code",
   "execution_count": 34,
   "id": "a4ef2509-4196-4c35-8719-123dd9b34750",
   "metadata": {},
   "outputs": [],
   "source": [
    "trainer.model = trainer.model.to(torch.device('cuda:0'))"
   ]
  },
  {
   "cell_type": "code",
   "execution_count": 37,
   "id": "a9be685b-d437-418b-974c-ebc9988ccab6",
   "metadata": {},
   "outputs": [],
   "source": [
    "torch.save(trainer.model.state_dict(), '/home/ngrav/scratch/test.pkl')"
   ]
  },
  {
   "cell_type": "code",
   "execution_count": 38,
   "id": "7173e0c6-e505-42fb-a11d-04ff2959b9c6",
   "metadata": {},
   "outputs": [
    {
     "data": {
      "text/plain": [
       "<All keys matched successfully>"
      ]
     },
     "execution_count": 38,
     "metadata": {},
     "output_type": "execute_result"
    }
   ],
   "source": [
    "trainer.model.load_state_dict(torch.load('/home/ngrav/scratch/test.pkl', map_location=torch.device('cpu')))"
   ]
  },
  {
   "cell_type": "code",
   "execution_count": 77,
   "id": "cfd7990c-7178-4cec-866d-7f388601923d",
   "metadata": {},
   "outputs": [
    {
     "data": {
      "text/plain": [
       "<module 'wearables.scripts.eval_v42' from '/home/ngrav/project/wearables/scripts/eval_v42.py'>"
      ]
     },
     "execution_count": 77,
     "metadata": {},
     "output_type": "execute_result"
    }
   ],
   "source": [
    "import importlib\n",
    "importlib.reload(weareval)"
   ]
  },
  {
   "cell_type": "code",
   "execution_count": 78,
   "id": "ffc84b9a-914b-4a60-a28e-b760d77f5bb0",
   "metadata": {},
   "outputs": [],
   "source": [
    "from wearables.scripts import eval_v42 as weareval\n",
    "evaluation = weareval.eval_trained(trainer, \n",
    "                                   out_file='/home/ngrav/project/wearables/results/eval_test_v42.csv')"
   ]
  },
  {
   "cell_type": "code",
   "execution_count": 65,
   "id": "02f0a668-69b0-456d-8c40-44368d7f4e92",
   "metadata": {},
   "outputs": [
    {
     "data": {
      "text/html": [
       "<div>\n",
       "<style scoped>\n",
       "    .dataframe tbody tr th:only-of-type {\n",
       "        vertical-align: middle;\n",
       "    }\n",
       "\n",
       "    .dataframe tbody tr th {\n",
       "        vertical-align: top;\n",
       "    }\n",
       "\n",
       "    .dataframe thead th {\n",
       "        text-align: right;\n",
       "    }\n",
       "</style>\n",
       "<table border=\"1\" class=\"dataframe\">\n",
       "  <thead>\n",
       "    <tr style=\"text-align: right;\">\n",
       "      <th></th>\n",
       "      <th>record_id</th>\n",
       "      <th>age_enroll</th>\n",
       "      <th>marital</th>\n",
       "      <th>gestage_by</th>\n",
       "      <th>insur</th>\n",
       "      <th>ethnicity</th>\n",
       "      <th>race</th>\n",
       "      <th>bmi_1vis</th>\n",
       "      <th>prior_ptb_all</th>\n",
       "      <th>fullterm_births</th>\n",
       "      <th>...</th>\n",
       "      <th>edinb4_1trim</th>\n",
       "      <th>edinb5_1trim</th>\n",
       "      <th>edinb6_1trim</th>\n",
       "      <th>edinb7_1trim</th>\n",
       "      <th>edinb8_1trim</th>\n",
       "      <th>edinb9_1trim</th>\n",
       "      <th>edinb10_1trim</th>\n",
       "      <th>id</th>\n",
       "      <th>y</th>\n",
       "      <th>yhat</th>\n",
       "    </tr>\n",
       "  </thead>\n",
       "  <tbody>\n",
       "    <tr>\n",
       "      <th>0</th>\n",
       "      <td>1620.0</td>\n",
       "      <td>34.0</td>\n",
       "      <td>0.0</td>\n",
       "      <td>4.0</td>\n",
       "      <td>3.0</td>\n",
       "      <td>0.0</td>\n",
       "      <td>1.0</td>\n",
       "      <td>29.280067</td>\n",
       "      <td>0.0</td>\n",
       "      <td>0.0</td>\n",
       "      <td>...</td>\n",
       "      <td>1.0</td>\n",
       "      <td>1.0</td>\n",
       "      <td>1.0</td>\n",
       "      <td>1.0</td>\n",
       "      <td>1.0</td>\n",
       "      <td>1.0</td>\n",
       "      <td>1.0</td>\n",
       "      <td>1620_8</td>\n",
       "      <td>tensor(8.)</td>\n",
       "      <td>tensor(19.4009)</td>\n",
       "    </tr>\n",
       "    <tr>\n",
       "      <th>1</th>\n",
       "      <td>2174.0</td>\n",
       "      <td>22.0</td>\n",
       "      <td>1.0</td>\n",
       "      <td>2.0</td>\n",
       "      <td>3.0</td>\n",
       "      <td>0.0</td>\n",
       "      <td>0.0</td>\n",
       "      <td>28.575377</td>\n",
       "      <td>0.0</td>\n",
       "      <td>1.0</td>\n",
       "      <td>...</td>\n",
       "      <td>3.0</td>\n",
       "      <td>3.0</td>\n",
       "      <td>3.0</td>\n",
       "      <td>1.0</td>\n",
       "      <td>1.0</td>\n",
       "      <td>1.0</td>\n",
       "      <td>1.0</td>\n",
       "      <td>2174_24</td>\n",
       "      <td>tensor(24.)</td>\n",
       "      <td>tensor(21.9032)</td>\n",
       "    </tr>\n",
       "    <tr>\n",
       "      <th>2</th>\n",
       "      <td>1126.0</td>\n",
       "      <td>18.0</td>\n",
       "      <td>0.0</td>\n",
       "      <td>1.0</td>\n",
       "      <td>1.0</td>\n",
       "      <td>0.0</td>\n",
       "      <td>0.0</td>\n",
       "      <td>54.132374</td>\n",
       "      <td>0.0</td>\n",
       "      <td>0.0</td>\n",
       "      <td>...</td>\n",
       "      <td>3.0</td>\n",
       "      <td>2.0</td>\n",
       "      <td>3.0</td>\n",
       "      <td>3.0</td>\n",
       "      <td>2.0</td>\n",
       "      <td>3.0</td>\n",
       "      <td>1.0</td>\n",
       "      <td>1126_10</td>\n",
       "      <td>tensor(10.)</td>\n",
       "      <td>tensor(19.1752)</td>\n",
       "    </tr>\n",
       "    <tr>\n",
       "      <th>3</th>\n",
       "      <td>2278.0</td>\n",
       "      <td>29.0</td>\n",
       "      <td>1.0</td>\n",
       "      <td>2.0</td>\n",
       "      <td>3.0</td>\n",
       "      <td>0.0</td>\n",
       "      <td>0.0</td>\n",
       "      <td>23.683273</td>\n",
       "      <td>0.0</td>\n",
       "      <td>0.0</td>\n",
       "      <td>...</td>\n",
       "      <td>2.0</td>\n",
       "      <td>2.0</td>\n",
       "      <td>2.0</td>\n",
       "      <td>2.0</td>\n",
       "      <td>2.0</td>\n",
       "      <td>2.0</td>\n",
       "      <td>1.0</td>\n",
       "      <td>2278_10</td>\n",
       "      <td>tensor(10.)</td>\n",
       "      <td>tensor(17.8081)</td>\n",
       "    </tr>\n",
       "    <tr>\n",
       "      <th>4</th>\n",
       "      <td>2311.0</td>\n",
       "      <td>18.0</td>\n",
       "      <td>0.0</td>\n",
       "      <td>2.0</td>\n",
       "      <td>3.0</td>\n",
       "      <td>0.0</td>\n",
       "      <td>1.0</td>\n",
       "      <td>35.355957</td>\n",
       "      <td>0.0</td>\n",
       "      <td>0.0</td>\n",
       "      <td>...</td>\n",
       "      <td>2.0</td>\n",
       "      <td>3.0</td>\n",
       "      <td>3.0</td>\n",
       "      <td>3.0</td>\n",
       "      <td>2.0</td>\n",
       "      <td>2.0</td>\n",
       "      <td>1.0</td>\n",
       "      <td>2311_22</td>\n",
       "      <td>tensor(22.)</td>\n",
       "      <td>tensor(21.0674)</td>\n",
       "    </tr>\n",
       "    <tr>\n",
       "      <th>...</th>\n",
       "      <td>...</td>\n",
       "      <td>...</td>\n",
       "      <td>...</td>\n",
       "      <td>...</td>\n",
       "      <td>...</td>\n",
       "      <td>...</td>\n",
       "      <td>...</td>\n",
       "      <td>...</td>\n",
       "      <td>...</td>\n",
       "      <td>...</td>\n",
       "      <td>...</td>\n",
       "      <td>...</td>\n",
       "      <td>...</td>\n",
       "      <td>...</td>\n",
       "      <td>...</td>\n",
       "      <td>...</td>\n",
       "      <td>...</td>\n",
       "      <td>...</td>\n",
       "      <td>...</td>\n",
       "      <td>...</td>\n",
       "      <td>...</td>\n",
       "    </tr>\n",
       "    <tr>\n",
       "      <th>744</th>\n",
       "      <td>2488.0</td>\n",
       "      <td>36.0</td>\n",
       "      <td>0.0</td>\n",
       "      <td>2.0</td>\n",
       "      <td>3.0</td>\n",
       "      <td>0.0</td>\n",
       "      <td>0.0</td>\n",
       "      <td>37.115395</td>\n",
       "      <td>0.0</td>\n",
       "      <td>1.0</td>\n",
       "      <td>...</td>\n",
       "      <td>4.0</td>\n",
       "      <td>1.0</td>\n",
       "      <td>3.0</td>\n",
       "      <td>1.0</td>\n",
       "      <td>2.0</td>\n",
       "      <td>2.0</td>\n",
       "      <td>1.0</td>\n",
       "      <td>2488_34</td>\n",
       "      <td>tensor(34.)</td>\n",
       "      <td>tensor(20.4559)</td>\n",
       "    </tr>\n",
       "    <tr>\n",
       "      <th>745</th>\n",
       "      <td>1319.0</td>\n",
       "      <td>32.0</td>\n",
       "      <td>0.0</td>\n",
       "      <td>1.0</td>\n",
       "      <td>1.0</td>\n",
       "      <td>0.0</td>\n",
       "      <td>1.0</td>\n",
       "      <td>37.401787</td>\n",
       "      <td>0.0</td>\n",
       "      <td>0.0</td>\n",
       "      <td>...</td>\n",
       "      <td>2.0</td>\n",
       "      <td>1.0</td>\n",
       "      <td>1.0</td>\n",
       "      <td>1.0</td>\n",
       "      <td>2.0</td>\n",
       "      <td>2.0</td>\n",
       "      <td>1.0</td>\n",
       "      <td>1319_10</td>\n",
       "      <td>tensor(10.)</td>\n",
       "      <td>tensor(19.5485)</td>\n",
       "    </tr>\n",
       "    <tr>\n",
       "      <th>746</th>\n",
       "      <td>1774.0</td>\n",
       "      <td>28.0</td>\n",
       "      <td>1.0</td>\n",
       "      <td>3.0</td>\n",
       "      <td>3.0</td>\n",
       "      <td>0.0</td>\n",
       "      <td>1.0</td>\n",
       "      <td>21.298285</td>\n",
       "      <td>1.0</td>\n",
       "      <td>1.0</td>\n",
       "      <td>...</td>\n",
       "      <td>1.0</td>\n",
       "      <td>1.0</td>\n",
       "      <td>1.0</td>\n",
       "      <td>1.0</td>\n",
       "      <td>1.0</td>\n",
       "      <td>1.0</td>\n",
       "      <td>1.0</td>\n",
       "      <td>1774_7</td>\n",
       "      <td>tensor(7.)</td>\n",
       "      <td>tensor(21.5935)</td>\n",
       "    </tr>\n",
       "    <tr>\n",
       "      <th>747</th>\n",
       "      <td>2528.0</td>\n",
       "      <td>32.0</td>\n",
       "      <td>1.0</td>\n",
       "      <td>2.0</td>\n",
       "      <td>3.0</td>\n",
       "      <td>0.0</td>\n",
       "      <td>0.0</td>\n",
       "      <td>19.222656</td>\n",
       "      <td>0.0</td>\n",
       "      <td>0.0</td>\n",
       "      <td>...</td>\n",
       "      <td>2.0</td>\n",
       "      <td>1.0</td>\n",
       "      <td>2.0</td>\n",
       "      <td>1.0</td>\n",
       "      <td>2.0</td>\n",
       "      <td>1.0</td>\n",
       "      <td>1.0</td>\n",
       "      <td>2528_22</td>\n",
       "      <td>tensor(22.)</td>\n",
       "      <td>tensor(23.7955)</td>\n",
       "    </tr>\n",
       "    <tr>\n",
       "      <th>748</th>\n",
       "      <td>1406.0</td>\n",
       "      <td>19.0</td>\n",
       "      <td>0.0</td>\n",
       "      <td>3.0</td>\n",
       "      <td>5.0</td>\n",
       "      <td>1.0</td>\n",
       "      <td>1.0</td>\n",
       "      <td>23.042778</td>\n",
       "      <td>0.0</td>\n",
       "      <td>1.0</td>\n",
       "      <td>...</td>\n",
       "      <td>1.0</td>\n",
       "      <td>1.0</td>\n",
       "      <td>1.0</td>\n",
       "      <td>1.0</td>\n",
       "      <td>1.0</td>\n",
       "      <td>1.0</td>\n",
       "      <td>1.0</td>\n",
       "      <td>1406_9</td>\n",
       "      <td>tensor(9.)</td>\n",
       "      <td>tensor(19.2232)</td>\n",
       "    </tr>\n",
       "  </tbody>\n",
       "</table>\n",
       "<p>749 rows × 110 columns</p>\n",
       "</div>"
      ],
      "text/plain": [
       "     record_id  age_enroll  marital  gestage_by  insur  ethnicity  race  \\\n",
       "0       1620.0        34.0      0.0         4.0    3.0        0.0   1.0   \n",
       "1       2174.0        22.0      1.0         2.0    3.0        0.0   0.0   \n",
       "2       1126.0        18.0      0.0         1.0    1.0        0.0   0.0   \n",
       "3       2278.0        29.0      1.0         2.0    3.0        0.0   0.0   \n",
       "4       2311.0        18.0      0.0         2.0    3.0        0.0   1.0   \n",
       "..         ...         ...      ...         ...    ...        ...   ...   \n",
       "744     2488.0        36.0      0.0         2.0    3.0        0.0   0.0   \n",
       "745     1319.0        32.0      0.0         1.0    1.0        0.0   1.0   \n",
       "746     1774.0        28.0      1.0         3.0    3.0        0.0   1.0   \n",
       "747     2528.0        32.0      1.0         2.0    3.0        0.0   0.0   \n",
       "748     1406.0        19.0      0.0         3.0    5.0        1.0   1.0   \n",
       "\n",
       "      bmi_1vis  prior_ptb_all  fullterm_births  ...  edinb4_1trim  \\\n",
       "0    29.280067            0.0              0.0  ...           1.0   \n",
       "1    28.575377            0.0              1.0  ...           3.0   \n",
       "2    54.132374            0.0              0.0  ...           3.0   \n",
       "3    23.683273            0.0              0.0  ...           2.0   \n",
       "4    35.355957            0.0              0.0  ...           2.0   \n",
       "..         ...            ...              ...  ...           ...   \n",
       "744  37.115395            0.0              1.0  ...           4.0   \n",
       "745  37.401787            0.0              0.0  ...           2.0   \n",
       "746  21.298285            1.0              1.0  ...           1.0   \n",
       "747  19.222656            0.0              0.0  ...           2.0   \n",
       "748  23.042778            0.0              1.0  ...           1.0   \n",
       "\n",
       "     edinb5_1trim  edinb6_1trim  edinb7_1trim  edinb8_1trim  edinb9_1trim  \\\n",
       "0             1.0           1.0           1.0           1.0           1.0   \n",
       "1             3.0           3.0           1.0           1.0           1.0   \n",
       "2             2.0           3.0           3.0           2.0           3.0   \n",
       "3             2.0           2.0           2.0           2.0           2.0   \n",
       "4             3.0           3.0           3.0           2.0           2.0   \n",
       "..            ...           ...           ...           ...           ...   \n",
       "744           1.0           3.0           1.0           2.0           2.0   \n",
       "745           1.0           1.0           1.0           2.0           2.0   \n",
       "746           1.0           1.0           1.0           1.0           1.0   \n",
       "747           1.0           2.0           1.0           2.0           1.0   \n",
       "748           1.0           1.0           1.0           1.0           1.0   \n",
       "\n",
       "     edinb10_1trim       id            y             yhat  \n",
       "0              1.0   1620_8   tensor(8.)  tensor(19.4009)  \n",
       "1              1.0  2174_24  tensor(24.)  tensor(21.9032)  \n",
       "2              1.0  1126_10  tensor(10.)  tensor(19.1752)  \n",
       "3              1.0  2278_10  tensor(10.)  tensor(17.8081)  \n",
       "4              1.0  2311_22  tensor(22.)  tensor(21.0674)  \n",
       "..             ...      ...          ...              ...  \n",
       "744            1.0  2488_34  tensor(34.)  tensor(20.4559)  \n",
       "745            1.0  1319_10  tensor(10.)  tensor(19.5485)  \n",
       "746            1.0   1774_7   tensor(7.)  tensor(21.5935)  \n",
       "747            1.0  2528_22  tensor(22.)  tensor(23.7955)  \n",
       "748            1.0   1406_9   tensor(9.)  tensor(19.2232)  \n",
       "\n",
       "[749 rows x 110 columns]"
      ]
     },
     "execution_count": 65,
     "metadata": {},
     "output_type": "execute_result"
    }
   ],
   "source": [
    "evaluation.results"
   ]
  },
  {
   "cell_type": "code",
   "execution_count": 67,
   "id": "4b14b95f-6c74-4624-bee3-2431776817d8",
   "metadata": {},
   "outputs": [
    {
     "data": {
      "text/plain": [
       "'CNN_GA'"
      ]
     },
     "execution_count": 67,
     "metadata": {},
     "output_type": "execute_result"
    }
   ],
   "source": [
    "trainer.exp"
   ]
  },
  {
   "cell_type": "code",
   "execution_count": null,
   "id": "af68e6a3-fcac-49ad-a5a1-87c5be5d6230",
   "metadata": {},
   "outputs": [],
   "source": []
  }
 ],
 "metadata": {
  "kernelspec": {
   "display_name": "Python 3 (ipykernel)",
   "language": "python",
   "name": "python3"
  },
  "language_info": {
   "codemirror_mode": {
    "name": "ipython",
    "version": 3
   },
   "file_extension": ".py",
   "mimetype": "text/x-python",
   "name": "python",
   "nbconvert_exporter": "python",
   "pygments_lexer": "ipython3",
   "version": "3.8.10"
  }
 },
 "nbformat": 4,
 "nbformat_minor": 5
}
