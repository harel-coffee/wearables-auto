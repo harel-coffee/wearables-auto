{
 "cells": [
  {
   "cell_type": "code",
   "execution_count": null,
   "id": "eb52c89e-b7f7-4c38-b9f2-cf9b48607b77",
   "metadata": {},
   "outputs": [],
   "source": [
    "import sys\n",
    "import importlib\n",
    "sys.path.append('/home/ngrav/project/')\n",
    "from wearables.scripts import train_v51 as weartrain"
   ]
  },
  {
   "cell_type": "code",
   "execution_count": 1,
   "id": "29238549-c7fd-4ee2-9724-264f1a0b968a",
   "metadata": {},
   "outputs": [],
   "source": [
    "import argparse"
   ]
  },
  {
   "cell_type": "code",
   "execution_count": 4,
   "id": "0427878a-889e-4fc7-85cc-7c80657b7665",
   "metadata": {},
   "outputs": [],
   "source": [
    "parser = argparse.ArgumentParser()"
   ]
  },
  {
   "cell_type": "code",
   "execution_count": 5,
   "id": "0dcb2f2a-4c53-4362-83e8-71b2d8358ac4",
   "metadata": {},
   "outputs": [
    {
     "data": {
      "text/plain": [
       "\u001b[0;31mSignature:\u001b[0m \u001b[0mparser\u001b[0m\u001b[0;34m.\u001b[0m\u001b[0madd_argument\u001b[0m\u001b[0;34m(\u001b[0m\u001b[0;34m*\u001b[0m\u001b[0margs\u001b[0m\u001b[0;34m,\u001b[0m \u001b[0;34m**\u001b[0m\u001b[0mkwargs\u001b[0m\u001b[0;34m)\u001b[0m\u001b[0;34m\u001b[0m\u001b[0;34m\u001b[0m\u001b[0m\n",
       "\u001b[0;31mDocstring:\u001b[0m\n",
       "add_argument(dest, ..., name=value, ...)\n",
       "add_argument(option_string, option_string, ..., name=value, ...)\n",
       "\u001b[0;31mFile:\u001b[0m      ~/miniconda3/envs/wearables/lib/python3.8/argparse.py\n",
       "\u001b[0;31mType:\u001b[0m      method\n"
      ]
     },
     "metadata": {},
     "output_type": "display_data"
    }
   ],
   "source": [
    "?parser.add_argument"
   ]
  },
  {
   "cell_type": "code",
   "execution_count": 1,
   "id": "ed854551-e639-467c-9b77-682cf50829c0",
   "metadata": {},
   "outputs": [],
   "source": [
    "import torch"
   ]
  },
  {
   "cell_type": "code",
   "execution_count": 8,
   "id": "8049609c-8926-4604-ba51-7e1d0c7f04be",
   "metadata": {},
   "outputs": [],
   "source": [
    "scheduler = torch.optim.SGD([torch.zeros(100,1)], lr=0.1)"
   ]
  },
  {
   "cell_type": "code",
   "execution_count": 9,
   "id": "d9f23737-9d12-4316-bd56-52bf92fdee04",
   "metadata": {},
   "outputs": [
    {
     "name": "stdout",
     "output_type": "stream",
     "text": [
      "here\n"
     ]
    }
   ],
   "source": [
    "if scheduler:\n",
    "    print('here')"
   ]
  },
  {
   "cell_type": "code",
   "execution_count": 10,
   "id": "4b859390-f836-4702-9cc7-ffe290e150ab",
   "metadata": {},
   "outputs": [
    {
     "data": {
      "text/plain": [
       "0.00025"
      ]
     },
     "execution_count": 10,
     "metadata": {},
     "output_type": "execute_result"
    }
   ],
   "source": [
    "5e-4*0.5"
   ]
  },
  {
   "cell_type": "code",
   "execution_count": 11,
   "id": "3b26da6c-3666-45bf-95e2-e753c50b2193",
   "metadata": {},
   "outputs": [
    {
     "data": {
      "text/plain": [
       "0.0005"
      ]
     },
     "execution_count": 11,
     "metadata": {},
     "output_type": "execute_result"
    }
   ],
   "source": [
    "5e-4"
   ]
  },
  {
   "cell_type": "code",
   "execution_count": null,
   "id": "40f66fe7-74d9-47d6-b2bd-678d46ed434a",
   "metadata": {},
   "outputs": [],
   "source": []
  }
 ],
 "metadata": {
  "kernelspec": {
   "display_name": "Python 3 (ipykernel)",
   "language": "python",
   "name": "python3"
  },
  "language_info": {
   "codemirror_mode": {
    "name": "ipython",
    "version": 3
   },
   "file_extension": ".py",
   "mimetype": "text/x-python",
   "name": "python",
   "nbconvert_exporter": "python",
   "pygments_lexer": "ipython3",
   "version": "3.8.10"
  }
 },
 "nbformat": 4,
 "nbformat_minor": 5
}
