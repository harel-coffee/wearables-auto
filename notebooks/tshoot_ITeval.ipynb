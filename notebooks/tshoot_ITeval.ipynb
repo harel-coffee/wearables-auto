{
 "cells": [
  {
   "cell_type": "code",
   "execution_count": 1,
   "id": "437dc5fb-3eb4-42be-96f3-8b20fa896063",
   "metadata": {},
   "outputs": [],
   "source": [
    "%matplotlib inline\n",
    "%timeit\n",
    "\n",
    "import pandas as pd\n",
    "import numpy as np\n",
    "import matplotlib.pyplot as plt\n",
    "import seaborn as sns\n",
    "import glob\n",
    "import os\n",
    "import time\n",
    "import pickle\n",
    "import datetime\n",
    "import re\n",
    "import pyActigraphy\n",
    "\n",
    "import sys\n",
    "sys.path.append('/home/ngrav/project/')\n",
    "from wearables.scripts import utils as wearutils\n",
    "from wearables.scripts import data_v42 as weardata\n",
    "from wearables.scripts import train as weartrain\n",
    "from wearables.scripts import eval_v42 as weareval\n",
    "from wearables.scripts import model as wearmodels\n",
    "from wearables.scripts import DTW as weardtw\n",
    "\n",
    "import torch\n",
    "import torch.nn as nn\n",
    "import torch.nn.functional as F\n",
    "\n",
    "from scipy.spatial.distance import pdist, squareform\n",
    "import fastdtw\n",
    "import umap\n",
    "\n",
    "plt.rc('font', size = 9)\n",
    "plt.rc('font', family='sans serif')\n",
    "plt.rcParams['pdf.fonttype'] = 42\n",
    "plt.rcParams['ps.fonttype'] = 42\n",
    "plt.rcParams['legend.frameon']=False\n",
    "plt.rcParams['axes.grid']=False\n",
    "plt.rcParams['legend.markerscale']=1\n",
    "plt.rcParams['savefig.dpi'] = 600\n",
    "sns.set_style(\"ticks\")"
   ]
  },
  {
   "cell_type": "code",
   "execution_count": 28,
   "id": "cf734836-8256-4d0a-b9ce-b091ef168e92",
   "metadata": {},
   "outputs": [],
   "source": [
    "# load data\n",
    "\n",
    "model_fp = '/home/ngrav/scratch/wearables_model_zoo'\n",
    "\n",
    "trainer_fp = os.path.join(model_fp, 'trainer_itrandaug_GA6.pkl')\n",
    "# modelpkl = os.path.join(model_fp, '6143-cnnv43l1l2_GA5.pkl')\n"
   ]
  },
  {
   "cell_type": "code",
   "execution_count": 29,
   "id": "718adde1-8324-47e9-96f6-c0ad8643deb5",
   "metadata": {},
   "outputs": [
    {
     "ename": "EOFError",
     "evalue": "Ran out of input",
     "output_type": "error",
     "traceback": [
      "\u001b[0;31m---------------------------------------------------------------------------\u001b[0m",
      "\u001b[0;31mEOFError\u001b[0m                                  Traceback (most recent call last)",
      "\u001b[0;32m/tmp/ipykernel_2198652/446340847.py\u001b[0m in \u001b[0;36m<module>\u001b[0;34m\u001b[0m\n\u001b[0;32m----> 1\u001b[0;31m \u001b[0m_\u001b[0m\u001b[0;34m,\u001b[0m \u001b[0mmd_model\u001b[0m\u001b[0;34m,\u001b[0m \u001b[0mtrainer\u001b[0m \u001b[0;34m=\u001b[0m \u001b[0mweardtw\u001b[0m\u001b[0;34m.\u001b[0m\u001b[0mdata_from_trainer\u001b[0m\u001b[0;34m(\u001b[0m\u001b[0mtrainer_fp\u001b[0m\u001b[0;34m,\u001b[0m \u001b[0msplit\u001b[0m\u001b[0;34m=\u001b[0m\u001b[0;34m'test'\u001b[0m\u001b[0;34m)\u001b[0m\u001b[0;34m\u001b[0m\u001b[0;34m\u001b[0m\u001b[0m\n\u001b[0m",
      "\u001b[0;32m~/project/wearables/scripts/DTW.py\u001b[0m in \u001b[0;36mdata_from_trainer\u001b[0;34m(trainer_fp, split)\u001b[0m\n\u001b[1;32m     55\u001b[0m     '''\n\u001b[1;32m     56\u001b[0m     \u001b[0;32mwith\u001b[0m \u001b[0mopen\u001b[0m\u001b[0;34m(\u001b[0m\u001b[0mtrainer_fp\u001b[0m\u001b[0;34m,\u001b[0m \u001b[0;34m'rb'\u001b[0m\u001b[0;34m)\u001b[0m \u001b[0;32mas\u001b[0m \u001b[0mf\u001b[0m\u001b[0;34m:\u001b[0m\u001b[0;34m\u001b[0m\u001b[0;34m\u001b[0m\u001b[0m\n\u001b[0;32m---> 57\u001b[0;31m         \u001b[0mtrainer\u001b[0m \u001b[0;34m=\u001b[0m \u001b[0mpickle\u001b[0m\u001b[0;34m.\u001b[0m\u001b[0mload\u001b[0m\u001b[0;34m(\u001b[0m\u001b[0mf\u001b[0m\u001b[0;34m)\u001b[0m\u001b[0;34m\u001b[0m\u001b[0;34m\u001b[0m\u001b[0m\n\u001b[0m\u001b[1;32m     58\u001b[0m         \u001b[0mf\u001b[0m\u001b[0;34m.\u001b[0m\u001b[0mclose\u001b[0m\u001b[0;34m(\u001b[0m\u001b[0;34m)\u001b[0m\u001b[0;34m\u001b[0m\u001b[0;34m\u001b[0m\u001b[0m\n\u001b[1;32m     59\u001b[0m \u001b[0;34m\u001b[0m\u001b[0m\n",
      "\u001b[0;31mEOFError\u001b[0m: Ran out of input"
     ]
    }
   ],
   "source": [
    "_, md_model, trainer = weardtw.data_from_trainer(trainer_fp, split='test')\n"
   ]
  },
  {
   "cell_type": "code",
   "execution_count": 11,
   "id": "e6b0bf50-a49c-4aaa-8a1b-bf8d69f5a499",
   "metadata": {},
   "outputs": [],
   "source": [
    "trainlog = pd.read_csv('/home/ngrav/project/wearables/results/train_v45.csv')"
   ]
  },
  {
   "cell_type": "code",
   "execution_count": 12,
   "id": "6c6db44d-9e50-42fd-9e0f-fa011cb92b45",
   "metadata": {},
   "outputs": [
    {
     "data": {
      "text/html": [
       "<div>\n",
       "<style scoped>\n",
       "    .dataframe tbody tr th:only-of-type {\n",
       "        vertical-align: middle;\n",
       "    }\n",
       "\n",
       "    .dataframe tbody tr th {\n",
       "        vertical-align: top;\n",
       "    }\n",
       "\n",
       "    .dataframe thead th {\n",
       "        text-align: right;\n",
       "    }\n",
       "</style>\n",
       "<table border=\"1\" class=\"dataframe\">\n",
       "  <thead>\n",
       "    <tr style=\"text-align: right;\">\n",
       "      <th></th>\n",
       "      <th>Unnamed: 0</th>\n",
       "      <th>exp</th>\n",
       "      <th>trial</th>\n",
       "      <th>target</th>\n",
       "      <th>hyperparams</th>\n",
       "      <th>tasktype</th>\n",
       "      <th>bst_epoch</th>\n",
       "      <th>loss_train</th>\n",
       "      <th>loss_val</th>\n",
       "    </tr>\n",
       "  </thead>\n",
       "  <tbody>\n",
       "    <tr>\n",
       "      <th>0</th>\n",
       "      <td>0</td>\n",
       "      <td>itrandaug_GA</td>\n",
       "      <td>1</td>\n",
       "      <td>GA</td>\n",
       "      <td>{'batch_size': 32, 'nb_epochs': 10000, 'lr': 1...</td>\n",
       "      <td>regression</td>\n",
       "      <td>643</td>\n",
       "      <td>[504.4538653338397, 499.344982571072, 494.3801...</td>\n",
       "      <td>[472.26517995198566, 480.28916422526044, 469.3...</td>\n",
       "    </tr>\n",
       "    <tr>\n",
       "      <th>1</th>\n",
       "      <td>0</td>\n",
       "      <td>itrandaug_GA</td>\n",
       "      <td>2</td>\n",
       "      <td>GA</td>\n",
       "      <td>{'batch_size': 32, 'nb_epochs': 10000, 'lr': 1...</td>\n",
       "      <td>regression</td>\n",
       "      <td>817</td>\n",
       "      <td>[488.6019038447627, 487.36105007595484, 475.29...</td>\n",
       "      <td>[460.62891642252606, 458.73922475179035, 453.6...</td>\n",
       "    </tr>\n",
       "    <tr>\n",
       "      <th>2</th>\n",
       "      <td>0</td>\n",
       "      <td>itrandaug_GA</td>\n",
       "      <td>3</td>\n",
       "      <td>GA</td>\n",
       "      <td>{'batch_size': 32, 'nb_epochs': 10000, 'lr': 1...</td>\n",
       "      <td>regression</td>\n",
       "      <td>784</td>\n",
       "      <td>[496.87587766294126, 494.323885317202, 489.649...</td>\n",
       "      <td>[513.2619910606971, 510.54426926832934, 505.00...</td>\n",
       "    </tr>\n",
       "    <tr>\n",
       "      <th>3</th>\n",
       "      <td>0</td>\n",
       "      <td>itrandaug_GA</td>\n",
       "      <td>4</td>\n",
       "      <td>GA</td>\n",
       "      <td>{'batch_size': 32, 'nb_epochs': 10000, 'lr': 1...</td>\n",
       "      <td>regression</td>\n",
       "      <td>1257</td>\n",
       "      <td>[480.423271724156, 463.35917227608815, 459.403...</td>\n",
       "      <td>[450.35841878255206, 433.72333272298175, 435.3...</td>\n",
       "    </tr>\n",
       "    <tr>\n",
       "      <th>4</th>\n",
       "      <td>0</td>\n",
       "      <td>itrandaug_GA</td>\n",
       "      <td>5</td>\n",
       "      <td>GA</td>\n",
       "      <td>{'batch_size': 32, 'nb_epochs': 10000, 'lr': 1...</td>\n",
       "      <td>regression</td>\n",
       "      <td>923</td>\n",
       "      <td>[500.15432961203834, 495.4945051713423, 489.08...</td>\n",
       "      <td>[484.1526336669922, 471.3987859090169, 472.217...</td>\n",
       "    </tr>\n",
       "    <tr>\n",
       "      <th>5</th>\n",
       "      <td>0</td>\n",
       "      <td>itrandaug_GA</td>\n",
       "      <td>6</td>\n",
       "      <td>GA</td>\n",
       "      <td>{'batch_size': 32, 'nb_epochs': 10000, 'lr': 1...</td>\n",
       "      <td>regression</td>\n",
       "      <td>421</td>\n",
       "      <td>[484.83746620460795, 479.95774558738424, 474.3...</td>\n",
       "      <td>[482.244379679362, 473.77544657389325, 453.864...</td>\n",
       "    </tr>\n",
       "  </tbody>\n",
       "</table>\n",
       "</div>"
      ],
      "text/plain": [
       "   Unnamed: 0           exp  trial target  \\\n",
       "0           0  itrandaug_GA      1     GA   \n",
       "1           0  itrandaug_GA      2     GA   \n",
       "2           0  itrandaug_GA      3     GA   \n",
       "3           0  itrandaug_GA      4     GA   \n",
       "4           0  itrandaug_GA      5     GA   \n",
       "5           0  itrandaug_GA      6     GA   \n",
       "\n",
       "                                         hyperparams    tasktype  bst_epoch  \\\n",
       "0  {'batch_size': 32, 'nb_epochs': 10000, 'lr': 1...  regression        643   \n",
       "1  {'batch_size': 32, 'nb_epochs': 10000, 'lr': 1...  regression        817   \n",
       "2  {'batch_size': 32, 'nb_epochs': 10000, 'lr': 1...  regression        784   \n",
       "3  {'batch_size': 32, 'nb_epochs': 10000, 'lr': 1...  regression       1257   \n",
       "4  {'batch_size': 32, 'nb_epochs': 10000, 'lr': 1...  regression        923   \n",
       "5  {'batch_size': 32, 'nb_epochs': 10000, 'lr': 1...  regression        421   \n",
       "\n",
       "                                          loss_train  \\\n",
       "0  [504.4538653338397, 499.344982571072, 494.3801...   \n",
       "1  [488.6019038447627, 487.36105007595484, 475.29...   \n",
       "2  [496.87587766294126, 494.323885317202, 489.649...   \n",
       "3  [480.423271724156, 463.35917227608815, 459.403...   \n",
       "4  [500.15432961203834, 495.4945051713423, 489.08...   \n",
       "5  [484.83746620460795, 479.95774558738424, 474.3...   \n",
       "\n",
       "                                            loss_val  \n",
       "0  [472.26517995198566, 480.28916422526044, 469.3...  \n",
       "1  [460.62891642252606, 458.73922475179035, 453.6...  \n",
       "2  [513.2619910606971, 510.54426926832934, 505.00...  \n",
       "3  [450.35841878255206, 433.72333272298175, 435.3...  \n",
       "4  [484.1526336669922, 471.3987859090169, 472.217...  \n",
       "5  [482.244379679362, 473.77544657389325, 453.864...  "
      ]
     },
     "execution_count": 12,
     "metadata": {},
     "output_type": "execute_result"
    }
   ],
   "source": [
    "trainlog"
   ]
  },
  {
   "cell_type": "code",
   "execution_count": 13,
   "id": "67cd794c-dff5-4d19-8dd8-0b36eb78c6a4",
   "metadata": {},
   "outputs": [],
   "source": [
    "import ast\n",
    "train = ast.literal_eval(trainlog.loc[0, 'loss_train'])\n",
    "val = ast.literal_eval(trainlog.loc[0, 'loss_val'])"
   ]
  },
  {
   "cell_type": "code",
   "execution_count": 15,
   "id": "b797164b-564f-4c63-9161-aabb83307070",
   "metadata": {},
   "outputs": [],
   "source": [
    "#  note: running with following specifications:  {'batch_size': 32, 'nb_epochs': 10000, 'lr': 1e-05, 'lambda_l1': 0.0005, 'lambda_l2': 0.0005, 'aug_mode': ['random'], 'aug_per_epoch': False, 'patience': 500, 'min_nb_epochs': 400, 'shuffle_label': False}\n",
    "# it ran until 1143"
   ]
  },
  {
   "cell_type": "code",
   "execution_count": 16,
   "id": "504e4130-29be-4f5d-abcc-680fa2c848a9",
   "metadata": {},
   "outputs": [
    {
     "data": {
      "text/plain": [
       "643"
      ]
     },
     "execution_count": 16,
     "metadata": {},
     "output_type": "execute_result"
    }
   ],
   "source": [
    "np.argmin(val)"
   ]
  },
  {
   "cell_type": "code",
   "execution_count": 17,
   "id": "5c2048c2-ef14-48dd-aee0-ca6b74414690",
   "metadata": {},
   "outputs": [
    {
     "data": {
      "text/plain": [
       "1144"
      ]
     },
     "execution_count": 17,
     "metadata": {},
     "output_type": "execute_result"
    }
   ],
   "source": [
    "len(val)"
   ]
  },
  {
   "cell_type": "code",
   "execution_count": 18,
   "id": "6ad7b16e-f5b4-4a38-95b7-287ae0a45dbf",
   "metadata": {},
   "outputs": [
    {
     "data": {
      "text/plain": [
       "85.89751283327739"
      ]
     },
     "execution_count": 18,
     "metadata": {},
     "output_type": "execute_result"
    }
   ],
   "source": [
    "np.min(val)"
   ]
  },
  {
   "cell_type": "code",
   "execution_count": null,
   "id": "d58a5f6a-7158-4085-9f9c-530f9fe0e961",
   "metadata": {},
   "outputs": [],
   "source": [
    "# it is saving the best epoch pkl and storing the results file but perhaps it fails to save the trainer (which has the splits)"
   ]
  },
  {
   "cell_type": "code",
   "execution_count": 19,
   "id": "32d3c0b7-f06b-40de-8ebe-7c537da5e53b",
   "metadata": {},
   "outputs": [
    {
     "data": {
      "text/plain": [
       "0.00025"
      ]
     },
     "execution_count": 19,
     "metadata": {},
     "output_type": "execute_result"
    }
   ],
   "source": [
    "5e-4 / 2"
   ]
  },
  {
   "cell_type": "code",
   "execution_count": 30,
   "id": "e6e6b6ee-5c5b-48a7-a246-320cd886673d",
   "metadata": {},
   "outputs": [],
   "source": [
    "# hypothesis is that it's a mem thing... could try with diagnostic run (not batched) to see what errors are generated... and isolate largest mem of trainer"
   ]
  },
  {
   "cell_type": "code",
   "execution_count": 31,
   "id": "53825ccd-ce31-4d6c-b062-a8aeba5d0ea1",
   "metadata": {},
   "outputs": [],
   "source": [
    "# hypothesis is that it's a mem thing... could try with diagnostic run (not batched) to see what errors are generated... and isolate largest mem of trainer\n"
   ]
  },
  {
   "cell_type": "code",
   "execution_count": 2,
   "id": "f9e3b295-a642-4d25-a2a6-2de4a135c370",
   "metadata": {},
   "outputs": [],
   "source": [
    "import sys\n",
    "sys.path.append('/home/ngrav/project/')"
   ]
  },
  {
   "cell_type": "code",
   "execution_count": 9,
   "id": "c484ce25-b115-46be-8920-e3b2b9ce0f65",
   "metadata": {},
   "outputs": [],
   "source": [
    "from wearables.scripts import model as wearmodel\n",
    "it = wearmodel.InceptionTime(2, 1)"
   ]
  },
  {
   "cell_type": "code",
   "execution_count": 10,
   "id": "9861f57c-6dee-4ab3-80c9-441cd340077c",
   "metadata": {},
   "outputs": [
    {
     "data": {
      "text/plain": [
       "<module 'wearables.scripts.model' from '/home/ngrav/project/wearables/scripts/model.py'>"
      ]
     },
     "execution_count": 10,
     "metadata": {},
     "output_type": "execute_result"
    }
   ],
   "source": [
    "import importlib\n",
    "importlib.reload(wearmodel)"
   ]
  },
  {
   "cell_type": "code",
   "execution_count": 11,
   "id": "3714cc67-18d1-4fe2-8f1e-f463fddc4133",
   "metadata": {},
   "outputs": [],
   "source": [
    "import pickle"
   ]
  },
  {
   "cell_type": "code",
   "execution_count": 7,
   "id": "c80c0306-4d1d-478c-ab31-979271a76282",
   "metadata": {},
   "outputs": [
    {
     "ename": "PicklingError",
     "evalue": "Can't pickle <class 'wearables.scripts.model.InceptionTime'>: it's not the same object as wearables.scripts.model.InceptionTime",
     "output_type": "error",
     "traceback": [
      "\u001b[0;31m---------------------------------------------------------------------------\u001b[0m",
      "\u001b[0;31mPicklingError\u001b[0m                             Traceback (most recent call last)",
      "\u001b[0;32m/tmp/ipykernel_2383445/1217010763.py\u001b[0m in \u001b[0;36m<module>\u001b[0;34m\u001b[0m\n\u001b[1;32m      1\u001b[0m \u001b[0;32mwith\u001b[0m \u001b[0mopen\u001b[0m\u001b[0;34m(\u001b[0m\u001b[0;34m'/home/ngrav/scratch/test.pkl'\u001b[0m\u001b[0;34m,\u001b[0m \u001b[0;34m'wb'\u001b[0m\u001b[0;34m)\u001b[0m \u001b[0;32mas\u001b[0m \u001b[0mf\u001b[0m\u001b[0;34m:\u001b[0m\u001b[0;34m\u001b[0m\u001b[0;34m\u001b[0m\u001b[0m\n\u001b[0;32m----> 2\u001b[0;31m     \u001b[0mpickle\u001b[0m\u001b[0;34m.\u001b[0m\u001b[0mdump\u001b[0m\u001b[0;34m(\u001b[0m\u001b[0mit\u001b[0m\u001b[0;34m,\u001b[0m \u001b[0mf\u001b[0m\u001b[0;34m,\u001b[0m \u001b[0mprotocol\u001b[0m\u001b[0;34m=\u001b[0m\u001b[0mpickle\u001b[0m\u001b[0;34m.\u001b[0m\u001b[0mHIGHEST_PROTOCOL\u001b[0m\u001b[0;34m)\u001b[0m\u001b[0;34m\u001b[0m\u001b[0;34m\u001b[0m\u001b[0m\n\u001b[0m\u001b[1;32m      3\u001b[0m     \u001b[0mf\u001b[0m\u001b[0;34m.\u001b[0m\u001b[0mclose\u001b[0m\u001b[0;34m(\u001b[0m\u001b[0;34m)\u001b[0m\u001b[0;34m\u001b[0m\u001b[0;34m\u001b[0m\u001b[0m\n",
      "\u001b[0;31mPicklingError\u001b[0m: Can't pickle <class 'wearables.scripts.model.InceptionTime'>: it's not the same object as wearables.scripts.model.InceptionTime"
     ]
    }
   ],
   "source": [
    "with open('/home/ngrav/scratch/test.pkl', 'wb') as f:\n",
    "    pickle.dump(it, f, protocol=pickle.HIGHEST_PROTOCOL)\n",
    "    f.close()"
   ]
  },
  {
   "cell_type": "code",
   "execution_count": null,
   "id": "4e3c5868-d19b-4fdf-b32b-4f0d0e822653",
   "metadata": {},
   "outputs": [],
   "source": []
  }
 ],
 "metadata": {
  "kernelspec": {
   "display_name": "Python 3 (ipykernel)",
   "language": "python",
   "name": "python3"
  },
  "language_info": {
   "codemirror_mode": {
    "name": "ipython",
    "version": 3
   },
   "file_extension": ".py",
   "mimetype": "text/x-python",
   "name": "python",
   "nbconvert_exporter": "python",
   "pygments_lexer": "ipython3",
   "version": "3.8.10"
  }
 },
 "nbformat": 4,
 "nbformat_minor": 5
}
