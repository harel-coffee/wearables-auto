{
 "cells": [
  {
   "cell_type": "code",
   "execution_count": 385,
   "metadata": {},
   "outputs": [],
   "source": [
    "%matplotlib inline\n",
    "\n",
    "import os\n",
    "import pandas as pd\n",
    "import numpy as np\n",
    "import pickle\n",
    "import time\n",
    "import random\n",
    "\n",
    "import torch\n",
    "import torch.nn as nn\n",
    "import torch.nn.functional as F\n",
    "\n",
    "import matplotlib.pyplot as plt"
   ]
  },
  {
   "cell_type": "code",
   "execution_count": 2,
   "metadata": {},
   "outputs": [],
   "source": [
    "with open('/home/ngr/gdrive/wearables/data/processed/MOD_1000_Woman_Activity_Data.pkl', 'rb') as f:\n",
    "    data = pickle.load(f)\n",
    "    f.close()\n"
   ]
  },
  {
   "cell_type": "markdown",
   "metadata": {},
   "source": [
    "# dev"
   ]
  },
  {
   "cell_type": "code",
   "execution_count": 152,
   "metadata": {},
   "outputs": [
    {
     "name": "stdout",
     "output_type": "stream",
     "text": [
      "pid-ga-female for < 1200:\n",
      "  1101-19-1\tlen: 701\n",
      "  1227-12-1\tlen: 636\n",
      "  1238-25-1\tlen: 14\n",
      "  1243-8-1\tlen: 905\n",
      "  1325-32-NA\tlen: 522\n",
      "  2074-36-1\tlen: 333\n",
      "  2214-7-1\tlen: 633\n",
      "  2352-16-1\tlen: 770\n",
      "  2373-8-1\tlen: 442\n",
      "  2455-11-1\tlen: 185\n",
      "\n",
      " removed 10 records\n"
     ]
    }
   ],
   "source": [
    "# clean data\n",
    "print('pid-ga-female for < 1200:')\n",
    "keys_to_remove = []\n",
    "counter = 0\n",
    "for k, v in data.items():\n",
    "    seq_len = len(v[0])\n",
    "    if seq_len < 1200:\n",
    "        counter += 1\n",
    "        print('  {}\\tlen: {}'.format(k, seq_len))\n",
    "        keys_to_remove.append(k)\n",
    "print('\\n removed {} records'.format(counter))\n",
    "\n",
    "seq_lengths = []\n",
    "for k, v in data.items():\n",
    "    seq_lengths.append(len(v[0]))\n",
    "\n",
    "if True:\n",
    "    # actually remove\n",
    "    for k in keys_to_remove:\n",
    "        del data[k]"
   ]
  },
  {
   "cell_type": "code",
   "execution_count": 182,
   "metadata": {},
   "outputs": [],
   "source": [
    "# find min date \n",
    "dates = []\n",
    "for k, v in data.items():\n",
    "    dates.append(v[0][0])"
   ]
  },
  {
   "cell_type": "code",
   "execution_count": 186,
   "metadata": {},
   "outputs": [
    {
     "name": "stdout",
     "output_type": "stream",
     "text": [
      "Minimum date in data set:  1485766260000000000\n"
     ]
    }
   ],
   "source": [
    "print('Minimum date in data set: ', min([i.value for i in dates]))"
   ]
  },
  {
   "cell_type": "code",
   "execution_count": 149,
   "metadata": {},
   "outputs": [
    {
     "data": {
      "text/plain": [
       "<matplotlib.axes._subplots.AxesSubplot at 0x7f4bd906f1f0>"
      ]
     },
     "execution_count": 149,
     "metadata": {},
     "output_type": "execute_result"
    },
    {
     "data": {
      "image/png": "[encoded data removed]",
      "text/plain": [
       "<Figure size 432x288 with 1 Axes>"
      ]
     },
     "metadata": {
      "needs_background": "light"
     },
     "output_type": "display_data"
    }
   ],
   "source": [
    "sns.distplot(seq_lengths)"
   ]
  },
  {
   "cell_type": "code",
   "execution_count": 193,
   "metadata": {},
   "outputs": [],
   "source": [
    "# data loader\n",
    "class actigraphy(torch.utils.data.Dataset):\n",
    "    def __init__(self, datapkl, max_seq_len=1200, min_date=1485766260000000000):\n",
    "        self.datapkl = datapkl\n",
    "        self.max_seq_len = max_seq_len\n",
    "        self.min_date = min_date\n",
    "        \n",
    "    def __len__(self):\n",
    "        return len(self.datapkl.keys())\n",
    "\n",
    "    def __getitem__(self, idx):\n",
    "        pid = list(self.datapkl.keys())[idx]\n",
    "        GA = int(pid.split('-')[1])\n",
    "        t, xt = self.transform(self.datapkl[pid])\n",
    "        sample = {'x':xt, 'y':torch.tensor(GA), 'tod':torch.tensor(t)}\n",
    "#         sample = {'x':xt, 'y':torch.tensor(GA), 'tod':t}\n",
    "        return sample # or (xt, y)\n",
    "    \n",
    "    def load_datapkl(self, datapkl_fname):\n",
    "        '''\n",
    "        TODO (#enhancement): pass filepath only and internally load data set once called\n",
    "        '''\n",
    "        with open(datapkl_fname, 'rb') as f:\n",
    "            data = pickle.load(f)\n",
    "            f.close()\n",
    "        return data\n",
    "    \n",
    "    def transform(self, input_seq):\n",
    "        '''\n",
    "        TODO (#enhancement): sample different 1200 segments by selecting any starting idx from seq_len - max_length\n",
    "        '''\n",
    "        tod = [(i.value - self.min_date)*(1e-9)*(1/60) for i in input_seq[0]] # minutes from min\n",
    "        activity = torch.FloatTensor(np.array([float(i) for i in input_seq[1]])).view(-1, 1)\n",
    "        \n",
    "        if self.max_seq_len is not None:\n",
    "            tod = tod[:self.max_seq_len] # time of day\n",
    "            \n",
    "            activity = activity[:self.max_seq_len, :]\n",
    "\n",
    "        # log-pseudocount\n",
    "        '''\n",
    "        TODO (#enhancement): try different transofmrations or \"raw count\" embeddings, \n",
    "          similar to word_embeddings for vocab size V. embedding_dim\n",
    "        '''\n",
    "        activity = activity + 1\n",
    "        activity = activity.log()\n",
    "\n",
    "        # alignment\n",
    "        return (tod, activity)\n"
   ]
  },
  {
   "cell_type": "code",
   "execution_count": 194,
   "metadata": {},
   "outputs": [],
   "source": [
    "dataloader = torch.utils.data.DataLoader(actigraphy(data), batch_size=32, shuffle=True)"
   ]
  },
  {
   "cell_type": "code",
   "execution_count": 195,
   "metadata": {},
   "outputs": [],
   "source": [
    "# dev\n",
    "batch = next(iter(dataloader))\n",
    "xt, y, tod = batch['x'], batch['y'], batch['tod']"
   ]
  },
  {
   "cell_type": "code",
   "execution_count": 86,
   "metadata": {},
   "outputs": [
    {
     "data": {
      "text/plain": [
       "<matplotlib.axes._subplots.AxesSubplot at 0x7f4ce1755580>"
      ]
     },
     "execution_count": 86,
     "metadata": {},
     "output_type": "execute_result"
    },
    {
     "data": {
      "image/png": "[encoded data removed]",
      "text/plain": [
       "<Figure size 432x288 with 1 Axes>"
      ]
     },
     "metadata": {
      "needs_background": "light"
     },
     "output_type": "display_data"
    }
   ],
   "source": [
    "sns.lineplot(np.arange(xt.shape[1]), xt.squeeze())"
   ]
  },
  {
   "cell_type": "markdown",
   "metadata": {},
   "source": [
    "use time2vec to handle nanosecond representation of time, which should contain information on its own"
   ]
  },
  {
   "cell_type": "code",
   "execution_count": 213,
   "metadata": {},
   "outputs": [],
   "source": [
    "# periodic activations\n",
    "def t2v(tau, f, out_features, w, b, w0, b0, arg=None):\n",
    "    if arg:\n",
    "        v1 = f(torch.matmul(tau, w) + b, arg)\n",
    "    else:\n",
    "        #print(w.shape, t1.shape, b.shape)\n",
    "        v1 = f(torch.matmul(tau, w) + b)\n",
    "    v2 = torch.matmul(tau, w0) + b0\n",
    "    #print(v1.shape)\n",
    "    return torch.cat([v1, v2], 1)\n",
    "\n",
    "class SineActivation(nn.Module):\n",
    "    def __init__(self, in_features, out_features):\n",
    "        super(SineActivation, self).__init__()\n",
    "        self.out_features = out_features\n",
    "        self.w0 = nn.parameter.Parameter(torch.randn(in_features, 1))\n",
    "        self.b0 = nn.parameter.Parameter(torch.randn(in_features, 1))\n",
    "        self.w = nn.parameter.Parameter(torch.randn(in_features, out_features-1))\n",
    "        self.b = nn.parameter.Parameter(torch.randn(in_features, out_features-1))\n",
    "        self.f = torch.sin\n",
    "\n",
    "    def forward(self, tau):\n",
    "        return t2v(tau, self.f, self.out_features, self.w, self.b, self.w0, self.b0)\n",
    "\n",
    "class CosineActivation(nn.Module):\n",
    "    def __init__(self, in_features, out_features):\n",
    "        super(CosineActivation, self).__init__()\n",
    "        self.out_features = out_features\n",
    "        self.w0 = nn.parameter.Parameter(torch.randn(in_features, 1))\n",
    "        self.b0 = nn.parameter.Parameter(torch.randn(in_features, 1))\n",
    "        self.w = nn.parameter.Parameter(torch.randn(in_features, out_features-1))\n",
    "        self.b = nn.parameter.Parameter(torch.randn(in_features, out_features-1))\n",
    "        self.f = torch.cos\n",
    "\n",
    "    def forward(self, tau):\n",
    "        return t2v(tau, self.f, self.out_features, self.w, self.b, self.w0, self.b0)\n",
    "    \n",
    "    \n",
    "class time2vec(nn.Module):\n",
    "    def __init__(self, hidden_dim, output_dim, activation='sin'):\n",
    "        super().__init__()\n",
    "        if activation == \"sin\":\n",
    "            self.l1 = SineActivation(1, hidden_dim)\n",
    "        elif activation == \"cos\":\n",
    "            self.l1 = CosineActivation(1, hidden_dim)\n",
    "        \n",
    "        self.fc1 = nn.Linear(hidden_dim, output_dim)\n",
    "    \n",
    "    def forward(self, x):\n",
    "        x = self.l1(x)\n",
    "        x = self.fc1(x)\n",
    "        return x"
   ]
  },
  {
   "cell_type": "code",
   "execution_count": 246,
   "metadata": {},
   "outputs": [],
   "source": [
    "t1 = time2vec(1, 4)(tod.view(-1, 1)).view(32, seq_len, 4)\n",
    "t2 = torch.stack([time2vec(1, 4)(tod[i, :].view(-1, 1)) for i in range(tod.shape[0])])\n",
    "t1 == t2"
   ]
  },
  {
   "cell_type": "code",
   "execution_count": 280,
   "metadata": {},
   "outputs": [],
   "source": [
    "input_dim = 1\n",
    "hidden_size = 32\n",
    "output_dim = 2\n",
    "context_size = 4 # minutes\n",
    "seq_len = 1200\n",
    "\n",
    "lstm = nn.LSTM(context_size*input_dim, hidden_size)\n",
    "t_lstm = nn.LSTM(context_size, int(hidden_size/2))\n",
    "fc1 = nn.Linear(hidden_size, 1)\n",
    "fc2 = nn.Linear(seq_len - context_size + 1, output_dim)\n",
    "t_fc1 = nn.Linear(int(hidden_size/2), 1)\n",
    "t_fc2 = nn.Linear(seq_len, int(output_dim/2))\n",
    "lin_proj = nn.Linear(int(output_dim/2)+output_dim, output_dim)\n",
    "\n",
    "# forward\n",
    "xt.unfold(1, context_size, 1).squeeze().shape\n",
    "x, hidden = lstm(xt.unfold(1, context_size, 1).squeeze().transpose(0, 1)) # where 1 is batch_size\n",
    "x = fc1(x.transpose(0, 1))\n",
    "x = fc2(x.squeeze())\n",
    "    \n",
    "tprime = torch.stack([time2vec(1, context_size)(tod[i, :].view(-1, 1)) for i in range(tod.shape[0])])\n",
    "tprime, _ = t_lstm(tprime.transpose(0, 1))\n",
    "tprime = t_fc1(tprime.transpose(0, 1))\n",
    "tprime = t_fc2(tprime.squeeze())\n",
    "\n",
    "output = lin_proj(torch.cat((x, tprime), -1))\n",
    "                   "
   ]
  },
  {
   "cell_type": "markdown",
   "metadata": {},
   "source": [
    "# putting it all together\n",
    "\n",
    "\n",
    "### pos/neg/anchor loader"
   ]
  },
  {
   "cell_type": "code",
   "execution_count": 331,
   "metadata": {},
   "outputs": [],
   "source": [
    "\n",
    "# TripletNet data loader \n",
    "class GA2wkTriplet(torch.utils.data.Dataset):\n",
    "    def __init__(self, datapkl, max_seq_len=1200, min_date=1485766260000000000):\n",
    "        self.datapkl = datapkl\n",
    "        self.max_seq_len = max_seq_len\n",
    "        self.min_date = min_date\n",
    "        \n",
    "    def __len__(self):\n",
    "        return len(self.datapkl.keys())\n",
    "\n",
    "    def __getitem__(self, idx):\n",
    "        all_pids = list(self.datapkl.keys())\n",
    "        all_GA = [int(pid.split('-')[1]) for pid in all_pids]\n",
    "        \n",
    "        # anchor\n",
    "        pid = all_pids[idx]\n",
    "        GA = int(pid.split('-')[1])\n",
    "        t, xt = self.transform(self.datapkl[pid])\n",
    "        \n",
    "        # define pos/neg \n",
    "        GArange = (max(0, GA - 2), GA + 2) # weeks\n",
    "        \n",
    "        # kick out anchor\n",
    "        all_pids = [v for i,v in enumerate(all_pids) if i!=idx]\n",
    "        all_GA = [v for i,v in enumerate(all_GA) if i!=idx]\n",
    "        \n",
    "        # pos/neg\n",
    "        pos_idx = np.random.choice(np.where((np.array(all_GA) >= GArange[0] ) & (np.array(all_GA) <= GArange[1]))[0], 1).item()\n",
    "        neg_idx = np.random.choice(np.where((np.array(all_GA) < GArange[0] ) | (np.array(all_GA) > GArange[1]))[0], 1).item()\n",
    "        pos_pid = all_pids[pos_idx]\n",
    "        neg_pid = all_pids[neg_idx]\n",
    "        GA_pos = int(pos_pid.split('-')[1])\n",
    "        t_pos, xt_pos = self.transform(self.datapkl[pos_pid])\n",
    "        GA_neg = int(neg_pid.split('-')[1])\n",
    "        t_neg, xt_neg = self.transform(self.datapkl[neg_pid])\n",
    "        \n",
    "        sample = {'xt_anchor':xt, 'y_anchor':torch.tensor(GA), 't_anchor':torch.tensor(t),\n",
    "                  'xt_pos':xt_pos, 'y_pos':torch.tensor(GA_pos), 't_pos':torch.tensor(t_pos),\n",
    "                 'xt_neg':xt_neg, 'y_neg':torch.tensor(GA_neg), 't_neg':torch.tensor(t_neg),}\n",
    "        return sample \n",
    "    \n",
    "    def load_datapkl(self, datapkl_fname):\n",
    "        '''\n",
    "        TODO (#enhancement): pass filepath only and internally load data set once called\n",
    "        '''\n",
    "        with open(datapkl_fname, 'rb') as f:\n",
    "            data = pickle.load(f)\n",
    "            f.close()\n",
    "        return data\n",
    "    \n",
    "    def transform(self, input_seq):\n",
    "        '''\n",
    "        TODO (#enhancement): sample different 1200 segments by selecting any starting idx from seq_len - max_length\n",
    "        '''\n",
    "        tod = [(i.value - self.min_date)*(1e-9)*(1/60) for i in input_seq[0]] # minutes from min\n",
    "        activity = torch.FloatTensor(np.array([float(i) for i in input_seq[1]])).view(-1, 1)\n",
    "        \n",
    "        if self.max_seq_len is not None:\n",
    "            tod = tod[:self.max_seq_len] # time of day\n",
    "            \n",
    "            activity = activity[:self.max_seq_len, :]\n",
    "\n",
    "        # log-pseudocount\n",
    "        '''\n",
    "        TODO (#enhancement): try different transofmrations or \"raw count\" embeddings, \n",
    "          similar to word_embeddings for vocab size V. embedding_dim\n",
    "        '''\n",
    "        activity = activity + 1\n",
    "        activity = activity.log()\n",
    "\n",
    "        # alignment\n",
    "        return (tod, activity)\n"
   ]
  },
  {
   "cell_type": "code",
   "execution_count": 332,
   "metadata": {},
   "outputs": [],
   "source": [
    "tripletloader = torch.utils.data.DataLoader(GA2wkTriplet(data), batch_size=32, shuffle=True)"
   ]
  },
  {
   "cell_type": "markdown",
   "metadata": {},
   "source": [
    "## nets"
   ]
  },
  {
   "cell_type": "code",
   "execution_count": 347,
   "metadata": {},
   "outputs": [],
   "source": [
    "class EmbeddingNet(nn.Module):\n",
    "    def __init__(self, input_dim=1, hidden_size=32, output_dim=2, context_size=8, seq_len=1200):\n",
    "        super().__init__()\n",
    "        self.context_size = context_size\n",
    "        self.lstm = nn.LSTM(context_size*input_dim, hidden_size)\n",
    "        self.t_lstm = nn.LSTM(context_size, int(hidden_size/2))\n",
    "        self.fc1 = nn.Linear(hidden_size, 1)\n",
    "        self.fc2 = nn.Linear(seq_len - context_size + 1, output_dim)\n",
    "        self.t_fc1 = nn.Linear(int(hidden_size/2), 1)\n",
    "        self.t_fc2 = nn.Linear(seq_len, int(output_dim/2))\n",
    "        self.lin_proj = nn.Linear(int(output_dim/2)+output_dim, output_dim)\n",
    "        self.time2vec = time2vec(1, context_size)\n",
    "\n",
    "    def forward(self, xt, t):\n",
    "        xt, _ = self.lstm(xt.unfold(1, self.context_size, 1).squeeze().transpose(0, 1)) # where 1 is batch_size\n",
    "        x = F.leaky_relu(self.fc1(xt.transpose(0, 1)))\n",
    "        x = self.fc2(x.squeeze())\n",
    "\n",
    "        tprime = torch.stack([self.time2vec(t[i, :].view(-1, 1)) for i in range(t.shape[0])])\n",
    "        tprime, _ = self.t_lstm(tprime.transpose(0, 1))\n",
    "        tprime = F.leaky_relu(self.t_fc1(tprime.transpose(0, 1)))\n",
    "        tprime = self.t_fc2(tprime.squeeze())\n",
    "\n",
    "        output = self.lin_proj(torch.cat((x, tprime), -1))\n",
    "        return output\n",
    "\n",
    "    def get_embedding(self, xt, t):\n",
    "        return self.forward(xt, t)\n",
    "\n",
    "class TripletNet(nn.Module):\n",
    "    def __init__(self, embedding_net):\n",
    "        super().__init__()\n",
    "        self.embedding_net = embedding_net\n",
    "\n",
    "    def forward(self, xt_a, t_a, xt_p, t_p, xt_n, t_n):\n",
    "        output1 = self.embedding_net(xt_a, t_a)\n",
    "        output2 = self.embedding_net(xt_p, t_p)\n",
    "        output3 = self.embedding_net(xt_n, t_n)\n",
    "        return output1, output2, output3\n",
    "\n",
    "    def get_embedding(self, xt, t):\n",
    "        return self.embedding_net(xt, t)"
   ]
  },
  {
   "cell_type": "markdown",
   "metadata": {},
   "source": [
    "## losses"
   ]
  },
  {
   "cell_type": "code",
   "execution_count": 348,
   "metadata": {},
   "outputs": [],
   "source": [
    "class TripletLoss(nn.Module):\n",
    "    def __init__(self, margin):\n",
    "        super().__init__()\n",
    "        self.margin = margin\n",
    "\n",
    "    def forward(self, anchor, positive, negative, size_average=True):\n",
    "        distance_positive = (anchor - positive).pow(2).sum(1)  # .pow(.5)\n",
    "        distance_negative = (anchor - negative).pow(2).sum(1)  # .pow(.5)\n",
    "        losses = F.relu(distance_positive - distance_negative + self.margin)\n",
    "        return losses.mean() if size_average else losses.sum()"
   ]
  },
  {
   "cell_type": "markdown",
   "metadata": {},
   "source": [
    "## trainer"
   ]
  },
  {
   "cell_type": "code",
   "execution_count": 399,
   "metadata": {},
   "outputs": [],
   "source": [
    "model = TripletNet(EmbeddingNet())\n",
    "loss_fx = TripletLoss(margin=1.)\n",
    "n_epochs = 10\n",
    "optimizer = torch.optim.Adam(model.parameters(), lr=0.001)"
   ]
  },
  {
   "cell_type": "code",
   "execution_count": null,
   "metadata": {},
   "outputs": [
    {
     "name": "stdout",
     "output_type": "stream",
     "text": [
      "Epoch 1\t<loss>_mb: 1.0009\tt_epoch: 272-s\tt_elapsed: 4.5-min\n",
      "Epoch 2\t<loss>_mb: 1.0000\tt_epoch: 270-s\tt_elapsed: 9.0-min\n",
      "Epoch 3\t<loss>_mb: 1.0001\tt_epoch: 274-s\tt_elapsed: 13.6-min\n",
      "Epoch 4\t<loss>_mb: 1.0001\tt_epoch: 274-s\tt_elapsed: 18.2-min\n",
      "Epoch 5\t<loss>_mb: 1.0000\tt_epoch: 269-s\tt_elapsed: 22.7-min\n",
      "Epoch 6\t<loss>_mb: 1.0000\tt_epoch: 272-s\tt_elapsed: 27.2-min\n",
      "Epoch 7\t<loss>_mb: 1.0000\tt_epoch: 306-s\tt_elapsed: 32.3-min\n"
     ]
    }
   ],
   "source": [
    "loss_per_epoch = []\n",
    "total_tic = time.time()\n",
    "\n",
    "for epoch in range(n_epochs):\n",
    "    \n",
    "    model.train()\n",
    "    losses = []\n",
    "    tic = time.time()\n",
    "    for batch in tripletloader:\n",
    "        xt_anc, t_anc = batch['xt_anchor'], batch['t_anchor'] \n",
    "        xt_pos, t_pos = batch['xt_pos'], batch['t_pos']   \n",
    "        xt_neg, t_neg = batch['xt_neg'], batch['t_neg']  \n",
    "\n",
    "        optimizer.zero_grad()\n",
    "        outputs = model(xt_anc, t_anc, xt_pos, t_pos, xt_neg, t_neg)\n",
    "        loss = loss_fx(outputs[0], outputs[1], outputs[2])\n",
    "        losses.append(loss.item())\n",
    "        loss.backward()\n",
    "        optimizer.step()\n",
    "    loss_per_epoch.append(np.mean(losses)) # ave over mini-batches\n",
    "    print('Epoch {}\\t<loss>_mb: {:.4f}\\tt_epoch: {:.0f}-s\\tt_elapsed: {:.1f}-min'.format(\n",
    "        epoch+1, np.mean(losses), time.time() - tic, (time.time() - total_tic)/60))\n",
    "print('Finished training in {:.1f}-h'.format((time.time() - total_tic)/3600))\n"
   ]
  },
  {
   "cell_type": "markdown",
   "metadata": {},
   "source": [
    "## eval"
   ]
  },
  {
   "cell_type": "code",
   "execution_count": null,
   "metadata": {},
   "outputs": [],
   "source": [
    "# get all data in data pkl\n",
    "class actigraphy(torch.utils.data.Dataset):\n",
    "    def __init__(self, datapkl, max_seq_len=1200, min_date=1485766260000000000):\n",
    "        self.datapkl = datapkl\n",
    "        self.max_seq_len = max_seq_len\n",
    "        self.min_date = min_date\n",
    "\n",
    "    def get_all(self):\n",
    "        pids = list(self.datapkl.keys())\n",
    "        GAs = np.array([int(pid.split('-')[1]) for pid in pids])\n",
    "        xt = torch.empty(len(pids), self.max_seq_len, 1)\n",
    "        t = torch.empty(len(pids), self.max_seq_len, 1)\n",
    "        for i, pid in enumerate(pids):\n",
    "            tt, xt[i] = self.transform(self.datapkl[pid])\n",
    "            t[i] = torch.tensor(np.array(tt)).view(-1, 1)\n",
    "        sample = {'xt':xt, 'y':torch.tensor(GAs), 't':t}\n",
    "        return sample \n",
    "    \n",
    "    def load_datapkl(self, datapkl_fname):\n",
    "        '''\n",
    "        TODO (#enhancement): pass filepath only and internally load data set once called\n",
    "        '''\n",
    "        with open(datapkl_fname, 'rb') as f:\n",
    "            data = pickle.load(f)\n",
    "            f.close()\n",
    "        return data\n",
    "    \n",
    "    def transform(self, input_seq):\n",
    "        '''\n",
    "        TODO (#enhancement): sample different 1200 segments by selecting any starting idx from seq_len - max_length\n",
    "        '''\n",
    "        tod = [(i.value - self.min_date)*(1e-9)*(1/60) for i in input_seq[0]] # minutes from min\n",
    "        activity = torch.FloatTensor(np.array([float(i) for i in input_seq[1]])).view(-1, 1)\n",
    "        \n",
    "        if self.max_seq_len is not None:\n",
    "            tod = tod[:self.max_seq_len] # time of day\n",
    "            \n",
    "            activity = activity[:self.max_seq_len, :]\n",
    "\n",
    "        # log-pseudocount\n",
    "        '''\n",
    "        TODO (#enhancement): try different transofmrations or \"raw count\" embeddings, \n",
    "          similar to word_embeddings for vocab size V. embedding_dim\n",
    "        '''\n",
    "        activity = activity + 1\n",
    "        activity = activity.log()\n",
    "\n",
    "        # alignment\n",
    "        return (tod, activity)"
   ]
  },
  {
   "cell_type": "code",
   "execution_count": null,
   "metadata": {},
   "outputs": [],
   "source": [
    "model.eval()\n",
    "all_actigraphs = actigraphy(data).get_all()\n",
    "x, y = model.get_embedding(all_actigraphs['xt'], all_actigraphs['t']), all_actigraphs['y']\n",
    "x = x.detach()"
   ]
  },
  {
   "cell_type": "code",
   "execution_count": null,
   "metadata": {},
   "outputs": [],
   "source": [
    "fig, ax = plt.subplots(1, 1, figsize=(5, 4))\n",
    "im = ax.scatter(x[:, 0], x[:, 1], s=3, c=y, cmap='RdYlBu_r')\n",
    "cbar = fig.colorbar(im)\n",
    "cbar.set_label('GA (weeks)', rotation=270)\n",
    "ax.set_xlabel('Dim 1')\n",
    "ax.set_ylabel('Dim 2')\n",
    "ax.set_title('TripletNet for GA range within 2wk')"
   ]
  },
  {
   "cell_type": "code",
   "execution_count": null,
   "metadata": {},
   "outputs": [],
   "source": []
  }
 ],
 "metadata": {
  "kernelspec": {
   "display_name": "Python 3",
   "language": "python",
   "name": "python3"
  },
  "language_info": {
   "codemirror_mode": {
    "name": "ipython",
    "version": 3
   },
   "file_extension": ".py",
   "mimetype": "text/x-python",
   "name": "python",
   "nbconvert_exporter": "python",
   "pygments_lexer": "ipython3",
   "version": "3.8.5"
  }
 },
 "nbformat": 4,
 "nbformat_minor": 4
}
