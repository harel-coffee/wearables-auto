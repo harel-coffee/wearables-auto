{
 "cells": [
  {
   "cell_type": "code",
   "execution_count": null,
   "metadata": {},
   "outputs": [],
   "source": [
    "%matplotlib inline\n",
    "\n",
    "import sys\n",
    "sys.path.append('/home/ngr/gdrive/wearables/scripts')\n",
    "import data as weardata\n",
    "\n",
    "import os\n",
    "import numpy as np\n",
    "import pandas as pd\n",
    "import matplotlib.pyplot as plt\n",
    "import time\n",
    "\n",
    "import seaborn as sns\n",
    "\n",
    "# eval\n",
    "from sklearn.metrics import mean_absolute_error, roc_auc_score, accuracy_score\n",
    "\n",
    "\n",
    "# model selection\n",
    "from sklearn.model_selection import KFold"
   ]
  },
  {
   "cell_type": "code",
   "execution_count": 2,
   "metadata": {},
   "outputs": [],
   "source": [
    "# get full actigraphy data to tease apart sequence lengths and label\n",
    "data = weardata.load_pp_actigraphy()"
   ]
  },
  {
   "cell_type": "code",
   "execution_count": 6,
   "metadata": {},
   "outputs": [],
   "source": [
    "df = pd.DataFrame()"
   ]
  },
  {
   "cell_type": "code",
   "execution_count": 23,
   "metadata": {},
   "outputs": [],
   "source": [
    "df = pd.DataFrame()\n",
    "for k, v in data.items():\n",
    "    pid, GA, _ = k.split('-')\n",
    "    dt = pd.DataFrame({'GA':int(GA), 'n_timepoints':len(v[0]), 'pid': pid}, index=[0])\n",
    "    df = df.append(dt, ignore_index=True)\n",
    "df = df.sort_values(by='GA')\n",
    "df['n_h'] = df['n_timepoints'] / 60\n",
    "df['n_d'] = df['n_h'] / 24"
   ]
  },
  {
   "cell_type": "code",
   "execution_count": 31,
   "metadata": {},
   "outputs": [],
   "source": [
    "savefigs = True"
   ]
  },
  {
   "cell_type": "code",
   "execution_count": 37,
   "metadata": {},
   "outputs": [
    {
     "name": "stderr",
     "output_type": "stream",
     "text": [
      "No handles with labels found to put in legend.\n"
     ]
    },
    {
     "data": {
      "image/png": "[encoded data removed]",
      "text/plain": [
       "<Figure size 576x216 with 1 Axes>"
      ]
     },
     "metadata": {
      "needs_background": "light"
     },
     "output_type": "display_data"
    }
   ],
   "source": [
    "fig, ax = plt.subplots(1, 1, figsize=(8, 3))\n",
    "\n",
    "sns.boxplot(x='GA', y='n_d', data=df, ax=ax)\n",
    "# sns.swarmplot(x='GA', y='n_timepoints', hue='pid', data=df, ax=ax, rasterized=True)\n",
    "\n",
    "ax.set_title('All data')\n",
    "# ax.legend().set_visible(False)\n",
    "if savefigs:\n",
    "    fig.savefig(os.path.join(os.getcwd(), '../results/boxplot_GAvsNtimepoints.png'), bbox_inches='tight', dpi=600)"
   ]
  },
  {
   "cell_type": "code",
   "execution_count": 2,
   "metadata": {},
   "outputs": [
    {
     "name": "stderr",
     "output_type": "stream",
     "text": [
      "/home/ngr/.local/lib/python3.8/site-packages/IPython/core/interactiveshell.py:3062: DtypeWarning: Columns (16,22,36,77,97,117,137,195,215,235,255,275,315,335,426,440,462,463,465,466,485,506,536,577,581,625,626,627,668,671,673,674,697,700,701,703,704,705,708,709,712,713,730,798,799,804,807,808,812,817,818,822,880,881,885,886,890,891,908,1064,1067,1076,1084,1094,1095,1096,1097,1101,1102,1106,1132,1135,1136,1170,1250,1263,1577,1585,1586,1680,1739,1740,1741,1742,1743,1746,1747,1748,1749,1750,1870,1878,1879,1976,2166,2175,2188,2189,2203,2216,2217,2249,2250,2251,2252,2253,2256,2260,2261,2282,2283,2293,2294,2296,2297,2298,2299,2300,2303,2307,2308,2329,2340,2343,2344,2345,2346,2347,2350,2354,2355,2356,2376,2387,2390,2391,2392,2393,2394,2397,2401,2402,2423,2434,2437,2438,2439,2440,2441,2444,2448,2449,2450,2470,2471,2481,2484,2485,2486,2487,2488,2491,2495,2496,2517,2528,2531,2532,2533,2534,2535,2538,2542,2543,2544,2564,2575,2578,2579,2580,2581,2582,2585,2589,2590,2611,2622,2625,2626,2627,2628,2629,2632,2636,2637,2658,2669,2672,2673,2674,2675,2676,2679,2683,2684,2685,2705,2716,2719,2720,2721,2722,2723,2726,2730,2731,2752,2763,2766,2767,2768,2769,2770,2773,2777,2778,2799,2810,2813,2814,2815,2816,2817,2820,2824,2825,2846,2857,2860,2861,2862,2863,2864,2867,2871,2872,2893,2904,2913,2914,2915,2917,2918,2919,2921,2922,2923,2925,2926,2927,2931,2938,2939,3053) have mixed types.Specify dtype option on import or set low_memory=False.\n",
      "  has_raised = await self.run_ast_nodes(code_ast.body, cell_name,\n"
     ]
    }
   ],
   "source": [
    "# actually incorporate metadata\n",
    "## per pid\n",
    "md = pd.read_csv('/home/ngr/gdrive/wearables/data/MOD_1000_Woman_Activity_Data/MOD_Data_2021.csv', index_col=0)"
   ]
  },
  {
   "cell_type": "code",
   "execution_count": 27,
   "metadata": {},
   "outputs": [],
   "source": [
    "def pad_align_transform_yID(data):\n",
    "    '''Treat y as identifier to map with dictionary version of metadata outcomes\n",
    "    \n",
    "    '''\n",
    "    X = np.empty((len(data.keys()), 24*60))\n",
    "    y = pd.DataFrame(columns=['pid', 'GA'], index=list(range(len(data.keys()))))\n",
    "    for i, (k, v) in enumerate(data.items()):\n",
    "        ts, act = v[0], v[1]\n",
    "        first_hour, first_min = ts[0].hour, ts[0].minute\n",
    "        zeros2pad = np.zeros((first_hour*60 + first_min + 1))\n",
    "        act = np.concatenate((zeros2pad, [float(i) for i in act[:24*60 - zeros2pad.shape[0]]]))\n",
    "        if act.shape[0] < 24*60:\n",
    "            act = np.concatenate((act, np.zeros((24*60-act.shape[0], ))))\n",
    "\n",
    "        # add log-pseudocount\n",
    "        act = np.log(act + 1)\n",
    "        X[i, :] = act\n",
    "        y.loc[i, 'pid'], y.loc[i, 'GA'] = k.split('-')[0], int(k.split('-')[1])\n",
    "    return X, y\n"
   ]
  },
  {
   "cell_type": "code",
   "execution_count": 28,
   "metadata": {},
   "outputs": [],
   "source": [
    "# data = weardata.load_pp_actigraphy()\n",
    "# data_train, data_test = weardata.split_pp_actigraphy(data)\n",
    "X_train, y_train = pad_align_transform_yID(data_train)\n",
    "X_test, y_test = pad_align_transform_yID(data_test)"
   ]
  },
  {
   "cell_type": "code",
   "execution_count": 29,
   "metadata": {},
   "outputs": [],
   "source": [
    "mdt = md.reset_index()\n",
    "mdt['record_id'] = mdt['record_id'].astype(str)"
   ]
  },
  {
   "cell_type": "code",
   "execution_count": 30,
   "metadata": {},
   "outputs": [
    {
     "ename": "ValueError",
     "evalue": "You are trying to merge on object and int64 columns. If you wish to proceed you should use pd.concat",
     "output_type": "error",
     "traceback": [
      "\u001b[0;31m---------------------------------------------------------------------------\u001b[0m",
      "\u001b[0;31mValueError\u001b[0m                                Traceback (most recent call last)",
      "\u001b[0;32m<ipython-input-30-59ddd458b301>\u001b[0m in \u001b[0;36m<module>\u001b[0;34m\u001b[0m\n\u001b[0;32m----> 1\u001b[0;31m \u001b[0my_train\u001b[0m\u001b[0;34m.\u001b[0m\u001b[0mmerge\u001b[0m\u001b[0;34m(\u001b[0m\u001b[0mmd\u001b[0m\u001b[0;34m.\u001b[0m\u001b[0mreset_index\u001b[0m\u001b[0;34m(\u001b[0m\u001b[0;34m)\u001b[0m\u001b[0;34m,\u001b[0m \u001b[0mleft_on\u001b[0m\u001b[0;34m=\u001b[0m\u001b[0;34m'pid'\u001b[0m\u001b[0;34m,\u001b[0m \u001b[0mright_on\u001b[0m\u001b[0;34m=\u001b[0m\u001b[0;34m'record_id'\u001b[0m\u001b[0;34m)\u001b[0m\u001b[0;34m\u001b[0m\u001b[0;34m\u001b[0m\u001b[0m\n\u001b[0m",
      "\u001b[0;32m~/.local/lib/python3.8/site-packages/pandas/core/frame.py\u001b[0m in \u001b[0;36mmerge\u001b[0;34m(self, right, how, on, left_on, right_on, left_index, right_index, sort, suffixes, copy, indicator, validate)\u001b[0m\n\u001b[1;32m   8193\u001b[0m         \u001b[0;32mfrom\u001b[0m \u001b[0mpandas\u001b[0m\u001b[0;34m.\u001b[0m\u001b[0mcore\u001b[0m\u001b[0;34m.\u001b[0m\u001b[0mreshape\u001b[0m\u001b[0;34m.\u001b[0m\u001b[0mmerge\u001b[0m \u001b[0;32mimport\u001b[0m \u001b[0mmerge\u001b[0m\u001b[0;34m\u001b[0m\u001b[0;34m\u001b[0m\u001b[0m\n\u001b[1;32m   8194\u001b[0m \u001b[0;34m\u001b[0m\u001b[0m\n\u001b[0;32m-> 8195\u001b[0;31m         return merge(\n\u001b[0m\u001b[1;32m   8196\u001b[0m             \u001b[0mself\u001b[0m\u001b[0;34m,\u001b[0m\u001b[0;34m\u001b[0m\u001b[0;34m\u001b[0m\u001b[0m\n\u001b[1;32m   8197\u001b[0m             \u001b[0mright\u001b[0m\u001b[0;34m,\u001b[0m\u001b[0;34m\u001b[0m\u001b[0;34m\u001b[0m\u001b[0m\n",
      "\u001b[0;32m~/.local/lib/python3.8/site-packages/pandas/core/reshape/merge.py\u001b[0m in \u001b[0;36mmerge\u001b[0;34m(left, right, how, on, left_on, right_on, left_index, right_index, sort, suffixes, copy, indicator, validate)\u001b[0m\n\u001b[1;32m     72\u001b[0m     \u001b[0mvalidate\u001b[0m\u001b[0;34m=\u001b[0m\u001b[0;32mNone\u001b[0m\u001b[0;34m,\u001b[0m\u001b[0;34m\u001b[0m\u001b[0;34m\u001b[0m\u001b[0m\n\u001b[1;32m     73\u001b[0m ) -> \"DataFrame\":\n\u001b[0;32m---> 74\u001b[0;31m     op = _MergeOperation(\n\u001b[0m\u001b[1;32m     75\u001b[0m         \u001b[0mleft\u001b[0m\u001b[0;34m,\u001b[0m\u001b[0;34m\u001b[0m\u001b[0;34m\u001b[0m\u001b[0m\n\u001b[1;32m     76\u001b[0m         \u001b[0mright\u001b[0m\u001b[0;34m,\u001b[0m\u001b[0;34m\u001b[0m\u001b[0;34m\u001b[0m\u001b[0m\n",
      "\u001b[0;32m~/.local/lib/python3.8/site-packages/pandas/core/reshape/merge.py\u001b[0m in \u001b[0;36m__init__\u001b[0;34m(self, left, right, how, on, left_on, right_on, axis, left_index, right_index, sort, suffixes, copy, indicator, validate)\u001b[0m\n\u001b[1;32m    670\u001b[0m         \u001b[0;31m# validate the merge keys dtypes. We may need to coerce\u001b[0m\u001b[0;34m\u001b[0m\u001b[0;34m\u001b[0m\u001b[0;34m\u001b[0m\u001b[0m\n\u001b[1;32m    671\u001b[0m         \u001b[0;31m# to avoid incompatible dtypes\u001b[0m\u001b[0;34m\u001b[0m\u001b[0;34m\u001b[0m\u001b[0;34m\u001b[0m\u001b[0m\n\u001b[0;32m--> 672\u001b[0;31m         \u001b[0mself\u001b[0m\u001b[0;34m.\u001b[0m\u001b[0m_maybe_coerce_merge_keys\u001b[0m\u001b[0;34m(\u001b[0m\u001b[0;34m)\u001b[0m\u001b[0;34m\u001b[0m\u001b[0;34m\u001b[0m\u001b[0m\n\u001b[0m\u001b[1;32m    673\u001b[0m \u001b[0;34m\u001b[0m\u001b[0m\n\u001b[1;32m    674\u001b[0m         \u001b[0;31m# If argument passed to validate,\u001b[0m\u001b[0;34m\u001b[0m\u001b[0;34m\u001b[0m\u001b[0;34m\u001b[0m\u001b[0m\n",
      "\u001b[0;32m~/.local/lib/python3.8/site-packages/pandas/core/reshape/merge.py\u001b[0m in \u001b[0;36m_maybe_coerce_merge_keys\u001b[0;34m(self)\u001b[0m\n\u001b[1;32m   1191\u001b[0m                     \u001b[0minferred_right\u001b[0m \u001b[0;32min\u001b[0m \u001b[0mstring_types\u001b[0m \u001b[0;32mand\u001b[0m \u001b[0minferred_left\u001b[0m \u001b[0;32mnot\u001b[0m \u001b[0;32min\u001b[0m \u001b[0mstring_types\u001b[0m\u001b[0;34m\u001b[0m\u001b[0;34m\u001b[0m\u001b[0m\n\u001b[1;32m   1192\u001b[0m                 ):\n\u001b[0;32m-> 1193\u001b[0;31m                     \u001b[0;32mraise\u001b[0m \u001b[0mValueError\u001b[0m\u001b[0;34m(\u001b[0m\u001b[0mmsg\u001b[0m\u001b[0;34m)\u001b[0m\u001b[0;34m\u001b[0m\u001b[0;34m\u001b[0m\u001b[0m\n\u001b[0m\u001b[1;32m   1194\u001b[0m \u001b[0;34m\u001b[0m\u001b[0m\n\u001b[1;32m   1195\u001b[0m             \u001b[0;31m# datetimelikes must match exactly\u001b[0m\u001b[0;34m\u001b[0m\u001b[0;34m\u001b[0m\u001b[0;34m\u001b[0m\u001b[0m\n",
      "\u001b[0;31mValueError\u001b[0m: You are trying to merge on object and int64 columns. If you wish to proceed you should use pd.concat"
     ]
    }
   ],
   "source": [
    "y_train.merge(md.reset_index(), left_on='pid', right_on='record_id')"
   ]
  },
  {
   "cell_type": "code",
   "execution_count": null,
   "metadata": {},
   "outputs": [],
   "source": [
    "def sklearn_classifier(X_train_df, y_train, X_test_df, y_test, sk_modelclass, \n",
    "                      exp = 'RF_labs_ab', kfolds=5, \n",
    "                      verbose=True):\n",
    "    '''Run sktime models on GA data\n",
    "    \n",
    "    TODO (ngr):\n",
    "      1. add out_file storage in addition (or instead of) printing results\n",
    "    '''\n",
    "    if verbose:\n",
    "        tic = time.time()\n",
    "        print('Starting {} experiment...'.format(exp))\n",
    "    models = {} # (tuple): (model, eval_criterion) where eval_criterion = MAE here\n",
    "\n",
    "    kf = KFold(n_splits=kfolds, shuffle=True)\n",
    "    for i, (train_idx, val_idx) in enumerate(kf.split(np.arange(X_train_df.shape[0]))):\n",
    "        if verbose:\n",
    "            sub_tic = time.time()\n",
    "        X_train_df_cv, y_train_cv = X_train_df.iloc[train_idx, :], y_train[train_idx]\n",
    "        X_val_df, y_val = X_train_df.iloc[val_idx, :], y_train[val_idx]\n",
    "\n",
    "        # init model\n",
    "        model = sk_modelclass # ComposableTimeSeriesForestRegressor()\n",
    "\n",
    "        # fit, eval, store\n",
    "        model.fit(X_train_df_cv, y_train_cv)\n",
    "        acc = accuracy_score(y_train_cv, model.predict(X_val_df))\n",
    "#         mae = mean_absolute_error(y_val, model.predict(X_val_df))\n",
    "        models['CV{}'.format(i)] = (model, acc)\n",
    "        del model\n",
    "        \n",
    "        if verbose:\n",
    "            print('  k={}-fold finished in {:.1f}-s\\ttotal_time_elapsed: {:.1f}-min'.format(i, time.time()-sub_tic, (time.time()-tic)/60))\n",
    "\n",
    "    # store in file\n",
    "    print('\\n... finished in {:.1f}-min'.format((time.time()-tic)/60))\n",
    "    print('\\n----')\n",
    "    print('{} results:'.format(exp))\n",
    "    print('  <acc>_{}folds: {:.4f}\\tSD_{}folds: {:.1f}'.format(kfolds, np.mean([v[1] for k,v in models.items()]), kfolds, np.std([v[1] for k,v in models.items()])))\n",
    "    print('  acc_test: {:.4f}'.format(mean_absolute_error(y_test, models['CV{}'.format(np.argmax([v[1] for k,v in models.items()]))][0].predict(X_test_df))))\n",
    "    print('----')\n",
    "    \n",
    "    return models"
   ]
  },
  {
   "cell_type": "code",
   "execution_count": null,
   "metadata": {},
   "outputs": [],
   "source": []
  },
  {
   "cell_type": "code",
   "execution_count": null,
   "metadata": {},
   "outputs": [],
   "source": []
  }
 ],
 "metadata": {
  "kernelspec": {
   "display_name": "Python 3",
   "language": "python",
   "name": "python3"
  },
  "language_info": {
   "codemirror_mode": {
    "name": "ipython",
    "version": 3
   },
   "file_extension": ".py",
   "mimetype": "text/x-python",
   "name": "python",
   "nbconvert_exporter": "python",
   "pygments_lexer": "ipython3",
   "version": "3.8.5"
  }
 },
 "nbformat": 4,
 "nbformat_minor": 4
}
