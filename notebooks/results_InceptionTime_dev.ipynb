{
 "cells": [
  {
   "cell_type": "code",
   "execution_count": 1,
   "id": "1f7a109e-317d-4c27-abfa-817679708c16",
   "metadata": {},
   "outputs": [],
   "source": [
    "%matplotlib inline\n",
    "\n",
    "import pandas as pd\n",
    "import numpy as np\n",
    "import matplotlib.pyplot as plt\n",
    "import seaborn as sns\n",
    "import glob\n",
    "import os\n",
    "import time\n",
    "import pickle\n",
    "import datetime\n",
    "\n",
    "plt.rc('font', size = 9)\n",
    "plt.rc('font', family='sans serif')\n",
    "plt.rcParams['pdf.fonttype']=42\n",
    "plt.rcParams['ps.fonttype']=42\n",
    "plt.rcParams['legend.frameon']=False\n",
    "plt.rcParams['axes.grid']=False\n",
    "plt.rcParams['legend.markerscale']=0.5\n",
    "plt.rcParams['savefig.dpi']=600\n",
    "sns.set_style(\"ticks\")"
   ]
  },
  {
   "cell_type": "code",
   "execution_count": 2,
   "id": "d154df4e-867e-4c29-86e9-bcb01d535053",
   "metadata": {},
   "outputs": [],
   "source": [
    "results_file = '/home/ngr4/project/wearables/results/InceptionTimeRegressor_v1_GA.csv'"
   ]
  },
  {
   "cell_type": "code",
   "execution_count": 3,
   "id": "a87e0423-da93-4ea3-b3c6-41a24126f8af",
   "metadata": {},
   "outputs": [],
   "source": [
    "df = pd.read_csv(results_file, index_col=0)\n",
    "# remove dev experiments\n",
    "df = df.loc[df['trial'] > 0, :]"
   ]
  },
  {
   "cell_type": "code",
   "execution_count": 4,
   "id": "cfe50596-12bc-46ec-aec2-86a9c3574431",
   "metadata": {},
   "outputs": [
    {
     "name": "stderr",
     "output_type": "stream",
     "text": [
      "/tmp/ipykernel_224453/2770358139.py:1: FutureWarning: Dropping of nuisance columns in DataFrame reductions (with 'numeric_only=None') is deprecated; in a future version this will raise TypeError.  Select only valid columns before calling the reduction.\n",
      "  df.iloc[0:6, :].std()\n"
     ]
    },
    {
     "data": {
      "text/plain": [
       "trial         1.870829\n",
       "eval_test     0.200241\n",
       "loss_test     7.215296\n",
       "bst_epoch    10.990905\n",
       "dtype: float64"
      ]
     },
     "execution_count": 4,
     "metadata": {},
     "output_type": "execute_result"
    }
   ],
   "source": [
    "df.iloc[0:6, :].std()"
   ]
  },
  {
   "cell_type": "code",
   "execution_count": 5,
   "id": "7a508654-36db-461a-900a-6ff53b777b88",
   "metadata": {},
   "outputs": [
    {
     "name": "stderr",
     "output_type": "stream",
     "text": [
      "/tmp/ipykernel_224453/3698961737.py:1: FutureWarning: Dropping of nuisance columns in DataFrame reductions (with 'numeric_only=None') is deprecated; in a future version this will raise TypeError.  Select only valid columns before calling the reduction.\n",
      "  df.mean()\n"
     ]
    },
    {
     "data": {
      "text/plain": [
       "trial         3.500000\n",
       "eval_test     8.293266\n",
       "loss_test    93.011798\n",
       "bst_epoch    56.750000\n",
       "dtype: float64"
      ]
     },
     "execution_count": 5,
     "metadata": {},
     "output_type": "execute_result"
    }
   ],
   "source": [
    "df.mean()"
   ]
  },
  {
   "cell_type": "code",
   "execution_count": 6,
   "id": "ac01da42-7b16-4767-8135-059ad0337db7",
   "metadata": {},
   "outputs": [
    {
     "name": "stderr",
     "output_type": "stream",
     "text": [
      "/tmp/ipykernel_224453/3390915376.py:1: FutureWarning: Dropping of nuisance columns in DataFrame reductions (with 'numeric_only=None') is deprecated; in a future version this will raise TypeError.  Select only valid columns before calling the reduction.\n",
      "  df.std()\n"
     ]
    },
    {
     "data": {
      "text/plain": [
       "trial         1.783765\n",
       "eval_test     0.186506\n",
       "loss_test     6.049970\n",
       "bst_epoch    13.115743\n",
       "dtype: float64"
      ]
     },
     "execution_count": 6,
     "metadata": {},
     "output_type": "execute_result"
    }
   ],
   "source": [
    "df.std()"
   ]
  },
  {
   "cell_type": "code",
   "execution_count": 7,
   "id": "6149612b-03cf-4a6a-9b7d-b29ee0d59fa7",
   "metadata": {},
   "outputs": [],
   "source": [
    "import sys\n",
    "sys.path.append('/home/ngr4/project/wearables/scripts')\n",
    "import train as weartrain\n",
    "\n",
    "trainer = weartrain.InceptionTimeRegressor_trainer()"
   ]
  },
  {
   "cell_type": "code",
   "execution_count": 9,
   "id": "315c9bba-27dc-43c9-ad81-558fded61579",
   "metadata": {},
   "outputs": [
    {
     "data": {
      "text/plain": [
       "InceptionTime(\n",
       "  (block): InceptionBlock(\n",
       "    (inception_layers): ModuleList(\n",
       "      (0): Inception(\n",
       "        (conv_layers): ModuleList(\n",
       "          (0): Conv1d(1, 16, kernel_size=(60,), stride=(1,), padding=same)\n",
       "          (1): Conv1d(1, 16, kernel_size=(30,), stride=(1,), padding=same)\n",
       "          (2): Conv1d(1, 16, kernel_size=(15,), stride=(1,), padding=same)\n",
       "        )\n",
       "        (maxpool): MaxPool1d(kernel_size=3, stride=1, padding=1, dilation=1, ceil_mode=False)\n",
       "        (conv): Conv1d(1, 16, kernel_size=(1,), stride=(1,))\n",
       "        (BN): BatchNorm1d(64, eps=1e-05, momentum=0.1, affine=True, track_running_stats=True)\n",
       "        (activation): ReLU()\n",
       "      )\n",
       "      (1): Inception(\n",
       "        (bottleneck): Conv1d(64, 8, kernel_size=(1,), stride=(1,), padding=same)\n",
       "        (conv_layers): ModuleList(\n",
       "          (0): Conv1d(8, 16, kernel_size=(60,), stride=(1,), padding=same)\n",
       "          (1): Conv1d(8, 16, kernel_size=(30,), stride=(1,), padding=same)\n",
       "          (2): Conv1d(8, 16, kernel_size=(15,), stride=(1,), padding=same)\n",
       "        )\n",
       "        (maxpool): MaxPool1d(kernel_size=3, stride=1, padding=1, dilation=1, ceil_mode=False)\n",
       "        (conv): Conv1d(64, 16, kernel_size=(1,), stride=(1,))\n",
       "        (BN): BatchNorm1d(64, eps=1e-05, momentum=0.1, affine=True, track_running_stats=True)\n",
       "        (activation): ReLU()\n",
       "      )\n",
       "      (2): Inception(\n",
       "        (bottleneck): Conv1d(64, 8, kernel_size=(1,), stride=(1,), padding=same)\n",
       "        (conv_layers): ModuleList(\n",
       "          (0): Conv1d(8, 16, kernel_size=(60,), stride=(1,), padding=same)\n",
       "          (1): Conv1d(8, 16, kernel_size=(30,), stride=(1,), padding=same)\n",
       "          (2): Conv1d(8, 16, kernel_size=(15,), stride=(1,), padding=same)\n",
       "        )\n",
       "        (maxpool): MaxPool1d(kernel_size=3, stride=1, padding=1, dilation=1, ceil_mode=False)\n",
       "        (conv): Conv1d(64, 16, kernel_size=(1,), stride=(1,))\n",
       "        (BN): BatchNorm1d(64, eps=1e-05, momentum=0.1, affine=True, track_running_stats=True)\n",
       "        (activation): ReLU()\n",
       "      )\n",
       "      (3): Inception(\n",
       "        (bottleneck): Conv1d(64, 8, kernel_size=(1,), stride=(1,), padding=same)\n",
       "        (conv_layers): ModuleList(\n",
       "          (0): Conv1d(8, 16, kernel_size=(60,), stride=(1,), padding=same)\n",
       "          (1): Conv1d(8, 16, kernel_size=(30,), stride=(1,), padding=same)\n",
       "          (2): Conv1d(8, 16, kernel_size=(15,), stride=(1,), padding=same)\n",
       "        )\n",
       "        (maxpool): MaxPool1d(kernel_size=3, stride=1, padding=1, dilation=1, ceil_mode=False)\n",
       "        (conv): Conv1d(64, 16, kernel_size=(1,), stride=(1,))\n",
       "        (BN): BatchNorm1d(64, eps=1e-05, momentum=0.1, affine=True, track_running_stats=True)\n",
       "        (activation): ReLU()\n",
       "      )\n",
       "      (4): Inception(\n",
       "        (bottleneck): Conv1d(64, 8, kernel_size=(1,), stride=(1,), padding=same)\n",
       "        (conv_layers): ModuleList(\n",
       "          (0): Conv1d(8, 16, kernel_size=(60,), stride=(1,), padding=same)\n",
       "          (1): Conv1d(8, 16, kernel_size=(30,), stride=(1,), padding=same)\n",
       "          (2): Conv1d(8, 16, kernel_size=(15,), stride=(1,), padding=same)\n",
       "        )\n",
       "        (maxpool): MaxPool1d(kernel_size=3, stride=1, padding=1, dilation=1, ceil_mode=False)\n",
       "        (conv): Conv1d(64, 16, kernel_size=(1,), stride=(1,))\n",
       "        (BN): BatchNorm1d(64, eps=1e-05, momentum=0.1, affine=True, track_running_stats=True)\n",
       "        (activation): ReLU()\n",
       "      )\n",
       "      (5): Inception(\n",
       "        (bottleneck): Conv1d(64, 8, kernel_size=(1,), stride=(1,), padding=same)\n",
       "        (conv_layers): ModuleList(\n",
       "          (0): Conv1d(8, 16, kernel_size=(60,), stride=(1,), padding=same)\n",
       "          (1): Conv1d(8, 16, kernel_size=(30,), stride=(1,), padding=same)\n",
       "          (2): Conv1d(8, 16, kernel_size=(15,), stride=(1,), padding=same)\n",
       "        )\n",
       "        (maxpool): MaxPool1d(kernel_size=3, stride=1, padding=1, dilation=1, ceil_mode=False)\n",
       "        (conv): Conv1d(64, 16, kernel_size=(1,), stride=(1,))\n",
       "        (BN): BatchNorm1d(64, eps=1e-05, momentum=0.1, affine=True, track_running_stats=True)\n",
       "        (activation): ReLU()\n",
       "      )\n",
       "    )\n",
       "    (residual_layers): ModuleList(\n",
       "      (0): None\n",
       "      (1): None\n",
       "      (2): Sequential(\n",
       "        (0): Conv1d(1, 64, kernel_size=(1,), stride=(1,))\n",
       "        (1): BatchNorm1d(64, eps=1e-05, momentum=0.1, affine=True, track_running_stats=True)\n",
       "      )\n",
       "      (3): None\n",
       "      (4): None\n",
       "      (5): Sequential(\n",
       "        (0): Conv1d(64, 64, kernel_size=(1,), stride=(1,))\n",
       "        (1): BatchNorm1d(64, eps=1e-05, momentum=0.1, affine=True, track_running_stats=True)\n",
       "      )\n",
       "    )\n",
       "    (activation): ReLU()\n",
       "  )\n",
       "  (gap): AdaptiveAvgPool1d(output_size=1)\n",
       "  (fc): Linear(in_features=64, out_features=1, bias=True)\n",
       ")"
      ]
     },
     "execution_count": 9,
     "metadata": {},
     "output_type": "execute_result"
    }
   ],
   "source": [
    "trainer.model"
   ]
  },
  {
   "cell_type": "code",
   "execution_count": 10,
   "id": "246da183-b326-4666-bc3c-974150b95225",
   "metadata": {},
   "outputs": [],
   "source": [
    "knn_exp = pd.read_csv('/home/ngr4/project/wearables/results/all_knn_210803.csv', index_col=0)"
   ]
  },
  {
   "cell_type": "code",
   "execution_count": 15,
   "id": "cca38c15-024d-4649-8b3f-98fe246e7713",
   "metadata": {},
   "outputs": [
    {
     "name": "stderr",
     "output_type": "stream",
     "text": [
      "/tmp/ipykernel_21704/2277459759.py:1: FutureWarning: Dropping of nuisance columns in DataFrame reductions (with 'numeric_only=None') is deprecated; in a future version this will raise TypeError.  Select only valid columns before calling the reduction.\n",
      "  knn_exp.loc[knn_exp['task']=='GA', :].std()\n"
     ]
    },
    {
     "data": {
      "text/plain": [
       "Unnamed: 0    314.875637\n",
       "n_trial         3.027650\n",
       "eval_train      0.000000\n",
       "eval_val        0.000000\n",
       "eval_test       0.000000\n",
       "dtype: float64"
      ]
     },
     "execution_count": 15,
     "metadata": {},
     "output_type": "execute_result"
    }
   ],
   "source": [
    "knn_exp.loc[knn_exp['task']=='GA', :].std()"
   ]
  },
  {
   "cell_type": "code",
   "execution_count": 19,
   "id": "d5f9cf30-3bb4-4396-9b3c-4a9614578eb5",
   "metadata": {},
   "outputs": [],
   "source": [
    "import ast"
   ]
  },
  {
   "cell_type": "code",
   "execution_count": 21,
   "id": "68ed3dd3-8342-4786-b40f-2c14e03da8e9",
   "metadata": {},
   "outputs": [],
   "source": [
    "# plot training run \n",
    "loss_train = ast.literal_eval(df.iloc[8, 5])\n",
    "loss_val = ast.literal_eval(df.iloc[8, 7])\n",
    "\n"
   ]
  },
  {
   "cell_type": "code",
   "execution_count": 38,
   "id": "7c29e1c6-b28b-4293-a8b5-787bc6a521c5",
   "metadata": {},
   "outputs": [
    {
     "data": {
      "image/png": "[encoded data removed]",
      "text/plain": [
       "<Figure size 288x216 with 1 Axes>"
      ]
     },
     "metadata": {},
     "output_type": "display_data"
    }
   ],
   "source": [
    "fig, ax = plt.subplots(1, 1, figsize=(4, 3))\n",
    "\n",
    "ax.scatter(np.arange(len(loss_train)), loss_train, c='blue', s=3, label='Train', rasterized=True)\n",
    "ax.scatter(np.arange(len(loss_val)), loss_val, c='orange', s=3, label='Val', rasterized=True)\n",
    "ax.legend()\n",
    "ax.set_xlabel('Epoch')\n",
    "ax.set_ylabel('MSE loss')\n",
    "\n",
    "fig.savefig('/home/ngr4/project/wearables/results/results_InceptionTime_dev_scatter_bst_losstrain_nopatience.png', bbox_inches='tight', dpi=600)"
   ]
  },
  {
   "cell_type": "code",
   "execution_count": 10,
   "id": "9eb68058-ccad-44cd-b623-9ed42cd67208",
   "metadata": {},
   "outputs": [],
   "source": [
    "# make other plots\n",
    "import sys\n",
    "sys.path.append('/home/ngr4/project/wearables/scripts')\n",
    "import train as weartrain\n",
    "\n",
    "trainer = weartrain.InceptionTimeRegressor_trainer(trial=0, \n",
    "                                                       patience=None, n_epochs=2000,\n",
    "                                                       batch_size=32)"
   ]
  },
  {
   "cell_type": "code",
   "execution_count": 11,
   "id": "6134fa98-7b77-40f0-ac31-cd91abaf70e1",
   "metadata": {},
   "outputs": [
    {
     "name": "stderr",
     "output_type": "stream",
     "text": [
      "/gpfs/ysm/project/dijk/ngr4/conda_envs/wearables/lib/python3.8/site-packages/torch/nn/modules/conv.py:294: UserWarning: Using padding='same' with even kernel lengths and odd dilation may require a zero-padded copy of the input be created (Triggered internally at  /opt/conda/conda-bld/pytorch_1623448278899/work/aten/src/ATen/native/Convolution.cpp:660.)\n",
      "  return F.conv1d(input, weight, bias, self.stride,\n",
      "/gpfs/ysm/project/dijk/ngr4/conda_envs/wearables/lib/python3.8/site-packages/torch/nn/functional.py:652: UserWarning: Named tensors and all their associated APIs are an experimental feature and subject to change. Please do not use them for anything important until they are released as stable. (Triggered internally at  /opt/conda/conda-bld/pytorch_1623448278899/work/c10/core/TensorImpl.h:1156.)\n",
      "  return torch.max_pool1d(input, kernel_size, stride, padding, dilation, ceil_mode)\n"
     ]
    },
    {
     "name": "stdout",
     "output_type": "stream",
     "text": [
      "Test set eval:\n",
      "  bst epoch: None\n",
      "  <loss_test>=88.6715\n",
      "  acc_test   =8.0414\n"
     ]
    }
   ],
   "source": [
    "res = trainer.eval_test(modelpkl='/home/ngr4/project/wearables/model_zoo/61-InceptionTime_GA4.pkl')"
   ]
  },
  {
   "cell_type": "code",
   "execution_count": 15,
   "id": "65b72909-9e9f-4b6b-b238-7a030bea7631",
   "metadata": {},
   "outputs": [
    {
     "data": {
      "image/png": "[encoded data removed]",
      "text/plain": [
       "<Figure size 288x216 with 2 Axes>"
      ]
     },
     "metadata": {},
     "output_type": "display_data"
    }
   ],
   "source": [
    "fig, ax = plt.subplots(1, 1, figsize=(4, 3))\n",
    "\n",
    "im = ax.scatter(res['y'], res['yhat'], c=(res['yhat']-res['y']).abs(), s=10, cmap='RdYlBu_r', rasterized=True)\n",
    "cbar = fig.colorbar(im)\n",
    "cbar.set_label('Absolute Error (wk)')\n",
    "ax.set_title('Test set')\n",
    "ax.set_xlabel('Y')\n",
    "ax.set_ylabel('Yhat')\n",
    "ax.set_xlim([0, 40])\n",
    "ax.set_ylim([0, 40])\n",
    "ax.set_xticks(ax.get_yticks())\n",
    "\n",
    "fig.savefig('/home/ngr4/project/wearables/results/results_InceptionTime_dev_scatter_bst_nopatience_yhatVy.png', bbox_inches='tight', dpi=600)"
   ]
  },
  {
   "cell_type": "code",
   "execution_count": 21,
   "id": "63a3574a-57e3-44df-9d7c-1653f4a0ae17",
   "metadata": {},
   "outputs": [
    {
     "data": {
      "text/html": [
       "<div>\n",
       "<style scoped>\n",
       "    .dataframe tbody tr th:only-of-type {\n",
       "        vertical-align: middle;\n",
       "    }\n",
       "\n",
       "    .dataframe tbody tr th {\n",
       "        vertical-align: top;\n",
       "    }\n",
       "\n",
       "    .dataframe thead th {\n",
       "        text-align: right;\n",
       "    }\n",
       "</style>\n",
       "<table border=\"1\" class=\"dataframe\">\n",
       "  <thead>\n",
       "    <tr style=\"text-align: right;\">\n",
       "      <th></th>\n",
       "      <th>index</th>\n",
       "      <th>pid</th>\n",
       "      <th>GA</th>\n",
       "      <th>record_id</th>\n",
       "      <th>age_enroll</th>\n",
       "      <th>marital</th>\n",
       "      <th>gestage_by</th>\n",
       "      <th>insur</th>\n",
       "      <th>ethnicity</th>\n",
       "      <th>race</th>\n",
       "      <th>...</th>\n",
       "      <th>edinb1_1trim</th>\n",
       "      <th>edinb2_1trim</th>\n",
       "      <th>edinb3_1trim</th>\n",
       "      <th>edinb4_1trim</th>\n",
       "      <th>edinb5_1trim</th>\n",
       "      <th>edinb6_1trim</th>\n",
       "      <th>edinb7_1trim</th>\n",
       "      <th>edinb8_1trim</th>\n",
       "      <th>edinb9_1trim</th>\n",
       "      <th>edinb10_1trim</th>\n",
       "    </tr>\n",
       "  </thead>\n",
       "  <tbody>\n",
       "    <tr>\n",
       "      <th>0</th>\n",
       "      <td>13</td>\n",
       "      <td>1008</td>\n",
       "      <td>31.0</td>\n",
       "      <td>1008</td>\n",
       "      <td>21.0</td>\n",
       "      <td>1.0</td>\n",
       "      <td>1.0</td>\n",
       "      <td>1.0</td>\n",
       "      <td>1.0</td>\n",
       "      <td>1.0</td>\n",
       "      <td>...</td>\n",
       "      <td>1.0</td>\n",
       "      <td>1.0</td>\n",
       "      <td>1.0</td>\n",
       "      <td>1.0</td>\n",
       "      <td>1.0</td>\n",
       "      <td>1.0</td>\n",
       "      <td>2.0</td>\n",
       "      <td>1.0</td>\n",
       "      <td>2.0</td>\n",
       "      <td>1.0</td>\n",
       "    </tr>\n",
       "    <tr>\n",
       "      <th>1</th>\n",
       "      <td>14</td>\n",
       "      <td>1008</td>\n",
       "      <td>4.0</td>\n",
       "      <td>1008</td>\n",
       "      <td>21.0</td>\n",
       "      <td>1.0</td>\n",
       "      <td>1.0</td>\n",
       "      <td>1.0</td>\n",
       "      <td>1.0</td>\n",
       "      <td>1.0</td>\n",
       "      <td>...</td>\n",
       "      <td>1.0</td>\n",
       "      <td>1.0</td>\n",
       "      <td>1.0</td>\n",
       "      <td>1.0</td>\n",
       "      <td>1.0</td>\n",
       "      <td>1.0</td>\n",
       "      <td>2.0</td>\n",
       "      <td>1.0</td>\n",
       "      <td>2.0</td>\n",
       "      <td>1.0</td>\n",
       "    </tr>\n",
       "    <tr>\n",
       "      <th>2</th>\n",
       "      <td>19</td>\n",
       "      <td>1011</td>\n",
       "      <td>12.0</td>\n",
       "      <td>1011</td>\n",
       "      <td>20.0</td>\n",
       "      <td>1.0</td>\n",
       "      <td>1.0</td>\n",
       "      <td>1.0</td>\n",
       "      <td>1.0</td>\n",
       "      <td>1.0</td>\n",
       "      <td>...</td>\n",
       "      <td>1.0</td>\n",
       "      <td>1.0</td>\n",
       "      <td>3.0</td>\n",
       "      <td>3.0</td>\n",
       "      <td>3.0</td>\n",
       "      <td>3.0</td>\n",
       "      <td>3.0</td>\n",
       "      <td>4.0</td>\n",
       "      <td>4.0</td>\n",
       "      <td>3.0</td>\n",
       "    </tr>\n",
       "    <tr>\n",
       "      <th>3</th>\n",
       "      <td>20</td>\n",
       "      <td>1011</td>\n",
       "      <td>18.0</td>\n",
       "      <td>1011</td>\n",
       "      <td>20.0</td>\n",
       "      <td>1.0</td>\n",
       "      <td>1.0</td>\n",
       "      <td>1.0</td>\n",
       "      <td>1.0</td>\n",
       "      <td>1.0</td>\n",
       "      <td>...</td>\n",
       "      <td>1.0</td>\n",
       "      <td>1.0</td>\n",
       "      <td>3.0</td>\n",
       "      <td>3.0</td>\n",
       "      <td>3.0</td>\n",
       "      <td>3.0</td>\n",
       "      <td>3.0</td>\n",
       "      <td>4.0</td>\n",
       "      <td>4.0</td>\n",
       "      <td>3.0</td>\n",
       "    </tr>\n",
       "    <tr>\n",
       "      <th>4</th>\n",
       "      <td>21</td>\n",
       "      <td>1011</td>\n",
       "      <td>26.0</td>\n",
       "      <td>1011</td>\n",
       "      <td>20.0</td>\n",
       "      <td>1.0</td>\n",
       "      <td>1.0</td>\n",
       "      <td>1.0</td>\n",
       "      <td>1.0</td>\n",
       "      <td>1.0</td>\n",
       "      <td>...</td>\n",
       "      <td>1.0</td>\n",
       "      <td>1.0</td>\n",
       "      <td>3.0</td>\n",
       "      <td>3.0</td>\n",
       "      <td>3.0</td>\n",
       "      <td>3.0</td>\n",
       "      <td>3.0</td>\n",
       "      <td>4.0</td>\n",
       "      <td>4.0</td>\n",
       "      <td>3.0</td>\n",
       "    </tr>\n",
       "    <tr>\n",
       "      <th>...</th>\n",
       "      <td>...</td>\n",
       "      <td>...</td>\n",
       "      <td>...</td>\n",
       "      <td>...</td>\n",
       "      <td>...</td>\n",
       "      <td>...</td>\n",
       "      <td>...</td>\n",
       "      <td>...</td>\n",
       "      <td>...</td>\n",
       "      <td>...</td>\n",
       "      <td>...</td>\n",
       "      <td>...</td>\n",
       "      <td>...</td>\n",
       "      <td>...</td>\n",
       "      <td>...</td>\n",
       "      <td>...</td>\n",
       "      <td>...</td>\n",
       "      <td>...</td>\n",
       "      <td>...</td>\n",
       "      <td>...</td>\n",
       "      <td>...</td>\n",
       "    </tr>\n",
       "    <tr>\n",
       "      <th>245</th>\n",
       "      <td>2534</td>\n",
       "      <td>2591</td>\n",
       "      <td>25.0</td>\n",
       "      <td>2591</td>\n",
       "      <td>29.0</td>\n",
       "      <td>2.0</td>\n",
       "      <td>2.0</td>\n",
       "      <td>3.0</td>\n",
       "      <td>1.0</td>\n",
       "      <td>2.0</td>\n",
       "      <td>...</td>\n",
       "      <td>1.0</td>\n",
       "      <td>1.0</td>\n",
       "      <td>1.0</td>\n",
       "      <td>1.0</td>\n",
       "      <td>1.0</td>\n",
       "      <td>1.0</td>\n",
       "      <td>1.0</td>\n",
       "      <td>1.0</td>\n",
       "      <td>1.0</td>\n",
       "      <td>1.0</td>\n",
       "    </tr>\n",
       "    <tr>\n",
       "      <th>246</th>\n",
       "      <td>2535</td>\n",
       "      <td>2591</td>\n",
       "      <td>36.0</td>\n",
       "      <td>2591</td>\n",
       "      <td>29.0</td>\n",
       "      <td>2.0</td>\n",
       "      <td>2.0</td>\n",
       "      <td>3.0</td>\n",
       "      <td>1.0</td>\n",
       "      <td>2.0</td>\n",
       "      <td>...</td>\n",
       "      <td>1.0</td>\n",
       "      <td>1.0</td>\n",
       "      <td>1.0</td>\n",
       "      <td>1.0</td>\n",
       "      <td>1.0</td>\n",
       "      <td>1.0</td>\n",
       "      <td>1.0</td>\n",
       "      <td>1.0</td>\n",
       "      <td>1.0</td>\n",
       "      <td>1.0</td>\n",
       "    </tr>\n",
       "    <tr>\n",
       "      <th>247</th>\n",
       "      <td>2565</td>\n",
       "      <td>2609</td>\n",
       "      <td>23.0</td>\n",
       "      <td>2609</td>\n",
       "      <td>32.0</td>\n",
       "      <td>2.0</td>\n",
       "      <td>2.0</td>\n",
       "      <td>4.0</td>\n",
       "      <td>1.0</td>\n",
       "      <td>2.0</td>\n",
       "      <td>...</td>\n",
       "      <td>1.0</td>\n",
       "      <td>1.0</td>\n",
       "      <td>2.0</td>\n",
       "      <td>2.0</td>\n",
       "      <td>2.0</td>\n",
       "      <td>1.0</td>\n",
       "      <td>1.0</td>\n",
       "      <td>1.0</td>\n",
       "      <td>1.0</td>\n",
       "      <td>1.0</td>\n",
       "    </tr>\n",
       "    <tr>\n",
       "      <th>248</th>\n",
       "      <td>2566</td>\n",
       "      <td>2609</td>\n",
       "      <td>33.0</td>\n",
       "      <td>2609</td>\n",
       "      <td>32.0</td>\n",
       "      <td>2.0</td>\n",
       "      <td>2.0</td>\n",
       "      <td>4.0</td>\n",
       "      <td>1.0</td>\n",
       "      <td>2.0</td>\n",
       "      <td>...</td>\n",
       "      <td>1.0</td>\n",
       "      <td>1.0</td>\n",
       "      <td>2.0</td>\n",
       "      <td>2.0</td>\n",
       "      <td>2.0</td>\n",
       "      <td>1.0</td>\n",
       "      <td>1.0</td>\n",
       "      <td>1.0</td>\n",
       "      <td>1.0</td>\n",
       "      <td>1.0</td>\n",
       "    </tr>\n",
       "    <tr>\n",
       "      <th>249</th>\n",
       "      <td>2577</td>\n",
       "      <td>2613</td>\n",
       "      <td>14.0</td>\n",
       "      <td>2613</td>\n",
       "      <td>36.0</td>\n",
       "      <td>1.0</td>\n",
       "      <td>2.0</td>\n",
       "      <td>3.0</td>\n",
       "      <td>1.0</td>\n",
       "      <td>2.0</td>\n",
       "      <td>...</td>\n",
       "      <td>1.0</td>\n",
       "      <td>1.0</td>\n",
       "      <td>3.0</td>\n",
       "      <td>3.0</td>\n",
       "      <td>1.0</td>\n",
       "      <td>1.0</td>\n",
       "      <td>1.0</td>\n",
       "      <td>2.0</td>\n",
       "      <td>2.0</td>\n",
       "      <td>1.0</td>\n",
       "    </tr>\n",
       "  </tbody>\n",
       "</table>\n",
       "<p>250 rows × 107 columns</p>\n",
       "</div>"
      ],
      "text/plain": [
       "     index   pid    GA record_id  age_enroll marital gestage_by insur  \\\n",
       "0       13  1008  31.0      1008        21.0     1.0        1.0   1.0   \n",
       "1       14  1008   4.0      1008        21.0     1.0        1.0   1.0   \n",
       "2       19  1011  12.0      1011        20.0     1.0        1.0   1.0   \n",
       "3       20  1011  18.0      1011        20.0     1.0        1.0   1.0   \n",
       "4       21  1011  26.0      1011        20.0     1.0        1.0   1.0   \n",
       "..     ...   ...   ...       ...         ...     ...        ...   ...   \n",
       "245   2534  2591  25.0      2591        29.0     2.0        2.0   3.0   \n",
       "246   2535  2591  36.0      2591        29.0     2.0        2.0   3.0   \n",
       "247   2565  2609  23.0      2609        32.0     2.0        2.0   4.0   \n",
       "248   2566  2609  33.0      2609        32.0     2.0        2.0   4.0   \n",
       "249   2577  2613  14.0      2613        36.0     1.0        2.0   3.0   \n",
       "\n",
       "    ethnicity race  ...  edinb1_1trim edinb2_1trim edinb3_1trim edinb4_1trim  \\\n",
       "0         1.0  1.0  ...           1.0          1.0          1.0          1.0   \n",
       "1         1.0  1.0  ...           1.0          1.0          1.0          1.0   \n",
       "2         1.0  1.0  ...           1.0          1.0          3.0          3.0   \n",
       "3         1.0  1.0  ...           1.0          1.0          3.0          3.0   \n",
       "4         1.0  1.0  ...           1.0          1.0          3.0          3.0   \n",
       "..        ...  ...  ...           ...          ...          ...          ...   \n",
       "245       1.0  2.0  ...           1.0          1.0          1.0          1.0   \n",
       "246       1.0  2.0  ...           1.0          1.0          1.0          1.0   \n",
       "247       1.0  2.0  ...           1.0          1.0          2.0          2.0   \n",
       "248       1.0  2.0  ...           1.0          1.0          2.0          2.0   \n",
       "249       1.0  2.0  ...           1.0          1.0          3.0          3.0   \n",
       "\n",
       "    edinb5_1trim edinb6_1trim edinb7_1trim edinb8_1trim edinb9_1trim  \\\n",
       "0            1.0          1.0          2.0          1.0          2.0   \n",
       "1            1.0          1.0          2.0          1.0          2.0   \n",
       "2            3.0          3.0          3.0          4.0          4.0   \n",
       "3            3.0          3.0          3.0          4.0          4.0   \n",
       "4            3.0          3.0          3.0          4.0          4.0   \n",
       "..           ...          ...          ...          ...          ...   \n",
       "245          1.0          1.0          1.0          1.0          1.0   \n",
       "246          1.0          1.0          1.0          1.0          1.0   \n",
       "247          2.0          1.0          1.0          1.0          1.0   \n",
       "248          2.0          1.0          1.0          1.0          1.0   \n",
       "249          1.0          1.0          1.0          2.0          2.0   \n",
       "\n",
       "    edinb10_1trim  \n",
       "0             1.0  \n",
       "1             1.0  \n",
       "2             3.0  \n",
       "3             3.0  \n",
       "4             3.0  \n",
       "..            ...  \n",
       "245           1.0  \n",
       "246           1.0  \n",
       "247           1.0  \n",
       "248           1.0  \n",
       "249           1.0  \n",
       "\n",
       "[250 rows x 107 columns]"
      ]
     },
     "execution_count": 21,
     "metadata": {},
     "output_type": "execute_result"
    }
   ],
   "source": [
    "trainer.dataloaders['md_test'].reset_index()"
   ]
  },
  {
   "cell_type": "code",
   "execution_count": 73,
   "id": "d43f42de-5d8b-456d-b96c-e599095e50c3",
   "metadata": {},
   "outputs": [],
   "source": [
    "md_merged = trainer.dataloaders['md_test'].reset_index().merge(pd.DataFrame({'Absolute Error':(res['yhat']-res['y']).abs().numpy(),\n",
    "                                                                             'yGA':res['y'].numpy(), 'yhatGA':res['yhat'].numpy()}, index=res['md_idx'].numpy()), left_index=True, right_index=True)"
   ]
  },
  {
   "cell_type": "code",
   "execution_count": 36,
   "id": "6de8f6cd-b2b1-4813-aafe-b2c6bc4e12e3",
   "metadata": {},
   "outputs": [],
   "source": [
    "dt = md_merged.loc[:, ['GA', 'age_enroll', 'gestational_diabetes', 'Absolute Error', 'premature_birth1']]\n",
    "for k in dt.columns:\n",
    "    if dt[k].dtype == object :\n",
    "        dt[k] = dt[k].astype(float)"
   ]
  },
  {
   "cell_type": "code",
   "execution_count": null,
   "id": "d65e2e31-1b48-46ac-b567-b76c7958d049",
   "metadata": {},
   "outputs": [],
   "source": []
  },
  {
   "cell_type": "code",
   "execution_count": 46,
   "id": "480707c2-e0d5-4a33-9017-1435e4d5885f",
   "metadata": {},
   "outputs": [
    {
     "data": {
      "image/png": "[encoded data removed]",
      "text/plain": [
       "<Figure size 900x900 with 20 Axes>"
      ]
     },
     "metadata": {},
     "output_type": "display_data"
    }
   ],
   "source": [
    "p = sns.pairplot(dt, plot_kws={'linewidth':0, 's':10}, corner=True, diag_kind='hist')\n",
    "p.savefig('/home/ngr4/project/wearables/results/results_InceptionTime_dev_md_errorCORRscatterplots.png')"
   ]
  },
  {
   "cell_type": "code",
   "execution_count": 35,
   "id": "4c614330-46ac-4736-97c5-ae9deb1cf4d3",
   "metadata": {},
   "outputs": [
    {
     "data": {
      "text/plain": [
       "True"
      ]
     },
     "execution_count": 35,
     "metadata": {},
     "output_type": "execute_result"
    }
   ],
   "source": [
    "dt['gestational_diabetes'].dtype == object"
   ]
  },
  {
   "cell_type": "code",
   "execution_count": 83,
   "id": "f26265a3-7899-4b74-bd37-7e23059901ee",
   "metadata": {},
   "outputs": [],
   "source": [
    "pid = md_merged.groupby('pid').count().reset_index()\n",
    "pid = pid.loc[(pid['index']>1), 'pid'].to_list()\n",
    "dt = md_merged.loc[md_merged['pid'].isin(pid), :]"
   ]
  },
  {
   "cell_type": "code",
   "execution_count": null,
   "id": "b66d1486-d163-473a-a68b-1881e33b7ff8",
   "metadata": {},
   "outputs": [],
   "source": [
    "# get color\n",
    "import matplotlib\n",
    "norm = matplotlib.colors.Normalize(vmin=dt['GA'].min(), vmax=dt['GA'].max())\n",
    "mapper = matplotlib.cm.ScalarMappable(norm=norm, cmap=matplotlib.cm.RdYlBu_r)\n",
    "dt['GAcolor'] = [mapper.to_rgba(v) for v in dt['GA']]"
   ]
  },
  {
   "cell_type": "code",
   "execution_count": 101,
   "id": "b01977b1-e5ad-487c-93f8-2fe55f56e9ec",
   "metadata": {},
   "outputs": [
    {
     "data": {
      "image/png": "[encoded data removed]",
      "text/plain": [
       "<Figure size 288x216 with 2 Axes>"
      ]
     },
     "metadata": {},
     "output_type": "display_data"
    }
   ],
   "source": [
    "# metadata with multiple GAs, color by \n",
    "fig, ax = plt.subplots(1, 1, figsize=(4, 3))\n",
    "for pid in dt['pid']:\n",
    "    dtt = dt.loc[dt['pid']==pid, :].sort_values(by='GA').reset_index()\n",
    "    for i in range(dtt.shape[0]):\n",
    "        if not i+1==dtt.shape[0]:\n",
    "            ax.plot([i, i+1], [dtt.loc[i, 'Absolute Error'], dtt.loc[i+1, 'Absolute Error']], linewidth=0.25, color='black')\n",
    "            ax.scatter([i, i+1], [dtt.loc[i, 'Absolute Error'], dtt.loc[i+1, 'Absolute Error']], s=10, c=[dtt.loc[i, 'GAcolor'], dtt.loc[i+1, 'GAcolor']])\n",
    "ax.set_xlabel('Measurement index')\n",
    "ax.set_ylabel('Absolute error (wks)')\n",
    "ax.set_title('Test set')\n",
    "cbar = fig.colorbar(mapper)\n",
    "cbar.set_label('GA')\n",
    "\n",
    "fig.savefig('/home/ngr4/project/wearables/results/results_InceptionTime_dev_paired_measurement_error.png', bbox_inches='tight', dpi=600)"
   ]
  },
  {
   "cell_type": "code",
   "execution_count": 96,
   "id": "31aaadda-c57f-450f-8d84-b9cbbcfcaddc",
   "metadata": {},
   "outputs": [
    {
     "name": "stderr",
     "output_type": "stream",
     "text": [
      "/tmp/ipykernel_29275/2841765865.py:5: SettingWithCopyWarning: \n",
      "A value is trying to be set on a copy of a slice from a DataFrame.\n",
      "Try using .loc[row_indexer,col_indexer] = value instead\n",
      "\n",
      "See the caveats in the documentation: https://pandas.pydata.org/pandas-docs/stable/user_guide/indexing.html#returning-a-view-versus-a-copy\n",
      "  dt['GAcolor'] = [mapper.to_rgba(v) for v in dt['GA']]\n"
     ]
    }
   ],
   "source": [
    "# get color\n",
    "import matplotlib\n",
    "norm = matplotlib.colors.Normalize(vmin=dt['GA'].min(), vmax=dt['GA'].max())\n",
    "mapper = matplotlib.cm.ScalarMappable(norm=norm, cmap=matplotlib.cm.RdYlBu_r)\n",
    "dt['GAcolor'] = [mapper.to_rgba(v) for v in dt['GA']]"
   ]
  },
  {
   "cell_type": "code",
   "execution_count": 12,
   "id": "6f84613f-7596-453b-8449-c3dd264dc97b",
   "metadata": {},
   "outputs": [
    {
     "data": {
      "text/plain": [
       "InceptionTime(\n",
       "  (block): InceptionBlock(\n",
       "    (inception_layers): ModuleList(\n",
       "      (0): Inception(\n",
       "        (conv_layers): ModuleList(\n",
       "          (0): Conv1d(1, 16, kernel_size=(60,), stride=(1,), padding=same)\n",
       "          (1): Conv1d(1, 16, kernel_size=(30,), stride=(1,), padding=same)\n",
       "          (2): Conv1d(1, 16, kernel_size=(15,), stride=(1,), padding=same)\n",
       "        )\n",
       "        (maxpool): MaxPool1d(kernel_size=3, stride=1, padding=1, dilation=1, ceil_mode=False)\n",
       "        (conv): Conv1d(1, 16, kernel_size=(1,), stride=(1,))\n",
       "        (BN): BatchNorm1d(64, eps=1e-05, momentum=0.1, affine=True, track_running_stats=True)\n",
       "        (activation): ReLU()\n",
       "      )\n",
       "      (1): Inception(\n",
       "        (bottleneck): Conv1d(64, 8, kernel_size=(1,), stride=(1,), padding=same)\n",
       "        (conv_layers): ModuleList(\n",
       "          (0): Conv1d(8, 16, kernel_size=(60,), stride=(1,), padding=same)\n",
       "          (1): Conv1d(8, 16, kernel_size=(30,), stride=(1,), padding=same)\n",
       "          (2): Conv1d(8, 16, kernel_size=(15,), stride=(1,), padding=same)\n",
       "        )\n",
       "        (maxpool): MaxPool1d(kernel_size=3, stride=1, padding=1, dilation=1, ceil_mode=False)\n",
       "        (conv): Conv1d(64, 16, kernel_size=(1,), stride=(1,))\n",
       "        (BN): BatchNorm1d(64, eps=1e-05, momentum=0.1, affine=True, track_running_stats=True)\n",
       "        (activation): ReLU()\n",
       "      )\n",
       "      (2): Inception(\n",
       "        (bottleneck): Conv1d(64, 8, kernel_size=(1,), stride=(1,), padding=same)\n",
       "        (conv_layers): ModuleList(\n",
       "          (0): Conv1d(8, 16, kernel_size=(60,), stride=(1,), padding=same)\n",
       "          (1): Conv1d(8, 16, kernel_size=(30,), stride=(1,), padding=same)\n",
       "          (2): Conv1d(8, 16, kernel_size=(15,), stride=(1,), padding=same)\n",
       "        )\n",
       "        (maxpool): MaxPool1d(kernel_size=3, stride=1, padding=1, dilation=1, ceil_mode=False)\n",
       "        (conv): Conv1d(64, 16, kernel_size=(1,), stride=(1,))\n",
       "        (BN): BatchNorm1d(64, eps=1e-05, momentum=0.1, affine=True, track_running_stats=True)\n",
       "        (activation): ReLU()\n",
       "      )\n",
       "      (3): Inception(\n",
       "        (bottleneck): Conv1d(64, 8, kernel_size=(1,), stride=(1,), padding=same)\n",
       "        (conv_layers): ModuleList(\n",
       "          (0): Conv1d(8, 16, kernel_size=(60,), stride=(1,), padding=same)\n",
       "          (1): Conv1d(8, 16, kernel_size=(30,), stride=(1,), padding=same)\n",
       "          (2): Conv1d(8, 16, kernel_size=(15,), stride=(1,), padding=same)\n",
       "        )\n",
       "        (maxpool): MaxPool1d(kernel_size=3, stride=1, padding=1, dilation=1, ceil_mode=False)\n",
       "        (conv): Conv1d(64, 16, kernel_size=(1,), stride=(1,))\n",
       "        (BN): BatchNorm1d(64, eps=1e-05, momentum=0.1, affine=True, track_running_stats=True)\n",
       "        (activation): ReLU()\n",
       "      )\n",
       "      (4): Inception(\n",
       "        (bottleneck): Conv1d(64, 8, kernel_size=(1,), stride=(1,), padding=same)\n",
       "        (conv_layers): ModuleList(\n",
       "          (0): Conv1d(8, 16, kernel_size=(60,), stride=(1,), padding=same)\n",
       "          (1): Conv1d(8, 16, kernel_size=(30,), stride=(1,), padding=same)\n",
       "          (2): Conv1d(8, 16, kernel_size=(15,), stride=(1,), padding=same)\n",
       "        )\n",
       "        (maxpool): MaxPool1d(kernel_size=3, stride=1, padding=1, dilation=1, ceil_mode=False)\n",
       "        (conv): Conv1d(64, 16, kernel_size=(1,), stride=(1,))\n",
       "        (BN): BatchNorm1d(64, eps=1e-05, momentum=0.1, affine=True, track_running_stats=True)\n",
       "        (activation): ReLU()\n",
       "      )\n",
       "      (5): Inception(\n",
       "        (bottleneck): Conv1d(64, 8, kernel_size=(1,), stride=(1,), padding=same)\n",
       "        (conv_layers): ModuleList(\n",
       "          (0): Conv1d(8, 16, kernel_size=(60,), stride=(1,), padding=same)\n",
       "          (1): Conv1d(8, 16, kernel_size=(30,), stride=(1,), padding=same)\n",
       "          (2): Conv1d(8, 16, kernel_size=(15,), stride=(1,), padding=same)\n",
       "        )\n",
       "        (maxpool): MaxPool1d(kernel_size=3, stride=1, padding=1, dilation=1, ceil_mode=False)\n",
       "        (conv): Conv1d(64, 16, kernel_size=(1,), stride=(1,))\n",
       "        (BN): BatchNorm1d(64, eps=1e-05, momentum=0.1, affine=True, track_running_stats=True)\n",
       "        (activation): ReLU()\n",
       "      )\n",
       "    )\n",
       "    (residual_layers): ModuleList(\n",
       "      (0): None\n",
       "      (1): None\n",
       "      (2): Sequential(\n",
       "        (0): Conv1d(1, 64, kernel_size=(1,), stride=(1,))\n",
       "        (1): BatchNorm1d(64, eps=1e-05, momentum=0.1, affine=True, track_running_stats=True)\n",
       "      )\n",
       "      (3): None\n",
       "      (4): None\n",
       "      (5): Sequential(\n",
       "        (0): Conv1d(64, 64, kernel_size=(1,), stride=(1,))\n",
       "        (1): BatchNorm1d(64, eps=1e-05, momentum=0.1, affine=True, track_running_stats=True)\n",
       "      )\n",
       "    )\n",
       "    (activation): ReLU()\n",
       "  )\n",
       "  (gap): AdaptiveAvgPool1d(output_size=1)\n",
       "  (fc): Linear(in_features=64, out_features=1, bias=True)\n",
       ")"
      ]
     },
     "execution_count": 12,
     "metadata": {},
     "output_type": "execute_result"
    }
   ],
   "source": [
    "trainer.model"
   ]
  },
  {
   "cell_type": "code",
   "execution_count": null,
   "id": "684d3eaf-15fb-4571-a400-224da7259b70",
   "metadata": {},
   "outputs": [],
   "source": []
  }
 ],
 "metadata": {
  "kernelspec": {
   "display_name": "Python 3 (ipykernel)",
   "language": "python",
   "name": "python3"
  },
  "language_info": {
   "codemirror_mode": {
    "name": "ipython",
    "version": 3
   },
   "file_extension": ".py",
   "mimetype": "text/x-python",
   "name": "python",
   "nbconvert_exporter": "python",
   "pygments_lexer": "ipython3",
   "version": "3.8.10"
  }
 },
 "nbformat": 4,
 "nbformat_minor": 5
}
