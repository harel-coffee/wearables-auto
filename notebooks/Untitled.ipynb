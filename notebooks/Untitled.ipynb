{
 "cells": [
  {
   "cell_type": "code",
   "execution_count": 1,
   "id": "a672cda8-2121-40ab-80f0-c8514646652e",
   "metadata": {},
   "outputs": [],
   "source": [
    "import pickle\n",
    "import numpy as np\n",
    "import pandas as pd\n",
    "import os\n",
    "import glob\n",
    "import time\n",
    "\n",
    "import sys\n",
    "sfp = '/home/ngrav/project' \n",
    "sys.path.append(sfp)\n",
    "from wearables.scripts import utils as wearutils\n",
    "from wearables.scripts import data_v42 as weardata\n",
    "from wearables.scripts import models_v42 as wearmodels\n",
    "from wearables.scripts import train_v42 as weartrain\n",
    "from wearables.scripts import eval_v42 as weareval\n",
    "\n",
    "import torch\n",
    "\n",
    "# plotting\n",
    "import matplotlib.pyplot as plt\n",
    "import seaborn as sns\n",
    "plt.rc('font', size = 9)\n",
    "plt.rc('font', family='sans serif')\n",
    "plt.rcParams['pdf.fonttype']=42\n",
    "plt.rcParams['ps.fonttype']=42\n",
    "plt.rcParams['legend.frameon']=False\n",
    "plt.rcParams['axes.grid']=False\n",
    "plt.rcParams['legend.markerscale']=0.5\n",
    "plt.rcParams['savefig.dpi']=600\n",
    "sns.set_style(\"ticks\")"
   ]
  },
  {
   "cell_type": "code",
   "execution_count": 3,
   "id": "b3a9f8ec-b3c2-4f2b-9526-a668dfa0739d",
   "metadata": {},
   "outputs": [
    {
     "data": {
      "text/plain": [
       "['/home/ngrav/project/wearables/results/eval_test_v42.csv']"
      ]
     },
     "execution_count": 3,
     "metadata": {},
     "output_type": "execute_result"
    }
   ],
   "source": [
    "glob.glob('/home/ngrav/project/wearables/results/*csv')"
   ]
  },
  {
   "cell_type": "code",
   "execution_count": 4,
   "id": "fc1270cc-5346-4dec-bbfa-8cd79cbc061c",
   "metadata": {},
   "outputs": [],
   "source": [
    "df = pd.read_csv('/home/ngrav/project/wearables/results/eval_test_v42.csv')"
   ]
  },
  {
   "cell_type": "code",
   "execution_count": 6,
   "id": "f58375bc-fb93-4362-8b56-a433020e18ec",
   "metadata": {},
   "outputs": [
    {
     "data": {
      "text/plain": [
       "Unnamed: 0                                                  0.0\n",
       "exp_trial                                         CNNMSEl1_GA_1\n",
       "y             tensor([34., 19., 11., 34., 24., 24.,  7., 24....\n",
       "yhat          tensor([32.5890, 16.9544, 10.3172, 23.5483, 14...\n",
       "loss                                          101.1440200805664\n",
       "mae                                           5.696577548980713\n",
       "rho                                          0.6775308931586468\n",
       "P_rho                                     2.372060594329595e-99\n",
       "Name: 4, dtype: object"
      ]
     },
     "execution_count": 6,
     "metadata": {},
     "output_type": "execute_result"
    }
   ],
   "source": [
    "df.loc[4, :]"
   ]
  },
  {
   "cell_type": "code",
   "execution_count": 22,
   "id": "c4852b7e-7ef3-41be-bd97-11b40c3fc7b0",
   "metadata": {},
   "outputs": [],
   "source": [
    "def test(**hyperparams):\n",
    "    print(hyperparams['nb_epochs'])\n",
    "    print('lr' in hyperparams.keys())\n"
   ]
  },
  {
   "cell_type": "code",
   "execution_count": 2,
   "id": "49e8749b-4cb7-4731-8a25-b83b689dce45",
   "metadata": {},
   "outputs": [
    {
     "name": "stdout",
     "output_type": "stream",
     "text": [
      "{'criterion': MSEL1(\n",
      "  (MSE): MSELoss()\n",
      ")}\n"
     ]
    }
   ],
   "source": [
    "print({'criterion':weartrain.MSEL1(lambda_l1=0.001)})"
   ]
  },
  {
   "cell_type": "code",
   "execution_count": null,
   "id": "8b3eee5c-34f1-4375-a738-19331a3e416a",
   "metadata": {},
   "outputs": [],
   "source": []
  }
 ],
 "metadata": {
  "kernelspec": {
   "display_name": "Python 3 (ipykernel)",
   "language": "python",
   "name": "python3"
  },
  "language_info": {
   "codemirror_mode": {
    "name": "ipython",
    "version": 3
   },
   "file_extension": ".py",
   "mimetype": "text/x-python",
   "name": "python",
   "nbconvert_exporter": "python",
   "pygments_lexer": "ipython3",
   "version": "3.8.10"
  }
 },
 "nbformat": 4,
 "nbformat_minor": 5
}
