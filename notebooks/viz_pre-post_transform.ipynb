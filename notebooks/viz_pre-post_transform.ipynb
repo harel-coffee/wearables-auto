{
 "cells": [
  {
   "cell_type": "code",
   "execution_count": 1,
   "metadata": {},
   "outputs": [],
   "source": [
    "%matplotlib inline\n",
    "\n",
    "import pandas as pd\n",
    "import pickle\n",
    "import time\n",
    "import importlib\n",
    "import numpy as np\n",
    "import importlib\n",
    "\n",
    "\n",
    "import sys\n",
    "sys.path.append('/home/ngr/gdrive/wearables/scripts')\n",
    "import data as weardata\n",
    "import utils as wearutils"
   ]
  },
  {
   "cell_type": "code",
   "execution_count": 2,
   "metadata": {},
   "outputs": [
    {
     "name": "stdout",
     "output_type": "stream",
     "text": [
      "Dict data loaded in 377.23827743530273-s\n"
     ]
    }
   ],
   "source": [
    "timer = wearutils.timer()\n",
    "timer.start()\n",
    "data = weardata.load_datadict()\n",
    "print('Dict data loaded in {}-s'.format(timer.stop()))"
   ]
  },
  {
   "cell_type": "code",
   "execution_count": 101,
   "metadata": {},
   "outputs": [
    {
     "ename": "AttributeError",
     "evalue": "module 'seaborn' has no attribute 'ecdfplot'",
     "output_type": "error",
     "traceback": [
      "\u001b[0;31m---------------------------------------------------------------------------\u001b[0m",
      "\u001b[0;31mAttributeError\u001b[0m                            Traceback (most recent call last)",
      "\u001b[0;32m<ipython-input-101-34d8b55b7c4f>\u001b[0m in \u001b[0;36m<module>\u001b[0;34m\u001b[0m\n\u001b[0;32m----> 1\u001b[0;31m \u001b[0msns\u001b[0m\u001b[0;34m.\u001b[0m\u001b[0mecdfplot\u001b[0m\u001b[0;34m(\u001b[0m\u001b[0mx\u001b[0m\u001b[0;34m=\u001b[0m\u001b[0;34m'n_days'\u001b[0m\u001b[0;34m,\u001b[0m \u001b[0mdata\u001b[0m\u001b[0;34m=\u001b[0m\u001b[0mnt\u001b[0m\u001b[0;34m)\u001b[0m\u001b[0;34m\u001b[0m\u001b[0;34m\u001b[0m\u001b[0m\n\u001b[0m",
      "\u001b[0;31mAttributeError\u001b[0m: module 'seaborn' has no attribute 'ecdfplot'"
     ]
    }
   ],
   "source": [
    "sns.ecdfplot(x='n_days', data=nt)"
   ]
  },
  {
   "cell_type": "code",
   "execution_count": 20,
   "metadata": {},
   "outputs": [],
   "source": [
    "# check differences\n",
    "\n",
    "def chk_tdeltas(data, truncate_at_day=None, leading_pad=True, drop_first_day=True, verbose=True):\n",
    "    '''Check for the temporal differences between consecutive measurements.\n",
    "    \n",
    "    Arguments:\n",
    "      truncate_at_day (int): (optional, Default=None) in units of d, truncate after x days. None keeps all data \n",
    "      leading_pad (bool): (optional, Default=True) add pads to align ts so first time is 12 AM\n",
    "      drop_first_day (bool): (optional, Default=True) drop the first day since, worst case is measurement\n",
    "        starting at 12 AM\n",
    "    '''\n",
    "\n",
    "    k_irreg_tdelta = []\n",
    "    irreg_tdelta = []\n",
    "    keys2keep = []\n",
    "    \n",
    "    if verbose:\n",
    "        timer.start()\n",
    "    for i, (k, v) in enumerate(data.items()):\n",
    "        ts, x = v[0], v[1]\n",
    "        if leading_pad:\n",
    "            zeros2pad = np.zeros((ts[0].hour*60 + ts[0].minute + 1))\n",
    "            ts = pd.to_datetime(np.linspace(ts[0].replace(hour=0, minute=0).value, ts[0].value, ts[0].hour*60 + ts[0].minute + 1)).to_list() + ts\n",
    "            x = np.concatenate((zeros2pad, [float(i) for i in x]))\n",
    "        if drop_first_day:\n",
    "            # drop 24h/d * 60min/h timepts if 1d drop\n",
    "            \n",
    "        unique_tdeltas = np.unique(np.diff(pd.Series(ts)))\n",
    "        if np.timedelta64(1, 'm') in unique_tdeltas and unique_tdeltas.shape[0] == 1: \n",
    "            keys2keep.append(k)\n",
    "        else:\n",
    "            k_irreg_tdelta.append(k)\n",
    "            irreg_tdelta.append(unique_tdeltas)\n",
    "        if verbose:\n",
    "            if i % 500 == 0 and i != 0 :\n",
    "                print('  through m={}\\t{:.0f}-s elapsed'.format(i+1, timer.stop()))\n",
    "    if verbose:\n",
    "        print('\\n{} measurements (out of {}) have multiple t delta'.format(len(k_irreg_tdelta), len(data.keys())))\n",
    "        npt, nobs = keys2_npt_nobs(keys2keep)\n",
    "        print('  i.e., {}-pts across {}-measurements have 1min t deltas, whereas'.format(npt, nobs))\n",
    "        npt, nobs = keys2_npt_nobs(k_irreg_tdelta)\n",
    "        print('        {}-pts across {}-measurements have more than 1 t delta'.format(npt, nobs))\n",
    "\n",
    "    if verbose:\n",
    "        print('  \\nunique time deltas:')\n",
    "        print(pd.value_counts([j for i in irreg_tdelta for j in i]))\n",
    "    \n",
    "    return keys2keep, k_irreg_tdelta"
   ]
  },
  {
   "cell_type": "code",
   "execution_count": 27,
   "metadata": {},
   "outputs": [],
   "source": [
    "\n",
    "def get_ntimepoints(data, leading_pad=True, drop_first_day=True):\n",
    "    '''Get the number of timepoints (not necessarily minutes)\n",
    "    \n",
    "    Arguments:\n",
    "      data (dict): keys have label, values have [ts, measurements]\n",
    "      leading_pad (bool): (optional, Default=True) add pads to align ts so first time is 12 AM\n",
    "      drop_first_day (bool): (optional, Default=True) drop the first day since, worst case is measurement\n",
    "        starting at 12 AM\n",
    "        \n",
    "    NOTE: \n",
    "      - we want to get an accurate count of how many days of measurements and cohort sizes can be using, e.g.,\n",
    "        3d vs. 1wk of data and to see what numbers we can get\n",
    "    '''\n",
    "    n_t = pd.DataFrame()\n",
    "    for k in data.keys():\n",
    "        pid, ga = k.split('-')\n",
    "        n_t = n_t.append(pd.DataFrame({'key':k, 'pid':pid, 'GA':ga, 'n_t':len(data[k][0]), }, index=[0]), ignore_index=True)\n",
    "    n_t['n_days'] = n_t['n_t']/(24*60)\n",
    "    return n_t"
   ]
  }
 ],
 "metadata": {
  "kernelspec": {
   "display_name": "Python 3",
   "language": "python",
   "name": "python3"
  },
  "language_info": {
   "codemirror_mode": {
    "name": "ipython",
    "version": 3
   },
   "file_extension": ".py",
   "mimetype": "text/x-python",
   "name": "python",
   "nbconvert_exporter": "python",
   "pygments_lexer": "ipython3",
   "version": "3.8.5"
  }
 },
 "nbformat": 4,
 "nbformat_minor": 4
}
