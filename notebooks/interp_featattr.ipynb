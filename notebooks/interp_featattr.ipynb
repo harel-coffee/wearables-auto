{
 "cells": [
  {
   "cell_type": "code",
   "execution_count": 1,
   "id": "c5b69026-e604-47b5-aff5-a8eae4b138ad",
   "metadata": {},
   "outputs": [],
   "source": [
    "%matplotlib inline\n",
    "%timeit\n",
    "\n",
    "import pandas as pd\n",
    "import numpy as np\n",
    "import matplotlib.pyplot as plt\n",
    "import seaborn as sns\n",
    "import glob\n",
    "import os\n",
    "import time\n",
    "import pickle\n",
    "import datetime\n",
    "import re\n",
    "import pyActigraphy\n",
    "\n",
    "import sys\n",
    "sys.path.append('/home/ngrav/project/')\n",
    "from wearables.scripts import utils as wearutils\n",
    "from wearables.scripts import data as weardata\n",
    "from wearables.scripts import train as weartrain\n",
    "from wearables.scripts import eval_ as weareval\n",
    "from wearables.scripts import model as wearmodels\n",
    "from wearables.scripts import DTW as weardtw\n",
    "\n",
    "import torch\n",
    "import torch.nn as nn\n",
    "import torch.nn.functional as F\n",
    "\n",
    "from scipy.spatial.distance import pdist, squareform\n",
    "import fastdtw\n",
    "import umap\n",
    "\n",
    "plt.rc('font', size = 9)\n",
    "plt.rc('font', family='sans serif')\n",
    "plt.rcParams['pdf.fonttype'] = 42\n",
    "plt.rcParams['ps.fonttype'] = 42\n",
    "plt.rcParams['legend.frameon']=False\n",
    "plt.rcParams['axes.grid']=False\n",
    "plt.rcParams['legend.markerscale']=1\n",
    "plt.rcParams['savefig.dpi'] = 600\n",
    "sns.set_style(\"ticks\")"
   ]
  },
  {
   "cell_type": "code",
   "execution_count": 2,
   "id": "68e74b36-ff61-4df6-a8d4-a48bc071ebc1",
   "metadata": {},
   "outputs": [
    {
     "name": "stderr",
     "output_type": "stream",
     "text": [
      "[W pthreadpool-cpp.cc:90] Warning: Leaking Caffe2 thread-pool after fork. (function pthreadpool)\n",
      "/home/ngrav/miniconda3/envs/wearables/lib/python3.8/site-packages/torch/nn/modules/conv.py:294: UserWarning: Using padding='same' with even kernel lengths and odd dilation may require a zero-padded copy of the input be created (Triggered internally at  /opt/conda/conda-bld/pytorch_1623448278899/work/aten/src/ATen/native/Convolution.cpp:660.)\n",
      "  return F.conv1d(input, weight, bias, self.stride,\n",
      "/home/ngrav/miniconda3/envs/wearables/lib/python3.8/site-packages/torch/nn/functional.py:652: UserWarning: Named tensors and all their associated APIs are an experimental feature and subject to change. Please do not use them for anything important until they are released as stable. (Triggered internally at  /opt/conda/conda-bld/pytorch_1623448278899/work/c10/core/TensorImpl.h:1156.)\n",
      "  return torch.max_pool1d(input, kernel_size, stride, padding, dilation, ceil_mode)\n"
     ]
    }
   ],
   "source": [
    "# load data\n",
    "mfp = '/home/ngrav/project/wearables/model_zoo'\n",
    "bst_modelpkl = os.path.join(mfp, '213-itv52_InceptionTime_GA5.pkl')\n",
    "bst_trainer = os.path.join(mfp, 'trainer_itv52_InceptionTime_GA5.pkl')\n",
    "\n",
    "split = 'train'\n",
    "\n",
    "X, md_model, trainer = weardtw.data_from_trainer(bst_trainer, split=split)\n",
    "\n",
    "# call eval to get output, modify for return_hidden = True option\n",
    "evaluation = weareval.eval_trained(trainer, split=split,\n",
    "                                   modelpkl=bst_modelpkl,\n",
    "                                   two_outputs=True)"
   ]
  },
  {
   "cell_type": "code",
   "execution_count": 3,
   "id": "a9efcbd6-2c3e-4aa1-96dd-e774727835ee",
   "metadata": {},
   "outputs": [],
   "source": [
    "import functools\n",
    "import operator\n",
    "import torch\n",
    "from torch.autograd import grad\n",
    "import numpy as np\n",
    "from tqdm import *\n",
    "\n",
    "def gather_nd(params, indices):\n",
    "    \"\"\"\n",
    "    Args:\n",
    "        params: Tensor to index\n",
    "        indices: k-dimension tensor of integers. \n",
    "    Returns:\n",
    "        output: 1-dimensional tensor of elements of ``params``, where\n",
    "            output[i] = params[i][indices[i]]\n",
    "            \n",
    "            params   indices   output\n",
    "            1 2       1 1       4\n",
    "            3 4       2 0 ----> 5\n",
    "            5 6       0 0       1\n",
    "    \"\"\"\n",
    "    max_value = functools.reduce(operator.mul, list(params.size())) - 1\n",
    "    indices = indices.t().long()\n",
    "    ndim = indices.size(0)\n",
    "    idx = torch.zeros_like(indices[0]).long()\n",
    "    m = 1\n",
    "\n",
    "    for i in range(ndim)[::-1]:\n",
    "        idx += indices[i]*m\n",
    "        m *= params.size(i)\n",
    "\n",
    "    idx[idx < 0] = 0\n",
    "    idx[idx > max_value] = 0\n",
    "    return torch.take(params, idx)\n",
    "\n",
    "class PathExplainerTorch(object):\n",
    "    def __init__(self, model):\n",
    "        self.model = model\n",
    "        return\n",
    "    \n",
    "    def _get_ref_tensor(self,baseline,batch_size,num_samples):\n",
    "        number_to_draw = num_samples * batch_size\n",
    "        replace = baseline.shape[0] < number_to_draw\n",
    "        sample_indices = np.random.choice(baseline.shape[0],\n",
    "                                          size=number_to_draw,\n",
    "                                          replace=replace)\n",
    "        ref_tensor = baseline[sample_indices,:]\n",
    "        \n",
    "        return ref_tensor\n",
    "\n",
    "    def _get_samples_input(self, input_tensor, baseline, \n",
    "                           num_samples, use_expectation):\n",
    "        '''\n",
    "        calculate interpolation points\n",
    "        Args:\n",
    "            input_tensor: Tensor of shape (batch, ...), where ... indicates\n",
    "                          the input dimensions. \n",
    "            reference_tensor: A tensor of shape (batch, k, ...) where ... \n",
    "                indicates dimensions, and k represents the number of background \n",
    "                reference samples to draw per input in the batch.\n",
    "        Returns: \n",
    "            samples_input: A tensor of shape (batch, k, ...) with the \n",
    "                interpolated points between input and ref.\n",
    "            samples_delta: A tensor of shape (batch, 1, ...) with the\n",
    "                difference between input and reference for each sample\n",
    "        '''\n",
    "        input_dims = list(input_tensor.size())[1:]\n",
    "        num_input_dims = len(input_dims)\n",
    "        batch_size = input_tensor.size()[0]\n",
    "        \n",
    "        if use_expectation:\n",
    "            reference_tensor = self._get_ref_tensor(baseline,batch_size,num_samples)\n",
    "            shape = reference_tensor.shape\n",
    "            reference_tensor = reference_tensor.view(\n",
    "                    batch_size, \n",
    "                    num_samples, \n",
    "                    *(shape[1:]))\n",
    "            \n",
    "            # Grab a [batch_size, k]-sized interpolation sample\n",
    "            t_tensor = torch.FloatTensor(batch_size, num_samples).uniform_(0,1).to(reference_tensor.device)\n",
    "            shape = [batch_size, num_samples] + [1] * num_input_dims\n",
    "            interp_coef = t_tensor.view(*shape)\n",
    "\n",
    "            # Evaluate the end points\n",
    "            end_point_ref = (1.0 - interp_coef) * reference_tensor\n",
    "\n",
    "            input_expand_mult = input_tensor.unsqueeze(1)\n",
    "            end_point_input = interp_coef * input_expand_mult\n",
    "\n",
    "            # Affine Combine\n",
    "            samples_input = end_point_input + end_point_ref\n",
    "            \n",
    "        else:\n",
    "            batch_size = input_tensor.size()[0]\n",
    "            input_expand = input_tensor.unsqueeze(1)\n",
    "            reps = np.ones(len(baseline.shape)).astype(int)\n",
    "            reps[0] = batch_size\n",
    "            reference_tensor = baseline.repeat(list(reps)).unsqueeze(1)\n",
    "#             reference_tensor = torch.as_tensor(sampled_baseline).unsqueeze(1).to(baseline.device)\n",
    "            scaled_inputs = [reference_tensor + (float(i)/(num_samples-1))*(input_expand - reference_tensor) \\\n",
    "                             for i in range(0,num_samples)]\n",
    "            samples_input = torch.cat(scaled_inputs,dim=1)\n",
    "        \n",
    "        samples_delta = self._get_samples_delta(input_tensor, reference_tensor)\n",
    "        samples_delta = samples_delta.to(samples_input.device)\n",
    "        \n",
    "        return samples_input, samples_delta\n",
    "    \n",
    "    def _get_samples_delta(self, input_tensor, reference_tensor):\n",
    "        input_expand_mult = input_tensor.unsqueeze(1)\n",
    "        sd = input_expand_mult - reference_tensor\n",
    "        return sd\n",
    "    \n",
    "    def _get_grads(self, samples_input, output_indices=None):\n",
    "\n",
    "        grad_tensor = torch.zeros(samples_input.shape).float().to(samples_input.device)\n",
    "        \n",
    "        k_ = samples_input.shape[1]\n",
    "\n",
    "        for i in range(k_):\n",
    "            particular_slice = samples_input[:,i]\n",
    "            batch_output = self.model(particular_slice)\n",
    "            # should check that users pass in sparse labels\n",
    "            # Only look at the user-specified label\n",
    "            if batch_output.size(1) > 1:\n",
    "                sample_indices = torch.arange(0,batch_output.size(0)).to(samples_input.device)\n",
    "                indices_tensor = torch.cat([\n",
    "                        sample_indices.unsqueeze(1), \n",
    "                        output_indices.unsqueeze(1)], dim=1)\n",
    "                batch_output = gather_nd(batch_output, indices_tensor)\n",
    "\n",
    "            model_grads = grad(\n",
    "                    outputs=batch_output,\n",
    "                    inputs=particular_slice,\n",
    "                    grad_outputs=torch.ones_like(batch_output).to(samples_input.device),\n",
    "                    create_graph=True)\n",
    "            grad_tensor[:,i,:] = model_grads[0]\n",
    "        return grad_tensor\n",
    "           \n",
    "    def attributions(self, input_tensor, baseline,\n",
    "                     num_samples = 50, use_expectation=True, \n",
    "                     output_indices=None):\n",
    "        \"\"\"\n",
    "        Calculate either Expected or Integrated Gradients approximation of \n",
    "        Aumann-Shapley values for the sample ``input_tensor``.\n",
    "        Args:\n",
    "            model (torch.nn.Module): Pytorch neural network model for which the\n",
    "                output should be explained.\n",
    "            input_tensor (torch.Tensor): Pytorch tensor representing the input\n",
    "                to be explained.\n",
    "            baseline (torch.Tensor): Pytorch tensor representing the baseline.\n",
    "                If use_expectation is true, then baseline should be shape\n",
    "                (num_refs, ...) where ... indicates the dimensionality\n",
    "                of the input. Otherwise, baseline should be shape (1, ...).\n",
    "            output_indices (optional, default=None): For multi-class prediction\n",
    "        \"\"\"\n",
    "        equal_dims = baseline.shape[1:] == input_tensor.shape[1:]\n",
    "        almost_equal_dims = baseline.shape == input_tensor.shape[1:]\n",
    "        \n",
    "        dev = input_tensor.device\n",
    "        baseline = baseline.to(dev)\n",
    "        \n",
    "        input_tensor.requires_grad_ = True\n",
    "        \n",
    "        if use_expectation and not equal_dims:\n",
    "            raise ValueError('baseline should be shape (num_refs, ...) \\\n",
    "                              where ... indicates the dimensionality   \\\n",
    "                              of the input')\n",
    "            \n",
    "        if not use_expectation and baseline.shape[0] != 1:\n",
    "            if almost_equal_dims:\n",
    "                baseline = baseline.unsqueeze(0)\n",
    "            else:\n",
    "                raise ValueError('baseline should be shape (...)           \\\n",
    "                                  where ... indicates the dimensionality   \\\n",
    "                                  of the input')\n",
    "        \n",
    "        samples_input, samples_delta = self._get_samples_input(input_tensor, baseline,\n",
    "                                                               num_samples, use_expectation)\n",
    "        grad_tensor = self._get_grads(samples_input, output_indices)\n",
    "        mult_grads = samples_delta * grad_tensor\n",
    "        attributions = mult_grads.mean(1)\n",
    "        \n",
    "        return attributions\n",
    "    \n",
    "    def interactions(self, input_tensor, baseline,\n",
    "                     num_samples=50, use_expectation=True,\n",
    "                     output_indices=None, interaction_index=None,\n",
    "                     verbose=True):\n",
    "        \"\"\"\n",
    "            input_tensor (torch.Tensor): Pytorch tensor representing the input\n",
    "                to be explained.\n",
    "            baseline (torch.Tensor): Pytorch tensor representing the baseline.\n",
    "                If use_expectation is true, then baseline should be shape\n",
    "                (num_refs, ...) where ... indicates the dimensionality\n",
    "                of the input. Otherwise, baseline should be shape (1, ...)\n",
    "            num_samples: The number of samples to use when computing the\n",
    "                         expectation or integral.\n",
    "            use_expectation: If True, this samples baselines and interpolation\n",
    "                             constants uniformly at random (expected gradients).\n",
    "                             If False, then this assumes num_refs=1 in which\n",
    "                             case it uses the same baseline for all inputs,\n",
    "                             or num_refs=batch_size, in which case it uses\n",
    "                             baseline[i] for inputs[i] and takes 100 linearly spaced\n",
    "                             points between baseline and input (integrated gradients).\n",
    "            output_indices:  If this is None, then this function returns the\n",
    "                             attributions for each output class. This is rarely\n",
    "                             what you want for classification tasks. Pass an\n",
    "                             integer tensor of shape [batch_size] to\n",
    "                             index the output output_indices[i] for\n",
    "                             the input inputs[i].\n",
    "            interaction_index: Either None or an index into the input. If the latter,\n",
    "                               will compute the interactions with respect to that\n",
    "                               feature. This parameter should index into a batch\n",
    "                               of inputs as inputs[(slice(None) + interaction_index)].\n",
    "                               For example, if you had images of shape (32, 32, 3)\n",
    "                               and you wanted interactions with respect\n",
    "                               to pixel (i, j, c), you should pass\n",
    "                               interaction_index=[i, j, c].\n",
    "        \n",
    "        \"\"\"\n",
    "        \n",
    "        if len(input_tensor.shape) != 2:\n",
    "            raise ValueError('PyTorch Explainer only supports ' + \\\n",
    "                             'interaction for 2D input tensors!')\n",
    "        \n",
    "        equal_dims = baseline.shape[1:] == input_tensor.shape[1:]\n",
    "        almost_equal_dims = baseline.shape == input_tensor.shape[1:]\n",
    "        \n",
    "        if use_expectation and not equal_dims:\n",
    "            raise ValueError('baseline should be shape (num_refs, ...) \\\n",
    "                              where ... indicates the dimensionality   \\\n",
    "                              of the input')\n",
    "            \n",
    "        if not use_expectation and baseline.shape[0] != 1:\n",
    "            if almost_equal_dims:\n",
    "                baseline = baseline.unsqueeze(0)\n",
    "            else:\n",
    "                raise ValueError('baseline should be shape (...)           \\\n",
    "                                  where ... indicates the dimensionality   \\\n",
    "                                  of the input')\n",
    "        \n",
    "        inner_loop_nsamples = int(round(np.sqrt(num_samples)))\n",
    "        \n",
    "        samples_input, samples_delta = self._get_samples_input(input_tensor, baseline,\n",
    "                                                               inner_loop_nsamples, use_expectation)\n",
    "        \n",
    "        if interaction_index is not None:\n",
    "            interaction_mult_tensor = torch.zeros([input_tensor.size(0), samples_input.size(1), input_tensor.size(1)])\n",
    "        else:\n",
    "            interaction_mult_tensor = torch.zeros([input_tensor.size(0), samples_input.size(1), \n",
    "                                                   input_tensor.size(1), input_tensor.size(1)])\n",
    "            \n",
    "        ig_tensor = torch.zeros(samples_input.shape).float()\n",
    "        \n",
    "        loop_num = inner_loop_nsamples\n",
    "        \n",
    "        if verbose:\n",
    "            iterable = tqdm(range(loop_num))\n",
    "        else:\n",
    "            iterable = range(loop_num)\n",
    "        \n",
    "        for i in iterable:\n",
    "            \n",
    "            particular_slice = samples_input[:,i]\n",
    "            ig_tensor[:,i,:] = self.attributions(particular_slice, baseline,\n",
    "                                                 num_samples=inner_loop_nsamples, use_expectation=use_expectation,\n",
    "                                                 output_indices=output_indices)\n",
    "            \n",
    "            if interaction_index is not None:\n",
    "                second_grads = grad(\n",
    "                        outputs=ig_tensor[:,i,interaction_index],\n",
    "                        inputs=particular_slice,\n",
    "                        grad_outputs=torch.ones_like(ig_tensor[:,i,interaction_index]),\n",
    "                        create_graph=True)[0].detach()\n",
    "                interaction_mult_tensor[:,i,:] = second_grads\n",
    "\n",
    "            else:\n",
    "                for feature in range(input_tensor.size(1)):\n",
    "                    second_grads = grad(\n",
    "                        outputs=ig_tensor[:,i,feature],\n",
    "                        inputs=particular_slice,\n",
    "                        grad_outputs=torch.ones_like(ig_tensor[:,i,feature]),\n",
    "                        create_graph=True)[0].detach()\n",
    "                    interaction_mult_tensor[:,i,feature,:] = second_grads\n",
    "\n",
    "        interaction_mult_tensor = interaction_mult_tensor.to(samples_delta.device)\n",
    "        if interaction_index is not None:\n",
    "            interaction_tensor = interaction_mult_tensor * samples_delta\n",
    "        else:\n",
    "            interaction_tensor = interaction_mult_tensor * samples_delta.unsqueeze(2)\n",
    "        interactions = interaction_tensor.mean(1)\n",
    "        \n",
    "        return interactions"
   ]
  },
  {
   "cell_type": "code",
   "execution_count": 4,
   "id": "5859b288-f008-4a21-aeec-a568642dd06f",
   "metadata": {},
   "outputs": [],
   "source": [
    "explainer = PathExplainerTorch(evaluation.trainer.model)"
   ]
  },
  {
   "cell_type": "code",
   "execution_count": 5,
   "id": "ae12e77a-62df-4b27-be81-7ad5c9fad4d6",
   "metadata": {},
   "outputs": [],
   "source": [
    "# with open('/home/ngrav/project/wearables/results/errorgrp_dev_v52.pkl', 'rb') as f:\n",
    "#     error_grps = pickle.load(f)\n",
    "#     f.close()\n",
    "    "
   ]
  },
  {
   "cell_type": "code",
   "execution_count": 7,
   "id": "54d9d4af-29e2-4068-895c-228cc65948a2",
   "metadata": {},
   "outputs": [],
   "source": [
    "pfp = '/home/ngrav/project/wearables/results/'\n",
    "\n",
    "# filepaths to bst or pre-processed md with calculated metrics \n",
    "pp_md_fp = os.path.join(pfp, 'md_v522_220124.csv')\n",
    "\n",
    "# load up to date md\n",
    "md = pd.read_csv(pp_md_fp, index_col=0)"
   ]
  },
  {
   "cell_type": "code",
   "execution_count": 8,
   "id": "9b414d6e-4005-44af-9124-be3f7f412a30",
   "metadata": {},
   "outputs": [],
   "source": [
    "# redefine error groups\n",
    "threshold = 10\n",
    "md['Error group'] = 'lt{}wks'.format(threshold)\n",
    "md.loc[(md['error'] >= threshold), 'Error group'] = 'Higher-than-actual'\n",
    "md.loc[(md['error'] <= -threshold), 'Error group'] = 'Lower-than-actual'\n"
   ]
  },
  {
   "cell_type": "code",
   "execution_count": 30,
   "id": "6c49bc04-3085-4d5d-a135-bc956951d120",
   "metadata": {},
   "outputs": [],
   "source": [
    "md_model = md_model.merge(md.loc[:, [col for col in md.columns if col not in md_model.columns]], \n",
    "                          left_index=True, right_index=True, how='left')"
   ]
  },
  {
   "cell_type": "code",
   "execution_count": 31,
   "id": "b91a486e-f6b6-49dd-8914-ec893adc4d39",
   "metadata": {},
   "outputs": [],
   "source": [
    "error_grps = {}\n",
    "for g in md_model['Error group'].unique():\n",
    "    error_grps[g] = md_model.loc[(md_model['Error group'] == g)].index.to_list()"
   ]
  },
  {
   "cell_type": "code",
   "execution_count": 69,
   "id": "b7e6d2ce-0c43-47b1-99be-161cae6755e8",
   "metadata": {},
   "outputs": [],
   "source": [
    "# select error groups \n",
    "n_samples = 100\n",
    "\n",
    "# md_model['High Error Group'] = md_model.index.isin(error_grps['high'])\n",
    "# md_model['Low Error Group'] = md_model.index.isin(error_grps['low'])\n",
    "error_grp_sample = {k:list(np.random.choice(error_grps[k], n_samples)) for k in error_grps.keys()}\n",
    "del error_grp_sample['lt10wks'] # only look at extremes for now\n",
    "# error_grp_sample = {\n",
    "#     'High actigraphy-GA': md_model.loc[md_model['High Error Group']].sample(n_samples).index.to_list(),\n",
    "#     'Low actigraphy-GA': md_model.loc[md_model['Low Error Group']].sample(n_samples).index.to_list()}"
   ]
  },
  {
   "cell_type": "code",
   "execution_count": 70,
   "id": "668dbabb-717b-4e9d-8093-1deb9d4c379a",
   "metadata": {},
   "outputs": [],
   "source": [
    "def featattr_peruid(X, md, uids, explainer, trainer):\n",
    "    '''\n",
    "    Returns:\n",
    "      df (pd.DataFrame)\n",
    "      uids (dict): 'groupname': list of unique ids\n",
    "    '''\n",
    "    total_t = time.time()\n",
    "    df = pd.DataFrame()\n",
    "    counter = 0\n",
    "    for i, g in enumerate(uids.keys()):\n",
    "        for uid in uids[g]:\n",
    "            idx = np.where(md.index==uid)[0].item()\n",
    "            x = X[idx, :, :].unsqueeze(0)\n",
    "            x.requires_grad = True\n",
    "            print('starting idx: {}, unique id: {}\\t{:.2f}-min elapsed'.format(idx, uid, (time.time()-total_t)/60))\n",
    "            if counter==0: # only need to call once\n",
    "                x_baseline = torch.zeros_like(x)\n",
    "                x_baseline.requires_grad = True\n",
    "            attr = explainer.attributions(input_tensor=x,\n",
    "                                          baseline=x_baseline,\n",
    "                                          num_samples=20,\n",
    "                                          use_expectation=True,\n",
    "                                          output_indices=0)\n",
    "            dt = pd.DataFrame(attr[0, 0, :].detach().numpy(), columns=['attr'])\n",
    "            dt['uid'] = uid\n",
    "            dt['sleep'] = trainer.data.data['data'][uid]['sleep'][:-1].to_numpy()\n",
    "            dt['group'] = g\n",
    "            df = df.append(dt)\n",
    "            counter += 1\n",
    "    return df"
   ]
  },
  {
   "cell_type": "code",
   "execution_count": 71,
   "id": "77ef1751-6523-4463-bf07-d1f33e4f437e",
   "metadata": {
    "collapsed": true,
    "jupyter": {
     "outputs_hidden": true
    },
    "tags": []
   },
   "outputs": [
    {
     "name": "stdout",
     "output_type": "stream",
     "text": [
      "starting idx: 1319, unique id: 1247_4\t0.00-min elapsed\n",
      "starting idx: 600, unique id: 2112_11\t0.15-min elapsed\n",
      "starting idx: 1059, unique id: 1336_5\t0.29-min elapsed\n",
      "starting idx: 1566, unique id: 1527_9\t0.42-min elapsed\n",
      "starting idx: 790, unique id: 1090_3\t0.55-min elapsed\n",
      "starting idx: 450, unique id: 1301_8\t0.68-min elapsed\n",
      "starting idx: 1547, unique id: 1436_6\t0.81-min elapsed\n",
      "starting idx: 1560, unique id: 2350_7\t0.94-min elapsed\n",
      "starting idx: 508, unique id: 2527_8\t1.07-min elapsed\n",
      "starting idx: 1250, unique id: 1594_7\t1.20-min elapsed\n",
      "starting idx: 729, unique id: 1858_7\t1.33-min elapsed\n",
      "starting idx: 1557, unique id: 2396_6\t1.46-min elapsed\n",
      "starting idx: 392, unique id: 1723_9\t1.59-min elapsed\n",
      "starting idx: 1553, unique id: 1408_6\t1.72-min elapsed\n",
      "starting idx: 1130, unique id: 1302_5\t1.85-min elapsed\n",
      "starting idx: 790, unique id: 1090_3\t1.98-min elapsed\n",
      "starting idx: 199, unique id: 2030_8\t2.11-min elapsed\n",
      "starting idx: 1395, unique id: 2437_9\t2.24-min elapsed\n",
      "starting idx: 1512, unique id: 1588_9\t2.37-min elapsed\n",
      "starting idx: 488, unique id: 1533_8\t2.50-min elapsed\n",
      "starting idx: 142, unique id: 1435_7\t2.63-min elapsed\n",
      "starting idx: 537, unique id: 1061_6\t2.76-min elapsed\n",
      "starting idx: 85, unique id: 2426_9\t2.88-min elapsed\n",
      "starting idx: 1033, unique id: 1360_8\t3.02-min elapsed\n",
      "starting idx: 1059, unique id: 1336_5\t3.14-min elapsed\n",
      "starting idx: 223, unique id: 2227_10\t3.27-min elapsed\n",
      "starting idx: 770, unique id: 1433_9\t3.40-min elapsed\n",
      "starting idx: 472, unique id: 1318_6\t3.53-min elapsed\n",
      "starting idx: 1327, unique id: 1739_9\t3.67-min elapsed\n",
      "starting idx: 1256, unique id: 1261_7\t3.80-min elapsed\n",
      "starting idx: 1461, unique id: 1452_11\t3.93-min elapsed\n",
      "starting idx: 863, unique id: 2210_9\t4.06-min elapsed\n",
      "starting idx: 1033, unique id: 1360_8\t4.19-min elapsed\n",
      "starting idx: 468, unique id: 2019_8\t4.32-min elapsed\n",
      "starting idx: 1344, unique id: 1481_7\t4.45-min elapsed\n",
      "starting idx: 406, unique id: 2089_11\t4.58-min elapsed\n",
      "starting idx: 442, unique id: 1299_6\t4.71-min elapsed\n",
      "starting idx: 1604, unique id: 1689_6\t4.84-min elapsed\n",
      "starting idx: 472, unique id: 1318_6\t4.97-min elapsed\n",
      "starting idx: 759, unique id: 1671_12\t5.10-min elapsed\n",
      "starting idx: 85, unique id: 2426_9\t5.23-min elapsed\n",
      "starting idx: 347, unique id: 1255_8\t5.36-min elapsed\n",
      "starting idx: 1250, unique id: 1594_7\t5.50-min elapsed\n",
      "starting idx: 1055, unique id: 1239_4\t5.63-min elapsed\n",
      "starting idx: 978, unique id: 1450_5\t5.76-min elapsed\n",
      "starting idx: 317, unique id: 1404_5\t5.89-min elapsed\n",
      "starting idx: 820, unique id: 2203_8\t6.02-min elapsed\n",
      "starting idx: 406, unique id: 2089_11\t6.15-min elapsed\n",
      "starting idx: 1395, unique id: 2437_9\t6.28-min elapsed\n",
      "starting idx: 1038, unique id: 1140_4\t6.41-min elapsed\n",
      "starting idx: 737, unique id: 2311_9\t6.55-min elapsed\n",
      "starting idx: 1344, unique id: 1481_7\t6.68-min elapsed\n",
      "starting idx: 790, unique id: 1090_3\t6.81-min elapsed\n",
      "starting idx: 457, unique id: 1045_6\t6.94-min elapsed\n",
      "starting idx: 1395, unique id: 2437_9\t7.07-min elapsed\n",
      "starting idx: 1466, unique id: 1421_6\t7.20-min elapsed\n",
      "starting idx: 1560, unique id: 2350_7\t7.33-min elapsed\n",
      "starting idx: 274, unique id: 1574_10\t7.46-min elapsed\n",
      "starting idx: 1567, unique id: 2443_5\t7.59-min elapsed\n",
      "starting idx: 1011, unique id: 1569_8\t7.73-min elapsed\n",
      "starting idx: 1567, unique id: 2443_5\t7.86-min elapsed\n",
      "starting idx: 260, unique id: 2287_16\t7.99-min elapsed\n",
      "starting idx: 1633, unique id: 2425_8\t8.11-min elapsed\n",
      "starting idx: 482, unique id: 1552_9\t8.25-min elapsed\n",
      "starting idx: 863, unique id: 2210_9\t8.37-min elapsed\n",
      "starting idx: 412, unique id: 2054_8\t8.51-min elapsed\n",
      "starting idx: 406, unique id: 2089_11\t8.64-min elapsed\n",
      "starting idx: 189, unique id: 1654_9\t8.77-min elapsed\n",
      "starting idx: 413, unique id: 1222_7\t8.90-min elapsed\n",
      "starting idx: 469, unique id: 2251_8\t9.03-min elapsed\n",
      "starting idx: 1457, unique id: 1165_8\t9.16-min elapsed\n",
      "starting idx: 733, unique id: 2549_9\t9.29-min elapsed\n",
      "starting idx: 353, unique id: 1188_4\t9.42-min elapsed\n",
      "starting idx: 337, unique id: 2460_19\t9.55-min elapsed\n",
      "starting idx: 709, unique id: 2026_7\t9.69-min elapsed\n",
      "starting idx: 1472, unique id: 1268_7\t9.82-min elapsed\n",
      "starting idx: 1204, unique id: 1796_8\t9.94-min elapsed\n",
      "starting idx: 352, unique id: 2385_10\t10.07-min elapsed\n",
      "starting idx: 471, unique id: 2056_7\t10.21-min elapsed\n",
      "starting idx: 1582, unique id: 1388_9\t10.34-min elapsed\n",
      "starting idx: 406, unique id: 2089_11\t10.47-min elapsed\n",
      "starting idx: 72, unique id: 2424_8\t10.60-min elapsed\n",
      "starting idx: 190, unique id: 2045_8\t10.73-min elapsed\n",
      "starting idx: 1522, unique id: 1220_8\t10.86-min elapsed\n",
      "starting idx: 189, unique id: 1654_9\t10.99-min elapsed\n",
      "starting idx: 161, unique id: 2560_8\t11.13-min elapsed\n",
      "starting idx: 176, unique id: 1383_5\t11.26-min elapsed\n",
      "starting idx: 770, unique id: 1433_9\t11.39-min elapsed\n",
      "starting idx: 471, unique id: 2056_7\t11.52-min elapsed\n",
      "starting idx: 759, unique id: 1671_12\t11.65-min elapsed\n",
      "starting idx: 183, unique id: 2103_8\t11.78-min elapsed\n",
      "starting idx: 1377, unique id: 2322_9\t11.91-min elapsed\n",
      "starting idx: 1660, unique id: 1493_9\t12.04-min elapsed\n",
      "starting idx: 406, unique id: 2089_11\t12.17-min elapsed\n",
      "starting idx: 792, unique id: 1223_5\t12.30-min elapsed\n",
      "starting idx: 1250, unique id: 1594_7\t12.43-min elapsed\n",
      "starting idx: 143, unique id: 1234_6\t12.56-min elapsed\n",
      "starting idx: 1626, unique id: 2494_7\t12.69-min elapsed\n",
      "starting idx: 392, unique id: 1723_9\t12.82-min elapsed\n",
      "starting idx: 482, unique id: 1552_9\t12.95-min elapsed\n",
      "starting idx: 1357, unique id: 2014_31\t13.08-min elapsed\n",
      "starting idx: 1415, unique id: 2444_34\t13.21-min elapsed\n",
      "starting idx: 1373, unique id: 2129_33\t13.34-min elapsed\n",
      "starting idx: 1186, unique id: 2358_34\t13.48-min elapsed\n",
      "starting idx: 1088, unique id: 1241_28\t13.60-min elapsed\n",
      "starting idx: 172, unique id: 2174_34\t13.73-min elapsed\n",
      "starting idx: 1065, unique id: 2467_35\t13.85-min elapsed\n",
      "starting idx: 959, unique id: 1073_34\t13.97-min elapsed\n",
      "starting idx: 1086, unique id: 2179_34\t14.10-min elapsed\n",
      "starting idx: 665, unique id: 2165_34\t14.23-min elapsed\n",
      "starting idx: 798, unique id: 1796_34\t14.37-min elapsed\n",
      "starting idx: 197, unique id: 1390_34\t14.50-min elapsed\n",
      "starting idx: 1483, unique id: 1592_31\t14.63-min elapsed\n",
      "starting idx: 56, unique id: 1844_29\t14.76-min elapsed\n",
      "starting idx: 534, unique id: 2101_31\t14.88-min elapsed\n",
      "starting idx: 633, unique id: 2458_34\t15.02-min elapsed\n",
      "starting idx: 1302, unique id: 2439_34\t15.15-min elapsed\n",
      "starting idx: 242, unique id: 2333_36\t15.28-min elapsed\n",
      "starting idx: 203, unique id: 2566_33\t15.41-min elapsed\n",
      "starting idx: 417, unique id: 1213_33\t15.55-min elapsed\n",
      "starting idx: 137, unique id: 2422_34\t15.67-min elapsed\n",
      "starting idx: 351, unique id: 2403_36\t15.80-min elapsed\n",
      "starting idx: 78, unique id: 2521_28\t15.93-min elapsed\n",
      "starting idx: 1485, unique id: 1468_26\t16.06-min elapsed\n",
      "starting idx: 1526, unique id: 1533_36\t16.19-min elapsed\n",
      "starting idx: 1464, unique id: 2582_34\t16.32-min elapsed\n",
      "starting idx: 751, unique id: 1763_24\t16.45-min elapsed\n",
      "starting idx: 169, unique id: 2078_34\t16.57-min elapsed\n",
      "starting idx: 416, unique id: 2331_25\t16.70-min elapsed\n",
      "starting idx: 1251, unique id: 2282_34\t16.83-min elapsed\n",
      "starting idx: 697, unique id: 1363_32\t16.97-min elapsed\n",
      "starting idx: 1649, unique id: 1851_29\t17.09-min elapsed\n",
      "starting idx: 1031, unique id: 1281_33\t17.23-min elapsed\n",
      "starting idx: 97, unique id: 2343_35\t17.36-min elapsed\n",
      "starting idx: 172, unique id: 2174_34\t17.49-min elapsed\n",
      "starting idx: 757, unique id: 1306_29\t17.61-min elapsed\n",
      "starting idx: 919, unique id: 1569_33\t17.73-min elapsed\n",
      "starting idx: 1451, unique id: 1050_32\t17.86-min elapsed\n",
      "starting idx: 252, unique id: 2443_36\t17.99-min elapsed\n",
      "starting idx: 1415, unique id: 2444_34\t18.12-min elapsed\n",
      "starting idx: 1404, unique id: 1426_33\t18.25-min elapsed\n",
      "starting idx: 1027, unique id: 2247_23\t18.38-min elapsed\n",
      "starting idx: 1149, unique id: 1022_28\t18.51-min elapsed\n",
      "starting idx: 1606, unique id: 2210_33\t18.63-min elapsed\n",
      "starting idx: 926, unique id: 2624_34\t18.76-min elapsed\n",
      "starting idx: 106, unique id: 1482_34\t18.89-min elapsed\n",
      "starting idx: 1049, unique id: 2505_35\t19.02-min elapsed\n",
      "starting idx: 776, unique id: 1810_34\t19.15-min elapsed\n",
      "starting idx: 351, unique id: 2403_36\t19.29-min elapsed\n",
      "starting idx: 458, unique id: 2051_32\t19.42-min elapsed\n",
      "starting idx: 1401, unique id: 2519_34\t19.55-min elapsed\n",
      "starting idx: 636, unique id: 2127_34\t19.68-min elapsed\n",
      "starting idx: 234, unique id: 1194_33\t19.81-min elapsed\n",
      "starting idx: 1485, unique id: 1468_26\t19.94-min elapsed\n",
      "starting idx: 369, unique id: 2352_33\t20.08-min elapsed\n",
      "starting idx: 1324, unique id: 2257_34\t20.21-min elapsed\n",
      "starting idx: 137, unique id: 2422_34\t20.34-min elapsed\n",
      "starting idx: 1404, unique id: 1426_33\t20.47-min elapsed\n",
      "starting idx: 1533, unique id: 1257_30\t20.60-min elapsed\n",
      "starting idx: 65, unique id: 2209_33\t20.72-min elapsed\n",
      "starting idx: 985, unique id: 1522_34\t20.85-min elapsed\n",
      "starting idx: 782, unique id: 2255_32\t20.99-min elapsed\n",
      "starting idx: 1089, unique id: 2274_35\t21.12-min elapsed\n",
      "starting idx: 314, unique id: 2102_34\t21.25-min elapsed\n",
      "starting idx: 664, unique id: 2607_33\t21.38-min elapsed\n",
      "starting idx: 676, unique id: 1012_33\t21.51-min elapsed\n",
      "starting idx: 255, unique id: 1831_34\t21.64-min elapsed\n",
      "starting idx: 494, unique id: 2339_35\t21.77-min elapsed\n",
      "starting idx: 1089, unique id: 2274_35\t21.90-min elapsed\n",
      "starting idx: 1444, unique id: 1296_35\t22.03-min elapsed\n",
      "starting idx: 569, unique id: 2137_34\t22.16-min elapsed\n",
      "starting idx: 242, unique id: 2333_36\t22.30-min elapsed\n",
      "starting idx: 171, unique id: 1405_36\t22.43-min elapsed\n",
      "starting idx: 1629, unique id: 2075_34\t22.56-min elapsed\n",
      "starting idx: 251, unique id: 1524_33\t22.69-min elapsed\n",
      "starting idx: 70, unique id: 2600_34\t22.82-min elapsed\n",
      "starting idx: 1486, unique id: 2488_34\t22.95-min elapsed\n",
      "starting idx: 338, unique id: 1341_32\t23.08-min elapsed\n",
      "starting idx: 234, unique id: 1194_33\t23.22-min elapsed\n",
      "starting idx: 1526, unique id: 1533_36\t23.35-min elapsed\n",
      "starting idx: 971, unique id: 1363_24\t23.47-min elapsed\n",
      "starting idx: 1042, unique id: 2493_34\t23.60-min elapsed\n",
      "starting idx: 356, unique id: 2396_34\t23.73-min elapsed\n",
      "starting idx: 473, unique id: 1391_36\t23.86-min elapsed\n",
      "starting idx: 231, unique id: 1602_32\t23.99-min elapsed\n",
      "starting idx: 490, unique id: 2007_36\t24.12-min elapsed\n",
      "starting idx: 664, unique id: 2607_33\t24.25-min elapsed\n",
      "starting idx: 1106, unique id: 1785_32\t24.38-min elapsed\n",
      "starting idx: 868, unique id: 1633_30\t24.50-min elapsed\n",
      "starting idx: 358, unique id: 2144_34\t24.63-min elapsed\n",
      "starting idx: 314, unique id: 2102_34\t24.77-min elapsed\n",
      "starting idx: 789, unique id: 2130_33\t24.90-min elapsed\n",
      "starting idx: 1433, unique id: 2487_34\t25.03-min elapsed\n",
      "starting idx: 1031, unique id: 1281_33\t25.16-min elapsed\n",
      "starting idx: 1415, unique id: 2444_34\t25.29-min elapsed\n",
      "starting idx: 409, unique id: 2163_26\t25.42-min elapsed\n",
      "starting idx: 1338, unique id: 1504_32\t25.55-min elapsed\n",
      "starting idx: 1338, unique id: 1504_32\t25.68-min elapsed\n",
      "starting idx: 1638, unique id: 1640_30\t25.81-min elapsed\n",
      "starting idx: 1027, unique id: 2247_23\t25.94-min elapsed\n"
     ]
    }
   ],
   "source": [
    "res = featattr_peruid(X, md_model, error_grp_sample, explainer, trainer)"
   ]
  },
  {
   "cell_type": "markdown",
   "id": "da6bbf18-5bd3-4cb6-b003-3cdad7dbd8e5",
   "metadata": {},
   "source": [
    "# compare sleep v. wake attribution"
   ]
  },
  {
   "cell_type": "code",
   "execution_count": 72,
   "id": "eda815a9-fcd3-4937-9a5c-ab1d7163a08a",
   "metadata": {},
   "outputs": [],
   "source": [
    "from scipy.stats import mannwhitneyu"
   ]
  },
  {
   "cell_type": "code",
   "execution_count": 73,
   "id": "9be38f7f-e88e-4f75-916c-187c0756abcb",
   "metadata": {},
   "outputs": [
    {
     "data": {
      "text/html": [
       "<div>\n",
       "<style scoped>\n",
       "    .dataframe tbody tr th:only-of-type {\n",
       "        vertical-align: middle;\n",
       "    }\n",
       "\n",
       "    .dataframe tbody tr th {\n",
       "        vertical-align: top;\n",
       "    }\n",
       "\n",
       "    .dataframe thead th {\n",
       "        text-align: right;\n",
       "    }\n",
       "</style>\n",
       "<table border=\"1\" class=\"dataframe\">\n",
       "  <thead>\n",
       "    <tr style=\"text-align: right;\">\n",
       "      <th></th>\n",
       "      <th>attr</th>\n",
       "      <th>uid</th>\n",
       "      <th>sleep</th>\n",
       "      <th>group</th>\n",
       "    </tr>\n",
       "  </thead>\n",
       "  <tbody>\n",
       "    <tr>\n",
       "      <th>0</th>\n",
       "      <td>0.000000</td>\n",
       "      <td>1247_4</td>\n",
       "      <td>1</td>\n",
       "      <td>Higher-than-actual</td>\n",
       "    </tr>\n",
       "    <tr>\n",
       "      <th>1</th>\n",
       "      <td>0.000000</td>\n",
       "      <td>1247_4</td>\n",
       "      <td>1</td>\n",
       "      <td>Higher-than-actual</td>\n",
       "    </tr>\n",
       "    <tr>\n",
       "      <th>2</th>\n",
       "      <td>0.000000</td>\n",
       "      <td>1247_4</td>\n",
       "      <td>1</td>\n",
       "      <td>Higher-than-actual</td>\n",
       "    </tr>\n",
       "    <tr>\n",
       "      <th>3</th>\n",
       "      <td>-0.021678</td>\n",
       "      <td>1247_4</td>\n",
       "      <td>1</td>\n",
       "      <td>Higher-than-actual</td>\n",
       "    </tr>\n",
       "    <tr>\n",
       "      <th>4</th>\n",
       "      <td>-0.019088</td>\n",
       "      <td>1247_4</td>\n",
       "      <td>0</td>\n",
       "      <td>Higher-than-actual</td>\n",
       "    </tr>\n",
       "  </tbody>\n",
       "</table>\n",
       "</div>"
      ],
      "text/plain": [
       "       attr     uid  sleep               group\n",
       "0  0.000000  1247_4      1  Higher-than-actual\n",
       "1  0.000000  1247_4      1  Higher-than-actual\n",
       "2  0.000000  1247_4      1  Higher-than-actual\n",
       "3 -0.021678  1247_4      1  Higher-than-actual\n",
       "4 -0.019088  1247_4      0  Higher-than-actual"
      ]
     },
     "execution_count": 73,
     "metadata": {},
     "output_type": "execute_result"
    }
   ],
   "source": [
    "res.head()"
   ]
  },
  {
   "cell_type": "code",
   "execution_count": 48,
   "id": "bdd95853-ea2b-4b60-a707-fc3fb404a785",
   "metadata": {},
   "outputs": [],
   "source": [
    "# res.loc[(res['group']=='High actigraphy-GA') & (res['sleep']==1), 'attr'].to_numpy().mean() - res.loc[(res['group']=='Low actigraphy-GA') & (res['sleep']==1), 'attr'].to_numpy().mean()"
   ]
  },
  {
   "cell_type": "code",
   "execution_count": 137,
   "id": "ff7d016c-559d-473c-afe7-ca1f1ed17a7a",
   "metadata": {},
   "outputs": [
    {
     "data": {
      "text/plain": [
       "MannwhitneyuResult(statistic=220566212896.5, pvalue=1.6198736781249616e-50)"
      ]
     },
     "execution_count": 137,
     "metadata": {},
     "output_type": "execute_result"
    }
   ],
   "source": [
    "# sleep\n",
    "a = res.loc[(res['group']=='Higher-than-actual') & (res['sleep']==1), 'attr'].to_numpy()\n",
    "b = res.loc[(res['group']=='Lower-than-actual') & (res['sleep']==1), 'attr'].to_numpy()\n",
    "\n",
    "mannwhitneyu(a, b)"
   ]
  },
  {
   "cell_type": "code",
   "execution_count": 142,
   "id": "5e4110ec-51e6-47a8-a46d-be2adbf87f18",
   "metadata": {},
   "outputs": [
    {
     "data": {
      "text/plain": [
       "0.0001233005"
      ]
     },
     "execution_count": 142,
     "metadata": {},
     "output_type": "execute_result"
    }
   ],
   "source": [
    "np.abs(np.mean(a)) - np.abs(np.mean(b))"
   ]
  },
  {
   "cell_type": "code",
   "execution_count": null,
   "id": "ea04d27c-500d-4275-8028-1f5a0bf90d9a",
   "metadata": {},
   "outputs": [],
   "source": [
    "res['abs_attr'] = res['attr'].abs()"
   ]
  },
  {
   "cell_type": "code",
   "execution_count": 171,
   "id": "3b12fd70-2ea4-4dc2-8877-a8fb8a8c33fe",
   "metadata": {},
   "outputs": [
    {
     "data": {
      "text/plain": [
       "0.38815289673210157"
      ]
     },
     "execution_count": 171,
     "metadata": {},
     "output_type": "execute_result"
    }
   ],
   "source": [
    "res['abs_attr'].quantile(0.999)"
   ]
  },
  {
   "cell_type": "code",
   "execution_count": null,
   "id": "50190c20-97db-497e-bfa3-7b774211d811",
   "metadata": {},
   "outputs": [
    {
     "name": "stderr",
     "output_type": "stream",
     "text": [
      "/home/ngrav/miniconda3/envs/wearables/lib/python3.8/site-packages/seaborn/distributions.py:2557: FutureWarning: `distplot` is a deprecated function and will be removed in a future version. Please adapt your code to use either `displot` (a figure-level function with similar flexibility) or `histplot` (an axes-level function for histograms).\n",
      "  warnings.warn(msg, FutureWarning)\n",
      "/home/ngrav/miniconda3/envs/wearables/lib/python3.8/site-packages/seaborn/distributions.py:2557: FutureWarning: `distplot` is a deprecated function and will be removed in a future version. Please adapt your code to use either `displot` (a figure-level function with similar flexibility) or `histplot` (an axes-level function for histograms).\n",
      "  warnings.warn(msg, FutureWarning)\n",
      "/home/ngrav/miniconda3/envs/wearables/lib/python3.8/site-packages/seaborn/distributions.py:2557: FutureWarning: `distplot` is a deprecated function and will be removed in a future version. Please adapt your code to use either `displot` (a figure-level function with similar flexibility) or `histplot` (an axes-level function for histograms).\n",
      "  warnings.warn(msg, FutureWarning)\n",
      "/home/ngrav/miniconda3/envs/wearables/lib/python3.8/site-packages/seaborn/distributions.py:2557: FutureWarning: `distplot` is a deprecated function and will be removed in a future version. Please adapt your code to use either `displot` (a figure-level function with similar flexibility) or `histplot` (an axes-level function for histograms).\n",
      "  warnings.warn(msg, FutureWarning)\n"
     ]
    },
    {
     "data": {
      "image/png": "[encoded data removed]",
      "text/plain": [
       "<Figure size 216x144 with 2 Axes>"
      ]
     },
     "metadata": {},
     "output_type": "display_data"
    }
   ],
   "source": [
    "dt = res.loc[res['abs_attr']>=res['abs_attr'].quantile(0.999)]\n",
    "\n",
    "fig, ax = plt.subplots(2, 1, figsize=(3,2))\n",
    "sns.distplot(dt.loc[(dt['sleep']==0) & (dt['group']=='Higher-than-actual'), 'abs_attr'], color='#E57F84', label='Higher-than-actual', ax=ax[0])\n",
    "sns.distplot(dt.loc[(dt['sleep']==0) & (dt['group']=='Lower-than-actual'), 'abs_attr'], color='#2F5061', label='Lower-than-actual', ax=ax[0])\n",
    "\n",
    "sns.distplot(dt.loc[(dt['sleep']==1) & (dt['group']=='Higher-than-actual'), 'abs_attr'], color='#E57F84', label='Higher-than-actual', ax=ax[1])\n",
    "sns.distplot(dt.loc[(dt['sleep']==1) & (dt['group']=='Lower-than-actual'), 'abs_attr'], color='#2F5061', label='Lower-than-actual', ax=ax[1])\n",
    "fig.tight_layout()\n",
    "\n",
    "fig.savefig(os.path.join(pfp, 'distplot_wakeVsleep_errgrp_upperthousandth.pdf'))"
   ]
  },
  {
   "cell_type": "code",
   "execution_count": 169,
   "id": "28bde77b-bffe-4c59-b693-7015221e9f51",
   "metadata": {},
   "outputs": [],
   "source": [
    "# sns.distplot(\n",
    "#     res.loc[((\n",
    "#     ((res['attr'] >= (1e-12)) & (res['attr']>=0)) | \n",
    "#     ((res['attr'] <= -(1e-12)) & (res['attr']<0))) & \n",
    "#     (res['sleep']==0) & (res['group']=='Higher-than-actual')), 'attr'], color='#333652', label='Higher-than-actual')\n",
    "# sns.distplot(\n",
    "#     res.loc[((\n",
    "#     ((res['attr'] >= (1e-12)) & (res['attr']>=0)) | \n",
    "#     ((res['attr'] <= -(1e-12)) & (res['attr']<0))) & \n",
    "#     (res['sleep']==0) & (res['group']=='Lower-than-actual')), 'attr'], color='#90ADC6', label='Lower-than-actual')"
   ]
  },
  {
   "cell_type": "code",
   "execution_count": 145,
   "id": "e62979fd-9b4c-482f-9b68-0d9b4592dfe8",
   "metadata": {},
   "outputs": [
    {
     "data": {
      "image/png": "[encoded data removed]",
      "text/plain": [
       "<Figure size 288x288 with 2 Axes>"
      ]
     },
     "metadata": {},
     "output_type": "display_data"
    }
   ],
   "source": [
    "fig, ax = plt.subplots(1, 2, figsize=(4, 4))\n",
    "sns.stripplot(x='group', y='abs_attr', \n",
    "              data=res.loc[((\n",
    "    ((res['attr'] >= (1e-12)) & (res['attr']>=0)) | \n",
    "    ((res['attr'] <= -(1e-12)) & (res['attr']<0))) & \n",
    "    (res['sleep']==0)), :], \n",
    "              hue='sleep', rasterized=True, s=1, ax=ax[0], palette={0:'#FAD02C', 1:'#333652'},\n",
    "             )\n",
    "sns.stripplot(x='group', y='abs_attr', \n",
    "              data=res.loc[((\n",
    "    ((res['attr'] >= (1e-12)) & (res['attr']>=0)) | \n",
    "    ((res['attr'] <= -(1e-12)) & (res['attr']<0))) & \n",
    "    (res['sleep']==1)), :], \n",
    "              hue='sleep', rasterized=True, s=1, ax=ax[1], palette={0:'#FAD02C', 1:'#333652'},\n",
    "             )\n",
    "ax[0].legend().set_visible(False)\n",
    "ax[1].legend().set_visible(False)\n",
    "ax[0].set_xlabel('')\n",
    "ax[1].set_xlabel('')\n",
    "ax[0].set_xticklabels(ax[0].get_xticklabels(), rotation=90)\n",
    "ax[1].set_xticklabels(ax[1].get_xticklabels(), rotation=90)\n",
    "fig.tight_layout()\n",
    "fig.savefig(os.path.join(pfp, 'stripplot_featattrVerrorgrp.pdf'))"
   ]
  },
  {
   "cell_type": "code",
   "execution_count": null,
   "id": "228e9e6e-3e7d-44b4-851f-1560914cde15",
   "metadata": {},
   "outputs": [],
   "source": [
    "n_comparisons = 4\n",
    "# sleep\n",
    "a = res.loc[(res['group']=='High actigraphy-GA') & (res['sleep']==1), 'attr'].to_numpy()\n",
    "b = res.loc[(res['group']=='Low actigraphy-GA') & (res['sleep']==1), 'attr'].to_numpy()\n",
    "\n",
    "statistic, p = mannwhitneyu(a, b)\n",
    "p = p*n_comparisons\n",
    "p"
   ]
  },
  {
   "cell_type": "code",
   "execution_count": 82,
   "id": "da99eebb-4b52-461f-bec9-2411047665c9",
   "metadata": {},
   "outputs": [
    {
     "data": {
      "text/plain": [
       "MannwhitneyuResult(statistic=2431.0, pvalue=0.004680970542715164)"
      ]
     },
     "execution_count": 82,
     "metadata": {},
     "output_type": "execute_result"
    }
   ],
   "source": [
    "# sleep, groupbed by uid\n",
    "a = res.loc[(res['group']=='Higher-than-actual') & (res['sleep']==1), :].groupby('uid').mean()['attr'].to_numpy()\n",
    "b = res.loc[(res['group']=='Lower-than-actual') & (res['sleep']==1), :].groupby('uid').mean()['attr'].to_numpy()\n",
    "\n",
    "mannwhitneyu(a, b)"
   ]
  },
  {
   "cell_type": "code",
   "execution_count": 83,
   "id": "de6dbb81-e30b-43e8-b48b-601d56724dc5",
   "metadata": {},
   "outputs": [
    {
     "data": {
      "text/plain": [
       "MannwhitneyuResult(statistic=905197214273.5, pvalue=0.0014525912454601264)"
      ]
     },
     "execution_count": 83,
     "metadata": {},
     "output_type": "execute_result"
    }
   ],
   "source": [
    "# wake\n",
    "a = res.loc[(res['group']=='Higher-than-actual') & res['sleep']!=1, 'attr'].to_numpy()\n",
    "b = res.loc[(res['group']=='Lower-than-actual') & res['sleep']!=1, 'attr'].to_numpy()\n",
    "\n",
    "mannwhitneyu(a, b)"
   ]
  },
  {
   "cell_type": "code",
   "execution_count": 84,
   "id": "6db731b2-02ae-4c08-a149-f330376874a1",
   "metadata": {},
   "outputs": [
    {
     "data": {
      "text/plain": [
       "MannwhitneyuResult(statistic=0.0, pvalue=0.0)"
      ]
     },
     "execution_count": 84,
     "metadata": {},
     "output_type": "execute_result"
    }
   ],
   "source": [
    "# wake, grouped by uid\n",
    "a = res.loc[(res['group']=='Higher-than-actual') & (res['sleep']!=1), :].groupby('uid').mean()['attr'].to_numpy()\n",
    "b = res.loc[(res['group']=='Lower-than-actual') & (res['sleep']!=1), :].groupby('uid').mean()['attr'].to_numpy()\n",
    "\n",
    "mannwhitneyu(a, b)"
   ]
  },
  {
   "cell_type": "code",
   "execution_count": 132,
   "id": "192372f4-8ae2-448f-b730-fc510af8baf7",
   "metadata": {},
   "outputs": [
    {
     "data": {
      "text/plain": [
       "MannwhitneyuResult(statistic=342.0, pvalue=1.0541184417863536e-22)"
      ]
     },
     "execution_count": 132,
     "metadata": {},
     "output_type": "execute_result"
    }
   ],
   "source": [
    "# sleep - wake, grouped by uid\n",
    "a = (res.loc[(res['group']=='Higher-than-actual') & (res['sleep']==1), :].groupby('uid').mean()['attr'] - res.loc[(res['group']=='High actigraphy-GA') & (res['sleep']!=1), :].groupby('uid').mean()['attr']).to_numpy()\n",
    "b = (res.loc[(res['group']=='Lower-than-actual') & (res['sleep']==1), :].groupby('uid').mean()['attr'] - res.loc[(res['group']=='Low actigraphy-GA') & (res['sleep']!=1), :].groupby('uid').mean()['attr']).to_numpy()\n",
    "\n",
    "mannwhitneyu(a, b)"
   ]
  },
  {
   "cell_type": "markdown",
   "id": "cc5af5bc-0ebf-4456-8c6c-63cde3961c90",
   "metadata": {},
   "source": [
    "# questions\n",
    "\n",
    "## association btw importance and time of (...)\n",
    "\n",
    "time of day: weekend vs. weekday, morning vs. evening, sleep v. wake; day vs. night"
   ]
  },
  {
   "cell_type": "code",
   "execution_count": 244,
   "id": "874856b6-e7d4-46e0-a757-7e58e5163dc2",
   "metadata": {},
   "outputs": [],
   "source": [
    "def featattr_peruid(X, md, uids, explainer, trainer):\n",
    "    '''\n",
    "    Returns:\n",
    "      df (pd.DataFrame)\n",
    "      uids (dict): 'groupname': list of unique ids\n",
    "    '''\n",
    "    total_t = time.time()\n",
    "    df = pd.DataFrame()\n",
    "    counter = 0\n",
    "    for i, g in enumerate(uids.keys()):\n",
    "        for uid in uids[g]:\n",
    "            idx = np.where(md.index==uid)[0].item()\n",
    "            x = X[idx, :, :].unsqueeze(0)\n",
    "            x.requires_grad = True\n",
    "            print('starting idx: {}, unique id: {}\\t{:.2f}-min elapsed'.format(idx, uid, (time.time()-total_t)/60))\n",
    "            \n",
    "            if counter==0: # only need to call once, unless want to add salt & pepper noise\n",
    "                x_baseline = torch.zeros_like(x)\n",
    "                x_baseline.requires_grad = True\n",
    "                \n",
    "            attr = explainer.attributions(input_tensor=x,\n",
    "                                          baseline=x_baseline,\n",
    "                                          num_samples=20,\n",
    "                                          use_expectation=True,\n",
    "                                          output_indices=0)\n",
    "            dt = pd.DataFrame(attr[0, 0, :].detach().numpy(), columns=['attr'])\n",
    "            dt['uid'] = uid\n",
    "            \n",
    "            # sleep or wake\n",
    "            dt['sleep'] = trainer.data.data['data'][uid]['sleep'][:-1].to_numpy()\n",
    "            \n",
    "            t = trainer.data.data['data'][uid]['t'][:-1]\n",
    "            dt['t'] = t.to_list() # does this preserve?\n",
    "            \n",
    "            # morning or evening\n",
    "            dt['morningVevening'] = 'NA'\n",
    "            dt.loc[((t.apply(lambda x: x.time()) >= datetime.time(hour=6)) & (t.apply(lambda x: x.time()) < datetime.time(hour=12))).to_list(),\n",
    "                   'morningVevening'] = 'Morning'\n",
    "            dt.loc[((t.apply(lambda x: x.time()) >= datetime.time(hour=18)) & (t.apply(lambda x: x.time()) <= datetime.time(hour=23, minute=59))).to_list(),\n",
    "                   'morningVevening'] = 'Evening'\n",
    "            \n",
    "            # weekday or weekend\n",
    "            dt['weekdayVweekend'] = 'Weekday'\n",
    "            dt.loc[((t.apply(lambda x: x.weekday()) == 5) | (t.apply(lambda x: x.weekday()) == 6)).to_list(),\n",
    "                   'weekdayVweekend'] = 'Weekend'\n",
    "            \n",
    "            # daytime, nighttime\n",
    "            dt['dayVnight'] = 'Night'\n",
    "            dt.loc[((t.apply(lambda x: x.time()) >= datetime.time(hour=6)) & (t.apply(lambda x: x.time()) < datetime.time(hour=18))).to_list(), \n",
    "                   'dayVnight'] = 'Day'\n",
    "            \n",
    "            dt['group'] = g\n",
    "            df = df.append(dt)\n",
    "            counter += 1\n",
    "    return df"
   ]
  },
  {
   "cell_type": "code",
   "execution_count": 245,
   "id": "58d84473-fc9b-424b-bf3a-5ae7241e0e77",
   "metadata": {},
   "outputs": [],
   "source": [
    "# sample low error group, then examine globally on them:\n",
    "n_samples = 100\n",
    "lt2wk = {'lt2wk': md_model.loc[(md_model['error'].abs() <= 2), :].sample(n_samples, replace=False).index.to_list()}"
   ]
  },
  {
   "cell_type": "code",
   "execution_count": null,
   "id": "bf3b4e14-5f88-48b4-9204-7bbe824a165a",
   "metadata": {},
   "outputs": [
    {
     "name": "stdout",
     "output_type": "stream",
     "text": [
      "starting idx: 779, unique id: 2125_14\t0.00-min elapsed\n"
     ]
    }
   ],
   "source": [
    "res_lt2wk = featattr_peruid(X, md_model, lt2wk, explainer, trainer)"
   ]
  },
  {
   "cell_type": "code",
   "execution_count": null,
   "id": "078dcb16-55c8-4190-bb8c-f336dc2294a8",
   "metadata": {},
   "outputs": [],
   "source": [
    "res_lt2wk"
   ]
  },
  {
   "cell_type": "markdown",
   "id": "363930b1-982b-4350-8a56-96efd8eb02d0",
   "metadata": {},
   "source": [
    "# plot single examples"
   ]
  },
  {
   "cell_type": "code",
   "execution_count": 111,
   "id": "2bc8dde5-9ca4-4148-9519-7db1522b55c4",
   "metadata": {},
   "outputs": [],
   "source": [
    "savefigs=True"
   ]
  },
  {
   "cell_type": "code",
   "execution_count": 115,
   "id": "f0b29e52-9101-492e-b1e4-6032c963a31e",
   "metadata": {},
   "outputs": [
    {
     "data": {
      "image/png": "[encoded data removed]",
      "text/plain": [
       "<Figure size 720x144 with 6 Axes>"
      ]
     },
     "metadata": {},
     "output_type": "display_data"
    }
   ],
   "source": [
    "sleep = trainer.data.data['data'][uid_ptb]['sleep'][:-1]\n",
    "sleep.replace(0, np.nan, inplace=True)\n",
    "fig, ax = plt.subplots(2, 1, figsize=(10, 2)) \n",
    "ax[0].scatter(np.arange(x.shape[-1]), attr_ptb[0, 0, :].detach(), c=attr_ptb[0, 0, :].detach(), cmap='RdYlBu_r', s=0.5, rasterized=True, edgecolor='none')\n",
    "par2 = ax[0].twinx()\n",
    "par2.plot(np.arange(x.shape[-1]), x[0, 0, :].detach(), linewidth=0.1, alpha=0.75, rasterized=True)\n",
    "# par2.set_ylabel('Activity (log pseudocounts)')\n",
    "par3 = ax[0].twinx()\n",
    "par3.set_ylim(0, 1.1)\n",
    "par3.scatter(np.arange(x.shape[-1]), sleep, linewidth=0.1, color='green', s=0.1, rasterized=True, edgecolor='none')\n",
    "par3.spines.right.set_position((\"axes\", 1.1))\n",
    "ax[0].set_xticks([])\n",
    "\n",
    "sleep_noptb = trainer.data.data['data'][uid_noptb]['sleep'][:-1]\n",
    "sleep_noptb.replace(0, np.nan, inplace=True)\n",
    "ax[1].scatter(np.arange(x.shape[-1]), attr_noptb[0, 0, :].detach(), c=attr_noptb[0, 0, :].detach(), cmap='RdYlBu_r', s=0.5, rasterized=True, edgecolor='none')\n",
    "par2 = ax[1].twinx()\n",
    "par2.plot(np.arange(x.shape[-1]), x_noptb[0, 0, :].detach(), linewidth=0.1, alpha=0.75, rasterized=True)\n",
    "# par2.set_ylabel('Activity (log pseudocounts)')\n",
    "par3 = ax[1].twinx()\n",
    "par3.set_ylim(0, 1.1)\n",
    "par3.scatter(np.arange(x.shape[-1]), sleep_noptb, linewidth=0.1, color='green', s=0.1, rasterized=True, edgecolor='none')\n",
    "par3.spines.right.set_position((\"axes\", 1.1))\n",
    "ax[1].set_xticks([])\n",
    "\n",
    "if savefigs:\n",
    "    fig.savefig('/home/ngrav/project/wearables/results/ptbVnoptb_pathexpattr.png', bbox_inches='tight', dpi=600)"
   ]
  },
  {
   "cell_type": "code",
   "execution_count": 132,
   "id": "1c87adab-dfae-471a-8abb-c561829c1cd0",
   "metadata": {},
   "outputs": [],
   "source": [
    "df_sleep = pd.DataFrame({'sleep': sleep.replace(np.nan, 0).to_list(), 'importance': attr_ptb[0, 0, :].detach().numpy(), 'md':['ptb']*sleep.shape[0]})\n",
    "dt = pd.DataFrame({'sleep': sleep_noptb.replace(np.nan, 0).to_list(), 'importance': attr_noptb[0, 0, :].detach().numpy(), 'md':['noptb']*sleep_noptb.shape[0]})\n",
    "df_sleep = df_sleep.append(dt)\n",
    "del dt"
   ]
  },
  {
   "cell_type": "code",
   "execution_count": 138,
   "id": "4ecc2642-5ca8-4dcc-ad71-4acf47c17296",
   "metadata": {},
   "outputs": [
    {
     "data": {
      "image/png": "[encoded data removed]",
      "text/plain": [
       "<Figure size 360x288 with 1 Axes>"
      ]
     },
     "metadata": {},
     "output_type": "display_data"
    }
   ],
   "source": [
    "fig, ax = plt.subplots(1, 1, figsize=(5, 4))\n",
    "sns.violinplot(x='sleep', y='importance', hue='md', data=df_sleep, ax=ax)\n",
    "# sns.swarmplot(x='sleep', y='importance', hue='md', data=df_sleep, ax=ax)\n",
    "if savefigs:\n",
    "    fig.savefig('/home/ngrav/project/wearables/results/violin_ptbVnoptb_bysleep_pathexpattr.png', bbox_inches='tight', dpi=600)"
   ]
  },
  {
   "cell_type": "markdown",
   "id": "cfc0d6e1-af2c-4c6a-9f81-2b0696e58644",
   "metadata": {},
   "source": [
    "# correlations with error\n",
    "\n",
    "show corr net, only significant ones can retain edge"
   ]
  },
  {
   "cell_type": "code",
   "execution_count": 45,
   "id": "b4564b6e-b9db-49fe-8bee-04863564b7c3",
   "metadata": {},
   "outputs": [
    {
     "data": {
      "image/png": "[encoded data removed]",
      "text/plain": [
       "<Figure size 288x216 with 1 Axes>"
      ]
     },
     "metadata": {},
     "output_type": "display_data"
    }
   ],
   "source": [
    "ptb_cmap = {False: '#2F5061', True: '#E57F84'}\n",
    "fig, ax = plt.subplots(1, 1, figsize=(4, 3))\n",
    "sns.scatterplot(x='IS', y='error', data=md.loc[md['split']=='train'], hue='Pre-term birth',\n",
    "                palette=ptb_cmap, linewidth=0, s=10, alpha=0.5, rasterized=True, ax=ax)\n",
    "fig.savefig(os.path.join(pfp, 'scatter_errorVIS_train.pdf'), bbox_inches='tight')"
   ]
  },
  {
   "cell_type": "code",
   "execution_count": null,
   "id": "f3fcb718-7b69-4523-b244-ed68d71a31f5",
   "metadata": {},
   "outputs": [],
   "source": []
  },
  {
   "cell_type": "markdown",
   "id": "c3e7bf43-557d-4e7d-b797-3dc83d436e28",
   "metadata": {},
   "source": [
    "## mask or stratify by feature importance"
   ]
  },
  {
   "cell_type": "code",
   "execution_count": null,
   "id": "9e802985-8c7a-4a6f-ae29-9debb8ba1948",
   "metadata": {},
   "outputs": [],
   "source": []
  }
 ],
 "metadata": {
  "kernelspec": {
   "display_name": "Python 3 (ipykernel)",
   "language": "python",
   "name": "python3"
  },
  "language_info": {
   "codemirror_mode": {
    "name": "ipython",
    "version": 3
   },
   "file_extension": ".py",
   "mimetype": "text/x-python",
   "name": "python",
   "nbconvert_exporter": "python",
   "pygments_lexer": "ipython3",
   "version": "3.8.10"
  }
 },
 "nbformat": 4,
 "nbformat_minor": 5
}
