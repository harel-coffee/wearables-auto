{
 "cells": [
  {
   "cell_type": "code",
   "execution_count": 1,
   "id": "24ec4f6f-ded4-4a4b-be1f-8719c62a15ab",
   "metadata": {},
   "outputs": [],
   "source": [
    "%matplotlib inline\n",
    "\n",
    "import pandas as pd\n",
    "import numpy as np\n",
    "import matplotlib.pyplot as plt\n",
    "import seaborn as sns\n",
    "import glob\n",
    "import os\n",
    "import time\n",
    "import pickle\n",
    "import datetime\n",
    "import random\n",
    "\n",
    "plt.rc('font', size = 9)\n",
    "plt.rc('font', family='sans serif')\n",
    "plt.rcParams['pdf.fonttype']=42\n",
    "plt.rcParams['ps.fonttype']=42\n",
    "plt.rcParams['legend.frameon']=False\n",
    "plt.rcParams['axes.grid']=False\n",
    "plt.rcParams['legend.markerscale']=0.5\n",
    "plt.rcParams['savefig.dpi']=600\n",
    "sns.set_style(\"ticks\")"
   ]
  },
  {
   "cell_type": "code",
   "execution_count": 19,
   "id": "c09fb875-fece-4526-833b-fe82a24f60fa",
   "metadata": {},
   "outputs": [],
   "source": [
    "# evaluate augmentation type"
   ]
  },
  {
   "cell_type": "code",
   "execution_count": 14,
   "id": "2192be04-bfff-4fe9-8352-4e72edf1ba28",
   "metadata": {},
   "outputs": [],
   "source": [
    "res = pd.read_csv('/home/ngrav/project/wearables/results/eval_test_v44.csv')"
   ]
  },
  {
   "cell_type": "code",
   "execution_count": 15,
   "id": "3f160f46-dd0f-465c-af56-1ab7ed184536",
   "metadata": {},
   "outputs": [],
   "source": [
    "rows2drop = [2*i+1 for i in range(res.shape[0]//2 + 1)]\n",
    "res = res.loc[~res.index.isin(rows2drop), :]\n",
    "res['exp_mode'] = res['exp_trial'].apply(lambda x: x.split('cnnl1l2')[1].split('_')[0])"
   ]
  },
  {
   "cell_type": "code",
   "execution_count": 18,
   "id": "e222cd8e-547a-4846-95ed-4fcbf600d493",
   "metadata": {},
   "outputs": [],
   "source": [
    "res['exp_mode'] = res['exp_trial'].apply(lambda x: x.split('cnnl1l2')[1].split('_')[0])"
   ]
  },
  {
   "cell_type": "code",
   "execution_count": 35,
   "id": "7d88fedf-e035-4039-9a85-a180026a4051",
   "metadata": {},
   "outputs": [],
   "source": [
    "for col in ['loss', 'mae', 'rho', 'P_rho']:\n",
    "    res[col] = res[col].astype(float)"
   ]
  },
  {
   "cell_type": "code",
   "execution_count": 37,
   "id": "96f6de07-55ba-4058-a601-88a6ee7583f0",
   "metadata": {},
   "outputs": [],
   "source": [
    "dt = res.groupby('exp_mode').mean().reset_index()"
   ]
  },
  {
   "cell_type": "code",
   "execution_count": 47,
   "id": "bfbc13ed-d60c-46ac-80c9-87407bc3a526",
   "metadata": {},
   "outputs": [
    {
     "data": {
      "text/html": [
       "<div>\n",
       "<style scoped>\n",
       "    .dataframe tbody tr th:only-of-type {\n",
       "        vertical-align: middle;\n",
       "    }\n",
       "\n",
       "    .dataframe tbody tr th {\n",
       "        vertical-align: top;\n",
       "    }\n",
       "\n",
       "    .dataframe thead th {\n",
       "        text-align: right;\n",
       "    }\n",
       "</style>\n",
       "<table border=\"1\" class=\"dataframe\">\n",
       "  <thead>\n",
       "    <tr style=\"text-align: right;\">\n",
       "      <th></th>\n",
       "      <th>exp_mode</th>\n",
       "      <th>Unnamed: 0</th>\n",
       "      <th>loss</th>\n",
       "      <th>mae</th>\n",
       "      <th>rho</th>\n",
       "      <th>P_rho</th>\n",
       "    </tr>\n",
       "  </thead>\n",
       "  <tbody>\n",
       "    <tr>\n",
       "      <th>0</th>\n",
       "      <td>allaug</td>\n",
       "      <td>0.0</td>\n",
       "      <td>100.182988</td>\n",
       "      <td>8.309401</td>\n",
       "      <td>0.357875</td>\n",
       "      <td>1.191689e-15</td>\n",
       "    </tr>\n",
       "    <tr>\n",
       "      <th>1</th>\n",
       "      <td>allaugperepoch</td>\n",
       "      <td>0.0</td>\n",
       "      <td>117.088155</td>\n",
       "      <td>8.163038</td>\n",
       "      <td>0.405721</td>\n",
       "      <td>9.246529e-24</td>\n",
       "    </tr>\n",
       "    <tr>\n",
       "      <th>2</th>\n",
       "      <td>randaug</td>\n",
       "      <td>0.0</td>\n",
       "      <td>106.461063</td>\n",
       "      <td>7.996012</td>\n",
       "      <td>0.346998</td>\n",
       "      <td>3.268497e-19</td>\n",
       "    </tr>\n",
       "    <tr>\n",
       "      <th>3</th>\n",
       "      <td>randaugperepoch</td>\n",
       "      <td>0.0</td>\n",
       "      <td>118.273656</td>\n",
       "      <td>7.860784</td>\n",
       "      <td>0.349948</td>\n",
       "      <td>1.262636e-18</td>\n",
       "    </tr>\n",
       "  </tbody>\n",
       "</table>\n",
       "</div>"
      ],
      "text/plain": [
       "          exp_mode  Unnamed: 0        loss       mae       rho         P_rho\n",
       "0           allaug         0.0  100.182988  8.309401  0.357875  1.191689e-15\n",
       "1   allaugperepoch         0.0  117.088155  8.163038  0.405721  9.246529e-24\n",
       "2          randaug         0.0  106.461063  7.996012  0.346998  3.268497e-19\n",
       "3  randaugperepoch         0.0  118.273656  7.860784  0.349948  1.262636e-18"
      ]
     },
     "execution_count": 47,
     "metadata": {},
     "output_type": "execute_result"
    }
   ],
   "source": [
    "dt"
   ]
  },
  {
   "cell_type": "code",
   "execution_count": 41,
   "id": "cb23c32c-69b2-44a5-bb7b-50f5809a3ec1",
   "metadata": {},
   "outputs": [
    {
     "data": {
      "text/plain": [
       "<AxesSubplot:xlabel='exp_mode', ylabel='mae'>"
      ]
     },
     "execution_count": 41,
     "metadata": {},
     "output_type": "execute_result"
    },
    {
     "data": {
      "image/png": "[encoded data removed]",
      "text/plain": [
       "<Figure size 432x288 with 1 Axes>"
      ]
     },
     "metadata": {},
     "output_type": "display_data"
    }
   ],
   "source": [
    "sns.barplot(x='exp_mode', y='mae', data=res, ci='sd')"
   ]
  },
  {
   "cell_type": "code",
   "execution_count": 49,
   "id": "40c40ca8-6ae2-4515-8d41-14dfc5eea1ec",
   "metadata": {},
   "outputs": [
    {
     "data": {
      "text/plain": [
       "<AxesSubplot:xlabel='exp_mode', ylabel='rho'>"
      ]
     },
     "execution_count": 49,
     "metadata": {},
     "output_type": "execute_result"
    },
    {
     "data": {
      "image/png": "[encoded data removed]",
      "text/plain": [
       "<Figure size 432x288 with 1 Axes>"
      ]
     },
     "metadata": {},
     "output_type": "display_data"
    }
   ],
   "source": [
    "sns.barplot(x='exp_mode', y='rho', data=res, ci='sd')"
   ]
  },
  {
   "cell_type": "code",
   "execution_count": 42,
   "id": "adea1035-f61a-4d69-a641-a75cb1712f59",
   "metadata": {},
   "outputs": [],
   "source": [
    "from scipy.stats import wilcoxon"
   ]
  },
  {
   "cell_type": "code",
   "execution_count": 46,
   "id": "6a1b10a4-ca45-4e26-a1ab-ab2e73fb3432",
   "metadata": {},
   "outputs": [
    {
     "data": {
      "text/plain": [
       "WilcoxonResult(statistic=7.0, pvalue=0.5625)"
      ]
     },
     "execution_count": 46,
     "metadata": {},
     "output_type": "execute_result"
    }
   ],
   "source": [
    "wilcoxon(res.loc[res['exp_mode']=='randaugperepoch', 'mae'],\n",
    "         res.loc[res['exp_mode']=='randaug', 'mae'])"
   ]
  },
  {
   "cell_type": "code",
   "execution_count": 50,
   "id": "003ec57e-5280-4e83-a45d-512077dbd83a",
   "metadata": {},
   "outputs": [
    {
     "data": {
      "text/plain": [
       "WilcoxonResult(statistic=1.0, pvalue=0.0625)"
      ]
     },
     "execution_count": 50,
     "metadata": {},
     "output_type": "execute_result"
    }
   ],
   "source": [
    "wilcoxon(res.loc[res['exp_mode']=='randaugperepoch', 'rho'],\n",
    "         res.loc[res['exp_mode']=='allaugperepoch', 'rho'])"
   ]
  },
  {
   "cell_type": "code",
   "execution_count": null,
   "id": "1cb0a0c7-3be1-4a15-93ce-dcbc3f80df28",
   "metadata": {},
   "outputs": [],
   "source": []
  }
 ],
 "metadata": {
  "kernelspec": {
   "display_name": "Python 3 (ipykernel)",
   "language": "python",
   "name": "python3"
  },
  "language_info": {
   "codemirror_mode": {
    "name": "ipython",
    "version": 3
   },
   "file_extension": ".py",
   "mimetype": "text/x-python",
   "name": "python",
   "nbconvert_exporter": "python",
   "pygments_lexer": "ipython3",
   "version": "3.8.10"
  }
 },
 "nbformat": 4,
 "nbformat_minor": 5
}
