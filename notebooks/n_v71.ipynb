{
 "cells": [
  {
   "cell_type": "code",
   "execution_count": 1,
   "id": "7af4a396-ef19-46a6-a28b-90bfc73926d5",
   "metadata": {},
   "outputs": [],
   "source": [
    "%matplotlib inline\n",
    "\n",
    "import pandas as pd\n",
    "import numpy as np\n",
    "import glob\n",
    "import os\n",
    "import time\n",
    "import pickle\n",
    "import datetime\n",
    "import networkx as nx\n",
    "\n",
    "import sys\n",
    "sys.path.append('/home/ngrav/project/')\n",
    "from wearables.scripts import utils as wearutils\n",
    "from wearables.scripts import data as weardata\n",
    "from wearables.scripts import train as weartrain\n",
    "from wearables.scripts import eval_ as weareval\n",
    "from wearables.scripts import model as wearmodels\n",
    "from wearables.scripts import DTW as weardtw\n",
    "from wearables.scripts import error_analysis as wearerr\n",
    "\n",
    "import torch\n",
    "import torch.nn as nn\n",
    "import torch.nn.functional as F\n",
    "\n",
    "from scipy.stats import spearmanr\n",
    "from scipy.stats import chi2_contingency\n",
    "from scipy.stats import kruskal\n",
    "from sklearn.neighbors import KNeighborsRegressor, KNeighborsClassifier\n",
    "from sktime.datatypes._panel._convert import from_2d_array_to_nested\n",
    "from sktime.regression.compose._ensemble import ComposableTimeSeriesForestRegressor\n",
    "from sktime.classification.compose import ComposableTimeSeriesForestClassifier\n",
    "\n",
    "import matplotlib.pyplot as plt\n",
    "import seaborn as sns\n",
    "from adjustText import adjust_text\n",
    "plt.rc('font', size = 9)\n",
    "plt.rc('font', family='sans serif')\n",
    "plt.rcParams['pdf.fonttype'] = 42\n",
    "plt.rcParams['ps.fonttype'] = 42\n",
    "plt.rcParams['legend.frameon']=False\n",
    "plt.rcParams['axes.grid']=False\n",
    "plt.rcParams['legend.markerscale']=1\n",
    "plt.rcParams['savefig.dpi'] = 600\n",
    "sns.set_style(\"ticks\")\n",
    "\n",
    "def loadpkl(fp):\n",
    "    with open(fp, 'rb') as f:\n",
    "        return pickle.load(f)"
   ]
  },
  {
   "cell_type": "code",
   "execution_count": 2,
   "id": "70158236-548c-4d59-84b1-9fbf9f4c170f",
   "metadata": {},
   "outputs": [],
   "source": [
    "# load data\n",
    "\n",
    "pfp = '/home/ngrav/project/wearables/results/'\n",
    "mfp = '/home/ngrav/scratch/wearables_model_zoo'\n",
    "\n",
    "# filepaths to bst or pre-processed md with calculated metrics \n",
    "pp_md_fp = os.path.join(pfp, 'md_v522_220124.csv')\n",
    "bst_trainer = os.path.join(mfp, 'trainer_itv71_InceptionTime_GA5.pkl')\n",
    "bst_modelpkl = os.path.join(mfp, '275-itv71_InceptionTime_GA4.pkl')\n",
    "\n",
    "# load up to date md\n",
    "md = pd.read_csv(pp_md_fp, index_col=0)\n",
    "trainer = loadpkl(bst_trainer)\n",
    "\n",
    "if False:\n",
    "    # call eval to get output, modify for return_hidden = True option\n",
    "    evaluation = weareval.eval_trained(trainer, split='train',\n",
    "                                       modelpkl=bst_modelpkl,\n",
    "                                       two_outputs=True)"
   ]
  },
  {
   "cell_type": "code",
   "execution_count": 9,
   "id": "d6d3d243-98f4-414f-a889-a967b8a8d594",
   "metadata": {},
   "outputs": [
    {
     "data": {
      "text/plain": [
       "1399"
      ]
     },
     "execution_count": 9,
     "metadata": {},
     "output_type": "execute_result"
    }
   ],
   "source": [
    "len(trainer.data.train_ids)"
   ]
  },
  {
   "cell_type": "code",
   "execution_count": 8,
   "id": "dc6e31ae-14c9-4f9c-9013-bab6dc9bcc23",
   "metadata": {},
   "outputs": [
    {
     "data": {
      "text/plain": [
       "690"
      ]
     },
     "execution_count": 8,
     "metadata": {},
     "output_type": "execute_result"
    }
   ],
   "source": [
    "len(trainer.data.test_ids)"
   ]
  },
  {
   "cell_type": "code",
   "execution_count": 11,
   "id": "73cf5a20-2444-46dd-8465-a8672f0e1143",
   "metadata": {},
   "outputs": [
    {
     "data": {
      "text/plain": [
       "216"
      ]
     },
     "execution_count": 11,
     "metadata": {},
     "output_type": "execute_result"
    }
   ],
   "source": [
    "len(trainer.data.val_ids)"
   ]
  },
  {
   "cell_type": "code",
   "execution_count": 13,
   "id": "4679cdce-3023-45b1-9805-dae57239467b",
   "metadata": {},
   "outputs": [],
   "source": [
    "def print_n(uids):\n",
    "    grp = []\n",
    "    for uid in uids:\n",
    "        parts = uid.split('_')\n",
    "        pid = int(parts[0])\n",
    "        grp.append(pid)\n",
    "    print('n_grp: {}\\tn_samples: {}'.format(len(np.unique(grp)), len(uids)))\n",
    "    return grp"
   ]
  },
  {
   "cell_type": "code",
   "execution_count": 18,
   "id": "0d0998b1-b446-43a3-8c9b-0382b0f2035c",
   "metadata": {},
   "outputs": [
    {
     "name": "stdout",
     "output_type": "stream",
     "text": [
      "n_grp: 658\tn_samples: 1399\n",
      "n_grp: 325\tn_samples: 690\n",
      "n_grp: 100\tn_samples: 216\n"
     ]
    }
   ],
   "source": [
    "train_pid = print_n(trainer.data.train_ids)\n",
    "test_pid = print_n(trainer.data.test_ids)\n",
    "val_pid = print_n(trainer.data.val_ids)"
   ]
  },
  {
   "cell_type": "code",
   "execution_count": 20,
   "id": "b4d157ad-4bdc-442b-bb0b-0ce3506e9a1f",
   "metadata": {},
   "outputs": [
    {
     "name": "stdout",
     "output_type": "stream",
     "text": [
      "N_grp: 1083\tN_samples: 2305\n"
     ]
    }
   ],
   "source": [
    "print('N_grp: {}\\tN_samples: {}'.format(658+325+100, 1399+690+216))"
   ]
  },
  {
   "cell_type": "code",
   "execution_count": 19,
   "id": "ea4b6ffa-f0b3-444a-9183-97bd9f3ef9c7",
   "metadata": {},
   "outputs": [
    {
     "data": {
      "text/plain": [
       "1083"
      ]
     },
     "execution_count": 19,
     "metadata": {},
     "output_type": "execute_result"
    }
   ],
   "source": [
    "# check why 1260 got filtered out\n"
   ]
  },
  {
   "cell_type": "code",
   "execution_count": null,
   "id": "e82368c6-3aa1-44b6-899c-c897c8a75de3",
   "metadata": {},
   "outputs": [],
   "source": []
  }
 ],
 "metadata": {
  "kernelspec": {
   "display_name": "Python 3 (ipykernel)",
   "language": "python",
   "name": "python3"
  },
  "language_info": {
   "codemirror_mode": {
    "name": "ipython",
    "version": 3
   },
   "file_extension": ".py",
   "mimetype": "text/x-python",
   "name": "python",
   "nbconvert_exporter": "python",
   "pygments_lexer": "ipython3",
   "version": "3.8.12"
  }
 },
 "nbformat": 4,
 "nbformat_minor": 5
}
