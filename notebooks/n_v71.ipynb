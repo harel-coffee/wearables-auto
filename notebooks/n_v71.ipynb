{
 "cells": [
  {
   "cell_type": "code",
   "execution_count": 24,
   "id": "7af4a396-ef19-46a6-a28b-90bfc73926d5",
   "metadata": {},
   "outputs": [],
   "source": [
    "%matplotlib inline\n",
    "\n",
    "import pandas as pd\n",
    "import numpy as np\n",
    "import glob\n",
    "import os\n",
    "import time\n",
    "import pickle\n",
    "import datetime\n",
    "import networkx as nx\n",
    "\n",
    "import sys\n",
    "sys.path.append('/home/ngrav/project/')\n",
    "from wearables.scripts import utils as wearutils\n",
    "from wearables.scripts import data as weardata\n",
    "from wearables.scripts import train as weartrain\n",
    "from wearables.scripts import eval_ as weareval\n",
    "from wearables.scripts import model as wearmodels\n",
    "from wearables.scripts import DTW as weardtw\n",
    "from wearables.scripts import error_analysis as wearerr\n",
    "\n",
    "import torch\n",
    "import torch.nn as nn\n",
    "import torch.nn.functional as F\n",
    "\n",
    "from scipy.stats import mannwhitneyu\n",
    "from scipy.stats import spearmanr\n",
    "from scipy.stats import chi2_contingency\n",
    "from scipy.stats import kruskal\n",
    "from sklearn.neighbors import KNeighborsRegressor, KNeighborsClassifier\n",
    "from sktime.datatypes._panel._convert import from_2d_array_to_nested\n",
    "from sktime.regression.compose._ensemble import ComposableTimeSeriesForestRegressor\n",
    "from sktime.classification.compose import ComposableTimeSeriesForestClassifier\n",
    "\n",
    "import matplotlib.pyplot as plt\n",
    "import seaborn as sns\n",
    "from adjustText import adjust_text\n",
    "plt.rc('font', size = 9)\n",
    "plt.rc('font', family='sans serif')\n",
    "plt.rcParams['pdf.fonttype'] = 42\n",
    "plt.rcParams['ps.fonttype'] = 42\n",
    "plt.rcParams['legend.frameon']=False\n",
    "plt.rcParams['axes.grid']=False\n",
    "plt.rcParams['legend.markerscale']=1\n",
    "plt.rcParams['savefig.dpi'] = 600\n",
    "sns.set_style(\"ticks\")\n",
    "\n",
    "def loadpkl(fp):\n",
    "    with open(fp, 'rb') as f:\n",
    "        return pickle.load(f)"
   ]
  },
  {
   "cell_type": "code",
   "execution_count": 2,
   "id": "70158236-548c-4d59-84b1-9fbf9f4c170f",
   "metadata": {},
   "outputs": [],
   "source": [
    "pfp = '/home/ngrav/project/wearables/results/'\n",
    "mfp = '/home/ngrav/scratch/wearables_model_zoo'\n",
    "\n",
    "# filepaths to bst or pre-processed md with calculated metrics \n",
    "pp_md_fp = os.path.join(pfp, 'md_220912.csv')\n",
    "bst_trainer = os.path.join(mfp, 'trainer_itv71_InceptionTime_GA4.pkl')\n",
    "bst_modelpkl = os.path.join(mfp, '281-itv71_InceptionTime_GA4.pkl')\n",
    "\n",
    "# load up to date md\n",
    "md = pd.read_csv(pp_md_fp, index_col=0)\n",
    "trainer = loadpkl(bst_trainer)"
   ]
  },
  {
   "cell_type": "code",
   "execution_count": 37,
   "id": "aa6c7424-5101-4803-9454-02c89765d7d7",
   "metadata": {},
   "outputs": [],
   "source": [
    "# add error\n",
    "md['error'] = md['yhat'] - md['y']"
   ]
  },
  {
   "cell_type": "code",
   "execution_count": 38,
   "id": "766155a7-84e8-4197-838f-a479b3566cb0",
   "metadata": {},
   "outputs": [],
   "source": [
    "threshold = 10\n",
    "md['Error group'] = 'lt{}wks'.format(threshold)\n",
    "md.loc[(md['error'] >= threshold), 'Error group'] = 'Higher-than-actual'\n",
    "md.loc[(md['error'] <= -threshold), 'Error group'] = 'Lower-than-actual'\n"
   ]
  },
  {
   "cell_type": "code",
   "execution_count": 47,
   "id": "fdfe1013-bb6c-4bdf-bce1-9b1ee195c73e",
   "metadata": {},
   "outputs": [
    {
     "data": {
      "text/plain": [
       "2.306121300229327"
      ]
     },
     "execution_count": 47,
     "metadata": {},
     "output_type": "execute_result"
    }
   ],
   "source": [
    "a = md.loc[(md['split']=='train') & (md['Pre-term birth']), 'error']\n",
    "b = md.loc[(md['split']=='train') & (~(md['Pre-term birth'])), 'error']\n",
    "np.mean(a) - np.mean(b)"
   ]
  },
  {
   "cell_type": "code",
   "execution_count": 48,
   "id": "e6174fa8-91af-42e2-9d32-a4fb584db3b2",
   "metadata": {},
   "outputs": [
    {
     "data": {
      "text/plain": [
       "MannwhitneyuResult(statistic=85907.0, pvalue=4.258878894955199e-05)"
      ]
     },
     "execution_count": 48,
     "metadata": {},
     "output_type": "execute_result"
    }
   ],
   "source": [
    "mannwhitneyu(a, b)"
   ]
  },
  {
   "cell_type": "code",
   "execution_count": 36,
   "id": "3f952e78-db3d-418f-9fc8-7759af51cfc6",
   "metadata": {},
   "outputs": [
    {
     "data": {
      "text/plain": [
       "train    1411\n",
       "test      691\n",
       "val       203\n",
       "Name: split, dtype: int64"
      ]
     },
     "execution_count": 36,
     "metadata": {},
     "output_type": "execute_result"
    }
   ],
   "source": [
    "md['split'].value_counts()"
   ]
  },
  {
   "cell_type": "code",
   "execution_count": 35,
   "id": "dd005cf8-8de4-4920-866d-afa7388ac62b",
   "metadata": {},
   "outputs": [
    {
     "data": {
      "text/plain": [
       "train    658\n",
       "test     325\n",
       "val      100\n",
       "Name: split, dtype: int64"
      ]
     },
     "execution_count": 35,
     "metadata": {},
     "output_type": "execute_result"
    }
   ],
   "source": [
    "md.drop_duplicates(subset='record_id')['split'].value_counts()"
   ]
  },
  {
   "cell_type": "code",
   "execution_count": 30,
   "id": "e0c0b104-60e7-435e-8888-57f5b61c640f",
   "metadata": {},
   "outputs": [
    {
     "data": {
      "text/plain": [
       "0.013563218390804597"
      ]
     },
     "execution_count": 30,
     "metadata": {},
     "output_type": "execute_result"
    }
   ],
   "source": [
    "1.18/87"
   ]
  },
  {
   "cell_type": "code",
   "execution_count": 20,
   "id": "72fcafce-7a0b-40e6-bf52-35bb16260a21",
   "metadata": {},
   "outputs": [
    {
     "data": {
      "text/plain": [
       "0.25    11.0\n",
       "0.50    21.0\n",
       "0.75    30.0\n",
       "Name: GA, dtype: float64"
      ]
     },
     "execution_count": 20,
     "metadata": {},
     "output_type": "execute_result"
    }
   ],
   "source": [
    "md['GA'].quantile(q=[0.25, 0.5, 0.75])"
   ]
  },
  {
   "cell_type": "code",
   "execution_count": 21,
   "id": "2e4c30af-277b-4503-a966-bc0106028f61",
   "metadata": {},
   "outputs": [
    {
     "data": {
      "text/plain": [
       "0.25    10.0\n",
       "0.50    16.0\n",
       "0.75    24.0\n",
       "Name: GA, dtype: float64"
      ]
     },
     "execution_count": 21,
     "metadata": {},
     "output_type": "execute_result"
    }
   ],
   "source": [
    "md.loc[(md['Pre-term birth']), 'GA'].quantile(q=[0.25, 0.5, 0.75])"
   ]
  },
  {
   "cell_type": "code",
   "execution_count": 22,
   "id": "d36bab21-9f6c-49c6-9dfa-90a52fad18e3",
   "metadata": {},
   "outputs": [
    {
     "data": {
      "text/plain": [
       "0.25    11.0\n",
       "0.50    22.0\n",
       "0.75    31.0\n",
       "Name: GA, dtype: float64"
      ]
     },
     "execution_count": 22,
     "metadata": {},
     "output_type": "execute_result"
    }
   ],
   "source": [
    "md.loc[~(md['Pre-term birth']), 'GA'].quantile(q=[0.25, 0.5, 0.75])"
   ]
  },
  {
   "cell_type": "code",
   "execution_count": 25,
   "id": "03625cbf-93e4-496b-bae4-c7df8d1b35b6",
   "metadata": {},
   "outputs": [
    {
     "data": {
      "text/plain": [
       "MannwhitneyuResult(statistic=226779.5, pvalue=9.300808994185986e-08)"
      ]
     },
     "execution_count": 25,
     "metadata": {},
     "output_type": "execute_result"
    }
   ],
   "source": [
    "a = md.loc[(md['Pre-term birth']), 'GA']\n",
    "b = md.loc[~(md['Pre-term birth']), 'GA']\n",
    "\n",
    "mannwhitneyu(a, b)"
   ]
  },
  {
   "cell_type": "code",
   "execution_count": 15,
   "id": "5a9f9d77-f69a-43e4-85cd-36f6cb9fec2a",
   "metadata": {},
   "outputs": [
    {
     "data": {
      "text/plain": [
       "2.0    1189\n",
       "1.0     651\n",
       "3.0     413\n",
       "4.0      38\n",
       "0.0      14\n",
       "Name: gestage_by, dtype: int64"
      ]
     },
     "execution_count": 15,
     "metadata": {},
     "output_type": "execute_result"
    }
   ],
   "source": [
    "md['gestage_by'].value_counts()"
   ]
  },
  {
   "cell_type": "code",
   "execution_count": null,
   "id": "8c3a52e4-1efb-435a-9dc3-107869c7b349",
   "metadata": {},
   "outputs": [],
   "source": [
    "md['gestage_by'].value_counts()"
   ]
  },
  {
   "cell_type": "code",
   "execution_count": 12,
   "id": "eef017b2-287d-46c6-958e-d5e6b3f5af51",
   "metadata": {},
   "outputs": [
    {
     "data": {
      "text/plain": [
       "2.0    0.495845\n",
       "1.0    0.289935\n",
       "3.0    0.188366\n",
       "4.0    0.019391\n",
       "0.0    0.006464\n",
       "Name: gestage_by, dtype: float64"
      ]
     },
     "execution_count": 12,
     "metadata": {},
     "output_type": "execute_result"
    }
   ],
   "source": [
    "pt_df = md.drop_duplicates(subset='record_id')\n",
    "pt_df['gestage_by'].value_counts() / 1083"
   ]
  },
  {
   "cell_type": "code",
   "execution_count": 14,
   "id": "1a8bd620-6f31-46d1-9062-98053d64dad3",
   "metadata": {},
   "outputs": [
    {
     "data": {
      "text/plain": [
       "2.0    537\n",
       "1.0    314\n",
       "3.0    204\n",
       "4.0     21\n",
       "0.0      7\n",
       "Name: gestage_by, dtype: int64"
      ]
     },
     "execution_count": 14,
     "metadata": {},
     "output_type": "execute_result"
    }
   ],
   "source": [
    "pt_df['gestage_by'].value_counts() "
   ]
  },
  {
   "cell_type": "code",
   "execution_count": 8,
   "id": "7f1dae49-fec9-4835-a197-285c93a0c7a8",
   "metadata": {},
   "outputs": [
    {
     "data": {
      "text/plain": [
       "['deliv_mode']"
      ]
     },
     "execution_count": 8,
     "metadata": {},
     "output_type": "execute_result"
    }
   ],
   "source": [
    "[i for i in pt_df.columns if 'deliv' in i]"
   ]
  },
  {
   "cell_type": "code",
   "execution_count": null,
   "id": "f07d27b8-fe38-4906-9676-c83f89dd3a9d",
   "metadata": {},
   "outputs": [],
   "source": []
  },
  {
   "cell_type": "code",
   "execution_count": 9,
   "id": "d6d3d243-98f4-414f-a889-a967b8a8d594",
   "metadata": {},
   "outputs": [
    {
     "data": {
      "text/plain": [
       "1399"
      ]
     },
     "execution_count": 9,
     "metadata": {},
     "output_type": "execute_result"
    }
   ],
   "source": [
    "len(trainer.data.train_ids)"
   ]
  },
  {
   "cell_type": "code",
   "execution_count": 8,
   "id": "dc6e31ae-14c9-4f9c-9013-bab6dc9bcc23",
   "metadata": {},
   "outputs": [
    {
     "data": {
      "text/plain": [
       "690"
      ]
     },
     "execution_count": 8,
     "metadata": {},
     "output_type": "execute_result"
    }
   ],
   "source": [
    "len(trainer.data.test_ids)"
   ]
  },
  {
   "cell_type": "code",
   "execution_count": 11,
   "id": "73cf5a20-2444-46dd-8465-a8672f0e1143",
   "metadata": {},
   "outputs": [
    {
     "data": {
      "text/plain": [
       "216"
      ]
     },
     "execution_count": 11,
     "metadata": {},
     "output_type": "execute_result"
    }
   ],
   "source": [
    "len(trainer.data.val_ids)"
   ]
  },
  {
   "cell_type": "code",
   "execution_count": 13,
   "id": "4679cdce-3023-45b1-9805-dae57239467b",
   "metadata": {},
   "outputs": [],
   "source": [
    "def print_n(uids):\n",
    "    grp = []\n",
    "    for uid in uids:\n",
    "        parts = uid.split('_')\n",
    "        pid = int(parts[0])\n",
    "        grp.append(pid)\n",
    "    print('n_grp: {}\\tn_samples: {}'.format(len(np.unique(grp)), len(uids)))\n",
    "    return grp"
   ]
  },
  {
   "cell_type": "code",
   "execution_count": 18,
   "id": "0d0998b1-b446-43a3-8c9b-0382b0f2035c",
   "metadata": {},
   "outputs": [
    {
     "name": "stdout",
     "output_type": "stream",
     "text": [
      "n_grp: 658\tn_samples: 1399\n",
      "n_grp: 325\tn_samples: 690\n",
      "n_grp: 100\tn_samples: 216\n"
     ]
    }
   ],
   "source": [
    "train_pid = print_n(trainer.data.train_ids)\n",
    "test_pid = print_n(trainer.data.test_ids)\n",
    "val_pid = print_n(trainer.data.val_ids)"
   ]
  },
  {
   "cell_type": "code",
   "execution_count": 20,
   "id": "b4d157ad-4bdc-442b-bb0b-0ce3506e9a1f",
   "metadata": {},
   "outputs": [
    {
     "name": "stdout",
     "output_type": "stream",
     "text": [
      "N_grp: 1083\tN_samples: 2305\n"
     ]
    }
   ],
   "source": [
    "print('N_grp: {}\\tN_samples: {}'.format(658+325+100, 1399+690+216))"
   ]
  },
  {
   "cell_type": "code",
   "execution_count": 19,
   "id": "ea4b6ffa-f0b3-444a-9183-97bd9f3ef9c7",
   "metadata": {},
   "outputs": [
    {
     "data": {
      "text/plain": [
       "1083"
      ]
     },
     "execution_count": 19,
     "metadata": {},
     "output_type": "execute_result"
    }
   ],
   "source": [
    "# check why 1260 got filtered out\n"
   ]
  },
  {
   "cell_type": "code",
   "execution_count": null,
   "id": "e82368c6-3aa1-44b6-899c-c897c8a75de3",
   "metadata": {},
   "outputs": [],
   "source": []
  }
 ],
 "metadata": {
  "kernelspec": {
   "display_name": "Python 3 (ipykernel)",
   "language": "python",
   "name": "python3"
  },
  "language_info": {
   "codemirror_mode": {
    "name": "ipython",
    "version": 3
   },
   "file_extension": ".py",
   "mimetype": "text/x-python",
   "name": "python",
   "nbconvert_exporter": "python",
   "pygments_lexer": "ipython3",
   "version": "3.8.12"
  }
 },
 "nbformat": 4,
 "nbformat_minor": 5
}
